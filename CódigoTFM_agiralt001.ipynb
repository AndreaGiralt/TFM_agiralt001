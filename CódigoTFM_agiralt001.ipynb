{
  "cells": [
    {
      "cell_type": "code",
      "execution_count": null,
      "metadata": {
        "colab": {
          "base_uri": "https://localhost:8080/"
        },
        "id": "MY8GSQW4l5H2",
        "outputId": "8ba4d0c8-6ac3-4c10-e96c-635c7d14e6d5"
      },
      "outputs": [
        {
          "output_type": "stream",
          "name": "stdout",
          "text": [
            "Mounted at /content/drive\n"
          ]
        }
      ],
      "source": [
        "from google.colab import drive\n",
        "drive.mount('/content/drive')"
      ]
    },
    {
      "cell_type": "code",
      "execution_count": null,
      "metadata": {
        "id": "VE-SAaGzIFZ5"
      },
      "outputs": [],
      "source": [
        "import pandas as pd\n",
        "usuarios = pd.read_csv('/content/drive/My Drive/TFM/Linea1-Usuarios.txt', sep=\";\", encoding=\"ISO-8859-1\")\n",
        "consumos = pd.read_csv('/content/drive/My Drive/TFM/Linea1-Consumos.txt', sep=\";\", encoding=\"ISO-8859-1\")\n",
        "sesiones = pd.read_csv('/content/drive/My Drive/TFM/Linea1-Sesiones.txt', sep=\";\", encoding=\"ISO-8859-1\")\n",
        "ventas = pd.read_csv('/content/drive/My Drive/TFM/Linea1-Ventas.txt', sep=\";\", encoding=\"ISO-8859-1\")"
      ]
    },
    {
      "cell_type": "code",
      "source": [
        "usuarios.head()"
      ],
      "metadata": {
        "colab": {
          "base_uri": "https://localhost:8080/",
          "height": 206
        },
        "id": "-WgBIkby2eca",
        "outputId": "fca2b3df-f3ee-43f7-d476-0780000b4d18"
      },
      "execution_count": null,
      "outputs": [
        {
          "output_type": "execute_result",
          "data": {
            "text/plain": [
              "    IDUSUARIO TIPOUSUARIO       FEC_REGISTRO  CANAL_REGISTRO  IND_CLIENTE  \\\n",
              "0  7668403,00          PF  14/3/2019 0:00:00             3.0            0   \n",
              "1  7667922,00          PF  14/3/2019 0:00:00             2.0            0   \n",
              "2  7721206,00          PJ  10/4/2019 0:00:00             4.0            0   \n",
              "3  7667953,00          PJ  14/3/2019 0:00:00             3.0            0   \n",
              "4  7667971,00          PJ  14/3/2019 0:00:00             3.0            0   \n",
              "\n",
              "       TIPOEMAIL  BONDAD_EMAIL                       USU_TIPO USU_TAMANIO  \\\n",
              "0      gmail.com            20                            NaN         NaN   \n",
              "1    hotmail.com            20                            NaN         NaN   \n",
              "2     ilc.com.co            20                            NaN         NaN   \n",
              "3      gmail.com            20          EMPRESARIO INDIVIDUAL          MC   \n",
              "4  acadia.com.co            20  SOCIEDAD COMERCIAL/INDUSTRIAL          PQ   \n",
              "\n",
              "  USU_CIIU USU_ESTADO USU_DEPARTAMENTO FEC_CLIENTE  \n",
              "0      NaN        NaN              NaN         NaN  \n",
              "1      NaN        NaN              NaN         NaN  \n",
              "2      NaN        NaN           CALDAS         NaN  \n",
              "3    M7110     ACTIVA           BOGOTA         NaN  \n",
              "4    L6810     ACTIVA           BOGOTA         NaN  "
            ],
            "text/html": [
              "\n",
              "  <div id=\"df-15a25a73-22c6-4b00-9980-d2fc2776cd83\">\n",
              "    <div class=\"colab-df-container\">\n",
              "      <div>\n",
              "<style scoped>\n",
              "    .dataframe tbody tr th:only-of-type {\n",
              "        vertical-align: middle;\n",
              "    }\n",
              "\n",
              "    .dataframe tbody tr th {\n",
              "        vertical-align: top;\n",
              "    }\n",
              "\n",
              "    .dataframe thead th {\n",
              "        text-align: right;\n",
              "    }\n",
              "</style>\n",
              "<table border=\"1\" class=\"dataframe\">\n",
              "  <thead>\n",
              "    <tr style=\"text-align: right;\">\n",
              "      <th></th>\n",
              "      <th>IDUSUARIO</th>\n",
              "      <th>TIPOUSUARIO</th>\n",
              "      <th>FEC_REGISTRO</th>\n",
              "      <th>CANAL_REGISTRO</th>\n",
              "      <th>IND_CLIENTE</th>\n",
              "      <th>TIPOEMAIL</th>\n",
              "      <th>BONDAD_EMAIL</th>\n",
              "      <th>USU_TIPO</th>\n",
              "      <th>USU_TAMANIO</th>\n",
              "      <th>USU_CIIU</th>\n",
              "      <th>USU_ESTADO</th>\n",
              "      <th>USU_DEPARTAMENTO</th>\n",
              "      <th>FEC_CLIENTE</th>\n",
              "    </tr>\n",
              "  </thead>\n",
              "  <tbody>\n",
              "    <tr>\n",
              "      <th>0</th>\n",
              "      <td>7668403,00</td>\n",
              "      <td>PF</td>\n",
              "      <td>14/3/2019 0:00:00</td>\n",
              "      <td>3.0</td>\n",
              "      <td>0</td>\n",
              "      <td>gmail.com</td>\n",
              "      <td>20</td>\n",
              "      <td>NaN</td>\n",
              "      <td>NaN</td>\n",
              "      <td>NaN</td>\n",
              "      <td>NaN</td>\n",
              "      <td>NaN</td>\n",
              "      <td>NaN</td>\n",
              "    </tr>\n",
              "    <tr>\n",
              "      <th>1</th>\n",
              "      <td>7667922,00</td>\n",
              "      <td>PF</td>\n",
              "      <td>14/3/2019 0:00:00</td>\n",
              "      <td>2.0</td>\n",
              "      <td>0</td>\n",
              "      <td>hotmail.com</td>\n",
              "      <td>20</td>\n",
              "      <td>NaN</td>\n",
              "      <td>NaN</td>\n",
              "      <td>NaN</td>\n",
              "      <td>NaN</td>\n",
              "      <td>NaN</td>\n",
              "      <td>NaN</td>\n",
              "    </tr>\n",
              "    <tr>\n",
              "      <th>2</th>\n",
              "      <td>7721206,00</td>\n",
              "      <td>PJ</td>\n",
              "      <td>10/4/2019 0:00:00</td>\n",
              "      <td>4.0</td>\n",
              "      <td>0</td>\n",
              "      <td>ilc.com.co</td>\n",
              "      <td>20</td>\n",
              "      <td>NaN</td>\n",
              "      <td>NaN</td>\n",
              "      <td>NaN</td>\n",
              "      <td>NaN</td>\n",
              "      <td>CALDAS</td>\n",
              "      <td>NaN</td>\n",
              "    </tr>\n",
              "    <tr>\n",
              "      <th>3</th>\n",
              "      <td>7667953,00</td>\n",
              "      <td>PJ</td>\n",
              "      <td>14/3/2019 0:00:00</td>\n",
              "      <td>3.0</td>\n",
              "      <td>0</td>\n",
              "      <td>gmail.com</td>\n",
              "      <td>20</td>\n",
              "      <td>EMPRESARIO INDIVIDUAL</td>\n",
              "      <td>MC</td>\n",
              "      <td>M7110</td>\n",
              "      <td>ACTIVA</td>\n",
              "      <td>BOGOTA</td>\n",
              "      <td>NaN</td>\n",
              "    </tr>\n",
              "    <tr>\n",
              "      <th>4</th>\n",
              "      <td>7667971,00</td>\n",
              "      <td>PJ</td>\n",
              "      <td>14/3/2019 0:00:00</td>\n",
              "      <td>3.0</td>\n",
              "      <td>0</td>\n",
              "      <td>acadia.com.co</td>\n",
              "      <td>20</td>\n",
              "      <td>SOCIEDAD COMERCIAL/INDUSTRIAL</td>\n",
              "      <td>PQ</td>\n",
              "      <td>L6810</td>\n",
              "      <td>ACTIVA</td>\n",
              "      <td>BOGOTA</td>\n",
              "      <td>NaN</td>\n",
              "    </tr>\n",
              "  </tbody>\n",
              "</table>\n",
              "</div>\n",
              "      <button class=\"colab-df-convert\" onclick=\"convertToInteractive('df-15a25a73-22c6-4b00-9980-d2fc2776cd83')\"\n",
              "              title=\"Convert this dataframe to an interactive table.\"\n",
              "              style=\"display:none;\">\n",
              "        \n",
              "  <svg xmlns=\"http://www.w3.org/2000/svg\" height=\"24px\"viewBox=\"0 0 24 24\"\n",
              "       width=\"24px\">\n",
              "    <path d=\"M0 0h24v24H0V0z\" fill=\"none\"/>\n",
              "    <path d=\"M18.56 5.44l.94 2.06.94-2.06 2.06-.94-2.06-.94-.94-2.06-.94 2.06-2.06.94zm-11 1L8.5 8.5l.94-2.06 2.06-.94-2.06-.94L8.5 2.5l-.94 2.06-2.06.94zm10 10l.94 2.06.94-2.06 2.06-.94-2.06-.94-.94-2.06-.94 2.06-2.06.94z\"/><path d=\"M17.41 7.96l-1.37-1.37c-.4-.4-.92-.59-1.43-.59-.52 0-1.04.2-1.43.59L10.3 9.45l-7.72 7.72c-.78.78-.78 2.05 0 2.83L4 21.41c.39.39.9.59 1.41.59.51 0 1.02-.2 1.41-.59l7.78-7.78 2.81-2.81c.8-.78.8-2.07 0-2.86zM5.41 20L4 18.59l7.72-7.72 1.47 1.35L5.41 20z\"/>\n",
              "  </svg>\n",
              "      </button>\n",
              "      \n",
              "  <style>\n",
              "    .colab-df-container {\n",
              "      display:flex;\n",
              "      flex-wrap:wrap;\n",
              "      gap: 12px;\n",
              "    }\n",
              "\n",
              "    .colab-df-convert {\n",
              "      background-color: #E8F0FE;\n",
              "      border: none;\n",
              "      border-radius: 50%;\n",
              "      cursor: pointer;\n",
              "      display: none;\n",
              "      fill: #1967D2;\n",
              "      height: 32px;\n",
              "      padding: 0 0 0 0;\n",
              "      width: 32px;\n",
              "    }\n",
              "\n",
              "    .colab-df-convert:hover {\n",
              "      background-color: #E2EBFA;\n",
              "      box-shadow: 0px 1px 2px rgba(60, 64, 67, 0.3), 0px 1px 3px 1px rgba(60, 64, 67, 0.15);\n",
              "      fill: #174EA6;\n",
              "    }\n",
              "\n",
              "    [theme=dark] .colab-df-convert {\n",
              "      background-color: #3B4455;\n",
              "      fill: #D2E3FC;\n",
              "    }\n",
              "\n",
              "    [theme=dark] .colab-df-convert:hover {\n",
              "      background-color: #434B5C;\n",
              "      box-shadow: 0px 1px 3px 1px rgba(0, 0, 0, 0.15);\n",
              "      filter: drop-shadow(0px 1px 2px rgba(0, 0, 0, 0.3));\n",
              "      fill: #FFFFFF;\n",
              "    }\n",
              "  </style>\n",
              "\n",
              "      <script>\n",
              "        const buttonEl =\n",
              "          document.querySelector('#df-15a25a73-22c6-4b00-9980-d2fc2776cd83 button.colab-df-convert');\n",
              "        buttonEl.style.display =\n",
              "          google.colab.kernel.accessAllowed ? 'block' : 'none';\n",
              "\n",
              "        async function convertToInteractive(key) {\n",
              "          const element = document.querySelector('#df-15a25a73-22c6-4b00-9980-d2fc2776cd83');\n",
              "          const dataTable =\n",
              "            await google.colab.kernel.invokeFunction('convertToInteractive',\n",
              "                                                     [key], {});\n",
              "          if (!dataTable) return;\n",
              "\n",
              "          const docLinkHtml = 'Like what you see? Visit the ' +\n",
              "            '<a target=\"_blank\" href=https://colab.research.google.com/notebooks/data_table.ipynb>data table notebook</a>'\n",
              "            + ' to learn more about interactive tables.';\n",
              "          element.innerHTML = '';\n",
              "          dataTable['output_type'] = 'display_data';\n",
              "          await google.colab.output.renderOutput(dataTable, element);\n",
              "          const docLink = document.createElement('div');\n",
              "          docLink.innerHTML = docLinkHtml;\n",
              "          element.appendChild(docLink);\n",
              "        }\n",
              "      </script>\n",
              "    </div>\n",
              "  </div>\n",
              "  "
            ]
          },
          "metadata": {},
          "execution_count": 3
        }
      ]
    },
    {
      "cell_type": "code",
      "source": [
        "usuarios['USU_TIPO'].value_counts()"
      ],
      "metadata": {
        "colab": {
          "base_uri": "https://localhost:8080/"
        },
        "id": "Wc-JPmaA2n1t",
        "outputId": "9d942049-8e1a-405b-cb3f-fd504a5a40f4"
      },
      "execution_count": null,
      "outputs": [
        {
          "output_type": "execute_result",
          "data": {
            "text/plain": [
              "SOCIEDAD COMERCIAL/INDUSTRIAL      16021\n",
              "EMPRESARIO INDIVIDUAL              14635\n",
              "ENTIDAD FINANCIERA O DE SEGUROS     1063\n",
              "ENTIDAD SIN ANIMO DE LUCRO          1011\n",
              "ORGANISMO ESTATAL                    262\n",
              "HOLDING                              177\n",
              "ENTIDAD EXTRANJERA                   132\n",
              "SOCIEDAD NO COMERCIAL                  5\n",
              "INDUSTRIA / COMERCIO                   2\n",
              "Name: USU_TIPO, dtype: int64"
            ]
          },
          "metadata": {},
          "execution_count": 6
        }
      ]
    },
    {
      "cell_type": "markdown",
      "metadata": {
        "id": "DAZOZGj4IY2C"
      },
      "source": [
        "# Tabla USUARIOS"
      ]
    },
    {
      "cell_type": "code",
      "execution_count": null,
      "metadata": {
        "colab": {
          "base_uri": "https://localhost:8080/"
        },
        "id": "OHj4XAZvIVaq",
        "outputId": "7b51760a-2bd6-495e-9a2b-4499abb86570"
      },
      "outputs": [
        {
          "output_type": "stream",
          "name": "stdout",
          "text": [
            "2615\n",
            "140121\n"
          ]
        }
      ],
      "source": [
        "# Primero vamos a revisar cuantos clientes y no clientes tenemos:\n",
        "print(len(usuarios[usuarios['IND_CLIENTE']==1]))\n",
        "print(len(usuarios[usuarios['IND_CLIENTE']==0]))"
      ]
    },
    {
      "cell_type": "markdown",
      "metadata": {
        "id": "FLmv9S9fIYVh"
      },
      "source": [
        "Vemos que el dataset está muy desbalanceado ya que solo disponemos de 2615 clientes del total de 142.736"
      ]
    },
    {
      "cell_type": "markdown",
      "metadata": {
        "id": "ojkyXlOYJpeu"
      },
      "source": [
        "## Variable IDUSUARIO"
      ]
    },
    {
      "cell_type": "code",
      "execution_count": null,
      "metadata": {
        "id": "afuUpkxAIbtM"
      },
      "outputs": [],
      "source": [
        "# Comenzamos con la variable IDUSUARIO dandole el formato deseado:\n",
        "# Dividimos la columa IDUSUARIO por ','\n",
        "usuarios[['ID_USUARIO', 'COMA']] = usuarios.IDUSUARIO.str.split(\",\", expand=True,)\n",
        "# Eliminamos las columnas que no nos interesan\n",
        "usuarios = usuarios.drop(columns = ['COMA', 'IDUSUARIO'])"
      ]
    },
    {
      "cell_type": "code",
      "execution_count": null,
      "metadata": {
        "colab": {
          "base_uri": "https://localhost:8080/"
        },
        "id": "aY96Pt39Ii8o",
        "outputId": "6a9315b1-46e4-46c9-bcb9-4da1d6578b07"
      },
      "outputs": [
        {
          "output_type": "stream",
          "name": "stdout",
          "text": [
            "142736\n",
            "142736\n"
          ]
        }
      ],
      "source": [
        "# Miramos si existen repetidos \n",
        "print(len(usuarios['ID_USUARIO']))\n",
        "import numpy as np\n",
        "print(len(np.unique(usuarios['ID_USUARIO'])))"
      ]
    },
    {
      "cell_type": "markdown",
      "metadata": {
        "id": "z8nvuelQIlF5"
      },
      "source": [
        "Confirmamos que no existen repetidos."
      ]
    },
    {
      "cell_type": "markdown",
      "metadata": {
        "id": "6Ry4S3n9Kw9x"
      },
      "source": [
        "##Variable TIPOUSUARIO"
      ]
    },
    {
      "cell_type": "code",
      "execution_count": null,
      "metadata": {
        "colab": {
          "base_uri": "https://localhost:8080/"
        },
        "id": "bbMQqMu4IqLT",
        "outputId": "e6cb2e30-f593-4e6f-c7f8-5c0078d6d423"
      },
      "outputs": [
        {
          "output_type": "execute_result",
          "data": {
            "text/plain": [
              "3.4553301199417104"
            ]
          },
          "metadata": {},
          "execution_count": 6
        }
      ],
      "source": [
        "# Para la variable TIPOUSUARIO, vemos que existe una categoría PX que no se sabe a ciencia cierta si pertenece\n",
        "# a una categoria o a otra, revisamos cuanto supone del total.\n",
        "(len(usuarios[usuarios['TIPOUSUARIO']=='PX'])/len(usuarios['TIPOUSUARIO']))*100"
      ]
    },
    {
      "cell_type": "code",
      "execution_count": null,
      "metadata": {
        "colab": {
          "base_uri": "https://localhost:8080/"
        },
        "id": "rhgPtlN2IuvE",
        "outputId": "6d9b2875-c722-4893-b513-7ea49f97e2e4"
      },
      "outputs": [
        {
          "output_type": "execute_result",
          "data": {
            "text/plain": [
              "0    4792\n",
              "1     140\n",
              "Name: IND_CLIENTE, dtype: int64"
            ]
          },
          "metadata": {},
          "execution_count": 7
        }
      ],
      "source": [
        "# Solo supone un 3.46% de los datos, vamos a revisar cuanto supondría respecto a la variable a predecir:\n",
        "usuarios[usuarios['TIPOUSUARIO']=='PX'].IND_CLIENTE.value_counts()"
      ]
    },
    {
      "cell_type": "code",
      "execution_count": null,
      "metadata": {
        "id": "ZEstaj98I-tS"
      },
      "outputs": [],
      "source": [
        "# Vemos que mientras para los clientes son un 5.35% si los eliminamos, para los no clientes es un 3.42%, la diferencia no es muy grande.\n",
        "# Vamos a ver si al limpiar el resto de variables mantenemos las proporciones, sino volveremos a revisar esta variable.\n",
        "# Por lo que, filtramos el dataset:\n",
        "usuarios = usuarios[usuarios['TIPOUSUARIO']!='PX'].reset_index(drop = True)"
      ]
    },
    {
      "cell_type": "code",
      "execution_count": null,
      "metadata": {
        "id": "h5kFTwgXK9pC"
      },
      "outputs": [],
      "source": [
        "# Vamos a codificar la variable TIPOUSUARIO:\n",
        "def f(row):\n",
        "    if row['TIPOUSUARIO'] == 'PJ':\n",
        "        val = 0 # Persona juridica\n",
        "    else:\n",
        "        val = 1 # Persona fisica\n",
        "    return val\n",
        "usuarios['TIPO_USUARIO'] = usuarios.apply(f, axis=1)"
      ]
    },
    {
      "cell_type": "code",
      "execution_count": null,
      "metadata": {
        "id": "0sEyysy8LC4t"
      },
      "outputs": [],
      "source": [
        "# Eliminamos las columnas que no nos interesan\n",
        "usuarios = usuarios.drop(columns = ['TIPOUSUARIO'])"
      ]
    },
    {
      "cell_type": "markdown",
      "metadata": {
        "id": "hnfujHJKLaxa"
      },
      "source": [
        "## Variable CANAL_REGISTRO"
      ]
    },
    {
      "cell_type": "code",
      "execution_count": null,
      "metadata": {
        "colab": {
          "base_uri": "https://localhost:8080/"
        },
        "id": "io-V64KEI5ny",
        "outputId": "fea13b8a-9cb2-40dd-f640-ab6b523e6d4a"
      },
      "outputs": [
        {
          "output_type": "execute_result",
          "data": {
            "text/plain": [
              "array([ 1.,  2.,  3.,  4.,  6.,  7.,  8.,  9., nan])"
            ]
          },
          "metadata": {},
          "execution_count": 11
        }
      ],
      "source": [
        "# Revisamos los datos que tenemos en la variable CANAL_REGISTRO\n",
        "np.unique(usuarios['CANAL_REGISTRO'])"
      ]
    },
    {
      "cell_type": "code",
      "execution_count": null,
      "metadata": {
        "colab": {
          "base_uri": "https://localhost:8080/"
        },
        "id": "B4kl5IrnI8LA",
        "outputId": "41ff27e8-4d91-4087-baec-7eb1882c9fa9"
      },
      "outputs": [
        {
          "output_type": "execute_result",
          "data": {
            "text/plain": [
              "2.4796087196307797"
            ]
          },
          "metadata": {},
          "execution_count": 12
        }
      ],
      "source": [
        "# Vemos que tenemos nan, vamos a ver cuantos hay\n",
        "(len(usuarios[usuarios['CANAL_REGISTRO'].isnull()])/len(usuarios['CANAL_REGISTRO']))*100"
      ]
    },
    {
      "cell_type": "code",
      "execution_count": null,
      "metadata": {
        "colab": {
          "base_uri": "https://localhost:8080/"
        },
        "id": "Uw3ifjqFI-EC",
        "outputId": "7af5f21c-ce25-46bf-deb9-5a38fb67a537"
      },
      "outputs": [
        {
          "output_type": "execute_result",
          "data": {
            "text/plain": [
              "0    3399\n",
              "1      18\n",
              "Name: IND_CLIENTE, dtype: int64"
            ]
          },
          "metadata": {},
          "execution_count": 13
        }
      ],
      "source": [
        "# Solo supone un 2.48% de los datos, vamos a revisar cuanto supondría respecto a la variable a predecir:\n",
        "usuarios[usuarios['CANAL_REGISTRO'].isnull()].IND_CLIENTE.value_counts()"
      ]
    },
    {
      "cell_type": "code",
      "execution_count": null,
      "metadata": {
        "id": "4qxxeCuTLDr3"
      },
      "outputs": [],
      "source": [
        "# Vemos que, con el dataset filtrado previamente, mientras para los clientes son un 0.73% si los eliminamos,\n",
        "# para los no clientes es un 2.51%. Si lo comparamos con los numeros previos sin filtrar tenemos que para\n",
        "# los clientes eliminamos un 6.04% de los casos al filtrar, y para los no clientes un 5.86%. Por tanto, estamos \n",
        "# manteniendo bastante bien la proporción. Por lo que, filtramos el dataset:\n",
        "usuarios = usuarios[usuarios['CANAL_REGISTRO'].notnull()].reset_index(drop = True)"
      ]
    },
    {
      "cell_type": "code",
      "execution_count": null,
      "metadata": {
        "id": "tDslUJpbMz0w"
      },
      "outputs": [],
      "source": [
        "# Vamos a codificar la variable CANAL_REGISTRO, para ello vamos a agrupar los valores:\n",
        "def fu(row):\n",
        "    if row['CANAL_REGISTRO'] == 1:\n",
        "        val = 'SEM'\n",
        "    elif row['CANAL_REGISTRO'] == 4:\n",
        "        val = 'SEO'\n",
        "    elif row['CANAL_REGISTRO'] in (2, 3, 7):\n",
        "        val = 'DP'\n",
        "    else:\n",
        "        val = 'DE'\n",
        "    return val"
      ]
    },
    {
      "cell_type": "code",
      "execution_count": null,
      "metadata": {
        "id": "dTiB2x-ZNvi1"
      },
      "outputs": [],
      "source": [
        "usuarios['CANALREGISTRO'] = usuarios.apply(fu, axis=1)"
      ]
    },
    {
      "cell_type": "code",
      "execution_count": null,
      "metadata": {
        "id": "BbgBYluIO4Av"
      },
      "outputs": [],
      "source": [
        "# Para codificar esta variable vamos a realizar un one hot encoding:\n",
        "from sklearn.preprocessing import OneHotEncoder\n",
        "\n",
        "# Creating instance of one-hot-encoder\n",
        "encoder = OneHotEncoder(handle_unknown='ignore')\n",
        "\n",
        "# Perform one-hot encoding on 'CANALREGISTRO' column \n",
        "encoder_df = pd.DataFrame(encoder.fit_transform(usuarios[['CANALREGISTRO']]).toarray())\n",
        "\n",
        "# Merge one-hot encoded columns back with original DataFrame\n",
        "usuarios = usuarios.join(encoder_df)"
      ]
    },
    {
      "cell_type": "code",
      "execution_count": null,
      "metadata": {
        "id": "nL_HLjYxM114"
      },
      "outputs": [],
      "source": [
        "# Renombramos las columnas\n",
        "usuarios.columns = ['FEC_REGISTRO', 'CANAL_REGISTRO', 'IND_CLIENTE', 'TIPOEMAIL', 'BONDAD_EMAIL', 'USU_TIPO', 'USU_TAMANIO', 'USU_CIIU',\n",
        "                    'USU_ESTADO', 'USU_DEPARTAMENTO', 'FEC_CLIENTE', 'ID_USUARIO', 'TIPO_USUARIO', 'CANALREGISTRO', 'DE', 'DP', 'SEM', 'SEO']"
      ]
    },
    {
      "cell_type": "code",
      "execution_count": null,
      "metadata": {
        "id": "VA9roFSINd1E"
      },
      "outputs": [],
      "source": [
        "# Eliminamos las columnas que no nos interesan\n",
        "# Eliminamos la columna de SEO, ya que esta información se recoge con las tres anteriores (DE - DP - SEM)\n",
        "usuarios = usuarios.drop(columns = ['CANAL_REGISTRO', 'CANALREGISTRO', 'SEO'])"
      ]
    },
    {
      "cell_type": "markdown",
      "metadata": {
        "id": "LeQTA-hYaDoq"
      },
      "source": [
        "## Variable BONDAD_EMAIL"
      ]
    },
    {
      "cell_type": "code",
      "execution_count": null,
      "metadata": {
        "id": "drhF_ry9PGn8"
      },
      "outputs": [],
      "source": [
        "# Agrupamos la variable en función de la calidad del email\n",
        "def fun(row):\n",
        "    if row['BONDAD_EMAIL'] == 20:\n",
        "        val = 'Verde'\n",
        "    elif row['BONDAD_EMAIL'] in (1, 0, -10):\n",
        "        val = 'Invalido'\n",
        "    elif row['BONDAD_EMAIL'] == 9:\n",
        "        val = 'Naranja'\n",
        "    else:\n",
        "        val = 'nulo'\n",
        "    return val"
      ]
    },
    {
      "cell_type": "code",
      "execution_count": null,
      "metadata": {
        "id": "Skssb0LPcMUr"
      },
      "outputs": [],
      "source": [
        "usuarios['BONDADEMAIL'] = usuarios.apply(fun, axis=1)"
      ]
    },
    {
      "cell_type": "code",
      "execution_count": null,
      "metadata": {
        "id": "7jrdbljQcTF_"
      },
      "outputs": [],
      "source": [
        "# Codificar BONDADEMAIL con one hot encoding:\n",
        "\n",
        "# Creating instance of one-hot-encoder\n",
        "encoder = OneHotEncoder(handle_unknown='ignore')\n",
        "\n",
        "# Perform one-hot encoding on 'team' column \n",
        "encoder_df = pd.DataFrame(encoder.fit_transform(usuarios[['BONDADEMAIL']]).toarray())\n",
        "\n",
        "# Merge one-hot encoded columns back with original DataFrame\n",
        "usuarios = usuarios.join(encoder_df)"
      ]
    },
    {
      "cell_type": "code",
      "execution_count": null,
      "metadata": {
        "id": "X9VeMfcvcWOL"
      },
      "outputs": [],
      "source": [
        "# Renombramos las columnas\n",
        "usuarios.columns = ['FEC_REGISTRO', 'IND_CLIENTE', 'TIPOEMAIL', 'BONDAD_EMAIL', 'USU_TIPO', 'USU_TAMANIO', 'USU_CIIU',\n",
        "                    'USU_ESTADO', 'USU_DEPARTAMENTO', 'FEC_CLIENTE', 'ID_USUARIO', 'TIPO_USUARIO', 'DE', 'DP', 'SEM',\n",
        "                    'BONDADEMAIL', 'Invalido', 'Naranja', 'Verde', 'emailnulo']"
      ]
    },
    {
      "cell_type": "code",
      "execution_count": null,
      "metadata": {
        "id": "JRymlHPVdaRw"
      },
      "outputs": [],
      "source": [
        "# Eliminamos las columnas que no nos interesan\n",
        "# Eliminamos también la columna emailnulo, ya que esta información la almacenamos en las dos anteriores\n",
        "usuarios = usuarios.drop(columns = ['BONDAD_EMAIL', 'BONDADEMAIL', 'emailnulo'])"
      ]
    },
    {
      "cell_type": "markdown",
      "metadata": {
        "id": "m3TlPcapezXy"
      },
      "source": [
        "## Variable TIPOEMAIL"
      ]
    },
    {
      "cell_type": "code",
      "execution_count": null,
      "metadata": {
        "colab": {
          "base_uri": "https://localhost:8080/"
        },
        "id": "0Ceyvivrd5gP",
        "outputId": "a02d65c3-2102-495e-8e5f-cdeedf7d205f"
      },
      "outputs": [
        {
          "output_type": "execute_result",
          "data": {
            "text/plain": [
              "gmail.com           1494\n",
              "hotmail.com         1107\n",
              "yopmail.com           90\n",
              "yahoo.com             72\n",
              "yahoo.es              60\n",
              "                    ... \n",
              "hmsol.vpm              1\n",
              "live.net               1\n",
              "unab.edu.co            1\n",
              "calzadovolta.com       1\n",
              "betta.gp               1\n",
              "Name: TIPOEMAIL, Length: 498, dtype: int64"
            ]
          },
          "metadata": {},
          "execution_count": 25
        }
      ],
      "source": [
        "# Pasamos a revisar la variable TIPOEMAIL\n",
        "# Entendemos que si la vaiable Naranja, Verde y Invalido es 0 la variable TIPOEMAIL deberá no estar registrada\n",
        "import numpy as np\n",
        "usuarios[(usuarios['Naranja']==0) & (usuarios['Verde']==0) & (usuarios['Invalido']==0)].TIPOEMAIL.value_counts()"
      ]
    },
    {
      "cell_type": "code",
      "execution_count": null,
      "metadata": {
        "id": "gXo9tijbfzRz"
      },
      "outputs": [],
      "source": [
        "# Como vemos, tiene registros, luego entendemos que la calidad de esta variable no es la correcta y procedemos a eliminarla\n",
        "usuarios = usuarios.drop(columns = ['TIPOEMAIL'])"
      ]
    },
    {
      "cell_type": "markdown",
      "metadata": {
        "id": "kBTpNLXhg2xk"
      },
      "source": [
        "## Variable USU_TIPO"
      ]
    },
    {
      "cell_type": "code",
      "execution_count": null,
      "metadata": {
        "colab": {
          "base_uri": "https://localhost:8080/"
        },
        "id": "OQnAXlwCJuhO",
        "outputId": "8b966f0f-8c9e-407c-a650-36d356df4b70"
      },
      "outputs": [
        {
          "output_type": "execute_result",
          "data": {
            "text/plain": [
              "array(['EMPRESARIO INDIVIDUAL', 'ENTIDAD EXTRANJERA',\n",
              "       'ENTIDAD FINANCIERA O DE SEGUROS', 'ENTIDAD SIN ANIMO DE LUCRO',\n",
              "       'HOLDING', 'INDUSTRIA / COMERCIO', 'ORGANISMO ESTATAL',\n",
              "       'SOCIEDAD COMERCIAL/INDUSTRIAL', 'SOCIEDAD NO COMERCIAL', 'nan'],\n",
              "      dtype=object)"
            ]
          },
          "metadata": {},
          "execution_count": 27
        }
      ],
      "source": [
        "# Revisamos que guarda esta variable\n",
        "np.unique(usuarios['USU_TIPO'].astype(str))"
      ]
    },
    {
      "cell_type": "code",
      "execution_count": null,
      "metadata": {
        "colab": {
          "base_uri": "https://localhost:8080/"
        },
        "id": "FUo0XMiKJx0F",
        "outputId": "89174f8d-edfa-46d7-fb3f-455b2e419224"
      },
      "outputs": [
        {
          "output_type": "execute_result",
          "data": {
            "text/plain": [
              "99123"
            ]
          },
          "metadata": {},
          "execution_count": 28
        }
      ],
      "source": [
        "# Si seleccionamos PF, esta variable debería dar null o EMPRESARIO INDIVIDUAL, contamos cuantos null tenemos:\n",
        "usuarios[usuarios['TIPO_USUARIO']== 1].USU_TIPO.isna().sum()"
      ]
    },
    {
      "cell_type": "code",
      "execution_count": null,
      "metadata": {
        "colab": {
          "base_uri": "https://localhost:8080/"
        },
        "id": "uP44HS9LJz62",
        "outputId": "450bf86c-3787-4c91-fd37-8ea8a65192e0"
      },
      "outputs": [
        {
          "output_type": "execute_result",
          "data": {
            "text/plain": [
              "EMPRESARIO INDIVIDUAL              389\n",
              "ENTIDAD FINANCIERA O DE SEGUROS      9\n",
              "SOCIEDAD COMERCIAL/INDUSTRIAL        2\n",
              "Name: USU_TIPO, dtype: int64"
            ]
          },
          "metadata": {},
          "execution_count": 29
        }
      ],
      "source": [
        "# Revisamos el resto de valores que guarda cuando es PF\n",
        "usuarios[usuarios['TIPO_USUARIO']== 1].USU_TIPO.value_counts()"
      ]
    },
    {
      "cell_type": "code",
      "execution_count": null,
      "metadata": {
        "colab": {
          "base_uri": "https://localhost:8080/",
          "height": 112
        },
        "id": "8Mwp8y-GJ5J-",
        "outputId": "f7bfd5f0-85e8-4be6-92dd-9fe4b54b11cf"
      },
      "outputs": [
        {
          "output_type": "execute_result",
          "data": {
            "text/plain": [
              "             FEC_REGISTRO  IND_CLIENTE                       USU_TIPO  \\\n",
              "93997   18/6/2019 0:00:00            0  SOCIEDAD COMERCIAL/INDUSTRIAL   \n",
              "131005  15/1/2019 0:00:00            0  SOCIEDAD COMERCIAL/INDUSTRIAL   \n",
              "\n",
              "       USU_TAMANIO USU_CIIU   USU_ESTADO USU_DEPARTAMENTO FEC_CLIENTE  \\\n",
              "93997           MC    Z9999  LIQUIDACION            CHOCO         NaN   \n",
              "131005          MC    G4690  LIQUIDACION     CUNDINAMARCA         NaN   \n",
              "\n",
              "       ID_USUARIO  TIPO_USUARIO   DE   DP  SEM  Invalido  Naranja  Verde  \n",
              "93997     7849417             1  0.0  0.0  1.0       0.0      0.0    1.0  \n",
              "131005    7541846             1  0.0  0.0  1.0       1.0      0.0    0.0  "
            ],
            "text/html": [
              "\n",
              "  <div id=\"df-081496e5-ce06-41e9-98f6-fc36f0cbaf9a\">\n",
              "    <div class=\"colab-df-container\">\n",
              "      <div>\n",
              "<style scoped>\n",
              "    .dataframe tbody tr th:only-of-type {\n",
              "        vertical-align: middle;\n",
              "    }\n",
              "\n",
              "    .dataframe tbody tr th {\n",
              "        vertical-align: top;\n",
              "    }\n",
              "\n",
              "    .dataframe thead th {\n",
              "        text-align: right;\n",
              "    }\n",
              "</style>\n",
              "<table border=\"1\" class=\"dataframe\">\n",
              "  <thead>\n",
              "    <tr style=\"text-align: right;\">\n",
              "      <th></th>\n",
              "      <th>FEC_REGISTRO</th>\n",
              "      <th>IND_CLIENTE</th>\n",
              "      <th>USU_TIPO</th>\n",
              "      <th>USU_TAMANIO</th>\n",
              "      <th>USU_CIIU</th>\n",
              "      <th>USU_ESTADO</th>\n",
              "      <th>USU_DEPARTAMENTO</th>\n",
              "      <th>FEC_CLIENTE</th>\n",
              "      <th>ID_USUARIO</th>\n",
              "      <th>TIPO_USUARIO</th>\n",
              "      <th>DE</th>\n",
              "      <th>DP</th>\n",
              "      <th>SEM</th>\n",
              "      <th>Invalido</th>\n",
              "      <th>Naranja</th>\n",
              "      <th>Verde</th>\n",
              "    </tr>\n",
              "  </thead>\n",
              "  <tbody>\n",
              "    <tr>\n",
              "      <th>93997</th>\n",
              "      <td>18/6/2019 0:00:00</td>\n",
              "      <td>0</td>\n",
              "      <td>SOCIEDAD COMERCIAL/INDUSTRIAL</td>\n",
              "      <td>MC</td>\n",
              "      <td>Z9999</td>\n",
              "      <td>LIQUIDACION</td>\n",
              "      <td>CHOCO</td>\n",
              "      <td>NaN</td>\n",
              "      <td>7849417</td>\n",
              "      <td>1</td>\n",
              "      <td>0.0</td>\n",
              "      <td>0.0</td>\n",
              "      <td>1.0</td>\n",
              "      <td>0.0</td>\n",
              "      <td>0.0</td>\n",
              "      <td>1.0</td>\n",
              "    </tr>\n",
              "    <tr>\n",
              "      <th>131005</th>\n",
              "      <td>15/1/2019 0:00:00</td>\n",
              "      <td>0</td>\n",
              "      <td>SOCIEDAD COMERCIAL/INDUSTRIAL</td>\n",
              "      <td>MC</td>\n",
              "      <td>G4690</td>\n",
              "      <td>LIQUIDACION</td>\n",
              "      <td>CUNDINAMARCA</td>\n",
              "      <td>NaN</td>\n",
              "      <td>7541846</td>\n",
              "      <td>1</td>\n",
              "      <td>0.0</td>\n",
              "      <td>0.0</td>\n",
              "      <td>1.0</td>\n",
              "      <td>1.0</td>\n",
              "      <td>0.0</td>\n",
              "      <td>0.0</td>\n",
              "    </tr>\n",
              "  </tbody>\n",
              "</table>\n",
              "</div>\n",
              "      <button class=\"colab-df-convert\" onclick=\"convertToInteractive('df-081496e5-ce06-41e9-98f6-fc36f0cbaf9a')\"\n",
              "              title=\"Convert this dataframe to an interactive table.\"\n",
              "              style=\"display:none;\">\n",
              "        \n",
              "  <svg xmlns=\"http://www.w3.org/2000/svg\" height=\"24px\"viewBox=\"0 0 24 24\"\n",
              "       width=\"24px\">\n",
              "    <path d=\"M0 0h24v24H0V0z\" fill=\"none\"/>\n",
              "    <path d=\"M18.56 5.44l.94 2.06.94-2.06 2.06-.94-2.06-.94-.94-2.06-.94 2.06-2.06.94zm-11 1L8.5 8.5l.94-2.06 2.06-.94-2.06-.94L8.5 2.5l-.94 2.06-2.06.94zm10 10l.94 2.06.94-2.06 2.06-.94-2.06-.94-.94-2.06-.94 2.06-2.06.94z\"/><path d=\"M17.41 7.96l-1.37-1.37c-.4-.4-.92-.59-1.43-.59-.52 0-1.04.2-1.43.59L10.3 9.45l-7.72 7.72c-.78.78-.78 2.05 0 2.83L4 21.41c.39.39.9.59 1.41.59.51 0 1.02-.2 1.41-.59l7.78-7.78 2.81-2.81c.8-.78.8-2.07 0-2.86zM5.41 20L4 18.59l7.72-7.72 1.47 1.35L5.41 20z\"/>\n",
              "  </svg>\n",
              "      </button>\n",
              "      \n",
              "  <style>\n",
              "    .colab-df-container {\n",
              "      display:flex;\n",
              "      flex-wrap:wrap;\n",
              "      gap: 12px;\n",
              "    }\n",
              "\n",
              "    .colab-df-convert {\n",
              "      background-color: #E8F0FE;\n",
              "      border: none;\n",
              "      border-radius: 50%;\n",
              "      cursor: pointer;\n",
              "      display: none;\n",
              "      fill: #1967D2;\n",
              "      height: 32px;\n",
              "      padding: 0 0 0 0;\n",
              "      width: 32px;\n",
              "    }\n",
              "\n",
              "    .colab-df-convert:hover {\n",
              "      background-color: #E2EBFA;\n",
              "      box-shadow: 0px 1px 2px rgba(60, 64, 67, 0.3), 0px 1px 3px 1px rgba(60, 64, 67, 0.15);\n",
              "      fill: #174EA6;\n",
              "    }\n",
              "\n",
              "    [theme=dark] .colab-df-convert {\n",
              "      background-color: #3B4455;\n",
              "      fill: #D2E3FC;\n",
              "    }\n",
              "\n",
              "    [theme=dark] .colab-df-convert:hover {\n",
              "      background-color: #434B5C;\n",
              "      box-shadow: 0px 1px 3px 1px rgba(0, 0, 0, 0.15);\n",
              "      filter: drop-shadow(0px 1px 2px rgba(0, 0, 0, 0.3));\n",
              "      fill: #FFFFFF;\n",
              "    }\n",
              "  </style>\n",
              "\n",
              "      <script>\n",
              "        const buttonEl =\n",
              "          document.querySelector('#df-081496e5-ce06-41e9-98f6-fc36f0cbaf9a button.colab-df-convert');\n",
              "        buttonEl.style.display =\n",
              "          google.colab.kernel.accessAllowed ? 'block' : 'none';\n",
              "\n",
              "        async function convertToInteractive(key) {\n",
              "          const element = document.querySelector('#df-081496e5-ce06-41e9-98f6-fc36f0cbaf9a');\n",
              "          const dataTable =\n",
              "            await google.colab.kernel.invokeFunction('convertToInteractive',\n",
              "                                                     [key], {});\n",
              "          if (!dataTable) return;\n",
              "\n",
              "          const docLinkHtml = 'Like what you see? Visit the ' +\n",
              "            '<a target=\"_blank\" href=https://colab.research.google.com/notebooks/data_table.ipynb>data table notebook</a>'\n",
              "            + ' to learn more about interactive tables.';\n",
              "          element.innerHTML = '';\n",
              "          dataTable['output_type'] = 'display_data';\n",
              "          await google.colab.output.renderOutput(dataTable, element);\n",
              "          const docLink = document.createElement('div');\n",
              "          docLink.innerHTML = docLinkHtml;\n",
              "          element.appendChild(docLink);\n",
              "        }\n",
              "      </script>\n",
              "    </div>\n",
              "  </div>\n",
              "  "
            ]
          },
          "metadata": {},
          "execution_count": 30
        }
      ],
      "source": [
        "# Revisamos los dos casos de SOCIEDAD COMERCIAL/INDUSTRIAL\n",
        "usuarios[(usuarios['TIPO_USUARIO']==1) & (usuarios['USU_TIPO']=='SOCIEDAD COMERCIAL/INDUSTRIAL')]"
      ]
    },
    {
      "cell_type": "code",
      "execution_count": null,
      "metadata": {
        "id": "vLooGMPPgp3k"
      },
      "outputs": [],
      "source": [
        "# Eliminamos los dos registros que aparecen como SOCIEDAD COMERCIAL/INDUSTRIAL ya que entendemos que una persona física no le corresponde\n",
        "# esta categoría. Ninguno de los dos casos es cliente.\n",
        "usuarios = usuarios.drop(usuarios[(usuarios['TIPO_USUARIO']==1) & (usuarios['USU_TIPO']=='SOCIEDAD COMERCIAL/INDUSTRIAL')].index).reset_index(drop = True)"
      ]
    },
    {
      "cell_type": "code",
      "execution_count": null,
      "metadata": {
        "colab": {
          "base_uri": "https://localhost:8080/",
          "height": 376
        },
        "id": "1Q9DlnG4KErt",
        "outputId": "38fc1e70-9a43-4bea-9742-233c0fc8d940"
      },
      "outputs": [
        {
          "output_type": "execute_result",
          "data": {
            "text/plain": [
              "              FEC_REGISTRO  IND_CLIENTE                         USU_TIPO  \\\n",
              "1667      2/3/2019 0:00:00            0  ENTIDAD FINANCIERA O DE SEGUROS   \n",
              "2580     10/6/2019 0:00:00            0  ENTIDAD FINANCIERA O DE SEGUROS   \n",
              "29994   10/12/2018 0:00:00            0  ENTIDAD FINANCIERA O DE SEGUROS   \n",
              "30225    4/12/2018 0:00:00            0  ENTIDAD FINANCIERA O DE SEGUROS   \n",
              "55319     6/9/2018 0:00:00            0  ENTIDAD FINANCIERA O DE SEGUROS   \n",
              "77108    22/8/2018 0:00:00            0  ENTIDAD FINANCIERA O DE SEGUROS   \n",
              "86570    19/4/2018 0:00:00            0  ENTIDAD FINANCIERA O DE SEGUROS   \n",
              "118180    7/2/2018 0:00:00            0  ENTIDAD FINANCIERA O DE SEGUROS   \n",
              "119352   25/4/2018 0:00:00            1  ENTIDAD FINANCIERA O DE SEGUROS   \n",
              "\n",
              "       USU_TAMANIO USU_CIIU USU_ESTADO USU_DEPARTAMENTO        FEC_CLIENTE  \\\n",
              "1667            MC    K6621     ACTIVA           BOGOTA                NaN   \n",
              "2580            MC    K6621     ACTIVA        RISARALDA                NaN   \n",
              "29994           MC    K6511     ACTIVA            CESAR                NaN   \n",
              "30225           MC    K6621     ACTIVA        ANTIOQUIA                NaN   \n",
              "55319           MC    K6621     ACTIVA     CUNDINAMARCA                NaN   \n",
              "77108           MC    K6621     ACTIVA           BOGOTA                NaN   \n",
              "86570           MC    K6621     ACTIVA     CUNDINAMARCA                NaN   \n",
              "118180          MC    K6615     ACTIVA        ANTIOQUIA                NaN   \n",
              "119352          MC    K6621     ACTIVA           BOGOTA  25/4/2018 0:00:00   \n",
              "\n",
              "       ID_USUARIO  TIPO_USUARIO   DE   DP  SEM  Invalido  Naranja  Verde  \n",
              "1667      7623128             1  0.0  0.0  0.0       0.0      0.0    1.0  \n",
              "2580      7836547             1  0.0  1.0  0.0       0.0      0.0    1.0  \n",
              "29994     7503558             1  0.0  0.0  1.0       0.0      1.0    0.0  \n",
              "30225     7496819             1  1.0  0.0  0.0       0.0      0.0    1.0  \n",
              "55319     7350818             1  0.0  1.0  0.0       0.0      0.0    1.0  \n",
              "77108     7320822             1  0.0  1.0  0.0       1.0      0.0    0.0  \n",
              "86570     7072388             1  1.0  0.0  0.0       1.0      0.0    0.0  \n",
              "118180    6919787             1  0.0  0.0  0.0       0.0      0.0    1.0  \n",
              "119352    7086038             1  0.0  1.0  0.0       0.0      0.0    1.0  "
            ],
            "text/html": [
              "\n",
              "  <div id=\"df-f7503b0f-e3d2-4ade-8478-8e3ca19723cc\">\n",
              "    <div class=\"colab-df-container\">\n",
              "      <div>\n",
              "<style scoped>\n",
              "    .dataframe tbody tr th:only-of-type {\n",
              "        vertical-align: middle;\n",
              "    }\n",
              "\n",
              "    .dataframe tbody tr th {\n",
              "        vertical-align: top;\n",
              "    }\n",
              "\n",
              "    .dataframe thead th {\n",
              "        text-align: right;\n",
              "    }\n",
              "</style>\n",
              "<table border=\"1\" class=\"dataframe\">\n",
              "  <thead>\n",
              "    <tr style=\"text-align: right;\">\n",
              "      <th></th>\n",
              "      <th>FEC_REGISTRO</th>\n",
              "      <th>IND_CLIENTE</th>\n",
              "      <th>USU_TIPO</th>\n",
              "      <th>USU_TAMANIO</th>\n",
              "      <th>USU_CIIU</th>\n",
              "      <th>USU_ESTADO</th>\n",
              "      <th>USU_DEPARTAMENTO</th>\n",
              "      <th>FEC_CLIENTE</th>\n",
              "      <th>ID_USUARIO</th>\n",
              "      <th>TIPO_USUARIO</th>\n",
              "      <th>DE</th>\n",
              "      <th>DP</th>\n",
              "      <th>SEM</th>\n",
              "      <th>Invalido</th>\n",
              "      <th>Naranja</th>\n",
              "      <th>Verde</th>\n",
              "    </tr>\n",
              "  </thead>\n",
              "  <tbody>\n",
              "    <tr>\n",
              "      <th>1667</th>\n",
              "      <td>2/3/2019 0:00:00</td>\n",
              "      <td>0</td>\n",
              "      <td>ENTIDAD FINANCIERA O DE SEGUROS</td>\n",
              "      <td>MC</td>\n",
              "      <td>K6621</td>\n",
              "      <td>ACTIVA</td>\n",
              "      <td>BOGOTA</td>\n",
              "      <td>NaN</td>\n",
              "      <td>7623128</td>\n",
              "      <td>1</td>\n",
              "      <td>0.0</td>\n",
              "      <td>0.0</td>\n",
              "      <td>0.0</td>\n",
              "      <td>0.0</td>\n",
              "      <td>0.0</td>\n",
              "      <td>1.0</td>\n",
              "    </tr>\n",
              "    <tr>\n",
              "      <th>2580</th>\n",
              "      <td>10/6/2019 0:00:00</td>\n",
              "      <td>0</td>\n",
              "      <td>ENTIDAD FINANCIERA O DE SEGUROS</td>\n",
              "      <td>MC</td>\n",
              "      <td>K6621</td>\n",
              "      <td>ACTIVA</td>\n",
              "      <td>RISARALDA</td>\n",
              "      <td>NaN</td>\n",
              "      <td>7836547</td>\n",
              "      <td>1</td>\n",
              "      <td>0.0</td>\n",
              "      <td>1.0</td>\n",
              "      <td>0.0</td>\n",
              "      <td>0.0</td>\n",
              "      <td>0.0</td>\n",
              "      <td>1.0</td>\n",
              "    </tr>\n",
              "    <tr>\n",
              "      <th>29994</th>\n",
              "      <td>10/12/2018 0:00:00</td>\n",
              "      <td>0</td>\n",
              "      <td>ENTIDAD FINANCIERA O DE SEGUROS</td>\n",
              "      <td>MC</td>\n",
              "      <td>K6511</td>\n",
              "      <td>ACTIVA</td>\n",
              "      <td>CESAR</td>\n",
              "      <td>NaN</td>\n",
              "      <td>7503558</td>\n",
              "      <td>1</td>\n",
              "      <td>0.0</td>\n",
              "      <td>0.0</td>\n",
              "      <td>1.0</td>\n",
              "      <td>0.0</td>\n",
              "      <td>1.0</td>\n",
              "      <td>0.0</td>\n",
              "    </tr>\n",
              "    <tr>\n",
              "      <th>30225</th>\n",
              "      <td>4/12/2018 0:00:00</td>\n",
              "      <td>0</td>\n",
              "      <td>ENTIDAD FINANCIERA O DE SEGUROS</td>\n",
              "      <td>MC</td>\n",
              "      <td>K6621</td>\n",
              "      <td>ACTIVA</td>\n",
              "      <td>ANTIOQUIA</td>\n",
              "      <td>NaN</td>\n",
              "      <td>7496819</td>\n",
              "      <td>1</td>\n",
              "      <td>1.0</td>\n",
              "      <td>0.0</td>\n",
              "      <td>0.0</td>\n",
              "      <td>0.0</td>\n",
              "      <td>0.0</td>\n",
              "      <td>1.0</td>\n",
              "    </tr>\n",
              "    <tr>\n",
              "      <th>55319</th>\n",
              "      <td>6/9/2018 0:00:00</td>\n",
              "      <td>0</td>\n",
              "      <td>ENTIDAD FINANCIERA O DE SEGUROS</td>\n",
              "      <td>MC</td>\n",
              "      <td>K6621</td>\n",
              "      <td>ACTIVA</td>\n",
              "      <td>CUNDINAMARCA</td>\n",
              "      <td>NaN</td>\n",
              "      <td>7350818</td>\n",
              "      <td>1</td>\n",
              "      <td>0.0</td>\n",
              "      <td>1.0</td>\n",
              "      <td>0.0</td>\n",
              "      <td>0.0</td>\n",
              "      <td>0.0</td>\n",
              "      <td>1.0</td>\n",
              "    </tr>\n",
              "    <tr>\n",
              "      <th>77108</th>\n",
              "      <td>22/8/2018 0:00:00</td>\n",
              "      <td>0</td>\n",
              "      <td>ENTIDAD FINANCIERA O DE SEGUROS</td>\n",
              "      <td>MC</td>\n",
              "      <td>K6621</td>\n",
              "      <td>ACTIVA</td>\n",
              "      <td>BOGOTA</td>\n",
              "      <td>NaN</td>\n",
              "      <td>7320822</td>\n",
              "      <td>1</td>\n",
              "      <td>0.0</td>\n",
              "      <td>1.0</td>\n",
              "      <td>0.0</td>\n",
              "      <td>1.0</td>\n",
              "      <td>0.0</td>\n",
              "      <td>0.0</td>\n",
              "    </tr>\n",
              "    <tr>\n",
              "      <th>86570</th>\n",
              "      <td>19/4/2018 0:00:00</td>\n",
              "      <td>0</td>\n",
              "      <td>ENTIDAD FINANCIERA O DE SEGUROS</td>\n",
              "      <td>MC</td>\n",
              "      <td>K6621</td>\n",
              "      <td>ACTIVA</td>\n",
              "      <td>CUNDINAMARCA</td>\n",
              "      <td>NaN</td>\n",
              "      <td>7072388</td>\n",
              "      <td>1</td>\n",
              "      <td>1.0</td>\n",
              "      <td>0.0</td>\n",
              "      <td>0.0</td>\n",
              "      <td>1.0</td>\n",
              "      <td>0.0</td>\n",
              "      <td>0.0</td>\n",
              "    </tr>\n",
              "    <tr>\n",
              "      <th>118180</th>\n",
              "      <td>7/2/2018 0:00:00</td>\n",
              "      <td>0</td>\n",
              "      <td>ENTIDAD FINANCIERA O DE SEGUROS</td>\n",
              "      <td>MC</td>\n",
              "      <td>K6615</td>\n",
              "      <td>ACTIVA</td>\n",
              "      <td>ANTIOQUIA</td>\n",
              "      <td>NaN</td>\n",
              "      <td>6919787</td>\n",
              "      <td>1</td>\n",
              "      <td>0.0</td>\n",
              "      <td>0.0</td>\n",
              "      <td>0.0</td>\n",
              "      <td>0.0</td>\n",
              "      <td>0.0</td>\n",
              "      <td>1.0</td>\n",
              "    </tr>\n",
              "    <tr>\n",
              "      <th>119352</th>\n",
              "      <td>25/4/2018 0:00:00</td>\n",
              "      <td>1</td>\n",
              "      <td>ENTIDAD FINANCIERA O DE SEGUROS</td>\n",
              "      <td>MC</td>\n",
              "      <td>K6621</td>\n",
              "      <td>ACTIVA</td>\n",
              "      <td>BOGOTA</td>\n",
              "      <td>25/4/2018 0:00:00</td>\n",
              "      <td>7086038</td>\n",
              "      <td>1</td>\n",
              "      <td>0.0</td>\n",
              "      <td>1.0</td>\n",
              "      <td>0.0</td>\n",
              "      <td>0.0</td>\n",
              "      <td>0.0</td>\n",
              "      <td>1.0</td>\n",
              "    </tr>\n",
              "  </tbody>\n",
              "</table>\n",
              "</div>\n",
              "      <button class=\"colab-df-convert\" onclick=\"convertToInteractive('df-f7503b0f-e3d2-4ade-8478-8e3ca19723cc')\"\n",
              "              title=\"Convert this dataframe to an interactive table.\"\n",
              "              style=\"display:none;\">\n",
              "        \n",
              "  <svg xmlns=\"http://www.w3.org/2000/svg\" height=\"24px\"viewBox=\"0 0 24 24\"\n",
              "       width=\"24px\">\n",
              "    <path d=\"M0 0h24v24H0V0z\" fill=\"none\"/>\n",
              "    <path d=\"M18.56 5.44l.94 2.06.94-2.06 2.06-.94-2.06-.94-.94-2.06-.94 2.06-2.06.94zm-11 1L8.5 8.5l.94-2.06 2.06-.94-2.06-.94L8.5 2.5l-.94 2.06-2.06.94zm10 10l.94 2.06.94-2.06 2.06-.94-2.06-.94-.94-2.06-.94 2.06-2.06.94z\"/><path d=\"M17.41 7.96l-1.37-1.37c-.4-.4-.92-.59-1.43-.59-.52 0-1.04.2-1.43.59L10.3 9.45l-7.72 7.72c-.78.78-.78 2.05 0 2.83L4 21.41c.39.39.9.59 1.41.59.51 0 1.02-.2 1.41-.59l7.78-7.78 2.81-2.81c.8-.78.8-2.07 0-2.86zM5.41 20L4 18.59l7.72-7.72 1.47 1.35L5.41 20z\"/>\n",
              "  </svg>\n",
              "      </button>\n",
              "      \n",
              "  <style>\n",
              "    .colab-df-container {\n",
              "      display:flex;\n",
              "      flex-wrap:wrap;\n",
              "      gap: 12px;\n",
              "    }\n",
              "\n",
              "    .colab-df-convert {\n",
              "      background-color: #E8F0FE;\n",
              "      border: none;\n",
              "      border-radius: 50%;\n",
              "      cursor: pointer;\n",
              "      display: none;\n",
              "      fill: #1967D2;\n",
              "      height: 32px;\n",
              "      padding: 0 0 0 0;\n",
              "      width: 32px;\n",
              "    }\n",
              "\n",
              "    .colab-df-convert:hover {\n",
              "      background-color: #E2EBFA;\n",
              "      box-shadow: 0px 1px 2px rgba(60, 64, 67, 0.3), 0px 1px 3px 1px rgba(60, 64, 67, 0.15);\n",
              "      fill: #174EA6;\n",
              "    }\n",
              "\n",
              "    [theme=dark] .colab-df-convert {\n",
              "      background-color: #3B4455;\n",
              "      fill: #D2E3FC;\n",
              "    }\n",
              "\n",
              "    [theme=dark] .colab-df-convert:hover {\n",
              "      background-color: #434B5C;\n",
              "      box-shadow: 0px 1px 3px 1px rgba(0, 0, 0, 0.15);\n",
              "      filter: drop-shadow(0px 1px 2px rgba(0, 0, 0, 0.3));\n",
              "      fill: #FFFFFF;\n",
              "    }\n",
              "  </style>\n",
              "\n",
              "      <script>\n",
              "        const buttonEl =\n",
              "          document.querySelector('#df-f7503b0f-e3d2-4ade-8478-8e3ca19723cc button.colab-df-convert');\n",
              "        buttonEl.style.display =\n",
              "          google.colab.kernel.accessAllowed ? 'block' : 'none';\n",
              "\n",
              "        async function convertToInteractive(key) {\n",
              "          const element = document.querySelector('#df-f7503b0f-e3d2-4ade-8478-8e3ca19723cc');\n",
              "          const dataTable =\n",
              "            await google.colab.kernel.invokeFunction('convertToInteractive',\n",
              "                                                     [key], {});\n",
              "          if (!dataTable) return;\n",
              "\n",
              "          const docLinkHtml = 'Like what you see? Visit the ' +\n",
              "            '<a target=\"_blank\" href=https://colab.research.google.com/notebooks/data_table.ipynb>data table notebook</a>'\n",
              "            + ' to learn more about interactive tables.';\n",
              "          element.innerHTML = '';\n",
              "          dataTable['output_type'] = 'display_data';\n",
              "          await google.colab.output.renderOutput(dataTable, element);\n",
              "          const docLink = document.createElement('div');\n",
              "          docLink.innerHTML = docLinkHtml;\n",
              "          element.appendChild(docLink);\n",
              "        }\n",
              "      </script>\n",
              "    </div>\n",
              "  </div>\n",
              "  "
            ]
          },
          "metadata": {},
          "execution_count": 32
        }
      ],
      "source": [
        "# Revisamos los nueve casos de ENTIDAD FINANCIERA O DE SEGUROS\n",
        "usuarios[(usuarios['TIPO_USUARIO']==1) & (usuarios['USU_TIPO']=='ENTIDAD FINANCIERA O DE SEGUROS')]"
      ]
    },
    {
      "cell_type": "code",
      "execution_count": null,
      "metadata": {
        "id": "nJwwn2Xmh2CE"
      },
      "outputs": [],
      "source": [
        "# Eliminamos los nueve registros que aparecen como ENTIDAD FINANCIERA O DE SEGUROS ya que entendemos que una persona física no le corresponde\n",
        "# esta categoría. Solo un caso es cliente.\n",
        "usuarios = usuarios.drop(usuarios[(usuarios['TIPO_USUARIO']==1) & (usuarios['USU_TIPO']=='ENTIDAD FINANCIERA O DE SEGUROS')].index).reset_index(drop = True)"
      ]
    },
    {
      "cell_type": "code",
      "execution_count": null,
      "metadata": {
        "colab": {
          "base_uri": "https://localhost:8080/"
        },
        "id": "uARIKFlvKO77",
        "outputId": "4281cbc6-93e8-4c13-8d87-da56b303137c"
      },
      "outputs": [
        {
          "output_type": "execute_result",
          "data": {
            "text/plain": [
              "2775"
            ]
          },
          "metadata": {},
          "execution_count": 34
        }
      ],
      "source": [
        "# Por el contrario, si seleccionamos PJ, esta variable no debería dar null:\n",
        "usuarios[(usuarios['TIPO_USUARIO']==0)].USU_TIPO.isna().sum()"
      ]
    },
    {
      "cell_type": "code",
      "execution_count": null,
      "metadata": {
        "colab": {
          "base_uri": "https://localhost:8080/"
        },
        "id": "gbqNYsllKTAn",
        "outputId": "9eee721d-de74-4981-8b16-673667c7d590"
      },
      "outputs": [
        {
          "output_type": "execute_result",
          "data": {
            "text/plain": [
              "SOCIEDAD COMERCIAL/INDUSTRIAL      15601\n",
              "EMPRESARIO INDIVIDUAL              13937\n",
              "ENTIDAD SIN ANIMO DE LUCRO          1000\n",
              "ENTIDAD FINANCIERA O DE SEGUROS      982\n",
              "ORGANISMO ESTATAL                    260\n",
              "HOLDING                              175\n",
              "ENTIDAD EXTRANJERA                   128\n",
              "SOCIEDAD NO COMERCIAL                  4\n",
              "INDUSTRIA / COMERCIO                   2\n",
              "Name: USU_TIPO, dtype: int64"
            ]
          },
          "metadata": {},
          "execution_count": 35
        }
      ],
      "source": [
        "# Revisamos el resto de valores que guarda cuando es PJ\n",
        "usuarios[usuarios['TIPO_USUARIO']==0].USU_TIPO.value_counts()"
      ]
    },
    {
      "cell_type": "code",
      "execution_count": null,
      "metadata": {
        "id": "o1NQB2XJh5B2"
      },
      "outputs": [],
      "source": [
        "# Procedemos a eliminar los 2775 registros que siendo PJ, la variable USU_TIPO es nula:\n",
        "usuarios = usuarios.drop(usuarios[(usuarios['TIPO_USUARIO']==0) & (usuarios['USU_TIPO'].isnull())].index).reset_index(drop = True)"
      ]
    },
    {
      "cell_type": "code",
      "execution_count": null,
      "metadata": {
        "id": "DjMRLKjOh9EH"
      },
      "outputs": [],
      "source": [
        "# Vamos a crear una nueva variable para agrupar las diferentes categorías de la variable USU_TIPO:\n",
        "def func(row):\n",
        "    if pd.isna(row['USU_TIPO']):\n",
        "        val = 'nulo'\n",
        "    elif row['USU_TIPO'] == 'SOCIEDAD COMERCIAL/INDUSTRIAL':\n",
        "        val = 'SCI'\n",
        "    elif row['USU_TIPO'] == 'EMPRESARIO INDIVIDUAL':\n",
        "        val = 'EI'\n",
        "    else:\n",
        "        val = 'resto'\n",
        "    return val"
      ]
    },
    {
      "cell_type": "code",
      "execution_count": null,
      "metadata": {
        "id": "TQH6fgHph_5s"
      },
      "outputs": [],
      "source": [
        "usuarios['USUTIPO'] = usuarios.apply(func, axis=1)"
      ]
    },
    {
      "cell_type": "code",
      "execution_count": null,
      "metadata": {
        "id": "dT0TJ3cBiCHX"
      },
      "outputs": [],
      "source": [
        "# Creamos las variables en base a USUTIPO:\n",
        "def funci(row):\n",
        "    if row['USUTIPO'] == 'SCI':\n",
        "      val = 1\n",
        "    else:\n",
        "        val = 0\n",
        "    return val\n",
        "usuarios['USUSCI'] = usuarios.apply(funci, axis=1)"
      ]
    },
    {
      "cell_type": "code",
      "execution_count": null,
      "metadata": {
        "id": "CyhODEwNli-l"
      },
      "outputs": [],
      "source": [
        "def funcio(row):\n",
        "    if row['USUTIPO'] == 'nulo':\n",
        "      val = 1\n",
        "    else:\n",
        "        val = 0\n",
        "    return val\n",
        "usuarios['USUNulo'] = usuarios.apply(funcio, axis=1)"
      ]
    },
    {
      "cell_type": "code",
      "execution_count": null,
      "metadata": {
        "id": "wKGhsPilljmk"
      },
      "outputs": [],
      "source": [
        "def funcion(row):\n",
        "    if row['USUTIPO'] == 'EI':\n",
        "      val = 1\n",
        "    else:\n",
        "        val = 0\n",
        "    return val\n",
        "usuarios['USUEI'] = usuarios.apply(funcion, axis=1)"
      ]
    },
    {
      "cell_type": "code",
      "execution_count": null,
      "metadata": {
        "id": "BNreVDsRlmWS"
      },
      "outputs": [],
      "source": [
        "# Procedemos a eliminar las variables que no nos interesan\n",
        "usuarios = usuarios.drop(columns = ['USU_TIPO', 'USUTIPO'])"
      ]
    },
    {
      "cell_type": "markdown",
      "metadata": {
        "id": "InOy_qJ_mAk2"
      },
      "source": [
        "## Variable USU_TAMANIO"
      ]
    },
    {
      "cell_type": "code",
      "execution_count": null,
      "metadata": {
        "colab": {
          "base_uri": "https://localhost:8080/"
        },
        "id": "4qsZrXXWKZOt",
        "outputId": "27b25280-c0de-4bf8-dd49-78314f359748"
      },
      "outputs": [
        {
          "output_type": "execute_result",
          "data": {
            "text/plain": [
              "array(['GR', 'MC', 'MD', 'PQ', 'SD', 'nan'], dtype=object)"
            ]
          },
          "metadata": {},
          "execution_count": 43
        }
      ],
      "source": [
        "# Revisamos que guarda esta variable\n",
        "np.unique(usuarios['USU_TAMANIO'].astype(str))"
      ]
    },
    {
      "cell_type": "code",
      "execution_count": null,
      "metadata": {
        "colab": {
          "base_uri": "https://localhost:8080/"
        },
        "id": "2sihcU_JKzTu",
        "outputId": "1cba8de1-274c-4ecb-d227-e60d1b8aa21f"
      },
      "outputs": [
        {
          "output_type": "execute_result",
          "data": {
            "text/plain": [
              "MC    344\n",
              "SD     44\n",
              "PQ      1\n",
              "Name: USU_TAMANIO, dtype: int64"
            ]
          },
          "metadata": {},
          "execution_count": 44
        }
      ],
      "source": [
        "# Si seleccionamos PF, esta variable debería dar null o SD:\n",
        "usuarios[usuarios['TIPO_USUARIO']==1].USU_TAMANIO.value_counts()"
      ]
    },
    {
      "cell_type": "code",
      "execution_count": null,
      "metadata": {
        "colab": {
          "base_uri": "https://localhost:8080/"
        },
        "id": "bOefP4OuK73D",
        "outputId": "f1d23ef2-d7cd-4f1b-ffb8-e0c8bfef1b64"
      },
      "outputs": [
        {
          "output_type": "execute_result",
          "data": {
            "text/plain": [
              "0    341\n",
              "1      4\n",
              "Name: IND_CLIENTE, dtype: int64"
            ]
          },
          "metadata": {},
          "execution_count": 45
        }
      ],
      "source": [
        "# Vemos que existen Pequeñas y Micro empresas, vamos a ver cuantos clientes tenemos en estos casos:\n",
        "usuarios[(usuarios['TIPO_USUARIO']== 1) & ((usuarios['USU_TAMANIO'] == ('PQ')) | (usuarios['USU_TAMANIO'] == ('MC')))].IND_CLIENTE.value_counts()"
      ]
    },
    {
      "cell_type": "code",
      "execution_count": null,
      "metadata": {
        "id": "SFchXGsElsVf"
      },
      "outputs": [],
      "source": [
        "# Vemos que procederiamos a enviar 341 no clientes frente a 4 clientes:\n",
        "# Procedemos a eliminar los 345 registros que siendo PF, la variable USU_TAMANIO es MC o PQ:\n",
        "usuarios = usuarios.drop(usuarios[(usuarios['TIPO_USUARIO']== 1) & ((usuarios['USU_TAMANIO'] == ('PQ')) | (usuarios['USU_TAMANIO'] == ('MC')))].index).reset_index(drop = True)"
      ]
    },
    {
      "cell_type": "code",
      "execution_count": null,
      "metadata": {
        "id": "im64fzp3mIX_"
      },
      "outputs": [],
      "source": [
        "# Para los 44 valores que hemos encontrado como SD procedemos a cambiarlos como nulos:\n",
        "usuarios.loc[(usuarios['TIPO_USUARIO']== 1) & (usuarios['USU_TAMANIO'] == ('SD')), \"USU_TAMANIO\"] = None"
      ]
    },
    {
      "cell_type": "code",
      "execution_count": null,
      "metadata": {
        "colab": {
          "base_uri": "https://localhost:8080/"
        },
        "id": "GUZCZtBULEd9",
        "outputId": "bcf96ba3-8533-46b4-9704-7080baa0b54c"
      },
      "outputs": [
        {
          "output_type": "execute_result",
          "data": {
            "text/plain": [
              "0"
            ]
          },
          "metadata": {},
          "execution_count": 48
        }
      ],
      "source": [
        "# Revisamos ahora si seleccionamos PJ, esta variable no debería dar null:\n",
        "usuarios[usuarios['TIPO_USUARIO']== 0].USU_TAMANIO.isna().sum()"
      ]
    },
    {
      "cell_type": "code",
      "execution_count": null,
      "metadata": {
        "id": "0-gkwJYNmLwY"
      },
      "outputs": [],
      "source": [
        "# Creamos las variables en base a USU_TAMANIO:\n",
        "def funti(row):\n",
        "    if row['USU_TAMANIO'] == 'GR':\n",
        "      val = 1\n",
        "    else:\n",
        "        val = 0\n",
        "    return val\n",
        "usuarios['TAM_GR'] = usuarios.apply(funti, axis=1)"
      ]
    },
    {
      "cell_type": "code",
      "execution_count": null,
      "metadata": {
        "id": "o6sgvGs1mO86"
      },
      "outputs": [],
      "source": [
        "def funtio(row):\n",
        "    if row['USU_TAMANIO'] == 'MD':\n",
        "      val = 1\n",
        "    else:\n",
        "        val = 0\n",
        "    return val\n",
        "usuarios['TAM_MD'] = usuarios.apply(funtio, axis=1)"
      ]
    },
    {
      "cell_type": "code",
      "execution_count": null,
      "metadata": {
        "id": "eiJpEc5imRad"
      },
      "outputs": [],
      "source": [
        "def funtion(row):\n",
        "    if row['USU_TAMANIO'] == 'PQ':\n",
        "      val = 1\n",
        "    else:\n",
        "        val = 0\n",
        "    return val\n",
        "usuarios['TAM_PQ'] = usuarios.apply(funtion, axis=1)"
      ]
    },
    {
      "cell_type": "code",
      "execution_count": null,
      "metadata": {
        "id": "2oRg81bfmTKE"
      },
      "outputs": [],
      "source": [
        "def f(row):\n",
        "    if row['USU_TAMANIO'] == 'MC':\n",
        "      val = 1\n",
        "    else:\n",
        "        val = 0\n",
        "    return val\n",
        "usuarios['TAM_MC'] = usuarios.apply(f, axis=1)"
      ]
    },
    {
      "cell_type": "code",
      "execution_count": null,
      "metadata": {
        "id": "75yRUcZUmU4E"
      },
      "outputs": [],
      "source": [
        "def fu(row):\n",
        "    if row['USU_TAMANIO'] == 'SD':\n",
        "      val = 1\n",
        "    else:\n",
        "        val = 0\n",
        "    return val\n",
        "usuarios['TAM_SD'] = usuarios.apply(fu, axis=1)"
      ]
    },
    {
      "cell_type": "code",
      "execution_count": null,
      "metadata": {
        "id": "bhas5VCImXom"
      },
      "outputs": [],
      "source": [
        "# Procedemos a eliminar las variables que no nos interesan\n",
        "usuarios = usuarios.drop(columns = ['USU_TAMANIO'])"
      ]
    },
    {
      "cell_type": "markdown",
      "metadata": {
        "id": "5rNPfyEimn6u"
      },
      "source": [
        "## Variable USU_CIIU"
      ]
    },
    {
      "cell_type": "code",
      "execution_count": null,
      "metadata": {
        "colab": {
          "base_uri": "https://localhost:8080/"
        },
        "id": "TnGMqly-Lg63",
        "outputId": "2e20f7ac-4bda-4ee7-ac91-d1987b3d9891"
      },
      "outputs": [
        {
          "output_type": "execute_result",
          "data": {
            "text/plain": [
              "S9609    16\n",
              "S9512     2\n",
              "Z9999     2\n",
              "G4711     2\n",
              "G4759     2\n",
              "G4761     1\n",
              "Q8699     1\n",
              "G4719     1\n",
              "I5619     1\n",
              "M7110     1\n",
              "G4782     1\n",
              "G4731     1\n",
              "G4661     1\n",
              "H4921     1\n",
              "R9200     1\n",
              "G4773     1\n",
              "M6920     1\n",
              "G4649     1\n",
              "S9524     1\n",
              "C1521     1\n",
              "B0510     1\n",
              "G4741     1\n",
              "I5630     1\n",
              "G4520     1\n",
              "H5221     1\n",
              "Name: USU_CIIU, dtype: int64"
            ]
          },
          "metadata": {},
          "execution_count": 55
        }
      ],
      "source": [
        "# Si seleccionamos PF, esta variable debería dar null:\n",
        "usuarios[usuarios['TIPO_USUARIO']==1].USU_CIIU.value_counts()"
      ]
    },
    {
      "cell_type": "code",
      "execution_count": null,
      "metadata": {
        "colab": {
          "base_uri": "https://localhost:8080/"
        },
        "id": "Fd5-iOGULjTd",
        "outputId": "fba0c83b-261a-4db1-e5ee-7e1f20cbdd3f"
      },
      "outputs": [
        {
          "output_type": "stream",
          "name": "stdout",
          "text": [
            "43\n",
            "1\n"
          ]
        }
      ],
      "source": [
        "# Revisamos cuantos casos hay para clientes y cuantos para no clientes\n",
        "print(sum(usuarios[(usuarios['TIPO_USUARIO']== 1) & (usuarios['IND_CLIENTE'] == 0)].USU_CIIU.value_counts()))\n",
        "print(sum(usuarios[(usuarios['TIPO_USUARIO']== 1) & (usuarios['IND_CLIENTE'] == 1)].USU_CIIU.value_counts()))"
      ]
    },
    {
      "cell_type": "code",
      "execution_count": null,
      "metadata": {
        "id": "jBFMQTPgmZR2"
      },
      "outputs": [],
      "source": [
        "# Por tanto procedemos a eliminar todos los registros donde siendo persona fisica esta variable no guade null\n",
        "usuarios = usuarios.drop(usuarios[(usuarios['TIPO_USUARIO']== 1) & (usuarios['USU_CIIU'].notna())].index).reset_index(drop = True)"
      ]
    },
    {
      "cell_type": "code",
      "execution_count": null,
      "metadata": {
        "colab": {
          "base_uri": "https://localhost:8080/"
        },
        "id": "RvaJ4rMGLonA",
        "outputId": "9a4b28db-580c-4975-ed05-092acfb6196e"
      },
      "outputs": [
        {
          "output_type": "execute_result",
          "data": {
            "text/plain": [
              "0"
            ]
          },
          "metadata": {},
          "execution_count": 58
        }
      ],
      "source": [
        "# Si seleccionamos PJ, esta variable no debería dar null:\n",
        "usuarios[usuarios['TIPO_USUARIO']==0].USU_CIIU.isna().sum()"
      ]
    },
    {
      "cell_type": "code",
      "execution_count": null,
      "metadata": {
        "colab": {
          "base_uri": "https://localhost:8080/"
        },
        "id": "k4kkoOdnLq5r",
        "outputId": "6fecb3a7-8d66-426a-cbdb-b818b55076c2"
      },
      "outputs": [
        {
          "output_type": "execute_result",
          "data": {
            "text/plain": [
              "G4711    883\n",
              "M7110    794\n",
              "M7020    772\n",
              "I5611    665\n",
              "N8299    656\n",
              "        ... \n",
              "2610       1\n",
              "C1430      1\n",
              "7493       1\n",
              "O8423      1\n",
              "C1083      1\n",
              "Name: USU_CIIU, Length: 544, dtype: int64"
            ]
          },
          "metadata": {},
          "execution_count": 59
        }
      ],
      "source": [
        "usuarios[usuarios['TIPO_USUARIO']==0].USU_CIIU.value_counts()"
      ]
    },
    {
      "cell_type": "code",
      "execution_count": null,
      "metadata": {
        "id": "QQ8ZjIIymrq9"
      },
      "outputs": [],
      "source": [
        "# Procedemos a eliminar las variables que no nos interesan, ya que tiene 544 clases diferentes, y consideramos que la información deseada\n",
        "# ya la hemos obtenido eliminando los casos raros y con la creación de las variables anteriores USU...\n",
        "usuarios = usuarios.drop(columns = ['USU_CIIU'])"
      ]
    },
    {
      "cell_type": "markdown",
      "metadata": {
        "id": "aPYHSUH1m09k"
      },
      "source": [
        "## Variable USU_ESTADO"
      ]
    },
    {
      "cell_type": "code",
      "execution_count": null,
      "metadata": {
        "colab": {
          "base_uri": "https://localhost:8080/"
        },
        "id": "sE63xPIsLx3Y",
        "outputId": "92d03475-fe7b-4f29-b23a-1a9578aa2068"
      },
      "outputs": [
        {
          "output_type": "stream",
          "name": "stdout",
          "text": [
            "Series([], Name: USU_ESTADO, dtype: int64)\n",
            "99123\n"
          ]
        }
      ],
      "source": [
        "# Si seleccionamos PF, esta variable debería dar null:\n",
        "print(usuarios[usuarios['TIPO_USUARIO']==1].USU_ESTADO.value_counts())\n",
        "print(usuarios[usuarios['TIPO_USUARIO']==1].USU_ESTADO.isna().sum())"
      ]
    },
    {
      "cell_type": "code",
      "execution_count": null,
      "metadata": {
        "colab": {
          "base_uri": "https://localhost:8080/"
        },
        "id": "FvJcsgjdLz6m",
        "outputId": "9d4ba05a-c405-49dd-d4ee-0a943f182267"
      },
      "outputs": [
        {
          "output_type": "stream",
          "name": "stdout",
          "text": [
            "ACTIVA                                              25759\n",
            "CANCELACIÓN                                          4914\n",
            "LIQUIDACION                                           968\n",
            "LEY DE INSOLVENCIA (REORGANIZACION EMPRESARIAL)       226\n",
            "EXTINGUIDA                                            107\n",
            "INACTIVA TEMPORAL                                      97\n",
            "REESTRUCTURACION O CONCORDATO                           9\n",
            "COINCIDENCIA HOMOGRAFA LISTA CLINTON (SDNT OFAC)        4\n",
            "INTERVENIDA                                             3\n",
            "ANULACIÓN LIQUIDACIÓN                                   2\n",
            "Name: USU_ESTADO, dtype: int64\n",
            "0\n"
          ]
        }
      ],
      "source": [
        "# Si seleccionamos PJ, esta variable no debería dar null:\n",
        "print(usuarios[usuarios['TIPO_USUARIO']==0].USU_ESTADO.value_counts())\n",
        "print(usuarios[usuarios['TIPO_USUARIO']==0].USU_ESTADO.isna().sum())"
      ]
    },
    {
      "cell_type": "code",
      "execution_count": null,
      "metadata": {
        "id": "R5ZFD05imyTn"
      },
      "outputs": [],
      "source": [
        "# Creamos una agrupación, entre activas y el resto. Suponemos que este dato lo conocemos al registrarse el usuario.\n",
        "def f(row):\n",
        "    if row['USU_ESTADO'] == 'ACTIVA':\n",
        "      val = 1\n",
        "    else:\n",
        "        val = 0\n",
        "    return val\n",
        "usuarios['ACTIVA'] = usuarios.apply(f, axis=1)"
      ]
    },
    {
      "cell_type": "code",
      "execution_count": null,
      "metadata": {
        "id": "2feMtV_qm5dm"
      },
      "outputs": [],
      "source": [
        "def f(row):\n",
        "    if pd.isnull(row['USU_ESTADO']):\n",
        "      val = 1\n",
        "    else:\n",
        "        val = 0\n",
        "    return val\n",
        "usuarios['ESTADOnull'] = usuarios.apply(f, axis=1)"
      ]
    },
    {
      "cell_type": "code",
      "execution_count": null,
      "metadata": {
        "id": "DDqvIqaXm6w_"
      },
      "outputs": [],
      "source": [
        "# Procedemos a eliminar las variables que no nos interesan\n",
        "usuarios = usuarios.drop(columns = ['USU_ESTADO'])"
      ]
    },
    {
      "cell_type": "markdown",
      "metadata": {
        "id": "Hl0IT0eOm-tn"
      },
      "source": [
        "## Variable USU_DEPARTAMENTO"
      ]
    },
    {
      "cell_type": "code",
      "execution_count": null,
      "metadata": {
        "colab": {
          "base_uri": "https://localhost:8080/"
        },
        "id": "zbPv_AwTL3vE",
        "outputId": "1ca4300b-de2a-4cb6-d913-53ca1836f069"
      },
      "outputs": [
        {
          "output_type": "stream",
          "name": "stdout",
          "text": [
            "Series([], Name: USU_DEPARTAMENTO, dtype: int64)\n",
            "99123\n"
          ]
        }
      ],
      "source": [
        "# Si seleccionamos PF, esta variable debería dar null:\n",
        "print(usuarios[usuarios['TIPO_USUARIO']==1].USU_DEPARTAMENTO.value_counts())\n",
        "print(usuarios[usuarios['TIPO_USUARIO']==1].USU_DEPARTAMENTO.isna().sum())"
      ]
    },
    {
      "cell_type": "code",
      "execution_count": null,
      "metadata": {
        "colab": {
          "base_uri": "https://localhost:8080/"
        },
        "id": "K_TfEruZL5uB",
        "outputId": "07687ae9-fb56-4246-b9bb-bda530ea6279"
      },
      "outputs": [
        {
          "output_type": "stream",
          "name": "stdout",
          "text": [
            "BOGOTA             12376\n",
            "ANTIOQUIA           3954\n",
            "VALLE               2681\n",
            "CUNDINAMARCA        1745\n",
            "ATLANTICO           1528\n",
            "SANTANDER           1344\n",
            "BOLIVAR              794\n",
            "RISARALDA            775\n",
            "NORTE SANTANDER      647\n",
            "META                 646\n",
            "BOYACA               633\n",
            "HUILA                612\n",
            "TOLIMA               544\n",
            "NARINO               487\n",
            "CALDAS               465\n",
            "MAGDALENA            398\n",
            "CESAR                384\n",
            "CAUCA                332\n",
            "CORDOBA              318\n",
            "CASANARE             308\n",
            "QUINDIO              255\n",
            "SUCRE                170\n",
            "LA GUAJIRA           167\n",
            "CAQUETA              120\n",
            "PUTUMAYO             114\n",
            "ARAUCA               108\n",
            "CHOCO                 74\n",
            "SAN ANDRES            54\n",
            "GUAVIARE              34\n",
            "AMAZONAS              20\n",
            "VAUPES                 1\n",
            "Name: USU_DEPARTAMENTO, dtype: int64\n",
            "1\n"
          ]
        }
      ],
      "source": [
        "# Si seleccionamos PJ, esta variable no debería dar null:\n",
        "print(usuarios[usuarios['TIPO_USUARIO']==0].USU_DEPARTAMENTO.value_counts())\n",
        "print(usuarios[usuarios['TIPO_USUARIO']==0].USU_DEPARTAMENTO.isna().sum())"
      ]
    },
    {
      "cell_type": "code",
      "execution_count": null,
      "metadata": {
        "colab": {
          "base_uri": "https://localhost:8080/",
          "height": 110
        },
        "id": "pnHgovQNL9aW",
        "outputId": "d00e933a-d2d4-48dd-878e-4c1063bff2e7"
      },
      "outputs": [
        {
          "output_type": "execute_result",
          "data": {
            "text/plain": [
              "            FEC_REGISTRO  IND_CLIENTE USU_DEPARTAMENTO FEC_CLIENTE ID_USUARIO  \\\n",
              "120067  2/4/2019 0:00:00            0              NaN         NaN    7704471   \n",
              "\n",
              "        TIPO_USUARIO   DE   DP  SEM  Invalido  ...  USUSCI  USUNulo  USUEI  \\\n",
              "120067             0  0.0  0.0  1.0       1.0  ...       1        0      0   \n",
              "\n",
              "        TAM_GR  TAM_MD  TAM_PQ  TAM_MC  TAM_SD  ACTIVA  ESTADOnull  \n",
              "120067       0       0       0       0       1       0           0  \n",
              "\n",
              "[1 rows x 22 columns]"
            ],
            "text/html": [
              "\n",
              "  <div id=\"df-6c1ce8cf-a234-4420-8a0d-d8f0181cad0a\">\n",
              "    <div class=\"colab-df-container\">\n",
              "      <div>\n",
              "<style scoped>\n",
              "    .dataframe tbody tr th:only-of-type {\n",
              "        vertical-align: middle;\n",
              "    }\n",
              "\n",
              "    .dataframe tbody tr th {\n",
              "        vertical-align: top;\n",
              "    }\n",
              "\n",
              "    .dataframe thead th {\n",
              "        text-align: right;\n",
              "    }\n",
              "</style>\n",
              "<table border=\"1\" class=\"dataframe\">\n",
              "  <thead>\n",
              "    <tr style=\"text-align: right;\">\n",
              "      <th></th>\n",
              "      <th>FEC_REGISTRO</th>\n",
              "      <th>IND_CLIENTE</th>\n",
              "      <th>USU_DEPARTAMENTO</th>\n",
              "      <th>FEC_CLIENTE</th>\n",
              "      <th>ID_USUARIO</th>\n",
              "      <th>TIPO_USUARIO</th>\n",
              "      <th>DE</th>\n",
              "      <th>DP</th>\n",
              "      <th>SEM</th>\n",
              "      <th>Invalido</th>\n",
              "      <th>...</th>\n",
              "      <th>USUSCI</th>\n",
              "      <th>USUNulo</th>\n",
              "      <th>USUEI</th>\n",
              "      <th>TAM_GR</th>\n",
              "      <th>TAM_MD</th>\n",
              "      <th>TAM_PQ</th>\n",
              "      <th>TAM_MC</th>\n",
              "      <th>TAM_SD</th>\n",
              "      <th>ACTIVA</th>\n",
              "      <th>ESTADOnull</th>\n",
              "    </tr>\n",
              "  </thead>\n",
              "  <tbody>\n",
              "    <tr>\n",
              "      <th>120067</th>\n",
              "      <td>2/4/2019 0:00:00</td>\n",
              "      <td>0</td>\n",
              "      <td>NaN</td>\n",
              "      <td>NaN</td>\n",
              "      <td>7704471</td>\n",
              "      <td>0</td>\n",
              "      <td>0.0</td>\n",
              "      <td>0.0</td>\n",
              "      <td>1.0</td>\n",
              "      <td>1.0</td>\n",
              "      <td>...</td>\n",
              "      <td>1</td>\n",
              "      <td>0</td>\n",
              "      <td>0</td>\n",
              "      <td>0</td>\n",
              "      <td>0</td>\n",
              "      <td>0</td>\n",
              "      <td>0</td>\n",
              "      <td>1</td>\n",
              "      <td>0</td>\n",
              "      <td>0</td>\n",
              "    </tr>\n",
              "  </tbody>\n",
              "</table>\n",
              "<p>1 rows × 22 columns</p>\n",
              "</div>\n",
              "      <button class=\"colab-df-convert\" onclick=\"convertToInteractive('df-6c1ce8cf-a234-4420-8a0d-d8f0181cad0a')\"\n",
              "              title=\"Convert this dataframe to an interactive table.\"\n",
              "              style=\"display:none;\">\n",
              "        \n",
              "  <svg xmlns=\"http://www.w3.org/2000/svg\" height=\"24px\"viewBox=\"0 0 24 24\"\n",
              "       width=\"24px\">\n",
              "    <path d=\"M0 0h24v24H0V0z\" fill=\"none\"/>\n",
              "    <path d=\"M18.56 5.44l.94 2.06.94-2.06 2.06-.94-2.06-.94-.94-2.06-.94 2.06-2.06.94zm-11 1L8.5 8.5l.94-2.06 2.06-.94-2.06-.94L8.5 2.5l-.94 2.06-2.06.94zm10 10l.94 2.06.94-2.06 2.06-.94-2.06-.94-.94-2.06-.94 2.06-2.06.94z\"/><path d=\"M17.41 7.96l-1.37-1.37c-.4-.4-.92-.59-1.43-.59-.52 0-1.04.2-1.43.59L10.3 9.45l-7.72 7.72c-.78.78-.78 2.05 0 2.83L4 21.41c.39.39.9.59 1.41.59.51 0 1.02-.2 1.41-.59l7.78-7.78 2.81-2.81c.8-.78.8-2.07 0-2.86zM5.41 20L4 18.59l7.72-7.72 1.47 1.35L5.41 20z\"/>\n",
              "  </svg>\n",
              "      </button>\n",
              "      \n",
              "  <style>\n",
              "    .colab-df-container {\n",
              "      display:flex;\n",
              "      flex-wrap:wrap;\n",
              "      gap: 12px;\n",
              "    }\n",
              "\n",
              "    .colab-df-convert {\n",
              "      background-color: #E8F0FE;\n",
              "      border: none;\n",
              "      border-radius: 50%;\n",
              "      cursor: pointer;\n",
              "      display: none;\n",
              "      fill: #1967D2;\n",
              "      height: 32px;\n",
              "      padding: 0 0 0 0;\n",
              "      width: 32px;\n",
              "    }\n",
              "\n",
              "    .colab-df-convert:hover {\n",
              "      background-color: #E2EBFA;\n",
              "      box-shadow: 0px 1px 2px rgba(60, 64, 67, 0.3), 0px 1px 3px 1px rgba(60, 64, 67, 0.15);\n",
              "      fill: #174EA6;\n",
              "    }\n",
              "\n",
              "    [theme=dark] .colab-df-convert {\n",
              "      background-color: #3B4455;\n",
              "      fill: #D2E3FC;\n",
              "    }\n",
              "\n",
              "    [theme=dark] .colab-df-convert:hover {\n",
              "      background-color: #434B5C;\n",
              "      box-shadow: 0px 1px 3px 1px rgba(0, 0, 0, 0.15);\n",
              "      filter: drop-shadow(0px 1px 2px rgba(0, 0, 0, 0.3));\n",
              "      fill: #FFFFFF;\n",
              "    }\n",
              "  </style>\n",
              "\n",
              "      <script>\n",
              "        const buttonEl =\n",
              "          document.querySelector('#df-6c1ce8cf-a234-4420-8a0d-d8f0181cad0a button.colab-df-convert');\n",
              "        buttonEl.style.display =\n",
              "          google.colab.kernel.accessAllowed ? 'block' : 'none';\n",
              "\n",
              "        async function convertToInteractive(key) {\n",
              "          const element = document.querySelector('#df-6c1ce8cf-a234-4420-8a0d-d8f0181cad0a');\n",
              "          const dataTable =\n",
              "            await google.colab.kernel.invokeFunction('convertToInteractive',\n",
              "                                                     [key], {});\n",
              "          if (!dataTable) return;\n",
              "\n",
              "          const docLinkHtml = 'Like what you see? Visit the ' +\n",
              "            '<a target=\"_blank\" href=https://colab.research.google.com/notebooks/data_table.ipynb>data table notebook</a>'\n",
              "            + ' to learn more about interactive tables.';\n",
              "          element.innerHTML = '';\n",
              "          dataTable['output_type'] = 'display_data';\n",
              "          await google.colab.output.renderOutput(dataTable, element);\n",
              "          const docLink = document.createElement('div');\n",
              "          docLink.innerHTML = docLinkHtml;\n",
              "          element.appendChild(docLink);\n",
              "        }\n",
              "      </script>\n",
              "    </div>\n",
              "  </div>\n",
              "  "
            ]
          },
          "metadata": {},
          "execution_count": 68
        }
      ],
      "source": [
        "# Revisamos el único caso que vemos como nulo\n",
        "usuarios[(usuarios['TIPO_USUARIO']==0) & (usuarios['USU_DEPARTAMENTO'].isnull())]"
      ]
    },
    {
      "cell_type": "code",
      "execution_count": null,
      "metadata": {
        "id": "Ez0mT0Hdm8QN"
      },
      "outputs": [],
      "source": [
        "# Procedemos a eliminar este registro donde siendo PJ esta variable no guarde null.\n",
        "usuarios = usuarios.drop(usuarios[(usuarios['TIPO_USUARIO']==0) & (usuarios['USU_DEPARTAMENTO'].isnull())].index).reset_index(drop = True)"
      ]
    },
    {
      "cell_type": "code",
      "execution_count": null,
      "metadata": {
        "id": "P51r-mlUnE8I"
      },
      "outputs": [],
      "source": [
        "# Como vemos, practicamente casi todas las empresas se concentran en Bogotá. Por tanto, agruparemos este campo en si es nulo, si está localizada en Bogotá o si lo está en el resto de ciudades\n",
        "def f(row):\n",
        "    if pd.isnull(row['USU_DEPARTAMENTO']):\n",
        "      val = 1\n",
        "    else:\n",
        "        val = 0\n",
        "    return val\n",
        "usuarios['DEPARTAMENTOnull'] = usuarios.apply(f, axis=1)"
      ]
    },
    {
      "cell_type": "code",
      "execution_count": null,
      "metadata": {
        "id": "WeS5ocdWnHVh"
      },
      "outputs": [],
      "source": [
        "def f(row):\n",
        "    if row['USU_DEPARTAMENTO'] == 'BOGOTA':\n",
        "      val = 1\n",
        "    else:\n",
        "        val = 0\n",
        "    return val\n",
        "usuarios['BOGOTA'] = usuarios.apply(f, axis=1)"
      ]
    },
    {
      "cell_type": "code",
      "execution_count": null,
      "metadata": {
        "id": "nQGIOjZWnJD3"
      },
      "outputs": [],
      "source": [
        "# Procedemos a eliminar las variables que no nos interesan\n",
        "usuarios = usuarios.drop(columns = ['USU_DEPARTAMENTO'])"
      ]
    },
    {
      "cell_type": "code",
      "execution_count": null,
      "metadata": {
        "colab": {
          "base_uri": "https://localhost:8080/",
          "height": 236
        },
        "id": "vhWKLyUWnKv5",
        "outputId": "82c24c71-f124-4475-9108-7a5a5be06445"
      },
      "outputs": [
        {
          "output_type": "execute_result",
          "data": {
            "text/plain": [
              "        FEC_REGISTRO  IND_CLIENTE FEC_CLIENTE ID_USUARIO  TIPO_USUARIO   DE  \\\n",
              "0  14/3/2019 0:00:00            0         NaN    7668403             1  0.0   \n",
              "1  14/3/2019 0:00:00            0         NaN    7667922             1  0.0   \n",
              "2  14/3/2019 0:00:00            0         NaN    7667953             0  0.0   \n",
              "3  14/3/2019 0:00:00            0         NaN    7667971             0  0.0   \n",
              "4  14/3/2019 0:00:00            0         NaN    7668034             1  1.0   \n",
              "\n",
              "    DP  SEM  Invalido  Naranja  ...  USUEI  TAM_GR  TAM_MD  TAM_PQ  TAM_MC  \\\n",
              "0  1.0  0.0       0.0      0.0  ...      0       0       0       0       0   \n",
              "1  1.0  0.0       0.0      0.0  ...      0       0       0       0       0   \n",
              "2  1.0  0.0       0.0      0.0  ...      1       0       0       0       1   \n",
              "3  1.0  0.0       0.0      0.0  ...      0       0       0       1       0   \n",
              "4  0.0  0.0       0.0      0.0  ...      0       0       0       0       0   \n",
              "\n",
              "   TAM_SD  ACTIVA  ESTADOnull  DEPARTAMENTOnull  BOGOTA  \n",
              "0       0       0           1                 1       0  \n",
              "1       0       0           1                 1       0  \n",
              "2       0       1           0                 0       1  \n",
              "3       0       1           0                 0       1  \n",
              "4       0       0           1                 1       0  \n",
              "\n",
              "[5 rows x 23 columns]"
            ],
            "text/html": [
              "\n",
              "  <div id=\"df-b19799db-2423-4bc5-9359-cfdd759f608c\">\n",
              "    <div class=\"colab-df-container\">\n",
              "      <div>\n",
              "<style scoped>\n",
              "    .dataframe tbody tr th:only-of-type {\n",
              "        vertical-align: middle;\n",
              "    }\n",
              "\n",
              "    .dataframe tbody tr th {\n",
              "        vertical-align: top;\n",
              "    }\n",
              "\n",
              "    .dataframe thead th {\n",
              "        text-align: right;\n",
              "    }\n",
              "</style>\n",
              "<table border=\"1\" class=\"dataframe\">\n",
              "  <thead>\n",
              "    <tr style=\"text-align: right;\">\n",
              "      <th></th>\n",
              "      <th>FEC_REGISTRO</th>\n",
              "      <th>IND_CLIENTE</th>\n",
              "      <th>FEC_CLIENTE</th>\n",
              "      <th>ID_USUARIO</th>\n",
              "      <th>TIPO_USUARIO</th>\n",
              "      <th>DE</th>\n",
              "      <th>DP</th>\n",
              "      <th>SEM</th>\n",
              "      <th>Invalido</th>\n",
              "      <th>Naranja</th>\n",
              "      <th>...</th>\n",
              "      <th>USUEI</th>\n",
              "      <th>TAM_GR</th>\n",
              "      <th>TAM_MD</th>\n",
              "      <th>TAM_PQ</th>\n",
              "      <th>TAM_MC</th>\n",
              "      <th>TAM_SD</th>\n",
              "      <th>ACTIVA</th>\n",
              "      <th>ESTADOnull</th>\n",
              "      <th>DEPARTAMENTOnull</th>\n",
              "      <th>BOGOTA</th>\n",
              "    </tr>\n",
              "  </thead>\n",
              "  <tbody>\n",
              "    <tr>\n",
              "      <th>0</th>\n",
              "      <td>14/3/2019 0:00:00</td>\n",
              "      <td>0</td>\n",
              "      <td>NaN</td>\n",
              "      <td>7668403</td>\n",
              "      <td>1</td>\n",
              "      <td>0.0</td>\n",
              "      <td>1.0</td>\n",
              "      <td>0.0</td>\n",
              "      <td>0.0</td>\n",
              "      <td>0.0</td>\n",
              "      <td>...</td>\n",
              "      <td>0</td>\n",
              "      <td>0</td>\n",
              "      <td>0</td>\n",
              "      <td>0</td>\n",
              "      <td>0</td>\n",
              "      <td>0</td>\n",
              "      <td>0</td>\n",
              "      <td>1</td>\n",
              "      <td>1</td>\n",
              "      <td>0</td>\n",
              "    </tr>\n",
              "    <tr>\n",
              "      <th>1</th>\n",
              "      <td>14/3/2019 0:00:00</td>\n",
              "      <td>0</td>\n",
              "      <td>NaN</td>\n",
              "      <td>7667922</td>\n",
              "      <td>1</td>\n",
              "      <td>0.0</td>\n",
              "      <td>1.0</td>\n",
              "      <td>0.0</td>\n",
              "      <td>0.0</td>\n",
              "      <td>0.0</td>\n",
              "      <td>...</td>\n",
              "      <td>0</td>\n",
              "      <td>0</td>\n",
              "      <td>0</td>\n",
              "      <td>0</td>\n",
              "      <td>0</td>\n",
              "      <td>0</td>\n",
              "      <td>0</td>\n",
              "      <td>1</td>\n",
              "      <td>1</td>\n",
              "      <td>0</td>\n",
              "    </tr>\n",
              "    <tr>\n",
              "      <th>2</th>\n",
              "      <td>14/3/2019 0:00:00</td>\n",
              "      <td>0</td>\n",
              "      <td>NaN</td>\n",
              "      <td>7667953</td>\n",
              "      <td>0</td>\n",
              "      <td>0.0</td>\n",
              "      <td>1.0</td>\n",
              "      <td>0.0</td>\n",
              "      <td>0.0</td>\n",
              "      <td>0.0</td>\n",
              "      <td>...</td>\n",
              "      <td>1</td>\n",
              "      <td>0</td>\n",
              "      <td>0</td>\n",
              "      <td>0</td>\n",
              "      <td>1</td>\n",
              "      <td>0</td>\n",
              "      <td>1</td>\n",
              "      <td>0</td>\n",
              "      <td>0</td>\n",
              "      <td>1</td>\n",
              "    </tr>\n",
              "    <tr>\n",
              "      <th>3</th>\n",
              "      <td>14/3/2019 0:00:00</td>\n",
              "      <td>0</td>\n",
              "      <td>NaN</td>\n",
              "      <td>7667971</td>\n",
              "      <td>0</td>\n",
              "      <td>0.0</td>\n",
              "      <td>1.0</td>\n",
              "      <td>0.0</td>\n",
              "      <td>0.0</td>\n",
              "      <td>0.0</td>\n",
              "      <td>...</td>\n",
              "      <td>0</td>\n",
              "      <td>0</td>\n",
              "      <td>0</td>\n",
              "      <td>1</td>\n",
              "      <td>0</td>\n",
              "      <td>0</td>\n",
              "      <td>1</td>\n",
              "      <td>0</td>\n",
              "      <td>0</td>\n",
              "      <td>1</td>\n",
              "    </tr>\n",
              "    <tr>\n",
              "      <th>4</th>\n",
              "      <td>14/3/2019 0:00:00</td>\n",
              "      <td>0</td>\n",
              "      <td>NaN</td>\n",
              "      <td>7668034</td>\n",
              "      <td>1</td>\n",
              "      <td>1.0</td>\n",
              "      <td>0.0</td>\n",
              "      <td>0.0</td>\n",
              "      <td>0.0</td>\n",
              "      <td>0.0</td>\n",
              "      <td>...</td>\n",
              "      <td>0</td>\n",
              "      <td>0</td>\n",
              "      <td>0</td>\n",
              "      <td>0</td>\n",
              "      <td>0</td>\n",
              "      <td>0</td>\n",
              "      <td>0</td>\n",
              "      <td>1</td>\n",
              "      <td>1</td>\n",
              "      <td>0</td>\n",
              "    </tr>\n",
              "  </tbody>\n",
              "</table>\n",
              "<p>5 rows × 23 columns</p>\n",
              "</div>\n",
              "      <button class=\"colab-df-convert\" onclick=\"convertToInteractive('df-b19799db-2423-4bc5-9359-cfdd759f608c')\"\n",
              "              title=\"Convert this dataframe to an interactive table.\"\n",
              "              style=\"display:none;\">\n",
              "        \n",
              "  <svg xmlns=\"http://www.w3.org/2000/svg\" height=\"24px\"viewBox=\"0 0 24 24\"\n",
              "       width=\"24px\">\n",
              "    <path d=\"M0 0h24v24H0V0z\" fill=\"none\"/>\n",
              "    <path d=\"M18.56 5.44l.94 2.06.94-2.06 2.06-.94-2.06-.94-.94-2.06-.94 2.06-2.06.94zm-11 1L8.5 8.5l.94-2.06 2.06-.94-2.06-.94L8.5 2.5l-.94 2.06-2.06.94zm10 10l.94 2.06.94-2.06 2.06-.94-2.06-.94-.94-2.06-.94 2.06-2.06.94z\"/><path d=\"M17.41 7.96l-1.37-1.37c-.4-.4-.92-.59-1.43-.59-.52 0-1.04.2-1.43.59L10.3 9.45l-7.72 7.72c-.78.78-.78 2.05 0 2.83L4 21.41c.39.39.9.59 1.41.59.51 0 1.02-.2 1.41-.59l7.78-7.78 2.81-2.81c.8-.78.8-2.07 0-2.86zM5.41 20L4 18.59l7.72-7.72 1.47 1.35L5.41 20z\"/>\n",
              "  </svg>\n",
              "      </button>\n",
              "      \n",
              "  <style>\n",
              "    .colab-df-container {\n",
              "      display:flex;\n",
              "      flex-wrap:wrap;\n",
              "      gap: 12px;\n",
              "    }\n",
              "\n",
              "    .colab-df-convert {\n",
              "      background-color: #E8F0FE;\n",
              "      border: none;\n",
              "      border-radius: 50%;\n",
              "      cursor: pointer;\n",
              "      display: none;\n",
              "      fill: #1967D2;\n",
              "      height: 32px;\n",
              "      padding: 0 0 0 0;\n",
              "      width: 32px;\n",
              "    }\n",
              "\n",
              "    .colab-df-convert:hover {\n",
              "      background-color: #E2EBFA;\n",
              "      box-shadow: 0px 1px 2px rgba(60, 64, 67, 0.3), 0px 1px 3px 1px rgba(60, 64, 67, 0.15);\n",
              "      fill: #174EA6;\n",
              "    }\n",
              "\n",
              "    [theme=dark] .colab-df-convert {\n",
              "      background-color: #3B4455;\n",
              "      fill: #D2E3FC;\n",
              "    }\n",
              "\n",
              "    [theme=dark] .colab-df-convert:hover {\n",
              "      background-color: #434B5C;\n",
              "      box-shadow: 0px 1px 3px 1px rgba(0, 0, 0, 0.15);\n",
              "      filter: drop-shadow(0px 1px 2px rgba(0, 0, 0, 0.3));\n",
              "      fill: #FFFFFF;\n",
              "    }\n",
              "  </style>\n",
              "\n",
              "      <script>\n",
              "        const buttonEl =\n",
              "          document.querySelector('#df-b19799db-2423-4bc5-9359-cfdd759f608c button.colab-df-convert');\n",
              "        buttonEl.style.display =\n",
              "          google.colab.kernel.accessAllowed ? 'block' : 'none';\n",
              "\n",
              "        async function convertToInteractive(key) {\n",
              "          const element = document.querySelector('#df-b19799db-2423-4bc5-9359-cfdd759f608c');\n",
              "          const dataTable =\n",
              "            await google.colab.kernel.invokeFunction('convertToInteractive',\n",
              "                                                     [key], {});\n",
              "          if (!dataTable) return;\n",
              "\n",
              "          const docLinkHtml = 'Like what you see? Visit the ' +\n",
              "            '<a target=\"_blank\" href=https://colab.research.google.com/notebooks/data_table.ipynb>data table notebook</a>'\n",
              "            + ' to learn more about interactive tables.';\n",
              "          element.innerHTML = '';\n",
              "          dataTable['output_type'] = 'display_data';\n",
              "          await google.colab.output.renderOutput(dataTable, element);\n",
              "          const docLink = document.createElement('div');\n",
              "          docLink.innerHTML = docLinkHtml;\n",
              "          element.appendChild(docLink);\n",
              "        }\n",
              "      </script>\n",
              "    </div>\n",
              "  </div>\n",
              "  "
            ]
          },
          "metadata": {},
          "execution_count": 73
        }
      ],
      "source": [
        "usuarios.head()"
      ]
    },
    {
      "cell_type": "code",
      "execution_count": null,
      "metadata": {
        "colab": {
          "base_uri": "https://localhost:8080/"
        },
        "id": "dbozFsfAnOEt",
        "outputId": "1a24a9e7-a8a9-4755-a32e-60d6364012f6"
      },
      "outputs": [
        {
          "output_type": "execute_result",
          "data": {
            "text/plain": [
              "FEC_REGISTRO         object\n",
              "IND_CLIENTE           int64\n",
              "FEC_CLIENTE          object\n",
              "ID_USUARIO           object\n",
              "TIPO_USUARIO          int64\n",
              "DE                  float64\n",
              "DP                  float64\n",
              "SEM                 float64\n",
              "Invalido            float64\n",
              "Naranja             float64\n",
              "Verde               float64\n",
              "USUSCI                int64\n",
              "USUNulo               int64\n",
              "USUEI                 int64\n",
              "TAM_GR                int64\n",
              "TAM_MD                int64\n",
              "TAM_PQ                int64\n",
              "TAM_MC                int64\n",
              "TAM_SD                int64\n",
              "ACTIVA                int64\n",
              "ESTADOnull            int64\n",
              "DEPARTAMENTOnull      int64\n",
              "BOGOTA                int64\n",
              "dtype: object"
            ]
          },
          "metadata": {},
          "execution_count": 74
        }
      ],
      "source": [
        "# Revisamos las variables\n",
        "usuarios.dtypes"
      ]
    },
    {
      "cell_type": "markdown",
      "metadata": {
        "id": "ZqJqDrGM8Mzi"
      },
      "source": [
        "# Tabla CONSUMOS"
      ]
    },
    {
      "cell_type": "code",
      "execution_count": null,
      "metadata": {
        "colab": {
          "base_uri": "https://localhost:8080/",
          "height": 206
        },
        "id": "sn_kPmYJnO5x",
        "outputId": "b117fa50-68e5-4ce5-ab68-803b6f8a778d"
      },
      "outputs": [
        {
          "output_type": "execute_result",
          "data": {
            "text/plain": [
              "     IDCONSUMO   IDUSUARIO IDPRODUCTO        DESCPRODUCTO      FECHACONSUMO  \\\n",
              "0  40057779,00  6868841,00  144920,00  Perfil Promocional  1/1/2018 0:00:00   \n",
              "1  40057785,00  6868841,00  144917,00        Ficha Básica  1/1/2018 0:00:00   \n",
              "2  40057775,00  6868841,00  144917,00        Ficha Básica  1/1/2018 0:00:00   \n",
              "3  40057773,00  6868841,00  144917,00        Ficha Básica  1/1/2018 0:00:00   \n",
              "4  40057767,00  6868841,00  144917,00        Ficha Básica  1/1/2018 0:00:00   \n",
              "\n",
              "   EMPCONSUL_ID EMPCONSUL_CIIU EMPCONSUL_PROV EMPCONSUL_EST  \n",
              "0       2971771          P8544         BOGOTA        ACTIVA  \n",
              "1       1520173          K6412         BOGOTA   CANCELACION  \n",
              "2       2971771          P8544         BOGOTA        ACTIVA  \n",
              "3        670007           7499      SANTANDER        ACTIVA  \n",
              "4       2971771          P8544         BOGOTA        ACTIVA  "
            ],
            "text/html": [
              "\n",
              "  <div id=\"df-dda64da7-1f1c-4e1d-84de-b27efb08032a\">\n",
              "    <div class=\"colab-df-container\">\n",
              "      <div>\n",
              "<style scoped>\n",
              "    .dataframe tbody tr th:only-of-type {\n",
              "        vertical-align: middle;\n",
              "    }\n",
              "\n",
              "    .dataframe tbody tr th {\n",
              "        vertical-align: top;\n",
              "    }\n",
              "\n",
              "    .dataframe thead th {\n",
              "        text-align: right;\n",
              "    }\n",
              "</style>\n",
              "<table border=\"1\" class=\"dataframe\">\n",
              "  <thead>\n",
              "    <tr style=\"text-align: right;\">\n",
              "      <th></th>\n",
              "      <th>IDCONSUMO</th>\n",
              "      <th>IDUSUARIO</th>\n",
              "      <th>IDPRODUCTO</th>\n",
              "      <th>DESCPRODUCTO</th>\n",
              "      <th>FECHACONSUMO</th>\n",
              "      <th>EMPCONSUL_ID</th>\n",
              "      <th>EMPCONSUL_CIIU</th>\n",
              "      <th>EMPCONSUL_PROV</th>\n",
              "      <th>EMPCONSUL_EST</th>\n",
              "    </tr>\n",
              "  </thead>\n",
              "  <tbody>\n",
              "    <tr>\n",
              "      <th>0</th>\n",
              "      <td>40057779,00</td>\n",
              "      <td>6868841,00</td>\n",
              "      <td>144920,00</td>\n",
              "      <td>Perfil Promocional</td>\n",
              "      <td>1/1/2018 0:00:00</td>\n",
              "      <td>2971771</td>\n",
              "      <td>P8544</td>\n",
              "      <td>BOGOTA</td>\n",
              "      <td>ACTIVA</td>\n",
              "    </tr>\n",
              "    <tr>\n",
              "      <th>1</th>\n",
              "      <td>40057785,00</td>\n",
              "      <td>6868841,00</td>\n",
              "      <td>144917,00</td>\n",
              "      <td>Ficha Básica</td>\n",
              "      <td>1/1/2018 0:00:00</td>\n",
              "      <td>1520173</td>\n",
              "      <td>K6412</td>\n",
              "      <td>BOGOTA</td>\n",
              "      <td>CANCELACION</td>\n",
              "    </tr>\n",
              "    <tr>\n",
              "      <th>2</th>\n",
              "      <td>40057775,00</td>\n",
              "      <td>6868841,00</td>\n",
              "      <td>144917,00</td>\n",
              "      <td>Ficha Básica</td>\n",
              "      <td>1/1/2018 0:00:00</td>\n",
              "      <td>2971771</td>\n",
              "      <td>P8544</td>\n",
              "      <td>BOGOTA</td>\n",
              "      <td>ACTIVA</td>\n",
              "    </tr>\n",
              "    <tr>\n",
              "      <th>3</th>\n",
              "      <td>40057773,00</td>\n",
              "      <td>6868841,00</td>\n",
              "      <td>144917,00</td>\n",
              "      <td>Ficha Básica</td>\n",
              "      <td>1/1/2018 0:00:00</td>\n",
              "      <td>670007</td>\n",
              "      <td>7499</td>\n",
              "      <td>SANTANDER</td>\n",
              "      <td>ACTIVA</td>\n",
              "    </tr>\n",
              "    <tr>\n",
              "      <th>4</th>\n",
              "      <td>40057767,00</td>\n",
              "      <td>6868841,00</td>\n",
              "      <td>144917,00</td>\n",
              "      <td>Ficha Básica</td>\n",
              "      <td>1/1/2018 0:00:00</td>\n",
              "      <td>2971771</td>\n",
              "      <td>P8544</td>\n",
              "      <td>BOGOTA</td>\n",
              "      <td>ACTIVA</td>\n",
              "    </tr>\n",
              "  </tbody>\n",
              "</table>\n",
              "</div>\n",
              "      <button class=\"colab-df-convert\" onclick=\"convertToInteractive('df-dda64da7-1f1c-4e1d-84de-b27efb08032a')\"\n",
              "              title=\"Convert this dataframe to an interactive table.\"\n",
              "              style=\"display:none;\">\n",
              "        \n",
              "  <svg xmlns=\"http://www.w3.org/2000/svg\" height=\"24px\"viewBox=\"0 0 24 24\"\n",
              "       width=\"24px\">\n",
              "    <path d=\"M0 0h24v24H0V0z\" fill=\"none\"/>\n",
              "    <path d=\"M18.56 5.44l.94 2.06.94-2.06 2.06-.94-2.06-.94-.94-2.06-.94 2.06-2.06.94zm-11 1L8.5 8.5l.94-2.06 2.06-.94-2.06-.94L8.5 2.5l-.94 2.06-2.06.94zm10 10l.94 2.06.94-2.06 2.06-.94-2.06-.94-.94-2.06-.94 2.06-2.06.94z\"/><path d=\"M17.41 7.96l-1.37-1.37c-.4-.4-.92-.59-1.43-.59-.52 0-1.04.2-1.43.59L10.3 9.45l-7.72 7.72c-.78.78-.78 2.05 0 2.83L4 21.41c.39.39.9.59 1.41.59.51 0 1.02-.2 1.41-.59l7.78-7.78 2.81-2.81c.8-.78.8-2.07 0-2.86zM5.41 20L4 18.59l7.72-7.72 1.47 1.35L5.41 20z\"/>\n",
              "  </svg>\n",
              "      </button>\n",
              "      \n",
              "  <style>\n",
              "    .colab-df-container {\n",
              "      display:flex;\n",
              "      flex-wrap:wrap;\n",
              "      gap: 12px;\n",
              "    }\n",
              "\n",
              "    .colab-df-convert {\n",
              "      background-color: #E8F0FE;\n",
              "      border: none;\n",
              "      border-radius: 50%;\n",
              "      cursor: pointer;\n",
              "      display: none;\n",
              "      fill: #1967D2;\n",
              "      height: 32px;\n",
              "      padding: 0 0 0 0;\n",
              "      width: 32px;\n",
              "    }\n",
              "\n",
              "    .colab-df-convert:hover {\n",
              "      background-color: #E2EBFA;\n",
              "      box-shadow: 0px 1px 2px rgba(60, 64, 67, 0.3), 0px 1px 3px 1px rgba(60, 64, 67, 0.15);\n",
              "      fill: #174EA6;\n",
              "    }\n",
              "\n",
              "    [theme=dark] .colab-df-convert {\n",
              "      background-color: #3B4455;\n",
              "      fill: #D2E3FC;\n",
              "    }\n",
              "\n",
              "    [theme=dark] .colab-df-convert:hover {\n",
              "      background-color: #434B5C;\n",
              "      box-shadow: 0px 1px 3px 1px rgba(0, 0, 0, 0.15);\n",
              "      filter: drop-shadow(0px 1px 2px rgba(0, 0, 0, 0.3));\n",
              "      fill: #FFFFFF;\n",
              "    }\n",
              "  </style>\n",
              "\n",
              "      <script>\n",
              "        const buttonEl =\n",
              "          document.querySelector('#df-dda64da7-1f1c-4e1d-84de-b27efb08032a button.colab-df-convert');\n",
              "        buttonEl.style.display =\n",
              "          google.colab.kernel.accessAllowed ? 'block' : 'none';\n",
              "\n",
              "        async function convertToInteractive(key) {\n",
              "          const element = document.querySelector('#df-dda64da7-1f1c-4e1d-84de-b27efb08032a');\n",
              "          const dataTable =\n",
              "            await google.colab.kernel.invokeFunction('convertToInteractive',\n",
              "                                                     [key], {});\n",
              "          if (!dataTable) return;\n",
              "\n",
              "          const docLinkHtml = 'Like what you see? Visit the ' +\n",
              "            '<a target=\"_blank\" href=https://colab.research.google.com/notebooks/data_table.ipynb>data table notebook</a>'\n",
              "            + ' to learn more about interactive tables.';\n",
              "          element.innerHTML = '';\n",
              "          dataTable['output_type'] = 'display_data';\n",
              "          await google.colab.output.renderOutput(dataTable, element);\n",
              "          const docLink = document.createElement('div');\n",
              "          docLink.innerHTML = docLinkHtml;\n",
              "          element.appendChild(docLink);\n",
              "        }\n",
              "      </script>\n",
              "    </div>\n",
              "  </div>\n",
              "  "
            ]
          },
          "metadata": {},
          "execution_count": 75
        }
      ],
      "source": [
        "consumos.head()"
      ]
    },
    {
      "cell_type": "code",
      "execution_count": null,
      "metadata": {
        "colab": {
          "base_uri": "https://localhost:8080/"
        },
        "id": "lg6wqIB5-gip",
        "outputId": "575f75b4-139c-4768-800b-34bcd920cedb"
      },
      "outputs": [
        {
          "output_type": "execute_result",
          "data": {
            "text/plain": [
              "IDCONSUMO         object\n",
              "IDUSUARIO         object\n",
              "IDPRODUCTO        object\n",
              "DESCPRODUCTO      object\n",
              "FECHACONSUMO      object\n",
              "EMPCONSUL_ID       int64\n",
              "EMPCONSUL_CIIU    object\n",
              "EMPCONSUL_PROV    object\n",
              "EMPCONSUL_EST     object\n",
              "dtype: object"
            ]
          },
          "metadata": {},
          "execution_count": 76
        }
      ],
      "source": [
        "consumos.dtypes"
      ]
    },
    {
      "cell_type": "markdown",
      "metadata": {
        "id": "ukOu9_UB_VOr"
      },
      "source": [
        "## Variable IDCONSUMO"
      ]
    },
    {
      "cell_type": "code",
      "execution_count": null,
      "metadata": {
        "id": "XY_vy5_C8RJC"
      },
      "outputs": [],
      "source": [
        "# Comenzamos con la variable IDCONSUMO dandole el formato deseado:\n",
        "# Dividimos la columa IDCONSUMO por ','\n",
        "consumos[['ID_CONSUMO', 'COMA']] = consumos.IDCONSUMO.str.split(\",\", expand=True,)\n",
        "# Eliminamos las columnas que no nos interesan\n",
        "consumos = consumos.drop(columns = ['COMA', 'IDCONSUMO'])"
      ]
    },
    {
      "cell_type": "markdown",
      "metadata": {
        "id": "nXQpRDBAPOwy"
      },
      "source": [
        "## Variable IDUSUARIO"
      ]
    },
    {
      "cell_type": "code",
      "execution_count": null,
      "metadata": {
        "id": "1KWnB-47G0k5"
      },
      "outputs": [],
      "source": [
        "# Comenzamos con la variable IDUSUARIO dandole el formato deseado:\n",
        "# Dividimos la columa IDUSUARIO por ','\n",
        "consumos[['ID_USUARIO', 'COMA']] = consumos.IDUSUARIO.str.split(\",\", expand=True,)\n",
        "# Eliminamos las columnas que no nos interesan\n",
        "consumos = consumos.drop(columns = ['COMA', 'IDUSUARIO'])"
      ]
    },
    {
      "cell_type": "markdown",
      "metadata": {
        "id": "3BcnIIq3PRvk"
      },
      "source": [
        "## Variable IDPRODUCTO"
      ]
    },
    {
      "cell_type": "code",
      "execution_count": null,
      "metadata": {
        "id": "fyr9FD57HWJ7"
      },
      "outputs": [],
      "source": [
        "# Comenzamos con la variable IDPRODUCTO dandole el formato deseado:\n",
        "# Dividimos la columa IDPRODUCTO por ','\n",
        "consumos[['ID_PRODUCTO', 'COMA']] = consumos.IDPRODUCTO.str.split(\",\", expand=True,)\n",
        "# Eliminamos las columnas que no nos interesan\n",
        "consumos = consumos.drop(columns = ['COMA', 'IDPRODUCTO'])"
      ]
    },
    {
      "cell_type": "markdown",
      "metadata": {
        "id": "at4OxDrAPKMK"
      },
      "source": [
        "## Variable DESCPRODUCTO"
      ]
    },
    {
      "cell_type": "code",
      "execution_count": null,
      "metadata": {
        "id": "Qx7nkH5DPIq8"
      },
      "outputs": [],
      "source": [
        "# Vamos a mirar por ID_USUARIO cuantos de productos de perfil promocional o de ficha básica se hacen\n",
        "df = consumos.groupby(['ID_USUARIO','DESCPRODUCTO']).count().reset_index()[['ID_USUARIO','DESCPRODUCTO','FECHACONSUMO']]"
      ]
    },
    {
      "cell_type": "code",
      "execution_count": null,
      "metadata": {
        "id": "m-sf4YvCR8Bu"
      },
      "outputs": [],
      "source": [
        "df = pd.pivot(df,index = 'ID_USUARIO' ,columns = 'DESCPRODUCTO', values='FECHACONSUMO').reset_index()\n",
        "df = df.replace(np.nan,0)"
      ]
    },
    {
      "cell_type": "markdown",
      "metadata": {
        "id": "gEcvui2GbcWq"
      },
      "source": [
        "## Variable EMPCONSUL_ID"
      ]
    },
    {
      "cell_type": "code",
      "execution_count": null,
      "metadata": {
        "id": "S1dPCAe2Q0yN"
      },
      "outputs": [],
      "source": [
        "# Miramos cuantas empresas diferentes se consultan\n",
        "df['emp_dif'] = consumos.groupby('ID_USUARIO')['EMPCONSUL_ID'].nunique().reset_index()['EMPCONSUL_ID']"
      ]
    },
    {
      "cell_type": "markdown",
      "metadata": {
        "id": "Vj3vPmGYeCtv"
      },
      "source": [
        "## Variable FECHACONSUMO"
      ]
    },
    {
      "cell_type": "code",
      "execution_count": null,
      "metadata": {
        "id": "PL-86KQGkh4P"
      },
      "outputs": [],
      "source": [
        "# Comenzamos con la variable FECHACONSUMO dandole el formato deseado:\n",
        "# Dividimos la columa FECHACONSUMO por ' '\n",
        "consumos[['FECHA_CONSUMO', 'COMA']] = consumos.FECHACONSUMO.str.split(\" \", expand=True,)\n",
        "# Eliminamos las columnas que no nos interesan\n",
        "consumos = consumos.drop(columns = ['COMA', 'FECHACONSUMO'])"
      ]
    },
    {
      "cell_type": "code",
      "execution_count": null,
      "metadata": {
        "id": "cx37wpzaogdF"
      },
      "outputs": [],
      "source": [
        "# Damos el formato de fecha\n",
        "consumos[\"FECHA_CONSUMO\"] = consumos[[\"FECHA_CONSUMO\"]].apply(pd.to_datetime, format=\"%d/%m/%Y\")"
      ]
    },
    {
      "cell_type": "code",
      "execution_count": null,
      "metadata": {
        "id": "HzdIFKzOkIM6"
      },
      "outputs": [],
      "source": [
        "# Obtenemos el primer consumo realizado\n",
        "df['prim_consu'] = consumos.loc[consumos.groupby('ID_USUARIO')['FECHA_CONSUMO'].idxmin()].reset_index()['FECHA_CONSUMO']"
      ]
    },
    {
      "cell_type": "code",
      "execution_count": null,
      "metadata": {
        "id": "BuNQDFsFqDgY"
      },
      "outputs": [],
      "source": [
        "# Obtenemos el último consumo realizado\n",
        "df['ult_consu'] = consumos.loc[consumos.groupby('ID_USUARIO')['FECHA_CONSUMO'].idxmax()].reset_index()['FECHA_CONSUMO']"
      ]
    },
    {
      "cell_type": "code",
      "execution_count": null,
      "metadata": {
        "id": "JJwcb7hesVtx"
      },
      "outputs": [],
      "source": [
        "# Obtenemos el número de consultas\n",
        "numconsultas = consumos['ID_USUARIO'].value_counts().reset_index()"
      ]
    },
    {
      "cell_type": "code",
      "execution_count": null,
      "metadata": {
        "id": "mZ8mFuCawp96"
      },
      "outputs": [],
      "source": [
        "numconsultas.columns = ['ID_USUARIO', 'consultas']"
      ]
    },
    {
      "cell_type": "code",
      "execution_count": null,
      "metadata": {
        "id": "CJuhiV8uu31V"
      },
      "outputs": [],
      "source": [
        "# Cruzamos por df con numconsultas\n",
        "df = df.merge(numconsultas, on='ID_USUARIO', how='left')"
      ]
    },
    {
      "cell_type": "code",
      "execution_count": null,
      "metadata": {
        "id": "v5GLQkzjyVM7"
      },
      "outputs": [],
      "source": [
        "# Obtenemos la diferencia entre la primera y ultima consulta dividida entre el numero de consultas. Ratio de dias por consulta.\n",
        "df['R_DaysCon'] = (df['ult_consu']-df['prim_consu']).dt.days/df['consultas'] # Ej: Caso 4: Pasan 62.25 dias entre consultas"
      ]
    },
    {
      "cell_type": "code",
      "execution_count": null,
      "metadata": {
        "id": "oarvJbx801ik"
      },
      "outputs": [],
      "source": [
        "# Diferencia entre primera y ultima consulta\n",
        "df['diasactivo'] = (df['ult_consu']-df['prim_consu']).dt.days"
      ]
    },
    {
      "cell_type": "code",
      "execution_count": null,
      "metadata": {
        "id": "gMSAv9F-1Mtl"
      },
      "outputs": [],
      "source": [
        "# Numero diferente de dias consultados\n",
        "difdays = consumos.groupby(['ID_USUARIO','FECHA_CONSUMO']).count().reset_index().ID_USUARIO.value_counts().reset_index()"
      ]
    },
    {
      "cell_type": "code",
      "execution_count": null,
      "metadata": {
        "id": "KdfqFcna2b5z"
      },
      "outputs": [],
      "source": [
        "difdays.columns = ['ID_USUARIO', 'difdays']"
      ]
    },
    {
      "cell_type": "code",
      "execution_count": null,
      "metadata": {
        "id": "B1aJGTMM2fm2"
      },
      "outputs": [],
      "source": [
        "# Cruzamos por df con difdays\n",
        "df = df.merge(difdays, on='ID_USUARIO', how='left')"
      ]
    },
    {
      "cell_type": "markdown",
      "metadata": {
        "id": "N-ZSnBL43O4K"
      },
      "source": [
        "# JOIN tabla USUARIOS y CONSUMOS: USUARIOS2"
      ]
    },
    {
      "cell_type": "code",
      "execution_count": null,
      "metadata": {
        "id": "sikQU2sL2sFJ"
      },
      "outputs": [],
      "source": [
        "# Cruzamos por usuarios con df\n",
        "usuarios2 = usuarios.merge(df, on='ID_USUARIO', how='left')"
      ]
    },
    {
      "cell_type": "code",
      "execution_count": null,
      "metadata": {
        "id": "GSoyWKGB2sJm"
      },
      "outputs": [],
      "source": [
        "# Comenzamos con la variable FEC_REGISTRO  dandole el formato deseado:\n",
        "# Dividimos la columa FEC_REGISTRO  por ' '\n",
        "usuarios2[['FECREGISTRO', 'COMA']] = usuarios2.FEC_REGISTRO.str.split(\" \", expand=True,)\n",
        "# Eliminamos las columnas que no nos interesan\n",
        "usuarios2 = usuarios2.drop(columns = ['COMA', 'FEC_REGISTRO'])"
      ]
    },
    {
      "cell_type": "code",
      "execution_count": null,
      "metadata": {
        "id": "tOrLRWrf2sLx"
      },
      "outputs": [],
      "source": [
        "# Damos el formato de fecha\n",
        "usuarios2[\"FECREGISTRO\"] = usuarios2[[\"FECREGISTRO\"]].apply(pd.to_datetime, format=\"%d/%m/%Y\")"
      ]
    },
    {
      "cell_type": "code",
      "execution_count": null,
      "metadata": {
        "id": "91aSPe1B2sOk"
      },
      "outputs": [],
      "source": [
        "# Obtenemos la diferencia entre la de registro y la primera consulta.\n",
        "usuarios2['daysInactive'] = (usuarios2['prim_consu']-usuarios2['FECREGISTRO']).dt.days"
      ]
    },
    {
      "cell_type": "markdown",
      "metadata": {
        "id": "XjOl31rS62Xx"
      },
      "source": [
        "# Tabla SESIONES"
      ]
    },
    {
      "cell_type": "code",
      "execution_count": null,
      "metadata": {
        "colab": {
          "base_uri": "https://localhost:8080/",
          "height": 206
        },
        "id": "r4aggbQI2sRe",
        "outputId": "33c2773d-131b-4f35-ab89-fc8fe82209d9"
      },
      "outputs": [
        {
          "output_type": "execute_result",
          "data": {
            "text/plain": [
              "    IDUSUARIO      FECHA_SESION  SESIONES\n",
              "0  6868841,00  1/1/2018 0:00:00        12\n",
              "1  6868844,00  1/1/2018 0:00:00         4\n",
              "2  6868850,00  1/1/2018 0:00:00         4\n",
              "3  6868859,00  1/1/2018 0:00:00         3\n",
              "4  6868859,00  9/7/2018 0:00:00         1"
            ],
            "text/html": [
              "\n",
              "  <div id=\"df-6525b016-6f0c-40b1-99a4-1ecbb0c3686d\">\n",
              "    <div class=\"colab-df-container\">\n",
              "      <div>\n",
              "<style scoped>\n",
              "    .dataframe tbody tr th:only-of-type {\n",
              "        vertical-align: middle;\n",
              "    }\n",
              "\n",
              "    .dataframe tbody tr th {\n",
              "        vertical-align: top;\n",
              "    }\n",
              "\n",
              "    .dataframe thead th {\n",
              "        text-align: right;\n",
              "    }\n",
              "</style>\n",
              "<table border=\"1\" class=\"dataframe\">\n",
              "  <thead>\n",
              "    <tr style=\"text-align: right;\">\n",
              "      <th></th>\n",
              "      <th>IDUSUARIO</th>\n",
              "      <th>FECHA_SESION</th>\n",
              "      <th>SESIONES</th>\n",
              "    </tr>\n",
              "  </thead>\n",
              "  <tbody>\n",
              "    <tr>\n",
              "      <th>0</th>\n",
              "      <td>6868841,00</td>\n",
              "      <td>1/1/2018 0:00:00</td>\n",
              "      <td>12</td>\n",
              "    </tr>\n",
              "    <tr>\n",
              "      <th>1</th>\n",
              "      <td>6868844,00</td>\n",
              "      <td>1/1/2018 0:00:00</td>\n",
              "      <td>4</td>\n",
              "    </tr>\n",
              "    <tr>\n",
              "      <th>2</th>\n",
              "      <td>6868850,00</td>\n",
              "      <td>1/1/2018 0:00:00</td>\n",
              "      <td>4</td>\n",
              "    </tr>\n",
              "    <tr>\n",
              "      <th>3</th>\n",
              "      <td>6868859,00</td>\n",
              "      <td>1/1/2018 0:00:00</td>\n",
              "      <td>3</td>\n",
              "    </tr>\n",
              "    <tr>\n",
              "      <th>4</th>\n",
              "      <td>6868859,00</td>\n",
              "      <td>9/7/2018 0:00:00</td>\n",
              "      <td>1</td>\n",
              "    </tr>\n",
              "  </tbody>\n",
              "</table>\n",
              "</div>\n",
              "      <button class=\"colab-df-convert\" onclick=\"convertToInteractive('df-6525b016-6f0c-40b1-99a4-1ecbb0c3686d')\"\n",
              "              title=\"Convert this dataframe to an interactive table.\"\n",
              "              style=\"display:none;\">\n",
              "        \n",
              "  <svg xmlns=\"http://www.w3.org/2000/svg\" height=\"24px\"viewBox=\"0 0 24 24\"\n",
              "       width=\"24px\">\n",
              "    <path d=\"M0 0h24v24H0V0z\" fill=\"none\"/>\n",
              "    <path d=\"M18.56 5.44l.94 2.06.94-2.06 2.06-.94-2.06-.94-.94-2.06-.94 2.06-2.06.94zm-11 1L8.5 8.5l.94-2.06 2.06-.94-2.06-.94L8.5 2.5l-.94 2.06-2.06.94zm10 10l.94 2.06.94-2.06 2.06-.94-2.06-.94-.94-2.06-.94 2.06-2.06.94z\"/><path d=\"M17.41 7.96l-1.37-1.37c-.4-.4-.92-.59-1.43-.59-.52 0-1.04.2-1.43.59L10.3 9.45l-7.72 7.72c-.78.78-.78 2.05 0 2.83L4 21.41c.39.39.9.59 1.41.59.51 0 1.02-.2 1.41-.59l7.78-7.78 2.81-2.81c.8-.78.8-2.07 0-2.86zM5.41 20L4 18.59l7.72-7.72 1.47 1.35L5.41 20z\"/>\n",
              "  </svg>\n",
              "      </button>\n",
              "      \n",
              "  <style>\n",
              "    .colab-df-container {\n",
              "      display:flex;\n",
              "      flex-wrap:wrap;\n",
              "      gap: 12px;\n",
              "    }\n",
              "\n",
              "    .colab-df-convert {\n",
              "      background-color: #E8F0FE;\n",
              "      border: none;\n",
              "      border-radius: 50%;\n",
              "      cursor: pointer;\n",
              "      display: none;\n",
              "      fill: #1967D2;\n",
              "      height: 32px;\n",
              "      padding: 0 0 0 0;\n",
              "      width: 32px;\n",
              "    }\n",
              "\n",
              "    .colab-df-convert:hover {\n",
              "      background-color: #E2EBFA;\n",
              "      box-shadow: 0px 1px 2px rgba(60, 64, 67, 0.3), 0px 1px 3px 1px rgba(60, 64, 67, 0.15);\n",
              "      fill: #174EA6;\n",
              "    }\n",
              "\n",
              "    [theme=dark] .colab-df-convert {\n",
              "      background-color: #3B4455;\n",
              "      fill: #D2E3FC;\n",
              "    }\n",
              "\n",
              "    [theme=dark] .colab-df-convert:hover {\n",
              "      background-color: #434B5C;\n",
              "      box-shadow: 0px 1px 3px 1px rgba(0, 0, 0, 0.15);\n",
              "      filter: drop-shadow(0px 1px 2px rgba(0, 0, 0, 0.3));\n",
              "      fill: #FFFFFF;\n",
              "    }\n",
              "  </style>\n",
              "\n",
              "      <script>\n",
              "        const buttonEl =\n",
              "          document.querySelector('#df-6525b016-6f0c-40b1-99a4-1ecbb0c3686d button.colab-df-convert');\n",
              "        buttonEl.style.display =\n",
              "          google.colab.kernel.accessAllowed ? 'block' : 'none';\n",
              "\n",
              "        async function convertToInteractive(key) {\n",
              "          const element = document.querySelector('#df-6525b016-6f0c-40b1-99a4-1ecbb0c3686d');\n",
              "          const dataTable =\n",
              "            await google.colab.kernel.invokeFunction('convertToInteractive',\n",
              "                                                     [key], {});\n",
              "          if (!dataTable) return;\n",
              "\n",
              "          const docLinkHtml = 'Like what you see? Visit the ' +\n",
              "            '<a target=\"_blank\" href=https://colab.research.google.com/notebooks/data_table.ipynb>data table notebook</a>'\n",
              "            + ' to learn more about interactive tables.';\n",
              "          element.innerHTML = '';\n",
              "          dataTable['output_type'] = 'display_data';\n",
              "          await google.colab.output.renderOutput(dataTable, element);\n",
              "          const docLink = document.createElement('div');\n",
              "          docLink.innerHTML = docLinkHtml;\n",
              "          element.appendChild(docLink);\n",
              "        }\n",
              "      </script>\n",
              "    </div>\n",
              "  </div>\n",
              "  "
            ]
          },
          "metadata": {},
          "execution_count": 99
        }
      ],
      "source": [
        "sesiones.head()"
      ]
    },
    {
      "cell_type": "code",
      "execution_count": null,
      "metadata": {
        "id": "PL7Y7BXd7Kab"
      },
      "outputs": [],
      "source": [
        "# Comenzamos con la variable IDUSUARIO dandole el formato deseado:\n",
        "# Dividimos la columa IDUSUARIO por ','\n",
        "sesiones[['ID_USUARIO', 'COMA']] = sesiones.IDUSUARIO.str.split(\",\", expand=True,)\n",
        "# Eliminamos las columnas que no nos interesan\n",
        "sesiones = sesiones.drop(columns = ['COMA', 'IDUSUARIO'])# Comenzamos con la variable IDUSUARIO dandole el formato deseado:"
      ]
    },
    {
      "cell_type": "code",
      "execution_count": null,
      "metadata": {
        "id": "_dKxAqJqUwCx"
      },
      "outputs": [],
      "source": [
        "# Vamos a calcular la suma de sesiones totales por usuario\n",
        "dfs = sesiones.groupby(['ID_USUARIO']).sum().reset_index()"
      ]
    },
    {
      "cell_type": "code",
      "execution_count": null,
      "metadata": {
        "id": "FAu4clATaHVw"
      },
      "outputs": [],
      "source": [
        "# Vamos a obtener cuantos días diferentes por usuario hay\n",
        "dias = sesiones.groupby(['ID_USUARIO', 'FECHA_SESION']).count().reset_index()\n",
        "dias = dias.groupby(['ID_USUARIO']).sum().reset_index()\n",
        "# Lo incorporamos a el datafram dfs\n",
        "dfs['numdias'] = dias['SESIONES']"
      ]
    },
    {
      "cell_type": "code",
      "execution_count": null,
      "metadata": {
        "id": "EDtBLkpbbFVO"
      },
      "outputs": [],
      "source": [
        "# De media obtendremos cuantas sesiones por día realiza cada usuario:\n",
        "dfs['m_sesiones'] = dfs['SESIONES']/dfs['numdias']"
      ]
    },
    {
      "cell_type": "markdown",
      "metadata": {
        "id": "0nKj4cIOdOkm"
      },
      "source": [
        "#JOIN tabla USUARIOS2 y SESIONES: USUARIOS3"
      ]
    },
    {
      "cell_type": "code",
      "execution_count": null,
      "metadata": {
        "id": "gHtTyXgRbFcT"
      },
      "outputs": [],
      "source": [
        "# Cruzamos por usuarios2 con dfs\n",
        "usuarios3 = usuarios2.merge(dfs, on='ID_USUARIO', how='left')"
      ]
    },
    {
      "cell_type": "code",
      "execution_count": null,
      "metadata": {
        "colab": {
          "base_uri": "https://localhost:8080/"
        },
        "id": "rTpbkjyEItLs",
        "outputId": "35d1306c-d12f-4024-a592-db969d69b1aa"
      },
      "outputs": [
        {
          "output_type": "execute_result",
          "data": {
            "text/plain": [
              "IND_CLIENTE                    int64\n",
              "FEC_CLIENTE                   object\n",
              "ID_USUARIO                    object\n",
              "TIPO_USUARIO                   int64\n",
              "DE                           float64\n",
              "DP                           float64\n",
              "SEM                          float64\n",
              "Invalido                     float64\n",
              "Naranja                      float64\n",
              "Verde                        float64\n",
              "USUSCI                         int64\n",
              "USUNulo                        int64\n",
              "USUEI                          int64\n",
              "TAM_GR                         int64\n",
              "TAM_MD                         int64\n",
              "TAM_PQ                         int64\n",
              "TAM_MC                         int64\n",
              "TAM_SD                         int64\n",
              "ACTIVA                         int64\n",
              "ESTADOnull                     int64\n",
              "DEPARTAMENTOnull               int64\n",
              "BOGOTA                         int64\n",
              "Ficha Básica                 float64\n",
              "Perfil Promocional           float64\n",
              "emp_dif                      float64\n",
              "prim_consu            datetime64[ns]\n",
              "ult_consu             datetime64[ns]\n",
              "consultas                    float64\n",
              "R_DaysCon                    float64\n",
              "diasactivo                   float64\n",
              "difdays                      float64\n",
              "FECREGISTRO           datetime64[ns]\n",
              "daysInactive                 float64\n",
              "SESIONES                       int64\n",
              "numdias                        int64\n",
              "m_sesiones                   float64\n",
              "dtype: object"
            ]
          },
          "metadata": {},
          "execution_count": 105
        }
      ],
      "source": [
        "# Revisamos las variables\n",
        "usuarios3.dtypes"
      ]
    },
    {
      "cell_type": "code",
      "execution_count": null,
      "metadata": {
        "colab": {
          "base_uri": "https://localhost:8080/",
          "height": 280
        },
        "id": "KCxLXKg7jxjx",
        "outputId": "f23e4b62-a743-4e65-beac-4a9dadee2c93"
      },
      "outputs": [
        {
          "output_type": "execute_result",
          "data": {
            "text/plain": [
              "   IND_CLIENTE FEC_CLIENTE ID_USUARIO  TIPO_USUARIO   DE   DP  SEM  Invalido  \\\n",
              "0            0         NaN    7668403             1  0.0  1.0  0.0       0.0   \n",
              "1            0         NaN    7667922             1  0.0  1.0  0.0       0.0   \n",
              "2            0         NaN    7667953             0  0.0  1.0  0.0       0.0   \n",
              "3            0         NaN    7667971             0  0.0  1.0  0.0       0.0   \n",
              "4            0         NaN    7668034             1  1.0  0.0  0.0       0.0   \n",
              "\n",
              "   Naranja  Verde  ...  ult_consu  consultas  R_DaysCon  diasactivo  difdays  \\\n",
              "0      0.0    1.0  ... 2019-03-14        2.0       0.00         0.0      1.0   \n",
              "1      0.0    1.0  ... 2019-03-14        1.0       0.00         0.0      1.0   \n",
              "2      0.0    1.0  ... 2019-03-14        1.0       0.00         0.0      1.0   \n",
              "3      0.0    1.0  ... 2019-03-14        1.0       0.00         0.0      1.0   \n",
              "4      0.0    1.0  ... 2019-03-31        4.0       4.25        17.0      2.0   \n",
              "\n",
              "   FECREGISTRO  daysInactive  SESIONES  numdias  m_sesiones  \n",
              "0   2019-03-14           0.0         4        1         4.0  \n",
              "1   2019-03-14           0.0         4        1         4.0  \n",
              "2   2019-03-14           0.0         4        1         4.0  \n",
              "3   2019-03-14           0.0         4        1         4.0  \n",
              "4   2019-03-14           0.0         4        2         2.0  \n",
              "\n",
              "[5 rows x 36 columns]"
            ],
            "text/html": [
              "\n",
              "  <div id=\"df-afcae626-3c00-43c6-9ef6-ad914c15deca\">\n",
              "    <div class=\"colab-df-container\">\n",
              "      <div>\n",
              "<style scoped>\n",
              "    .dataframe tbody tr th:only-of-type {\n",
              "        vertical-align: middle;\n",
              "    }\n",
              "\n",
              "    .dataframe tbody tr th {\n",
              "        vertical-align: top;\n",
              "    }\n",
              "\n",
              "    .dataframe thead th {\n",
              "        text-align: right;\n",
              "    }\n",
              "</style>\n",
              "<table border=\"1\" class=\"dataframe\">\n",
              "  <thead>\n",
              "    <tr style=\"text-align: right;\">\n",
              "      <th></th>\n",
              "      <th>IND_CLIENTE</th>\n",
              "      <th>FEC_CLIENTE</th>\n",
              "      <th>ID_USUARIO</th>\n",
              "      <th>TIPO_USUARIO</th>\n",
              "      <th>DE</th>\n",
              "      <th>DP</th>\n",
              "      <th>SEM</th>\n",
              "      <th>Invalido</th>\n",
              "      <th>Naranja</th>\n",
              "      <th>Verde</th>\n",
              "      <th>...</th>\n",
              "      <th>ult_consu</th>\n",
              "      <th>consultas</th>\n",
              "      <th>R_DaysCon</th>\n",
              "      <th>diasactivo</th>\n",
              "      <th>difdays</th>\n",
              "      <th>FECREGISTRO</th>\n",
              "      <th>daysInactive</th>\n",
              "      <th>SESIONES</th>\n",
              "      <th>numdias</th>\n",
              "      <th>m_sesiones</th>\n",
              "    </tr>\n",
              "  </thead>\n",
              "  <tbody>\n",
              "    <tr>\n",
              "      <th>0</th>\n",
              "      <td>0</td>\n",
              "      <td>NaN</td>\n",
              "      <td>7668403</td>\n",
              "      <td>1</td>\n",
              "      <td>0.0</td>\n",
              "      <td>1.0</td>\n",
              "      <td>0.0</td>\n",
              "      <td>0.0</td>\n",
              "      <td>0.0</td>\n",
              "      <td>1.0</td>\n",
              "      <td>...</td>\n",
              "      <td>2019-03-14</td>\n",
              "      <td>2.0</td>\n",
              "      <td>0.00</td>\n",
              "      <td>0.0</td>\n",
              "      <td>1.0</td>\n",
              "      <td>2019-03-14</td>\n",
              "      <td>0.0</td>\n",
              "      <td>4</td>\n",
              "      <td>1</td>\n",
              "      <td>4.0</td>\n",
              "    </tr>\n",
              "    <tr>\n",
              "      <th>1</th>\n",
              "      <td>0</td>\n",
              "      <td>NaN</td>\n",
              "      <td>7667922</td>\n",
              "      <td>1</td>\n",
              "      <td>0.0</td>\n",
              "      <td>1.0</td>\n",
              "      <td>0.0</td>\n",
              "      <td>0.0</td>\n",
              "      <td>0.0</td>\n",
              "      <td>1.0</td>\n",
              "      <td>...</td>\n",
              "      <td>2019-03-14</td>\n",
              "      <td>1.0</td>\n",
              "      <td>0.00</td>\n",
              "      <td>0.0</td>\n",
              "      <td>1.0</td>\n",
              "      <td>2019-03-14</td>\n",
              "      <td>0.0</td>\n",
              "      <td>4</td>\n",
              "      <td>1</td>\n",
              "      <td>4.0</td>\n",
              "    </tr>\n",
              "    <tr>\n",
              "      <th>2</th>\n",
              "      <td>0</td>\n",
              "      <td>NaN</td>\n",
              "      <td>7667953</td>\n",
              "      <td>0</td>\n",
              "      <td>0.0</td>\n",
              "      <td>1.0</td>\n",
              "      <td>0.0</td>\n",
              "      <td>0.0</td>\n",
              "      <td>0.0</td>\n",
              "      <td>1.0</td>\n",
              "      <td>...</td>\n",
              "      <td>2019-03-14</td>\n",
              "      <td>1.0</td>\n",
              "      <td>0.00</td>\n",
              "      <td>0.0</td>\n",
              "      <td>1.0</td>\n",
              "      <td>2019-03-14</td>\n",
              "      <td>0.0</td>\n",
              "      <td>4</td>\n",
              "      <td>1</td>\n",
              "      <td>4.0</td>\n",
              "    </tr>\n",
              "    <tr>\n",
              "      <th>3</th>\n",
              "      <td>0</td>\n",
              "      <td>NaN</td>\n",
              "      <td>7667971</td>\n",
              "      <td>0</td>\n",
              "      <td>0.0</td>\n",
              "      <td>1.0</td>\n",
              "      <td>0.0</td>\n",
              "      <td>0.0</td>\n",
              "      <td>0.0</td>\n",
              "      <td>1.0</td>\n",
              "      <td>...</td>\n",
              "      <td>2019-03-14</td>\n",
              "      <td>1.0</td>\n",
              "      <td>0.00</td>\n",
              "      <td>0.0</td>\n",
              "      <td>1.0</td>\n",
              "      <td>2019-03-14</td>\n",
              "      <td>0.0</td>\n",
              "      <td>4</td>\n",
              "      <td>1</td>\n",
              "      <td>4.0</td>\n",
              "    </tr>\n",
              "    <tr>\n",
              "      <th>4</th>\n",
              "      <td>0</td>\n",
              "      <td>NaN</td>\n",
              "      <td>7668034</td>\n",
              "      <td>1</td>\n",
              "      <td>1.0</td>\n",
              "      <td>0.0</td>\n",
              "      <td>0.0</td>\n",
              "      <td>0.0</td>\n",
              "      <td>0.0</td>\n",
              "      <td>1.0</td>\n",
              "      <td>...</td>\n",
              "      <td>2019-03-31</td>\n",
              "      <td>4.0</td>\n",
              "      <td>4.25</td>\n",
              "      <td>17.0</td>\n",
              "      <td>2.0</td>\n",
              "      <td>2019-03-14</td>\n",
              "      <td>0.0</td>\n",
              "      <td>4</td>\n",
              "      <td>2</td>\n",
              "      <td>2.0</td>\n",
              "    </tr>\n",
              "  </tbody>\n",
              "</table>\n",
              "<p>5 rows × 36 columns</p>\n",
              "</div>\n",
              "      <button class=\"colab-df-convert\" onclick=\"convertToInteractive('df-afcae626-3c00-43c6-9ef6-ad914c15deca')\"\n",
              "              title=\"Convert this dataframe to an interactive table.\"\n",
              "              style=\"display:none;\">\n",
              "        \n",
              "  <svg xmlns=\"http://www.w3.org/2000/svg\" height=\"24px\"viewBox=\"0 0 24 24\"\n",
              "       width=\"24px\">\n",
              "    <path d=\"M0 0h24v24H0V0z\" fill=\"none\"/>\n",
              "    <path d=\"M18.56 5.44l.94 2.06.94-2.06 2.06-.94-2.06-.94-.94-2.06-.94 2.06-2.06.94zm-11 1L8.5 8.5l.94-2.06 2.06-.94-2.06-.94L8.5 2.5l-.94 2.06-2.06.94zm10 10l.94 2.06.94-2.06 2.06-.94-2.06-.94-.94-2.06-.94 2.06-2.06.94z\"/><path d=\"M17.41 7.96l-1.37-1.37c-.4-.4-.92-.59-1.43-.59-.52 0-1.04.2-1.43.59L10.3 9.45l-7.72 7.72c-.78.78-.78 2.05 0 2.83L4 21.41c.39.39.9.59 1.41.59.51 0 1.02-.2 1.41-.59l7.78-7.78 2.81-2.81c.8-.78.8-2.07 0-2.86zM5.41 20L4 18.59l7.72-7.72 1.47 1.35L5.41 20z\"/>\n",
              "  </svg>\n",
              "      </button>\n",
              "      \n",
              "  <style>\n",
              "    .colab-df-container {\n",
              "      display:flex;\n",
              "      flex-wrap:wrap;\n",
              "      gap: 12px;\n",
              "    }\n",
              "\n",
              "    .colab-df-convert {\n",
              "      background-color: #E8F0FE;\n",
              "      border: none;\n",
              "      border-radius: 50%;\n",
              "      cursor: pointer;\n",
              "      display: none;\n",
              "      fill: #1967D2;\n",
              "      height: 32px;\n",
              "      padding: 0 0 0 0;\n",
              "      width: 32px;\n",
              "    }\n",
              "\n",
              "    .colab-df-convert:hover {\n",
              "      background-color: #E2EBFA;\n",
              "      box-shadow: 0px 1px 2px rgba(60, 64, 67, 0.3), 0px 1px 3px 1px rgba(60, 64, 67, 0.15);\n",
              "      fill: #174EA6;\n",
              "    }\n",
              "\n",
              "    [theme=dark] .colab-df-convert {\n",
              "      background-color: #3B4455;\n",
              "      fill: #D2E3FC;\n",
              "    }\n",
              "\n",
              "    [theme=dark] .colab-df-convert:hover {\n",
              "      background-color: #434B5C;\n",
              "      box-shadow: 0px 1px 3px 1px rgba(0, 0, 0, 0.15);\n",
              "      filter: drop-shadow(0px 1px 2px rgba(0, 0, 0, 0.3));\n",
              "      fill: #FFFFFF;\n",
              "    }\n",
              "  </style>\n",
              "\n",
              "      <script>\n",
              "        const buttonEl =\n",
              "          document.querySelector('#df-afcae626-3c00-43c6-9ef6-ad914c15deca button.colab-df-convert');\n",
              "        buttonEl.style.display =\n",
              "          google.colab.kernel.accessAllowed ? 'block' : 'none';\n",
              "\n",
              "        async function convertToInteractive(key) {\n",
              "          const element = document.querySelector('#df-afcae626-3c00-43c6-9ef6-ad914c15deca');\n",
              "          const dataTable =\n",
              "            await google.colab.kernel.invokeFunction('convertToInteractive',\n",
              "                                                     [key], {});\n",
              "          if (!dataTable) return;\n",
              "\n",
              "          const docLinkHtml = 'Like what you see? Visit the ' +\n",
              "            '<a target=\"_blank\" href=https://colab.research.google.com/notebooks/data_table.ipynb>data table notebook</a>'\n",
              "            + ' to learn more about interactive tables.';\n",
              "          element.innerHTML = '';\n",
              "          dataTable['output_type'] = 'display_data';\n",
              "          await google.colab.output.renderOutput(dataTable, element);\n",
              "          const docLink = document.createElement('div');\n",
              "          docLink.innerHTML = docLinkHtml;\n",
              "          element.appendChild(docLink);\n",
              "        }\n",
              "      </script>\n",
              "    </div>\n",
              "  </div>\n",
              "  "
            ]
          },
          "metadata": {},
          "execution_count": 106
        }
      ],
      "source": [
        "usuarios3.head()"
      ]
    },
    {
      "cell_type": "code",
      "execution_count": null,
      "metadata": {
        "id": "OuA8A1LLlmrg"
      },
      "outputs": [],
      "source": [
        "# Reemplazamos nulos por ceros:\n",
        "usuarios3 = usuarios3.replace(np.nan, 0)"
      ]
    },
    {
      "cell_type": "markdown",
      "metadata": {
        "id": "tbSTBhdTdrmj"
      },
      "source": [
        "# TABLA VENTAS"
      ]
    },
    {
      "cell_type": "code",
      "execution_count": null,
      "metadata": {
        "colab": {
          "base_uri": "https://localhost:8080/",
          "height": 206
        },
        "id": "2EYhiwfv7Tds",
        "outputId": "fcb30671-fd53-4665-f9f6-3c7ad824ee10"
      },
      "outputs": [
        {
          "data": {
            "text/html": [
              "\n",
              "  <div id=\"df-0c047a01-b66f-4d2d-bfdb-13994347a31b\">\n",
              "    <div class=\"colab-df-container\">\n",
              "      <div>\n",
              "<style scoped>\n",
              "    .dataframe tbody tr th:only-of-type {\n",
              "        vertical-align: middle;\n",
              "    }\n",
              "\n",
              "    .dataframe tbody tr th {\n",
              "        vertical-align: top;\n",
              "    }\n",
              "\n",
              "    .dataframe thead th {\n",
              "        text-align: right;\n",
              "    }\n",
              "</style>\n",
              "<table border=\"1\" class=\"dataframe\">\n",
              "  <thead>\n",
              "    <tr style=\"text-align: right;\">\n",
              "      <th></th>\n",
              "      <th>IDVENTA</th>\n",
              "      <th>ID_USUARIO</th>\n",
              "      <th>FECHAVENTA</th>\n",
              "      <th>TIPOVENTA</th>\n",
              "      <th>IMPORTE</th>\n",
              "      <th>NUMVENTAS</th>\n",
              "      <th>IMPORTES</th>\n",
              "      <th>VP Informe</th>\n",
              "      <th>BONO</th>\n",
              "      <th>SUSCRIPCION</th>\n",
              "      <th>VP Listado</th>\n",
              "    </tr>\n",
              "  </thead>\n",
              "  <tbody>\n",
              "    <tr>\n",
              "      <th>0</th>\n",
              "      <td>40069190,00</td>\n",
              "      <td>6869761,00</td>\n",
              "      <td>2/1/2018 0:00:00</td>\n",
              "      <td>VP Informe</td>\n",
              "      <td>35000</td>\n",
              "      <td>1</td>\n",
              "      <td>35000,00</td>\n",
              "      <td>1.0</td>\n",
              "      <td>NaN</td>\n",
              "      <td>NaN</td>\n",
              "      <td>NaN</td>\n",
              "    </tr>\n",
              "    <tr>\n",
              "      <th>1</th>\n",
              "      <td>40071981,00</td>\n",
              "      <td>6869989,00</td>\n",
              "      <td>2/1/2018 0:00:00</td>\n",
              "      <td>VP Informe</td>\n",
              "      <td>15000</td>\n",
              "      <td>1</td>\n",
              "      <td>15000,00</td>\n",
              "      <td>1.0</td>\n",
              "      <td>NaN</td>\n",
              "      <td>NaN</td>\n",
              "      <td>NaN</td>\n",
              "    </tr>\n",
              "    <tr>\n",
              "      <th>2</th>\n",
              "      <td>40078934,00</td>\n",
              "      <td>6869802,00</td>\n",
              "      <td>3/1/2018 0:00:00</td>\n",
              "      <td>VP Listado</td>\n",
              "      <td>1070503</td>\n",
              "      <td>1</td>\n",
              "      <td>1070503,00</td>\n",
              "      <td>NaN</td>\n",
              "      <td>NaN</td>\n",
              "      <td>NaN</td>\n",
              "      <td>1.0</td>\n",
              "    </tr>\n",
              "    <tr>\n",
              "      <th>3</th>\n",
              "      <td>40090106,00</td>\n",
              "      <td>6872111,00</td>\n",
              "      <td>4/1/2018 0:00:00</td>\n",
              "      <td>VP Informe</td>\n",
              "      <td>25000</td>\n",
              "      <td>1</td>\n",
              "      <td>25000,00</td>\n",
              "      <td>1.0</td>\n",
              "      <td>NaN</td>\n",
              "      <td>NaN</td>\n",
              "      <td>NaN</td>\n",
              "    </tr>\n",
              "    <tr>\n",
              "      <th>4</th>\n",
              "      <td>40111415,00</td>\n",
              "      <td>6873222,00</td>\n",
              "      <td>5/1/2018 0:00:00</td>\n",
              "      <td>VP Informe</td>\n",
              "      <td>15000</td>\n",
              "      <td>1</td>\n",
              "      <td>15000,00</td>\n",
              "      <td>1.0</td>\n",
              "      <td>NaN</td>\n",
              "      <td>NaN</td>\n",
              "      <td>NaN</td>\n",
              "    </tr>\n",
              "  </tbody>\n",
              "</table>\n",
              "</div>\n",
              "      <button class=\"colab-df-convert\" onclick=\"convertToInteractive('df-0c047a01-b66f-4d2d-bfdb-13994347a31b')\"\n",
              "              title=\"Convert this dataframe to an interactive table.\"\n",
              "              style=\"display:none;\">\n",
              "        \n",
              "  <svg xmlns=\"http://www.w3.org/2000/svg\" height=\"24px\"viewBox=\"0 0 24 24\"\n",
              "       width=\"24px\">\n",
              "    <path d=\"M0 0h24v24H0V0z\" fill=\"none\"/>\n",
              "    <path d=\"M18.56 5.44l.94 2.06.94-2.06 2.06-.94-2.06-.94-.94-2.06-.94 2.06-2.06.94zm-11 1L8.5 8.5l.94-2.06 2.06-.94-2.06-.94L8.5 2.5l-.94 2.06-2.06.94zm10 10l.94 2.06.94-2.06 2.06-.94-2.06-.94-.94-2.06-.94 2.06-2.06.94z\"/><path d=\"M17.41 7.96l-1.37-1.37c-.4-.4-.92-.59-1.43-.59-.52 0-1.04.2-1.43.59L10.3 9.45l-7.72 7.72c-.78.78-.78 2.05 0 2.83L4 21.41c.39.39.9.59 1.41.59.51 0 1.02-.2 1.41-.59l7.78-7.78 2.81-2.81c.8-.78.8-2.07 0-2.86zM5.41 20L4 18.59l7.72-7.72 1.47 1.35L5.41 20z\"/>\n",
              "  </svg>\n",
              "      </button>\n",
              "      \n",
              "  <style>\n",
              "    .colab-df-container {\n",
              "      display:flex;\n",
              "      flex-wrap:wrap;\n",
              "      gap: 12px;\n",
              "    }\n",
              "\n",
              "    .colab-df-convert {\n",
              "      background-color: #E8F0FE;\n",
              "      border: none;\n",
              "      border-radius: 50%;\n",
              "      cursor: pointer;\n",
              "      display: none;\n",
              "      fill: #1967D2;\n",
              "      height: 32px;\n",
              "      padding: 0 0 0 0;\n",
              "      width: 32px;\n",
              "    }\n",
              "\n",
              "    .colab-df-convert:hover {\n",
              "      background-color: #E2EBFA;\n",
              "      box-shadow: 0px 1px 2px rgba(60, 64, 67, 0.3), 0px 1px 3px 1px rgba(60, 64, 67, 0.15);\n",
              "      fill: #174EA6;\n",
              "    }\n",
              "\n",
              "    [theme=dark] .colab-df-convert {\n",
              "      background-color: #3B4455;\n",
              "      fill: #D2E3FC;\n",
              "    }\n",
              "\n",
              "    [theme=dark] .colab-df-convert:hover {\n",
              "      background-color: #434B5C;\n",
              "      box-shadow: 0px 1px 3px 1px rgba(0, 0, 0, 0.15);\n",
              "      filter: drop-shadow(0px 1px 2px rgba(0, 0, 0, 0.3));\n",
              "      fill: #FFFFFF;\n",
              "    }\n",
              "  </style>\n",
              "\n",
              "      <script>\n",
              "        const buttonEl =\n",
              "          document.querySelector('#df-0c047a01-b66f-4d2d-bfdb-13994347a31b button.colab-df-convert');\n",
              "        buttonEl.style.display =\n",
              "          google.colab.kernel.accessAllowed ? 'block' : 'none';\n",
              "\n",
              "        async function convertToInteractive(key) {\n",
              "          const element = document.querySelector('#df-0c047a01-b66f-4d2d-bfdb-13994347a31b');\n",
              "          const dataTable =\n",
              "            await google.colab.kernel.invokeFunction('convertToInteractive',\n",
              "                                                     [key], {});\n",
              "          if (!dataTable) return;\n",
              "\n",
              "          const docLinkHtml = 'Like what you see? Visit the ' +\n",
              "            '<a target=\"_blank\" href=https://colab.research.google.com/notebooks/data_table.ipynb>data table notebook</a>'\n",
              "            + ' to learn more about interactive tables.';\n",
              "          element.innerHTML = '';\n",
              "          dataTable['output_type'] = 'display_data';\n",
              "          await google.colab.output.renderOutput(dataTable, element);\n",
              "          const docLink = document.createElement('div');\n",
              "          docLink.innerHTML = docLinkHtml;\n",
              "          element.appendChild(docLink);\n",
              "        }\n",
              "      </script>\n",
              "    </div>\n",
              "  </div>\n",
              "  "
            ],
            "text/plain": [
              "       IDVENTA  ID_USUARIO        FECHAVENTA   TIPOVENTA  IMPORTE  NUMVENTAS  \\\n",
              "0  40069190,00  6869761,00  2/1/2018 0:00:00  VP Informe    35000          1   \n",
              "1  40071981,00  6869989,00  2/1/2018 0:00:00  VP Informe    15000          1   \n",
              "2  40078934,00  6869802,00  3/1/2018 0:00:00  VP Listado  1070503          1   \n",
              "3  40090106,00  6872111,00  4/1/2018 0:00:00  VP Informe    25000          1   \n",
              "4  40111415,00  6873222,00  5/1/2018 0:00:00  VP Informe    15000          1   \n",
              "\n",
              "     IMPORTES  VP Informe  BONO  SUSCRIPCION  VP Listado  \n",
              "0    35000,00         1.0   NaN          NaN         NaN  \n",
              "1    15000,00         1.0   NaN          NaN         NaN  \n",
              "2  1070503,00         NaN   NaN          NaN         1.0  \n",
              "3    25000,00         1.0   NaN          NaN         NaN  \n",
              "4    15000,00         1.0   NaN          NaN         NaN  "
            ]
          },
          "execution_count": 246,
          "metadata": {},
          "output_type": "execute_result"
        }
      ],
      "source": [
        "ventas.head()"
      ]
    },
    {
      "cell_type": "markdown",
      "metadata": {
        "id": "Tul6fTzhegr7"
      },
      "source": [
        "Esta tabla guarda información solo de las compras de los clientes, por tanto no se debe utilizar en los modelos supervisados, ya que señala información de la variable objetivo."
      ]
    },
    {
      "cell_type": "markdown",
      "metadata": {
        "id": "uctrSoI0gT-Z"
      },
      "source": [
        "# Modelo de aprendizaje SUPERVISADO"
      ]
    },
    {
      "cell_type": "code",
      "execution_count": null,
      "metadata": {
        "colab": {
          "base_uri": "https://localhost:8080/"
        },
        "id": "XKMHm-HzPpGW",
        "outputId": "a82abcc1-f03a-4ab9-fe4c-58a991551d3b"
      },
      "outputs": [
        {
          "data": {
            "text/plain": [
              "0    128806\n",
              "1      2405\n",
              "Name: IND_CLIENTE, dtype: int64"
            ]
          },
          "execution_count": 247,
          "metadata": {},
          "output_type": "execute_result"
        }
      ],
      "source": [
        "# Comprobamos cuantos clientes y no clientes nos quedan\n",
        "usuarios3.IND_CLIENTE.value_counts()"
      ]
    },
    {
      "cell_type": "code",
      "execution_count": null,
      "metadata": {
        "id": "7Nt3p4ssQszf"
      },
      "outputs": [],
      "source": [
        "X = usuarios3[[ 'TIPO_USUARIO', 'DE', 'DP', 'SEM', 'Invalido', 'Naranja', 'Verde', 'USUSCI',\n",
        "              'USUNulo', 'USUEI', 'TAM_GR', 'TAM_MD', 'TAM_PQ', 'TAM_MC', 'TAM_SD', 'ACTIVA',\n",
        "              'ESTADOnull', 'DEPARTAMENTOnull', 'BOGOTA', 'Ficha Básica', 'Perfil Promocional',\n",
        "              'emp_dif', 'R_DaysCon', 'diasactivo', 'consultas',\n",
        "              'difdays', 'daysInactive', 'SESIONES', 'numdias', 'm_sesiones']]"
      ]
    },
    {
      "cell_type": "code",
      "execution_count": null,
      "metadata": {
        "colab": {
          "base_uri": "https://localhost:8080/",
          "height": 1000
        },
        "id": "hoT6xR83RxEy",
        "outputId": "44f329aa-62c7-4728-9c9e-84f68f71eaf3"
      },
      "outputs": [
        {
          "data": {
            "image/png": "[encoded data removed]",
            "text/plain": [
              "<Figure size 2160x1440 with 2 Axes>"
            ]
          },
          "metadata": {},
          "output_type": "display_data"
        }
      ],
      "source": [
        "# Antes de empezar vamos a ver la colinealidad entre las variables\n",
        "# import libraries\n",
        "import matplotlib.pyplot as plt\n",
        "import seaborn as sns\n",
        "\n",
        "# set figure size\n",
        "plt.figure(figsize=(30,20))\n",
        "\n",
        "# Generate a mask to onlyshow the bottom triangle\n",
        "mask = np.triu(np.ones_like(X.corr(), dtype=bool))\n",
        "\n",
        "# generate heatmap\n",
        "sns.heatmap(X.corr(), annot=True, mask=mask, vmin=-1, vmax=1)\n",
        "plt.title('Correlation Coefficient Of Predictors')\n",
        "plt.show()"
      ]
    },
    {
      "cell_type": "markdown",
      "metadata": {
        "id": "UuxjGTq0UBNY"
      },
      "source": [
        "Gracias al heatmap, podemos identificar fuertes relaciones por ejemplo entre:\n",
        "\n",
        "* emp_dif y Ficha básica\n",
        "* ACTIVA y UsuNulo\n",
        "* TAM_MC y TIPO_USUARIO\n",
        "* SESIONES y consultas"
      ]
    },
    {
      "cell_type": "markdown",
      "metadata": {
        "id": "TLo4L1BSZf92"
      },
      "source": [
        "Esto significa que debemos eliminar una de las variables relacionadas? La respuesta es no. La eliminación de variables corre el riesgo de eliminar demasiada información importante. Para saber si eliminarlos o no, vamos a calcular los valores VIF (Factor de Inflación de Varianza)."
      ]
    },
    {
      "cell_type": "code",
      "execution_count": null,
      "metadata": {
        "id": "-44pqIkzBiZ8"
      },
      "outputs": [],
      "source": [
        "# VIF dataframe\n",
        "vif_data = pd.DataFrame()\n",
        "vif_data[\"feature\"] = X.columns"
      ]
    },
    {
      "cell_type": "code",
      "execution_count": null,
      "metadata": {
        "colab": {
          "base_uri": "https://localhost:8080/"
        },
        "id": "6zJdka0mBpoe",
        "outputId": "611c8125-2e21-449d-aff5-3e185353b030"
      },
      "outputs": [
        {
          "name": "stderr",
          "output_type": "stream",
          "text": [
            "/usr/local/lib/python3.8/dist-packages/statsmodels/stats/outliers_influence.py:193: RuntimeWarning: divide by zero encountered in double_scalars\n",
            "  vif = 1. / (1. - r_squared_i)\n"
          ]
        }
      ],
      "source": [
        "from statsmodels.stats.outliers_influence import variance_inflation_factor\n",
        "# calculating VIF for each feature\n",
        "vif_data[\"VIF\"] = [variance_inflation_factor(X.values, i)\n",
        "                          for i in range(len(X.columns))]"
      ]
    },
    {
      "cell_type": "code",
      "execution_count": null,
      "metadata": {
        "colab": {
          "base_uri": "https://localhost:8080/",
          "height": 990
        },
        "id": "Yiq-kQbPBzHV",
        "outputId": "e0e215c7-8731-45f5-af40-7a3d6a5594c7"
      },
      "outputs": [
        {
          "data": {
            "text/html": [
              "\n",
              "  <div id=\"df-848c8379-9df8-4f52-9f96-0ed3547069f9\">\n",
              "    <div class=\"colab-df-container\">\n",
              "      <div>\n",
              "<style scoped>\n",
              "    .dataframe tbody tr th:only-of-type {\n",
              "        vertical-align: middle;\n",
              "    }\n",
              "\n",
              "    .dataframe tbody tr th {\n",
              "        vertical-align: top;\n",
              "    }\n",
              "\n",
              "    .dataframe thead th {\n",
              "        text-align: right;\n",
              "    }\n",
              "</style>\n",
              "<table border=\"1\" class=\"dataframe\">\n",
              "  <thead>\n",
              "    <tr style=\"text-align: right;\">\n",
              "      <th></th>\n",
              "      <th>feature</th>\n",
              "      <th>VIF</th>\n",
              "    </tr>\n",
              "  </thead>\n",
              "  <tbody>\n",
              "    <tr>\n",
              "      <th>24</th>\n",
              "      <td>consultas</td>\n",
              "      <td>inf</td>\n",
              "    </tr>\n",
              "    <tr>\n",
              "      <th>8</th>\n",
              "      <td>USUNulo</td>\n",
              "      <td>inf</td>\n",
              "    </tr>\n",
              "    <tr>\n",
              "      <th>0</th>\n",
              "      <td>TIPO_USUARIO</td>\n",
              "      <td>inf</td>\n",
              "    </tr>\n",
              "    <tr>\n",
              "      <th>20</th>\n",
              "      <td>Perfil Promocional</td>\n",
              "      <td>inf</td>\n",
              "    </tr>\n",
              "    <tr>\n",
              "      <th>19</th>\n",
              "      <td>Ficha Básica</td>\n",
              "      <td>inf</td>\n",
              "    </tr>\n",
              "    <tr>\n",
              "      <th>16</th>\n",
              "      <td>ESTADOnull</td>\n",
              "      <td>inf</td>\n",
              "    </tr>\n",
              "    <tr>\n",
              "      <th>17</th>\n",
              "      <td>DEPARTAMENTOnull</td>\n",
              "      <td>inf</td>\n",
              "    </tr>\n",
              "    <tr>\n",
              "      <th>27</th>\n",
              "      <td>SESIONES</td>\n",
              "      <td>58.697733</td>\n",
              "    </tr>\n",
              "    <tr>\n",
              "      <th>21</th>\n",
              "      <td>emp_dif</td>\n",
              "      <td>48.515433</td>\n",
              "    </tr>\n",
              "    <tr>\n",
              "      <th>13</th>\n",
              "      <td>TAM_MC</td>\n",
              "      <td>23.321930</td>\n",
              "    </tr>\n",
              "    <tr>\n",
              "      <th>25</th>\n",
              "      <td>difdays</td>\n",
              "      <td>12.198510</td>\n",
              "    </tr>\n",
              "    <tr>\n",
              "      <th>28</th>\n",
              "      <td>numdias</td>\n",
              "      <td>11.445156</td>\n",
              "    </tr>\n",
              "    <tr>\n",
              "      <th>6</th>\n",
              "      <td>Verde</td>\n",
              "      <td>8.351282</td>\n",
              "    </tr>\n",
              "    <tr>\n",
              "      <th>4</th>\n",
              "      <td>Invalido</td>\n",
              "      <td>8.308309</td>\n",
              "    </tr>\n",
              "    <tr>\n",
              "      <th>9</th>\n",
              "      <td>USUEI</td>\n",
              "      <td>6.510367</td>\n",
              "    </tr>\n",
              "    <tr>\n",
              "      <th>7</th>\n",
              "      <td>USUSCI</td>\n",
              "      <td>6.435169</td>\n",
              "    </tr>\n",
              "    <tr>\n",
              "      <th>12</th>\n",
              "      <td>TAM_PQ</td>\n",
              "      <td>5.465340</td>\n",
              "    </tr>\n",
              "    <tr>\n",
              "      <th>23</th>\n",
              "      <td>diasactivo</td>\n",
              "      <td>5.084445</td>\n",
              "    </tr>\n",
              "    <tr>\n",
              "      <th>22</th>\n",
              "      <td>R_DaysCon</td>\n",
              "      <td>4.570806</td>\n",
              "    </tr>\n",
              "    <tr>\n",
              "      <th>15</th>\n",
              "      <td>ACTIVA</td>\n",
              "      <td>4.460890</td>\n",
              "    </tr>\n",
              "    <tr>\n",
              "      <th>11</th>\n",
              "      <td>TAM_MD</td>\n",
              "      <td>3.483291</td>\n",
              "    </tr>\n",
              "    <tr>\n",
              "      <th>2</th>\n",
              "      <td>DP</td>\n",
              "      <td>3.447322</td>\n",
              "    </tr>\n",
              "    <tr>\n",
              "      <th>10</th>\n",
              "      <td>TAM_GR</td>\n",
              "      <td>3.259611</td>\n",
              "    </tr>\n",
              "    <tr>\n",
              "      <th>3</th>\n",
              "      <td>SEM</td>\n",
              "      <td>2.490851</td>\n",
              "    </tr>\n",
              "    <tr>\n",
              "      <th>29</th>\n",
              "      <td>m_sesiones</td>\n",
              "      <td>2.450881</td>\n",
              "    </tr>\n",
              "    <tr>\n",
              "      <th>1</th>\n",
              "      <td>DE</td>\n",
              "      <td>2.366535</td>\n",
              "    </tr>\n",
              "    <tr>\n",
              "      <th>18</th>\n",
              "      <td>BOGOTA</td>\n",
              "      <td>1.532071</td>\n",
              "    </tr>\n",
              "    <tr>\n",
              "      <th>5</th>\n",
              "      <td>Naranja</td>\n",
              "      <td>1.495125</td>\n",
              "    </tr>\n",
              "    <tr>\n",
              "      <th>14</th>\n",
              "      <td>TAM_SD</td>\n",
              "      <td>1.490112</td>\n",
              "    </tr>\n",
              "    <tr>\n",
              "      <th>26</th>\n",
              "      <td>daysInactive</td>\n",
              "      <td>1.027553</td>\n",
              "    </tr>\n",
              "  </tbody>\n",
              "</table>\n",
              "</div>\n",
              "      <button class=\"colab-df-convert\" onclick=\"convertToInteractive('df-848c8379-9df8-4f52-9f96-0ed3547069f9')\"\n",
              "              title=\"Convert this dataframe to an interactive table.\"\n",
              "              style=\"display:none;\">\n",
              "        \n",
              "  <svg xmlns=\"http://www.w3.org/2000/svg\" height=\"24px\"viewBox=\"0 0 24 24\"\n",
              "       width=\"24px\">\n",
              "    <path d=\"M0 0h24v24H0V0z\" fill=\"none\"/>\n",
              "    <path d=\"M18.56 5.44l.94 2.06.94-2.06 2.06-.94-2.06-.94-.94-2.06-.94 2.06-2.06.94zm-11 1L8.5 8.5l.94-2.06 2.06-.94-2.06-.94L8.5 2.5l-.94 2.06-2.06.94zm10 10l.94 2.06.94-2.06 2.06-.94-2.06-.94-.94-2.06-.94 2.06-2.06.94z\"/><path d=\"M17.41 7.96l-1.37-1.37c-.4-.4-.92-.59-1.43-.59-.52 0-1.04.2-1.43.59L10.3 9.45l-7.72 7.72c-.78.78-.78 2.05 0 2.83L4 21.41c.39.39.9.59 1.41.59.51 0 1.02-.2 1.41-.59l7.78-7.78 2.81-2.81c.8-.78.8-2.07 0-2.86zM5.41 20L4 18.59l7.72-7.72 1.47 1.35L5.41 20z\"/>\n",
              "  </svg>\n",
              "      </button>\n",
              "      \n",
              "  <style>\n",
              "    .colab-df-container {\n",
              "      display:flex;\n",
              "      flex-wrap:wrap;\n",
              "      gap: 12px;\n",
              "    }\n",
              "\n",
              "    .colab-df-convert {\n",
              "      background-color: #E8F0FE;\n",
              "      border: none;\n",
              "      border-radius: 50%;\n",
              "      cursor: pointer;\n",
              "      display: none;\n",
              "      fill: #1967D2;\n",
              "      height: 32px;\n",
              "      padding: 0 0 0 0;\n",
              "      width: 32px;\n",
              "    }\n",
              "\n",
              "    .colab-df-convert:hover {\n",
              "      background-color: #E2EBFA;\n",
              "      box-shadow: 0px 1px 2px rgba(60, 64, 67, 0.3), 0px 1px 3px 1px rgba(60, 64, 67, 0.15);\n",
              "      fill: #174EA6;\n",
              "    }\n",
              "\n",
              "    [theme=dark] .colab-df-convert {\n",
              "      background-color: #3B4455;\n",
              "      fill: #D2E3FC;\n",
              "    }\n",
              "\n",
              "    [theme=dark] .colab-df-convert:hover {\n",
              "      background-color: #434B5C;\n",
              "      box-shadow: 0px 1px 3px 1px rgba(0, 0, 0, 0.15);\n",
              "      filter: drop-shadow(0px 1px 2px rgba(0, 0, 0, 0.3));\n",
              "      fill: #FFFFFF;\n",
              "    }\n",
              "  </style>\n",
              "\n",
              "      <script>\n",
              "        const buttonEl =\n",
              "          document.querySelector('#df-848c8379-9df8-4f52-9f96-0ed3547069f9 button.colab-df-convert');\n",
              "        buttonEl.style.display =\n",
              "          google.colab.kernel.accessAllowed ? 'block' : 'none';\n",
              "\n",
              "        async function convertToInteractive(key) {\n",
              "          const element = document.querySelector('#df-848c8379-9df8-4f52-9f96-0ed3547069f9');\n",
              "          const dataTable =\n",
              "            await google.colab.kernel.invokeFunction('convertToInteractive',\n",
              "                                                     [key], {});\n",
              "          if (!dataTable) return;\n",
              "\n",
              "          const docLinkHtml = 'Like what you see? Visit the ' +\n",
              "            '<a target=\"_blank\" href=https://colab.research.google.com/notebooks/data_table.ipynb>data table notebook</a>'\n",
              "            + ' to learn more about interactive tables.';\n",
              "          element.innerHTML = '';\n",
              "          dataTable['output_type'] = 'display_data';\n",
              "          await google.colab.output.renderOutput(dataTable, element);\n",
              "          const docLink = document.createElement('div');\n",
              "          docLink.innerHTML = docLinkHtml;\n",
              "          element.appendChild(docLink);\n",
              "        }\n",
              "      </script>\n",
              "    </div>\n",
              "  </div>\n",
              "  "
            ],
            "text/plain": [
              "               feature        VIF\n",
              "24           consultas        inf\n",
              "8              USUNulo        inf\n",
              "0         TIPO_USUARIO        inf\n",
              "20  Perfil Promocional        inf\n",
              "19        Ficha Básica        inf\n",
              "16          ESTADOnull        inf\n",
              "17    DEPARTAMENTOnull        inf\n",
              "27            SESIONES  58.697733\n",
              "21             emp_dif  48.515433\n",
              "13              TAM_MC  23.321930\n",
              "25             difdays  12.198510\n",
              "28             numdias  11.445156\n",
              "6                Verde   8.351282\n",
              "4             Invalido   8.308309\n",
              "9                USUEI   6.510367\n",
              "7               USUSCI   6.435169\n",
              "12              TAM_PQ   5.465340\n",
              "23          diasactivo   5.084445\n",
              "22           R_DaysCon   4.570806\n",
              "15              ACTIVA   4.460890\n",
              "11              TAM_MD   3.483291\n",
              "2                   DP   3.447322\n",
              "10              TAM_GR   3.259611\n",
              "3                  SEM   2.490851\n",
              "29          m_sesiones   2.450881\n",
              "1                   DE   2.366535\n",
              "18              BOGOTA   1.532071\n",
              "5              Naranja   1.495125\n",
              "14              TAM_SD   1.490112\n",
              "26        daysInactive   1.027553"
            ]
          },
          "execution_count": 252,
          "metadata": {},
          "output_type": "execute_result"
        }
      ],
      "source": [
        "vif_data.sort_values(['VIF', 'feature'], ascending=False)"
      ]
    },
    {
      "cell_type": "markdown",
      "metadata": {
        "id": "U42HGaVSCu2R"
      },
      "source": [
        "Como vemos, existen 18 variables que superan el 5. Esto nos podría llevar a pensar en eliminar todas estas variables. Pero esto no es así, se debe ir borrando una a una y calculando los valores VIF a cada paso, ya que al borrar una variable puede darse que eliminemos la colinealidad entre el resto. Así, también, nos aseguramos que la perdida de información es la minima posible."
      ]
    },
    {
      "cell_type": "code",
      "execution_count": null,
      "metadata": {
        "id": "yrRH4_kyFDxS"
      },
      "outputs": [],
      "source": [
        "# Eliminamos por tanto la variable 'consultas':\n",
        "X = usuarios3[[ 'TIPO_USUARIO', 'DE', 'DP', 'SEM', 'Invalido', 'Naranja', 'Verde', 'USUSCI',\n",
        "              'USUNulo', 'USUEI', 'TAM_GR', 'TAM_MD', 'TAM_PQ', 'TAM_MC', 'TAM_SD', 'ACTIVA',\n",
        "              'ESTADOnull', 'DEPARTAMENTOnull', 'BOGOTA', 'Ficha Básica', 'Perfil Promocional',\n",
        "              'emp_dif', 'R_DaysCon', 'diasactivo',\n",
        "              'difdays', 'daysInactive', 'SESIONES', 'numdias', 'm_sesiones']]"
      ]
    },
    {
      "cell_type": "code",
      "execution_count": null,
      "metadata": {
        "id": "xHrEY5CnDEwr"
      },
      "outputs": [],
      "source": [
        "# VIF dataframe\n",
        "vif_data = pd.DataFrame()\n",
        "vif_data[\"feature\"] = X.columns"
      ]
    },
    {
      "cell_type": "code",
      "execution_count": null,
      "metadata": {
        "colab": {
          "base_uri": "https://localhost:8080/"
        },
        "id": "A1FcIsDYEwkM",
        "outputId": "9ad0d987-6317-4173-e2af-e9fd9db8d8a9"
      },
      "outputs": [
        {
          "name": "stderr",
          "output_type": "stream",
          "text": [
            "/usr/local/lib/python3.8/dist-packages/statsmodels/stats/outliers_influence.py:193: RuntimeWarning: divide by zero encountered in double_scalars\n",
            "  vif = 1. / (1. - r_squared_i)\n"
          ]
        }
      ],
      "source": [
        "# calculating VIF for each feature\n",
        "vif_data[\"VIF\"] = [variance_inflation_factor(X.values, i)\n",
        "                          for i in range(len(X.columns))]"
      ]
    },
    {
      "cell_type": "code",
      "execution_count": null,
      "metadata": {
        "colab": {
          "base_uri": "https://localhost:8080/",
          "height": 959
        },
        "id": "p8oc7gnxFWft",
        "outputId": "28300467-caec-4eb9-888e-e20745056616"
      },
      "outputs": [
        {
          "data": {
            "text/html": [
              "\n",
              "  <div id=\"df-a8078102-ccbd-4773-9227-d12b1693c934\">\n",
              "    <div class=\"colab-df-container\">\n",
              "      <div>\n",
              "<style scoped>\n",
              "    .dataframe tbody tr th:only-of-type {\n",
              "        vertical-align: middle;\n",
              "    }\n",
              "\n",
              "    .dataframe tbody tr th {\n",
              "        vertical-align: top;\n",
              "    }\n",
              "\n",
              "    .dataframe thead th {\n",
              "        text-align: right;\n",
              "    }\n",
              "</style>\n",
              "<table border=\"1\" class=\"dataframe\">\n",
              "  <thead>\n",
              "    <tr style=\"text-align: right;\">\n",
              "      <th></th>\n",
              "      <th>feature</th>\n",
              "      <th>VIF</th>\n",
              "    </tr>\n",
              "  </thead>\n",
              "  <tbody>\n",
              "    <tr>\n",
              "      <th>8</th>\n",
              "      <td>USUNulo</td>\n",
              "      <td>inf</td>\n",
              "    </tr>\n",
              "    <tr>\n",
              "      <th>0</th>\n",
              "      <td>TIPO_USUARIO</td>\n",
              "      <td>inf</td>\n",
              "    </tr>\n",
              "    <tr>\n",
              "      <th>16</th>\n",
              "      <td>ESTADOnull</td>\n",
              "      <td>inf</td>\n",
              "    </tr>\n",
              "    <tr>\n",
              "      <th>17</th>\n",
              "      <td>DEPARTAMENTOnull</td>\n",
              "      <td>inf</td>\n",
              "    </tr>\n",
              "    <tr>\n",
              "      <th>26</th>\n",
              "      <td>SESIONES</td>\n",
              "      <td>58.697733</td>\n",
              "    </tr>\n",
              "    <tr>\n",
              "      <th>21</th>\n",
              "      <td>emp_dif</td>\n",
              "      <td>48.515433</td>\n",
              "    </tr>\n",
              "    <tr>\n",
              "      <th>13</th>\n",
              "      <td>TAM_MC</td>\n",
              "      <td>23.321930</td>\n",
              "    </tr>\n",
              "    <tr>\n",
              "      <th>24</th>\n",
              "      <td>difdays</td>\n",
              "      <td>12.198510</td>\n",
              "    </tr>\n",
              "    <tr>\n",
              "      <th>27</th>\n",
              "      <td>numdias</td>\n",
              "      <td>11.445156</td>\n",
              "    </tr>\n",
              "    <tr>\n",
              "      <th>19</th>\n",
              "      <td>Ficha Básica</td>\n",
              "      <td>9.945060</td>\n",
              "    </tr>\n",
              "    <tr>\n",
              "      <th>6</th>\n",
              "      <td>Verde</td>\n",
              "      <td>8.351282</td>\n",
              "    </tr>\n",
              "    <tr>\n",
              "      <th>4</th>\n",
              "      <td>Invalido</td>\n",
              "      <td>8.308309</td>\n",
              "    </tr>\n",
              "    <tr>\n",
              "      <th>9</th>\n",
              "      <td>USUEI</td>\n",
              "      <td>6.510367</td>\n",
              "    </tr>\n",
              "    <tr>\n",
              "      <th>7</th>\n",
              "      <td>USUSCI</td>\n",
              "      <td>6.435169</td>\n",
              "    </tr>\n",
              "    <tr>\n",
              "      <th>12</th>\n",
              "      <td>TAM_PQ</td>\n",
              "      <td>5.465340</td>\n",
              "    </tr>\n",
              "    <tr>\n",
              "      <th>23</th>\n",
              "      <td>diasactivo</td>\n",
              "      <td>5.084445</td>\n",
              "    </tr>\n",
              "    <tr>\n",
              "      <th>22</th>\n",
              "      <td>R_DaysCon</td>\n",
              "      <td>4.570806</td>\n",
              "    </tr>\n",
              "    <tr>\n",
              "      <th>15</th>\n",
              "      <td>ACTIVA</td>\n",
              "      <td>4.460890</td>\n",
              "    </tr>\n",
              "    <tr>\n",
              "      <th>11</th>\n",
              "      <td>TAM_MD</td>\n",
              "      <td>3.483291</td>\n",
              "    </tr>\n",
              "    <tr>\n",
              "      <th>2</th>\n",
              "      <td>DP</td>\n",
              "      <td>3.447322</td>\n",
              "    </tr>\n",
              "    <tr>\n",
              "      <th>10</th>\n",
              "      <td>TAM_GR</td>\n",
              "      <td>3.259611</td>\n",
              "    </tr>\n",
              "    <tr>\n",
              "      <th>3</th>\n",
              "      <td>SEM</td>\n",
              "      <td>2.490851</td>\n",
              "    </tr>\n",
              "    <tr>\n",
              "      <th>28</th>\n",
              "      <td>m_sesiones</td>\n",
              "      <td>2.450881</td>\n",
              "    </tr>\n",
              "    <tr>\n",
              "      <th>1</th>\n",
              "      <td>DE</td>\n",
              "      <td>2.366535</td>\n",
              "    </tr>\n",
              "    <tr>\n",
              "      <th>20</th>\n",
              "      <td>Perfil Promocional</td>\n",
              "      <td>2.012368</td>\n",
              "    </tr>\n",
              "    <tr>\n",
              "      <th>18</th>\n",
              "      <td>BOGOTA</td>\n",
              "      <td>1.532071</td>\n",
              "    </tr>\n",
              "    <tr>\n",
              "      <th>5</th>\n",
              "      <td>Naranja</td>\n",
              "      <td>1.495125</td>\n",
              "    </tr>\n",
              "    <tr>\n",
              "      <th>14</th>\n",
              "      <td>TAM_SD</td>\n",
              "      <td>1.490112</td>\n",
              "    </tr>\n",
              "    <tr>\n",
              "      <th>25</th>\n",
              "      <td>daysInactive</td>\n",
              "      <td>1.027553</td>\n",
              "    </tr>\n",
              "  </tbody>\n",
              "</table>\n",
              "</div>\n",
              "      <button class=\"colab-df-convert\" onclick=\"convertToInteractive('df-a8078102-ccbd-4773-9227-d12b1693c934')\"\n",
              "              title=\"Convert this dataframe to an interactive table.\"\n",
              "              style=\"display:none;\">\n",
              "        \n",
              "  <svg xmlns=\"http://www.w3.org/2000/svg\" height=\"24px\"viewBox=\"0 0 24 24\"\n",
              "       width=\"24px\">\n",
              "    <path d=\"M0 0h24v24H0V0z\" fill=\"none\"/>\n",
              "    <path d=\"M18.56 5.44l.94 2.06.94-2.06 2.06-.94-2.06-.94-.94-2.06-.94 2.06-2.06.94zm-11 1L8.5 8.5l.94-2.06 2.06-.94-2.06-.94L8.5 2.5l-.94 2.06-2.06.94zm10 10l.94 2.06.94-2.06 2.06-.94-2.06-.94-.94-2.06-.94 2.06-2.06.94z\"/><path d=\"M17.41 7.96l-1.37-1.37c-.4-.4-.92-.59-1.43-.59-.52 0-1.04.2-1.43.59L10.3 9.45l-7.72 7.72c-.78.78-.78 2.05 0 2.83L4 21.41c.39.39.9.59 1.41.59.51 0 1.02-.2 1.41-.59l7.78-7.78 2.81-2.81c.8-.78.8-2.07 0-2.86zM5.41 20L4 18.59l7.72-7.72 1.47 1.35L5.41 20z\"/>\n",
              "  </svg>\n",
              "      </button>\n",
              "      \n",
              "  <style>\n",
              "    .colab-df-container {\n",
              "      display:flex;\n",
              "      flex-wrap:wrap;\n",
              "      gap: 12px;\n",
              "    }\n",
              "\n",
              "    .colab-df-convert {\n",
              "      background-color: #E8F0FE;\n",
              "      border: none;\n",
              "      border-radius: 50%;\n",
              "      cursor: pointer;\n",
              "      display: none;\n",
              "      fill: #1967D2;\n",
              "      height: 32px;\n",
              "      padding: 0 0 0 0;\n",
              "      width: 32px;\n",
              "    }\n",
              "\n",
              "    .colab-df-convert:hover {\n",
              "      background-color: #E2EBFA;\n",
              "      box-shadow: 0px 1px 2px rgba(60, 64, 67, 0.3), 0px 1px 3px 1px rgba(60, 64, 67, 0.15);\n",
              "      fill: #174EA6;\n",
              "    }\n",
              "\n",
              "    [theme=dark] .colab-df-convert {\n",
              "      background-color: #3B4455;\n",
              "      fill: #D2E3FC;\n",
              "    }\n",
              "\n",
              "    [theme=dark] .colab-df-convert:hover {\n",
              "      background-color: #434B5C;\n",
              "      box-shadow: 0px 1px 3px 1px rgba(0, 0, 0, 0.15);\n",
              "      filter: drop-shadow(0px 1px 2px rgba(0, 0, 0, 0.3));\n",
              "      fill: #FFFFFF;\n",
              "    }\n",
              "  </style>\n",
              "\n",
              "      <script>\n",
              "        const buttonEl =\n",
              "          document.querySelector('#df-a8078102-ccbd-4773-9227-d12b1693c934 button.colab-df-convert');\n",
              "        buttonEl.style.display =\n",
              "          google.colab.kernel.accessAllowed ? 'block' : 'none';\n",
              "\n",
              "        async function convertToInteractive(key) {\n",
              "          const element = document.querySelector('#df-a8078102-ccbd-4773-9227-d12b1693c934');\n",
              "          const dataTable =\n",
              "            await google.colab.kernel.invokeFunction('convertToInteractive',\n",
              "                                                     [key], {});\n",
              "          if (!dataTable) return;\n",
              "\n",
              "          const docLinkHtml = 'Like what you see? Visit the ' +\n",
              "            '<a target=\"_blank\" href=https://colab.research.google.com/notebooks/data_table.ipynb>data table notebook</a>'\n",
              "            + ' to learn more about interactive tables.';\n",
              "          element.innerHTML = '';\n",
              "          dataTable['output_type'] = 'display_data';\n",
              "          await google.colab.output.renderOutput(dataTable, element);\n",
              "          const docLink = document.createElement('div');\n",
              "          docLink.innerHTML = docLinkHtml;\n",
              "          element.appendChild(docLink);\n",
              "        }\n",
              "      </script>\n",
              "    </div>\n",
              "  </div>\n",
              "  "
            ],
            "text/plain": [
              "               feature        VIF\n",
              "8              USUNulo        inf\n",
              "0         TIPO_USUARIO        inf\n",
              "16          ESTADOnull        inf\n",
              "17    DEPARTAMENTOnull        inf\n",
              "26            SESIONES  58.697733\n",
              "21             emp_dif  48.515433\n",
              "13              TAM_MC  23.321930\n",
              "24             difdays  12.198510\n",
              "27             numdias  11.445156\n",
              "19        Ficha Básica   9.945060\n",
              "6                Verde   8.351282\n",
              "4             Invalido   8.308309\n",
              "9                USUEI   6.510367\n",
              "7               USUSCI   6.435169\n",
              "12              TAM_PQ   5.465340\n",
              "23          diasactivo   5.084445\n",
              "22           R_DaysCon   4.570806\n",
              "15              ACTIVA   4.460890\n",
              "11              TAM_MD   3.483291\n",
              "2                   DP   3.447322\n",
              "10              TAM_GR   3.259611\n",
              "3                  SEM   2.490851\n",
              "28          m_sesiones   2.450881\n",
              "1                   DE   2.366535\n",
              "20  Perfil Promocional   2.012368\n",
              "18              BOGOTA   1.532071\n",
              "5              Naranja   1.495125\n",
              "14              TAM_SD   1.490112\n",
              "25        daysInactive   1.027553"
            ]
          },
          "execution_count": 256,
          "metadata": {},
          "output_type": "execute_result"
        }
      ],
      "source": [
        "vif_data.sort_values(['VIF', 'feature'], ascending=False)"
      ]
    },
    {
      "cell_type": "markdown",
      "metadata": {
        "id": "TGa300LCFgfU"
      },
      "source": [
        "Continuamos el mismo proceso con USUNulo:"
      ]
    },
    {
      "cell_type": "code",
      "execution_count": null,
      "metadata": {
        "id": "cZX9FB9OHWKU"
      },
      "outputs": [],
      "source": [
        "# Eliminamos por tanto la variable 'USUNulo':\n",
        "X = usuarios3[[ 'TIPO_USUARIO', 'DE', 'DP', 'SEM', 'Invalido', 'Naranja', 'Verde', 'USUSCI',\n",
        "              'USUEI', 'TAM_GR', 'TAM_MD', 'TAM_PQ', 'TAM_MC', 'TAM_SD', 'ACTIVA',\n",
        "              'ESTADOnull', 'DEPARTAMENTOnull', 'BOGOTA', 'Ficha Básica', 'Perfil Promocional',\n",
        "              'emp_dif', 'R_DaysCon', 'diasactivo',\n",
        "              'difdays', 'daysInactive', 'SESIONES', 'numdias', 'm_sesiones']]"
      ]
    },
    {
      "cell_type": "code",
      "execution_count": null,
      "metadata": {
        "id": "jLMv4WiyHaNw"
      },
      "outputs": [],
      "source": [
        "# VIF dataframe\n",
        "vif_data = pd.DataFrame()\n",
        "vif_data[\"feature\"] = X.columns"
      ]
    },
    {
      "cell_type": "code",
      "execution_count": null,
      "metadata": {
        "colab": {
          "base_uri": "https://localhost:8080/"
        },
        "id": "WRlodpeqHcaz",
        "outputId": "f2e1cefa-f664-466c-b0b5-4691a1494855"
      },
      "outputs": [
        {
          "name": "stderr",
          "output_type": "stream",
          "text": [
            "/usr/local/lib/python3.8/dist-packages/statsmodels/stats/outliers_influence.py:193: RuntimeWarning: divide by zero encountered in double_scalars\n",
            "  vif = 1. / (1. - r_squared_i)\n"
          ]
        }
      ],
      "source": [
        "# calculating VIF for each feature\n",
        "vif_data[\"VIF\"] = [variance_inflation_factor(X.values, i)\n",
        "                          for i in range(len(X.columns))]"
      ]
    },
    {
      "cell_type": "code",
      "execution_count": null,
      "metadata": {
        "colab": {
          "base_uri": "https://localhost:8080/",
          "height": 927
        },
        "id": "ORDRbIxzHfXp",
        "outputId": "340502ab-b786-4153-bd35-ee467f8356b4"
      },
      "outputs": [
        {
          "data": {
            "text/html": [
              "\n",
              "  <div id=\"df-246bcd05-a9fd-4a14-9a91-ffa483f6b24e\">\n",
              "    <div class=\"colab-df-container\">\n",
              "      <div>\n",
              "<style scoped>\n",
              "    .dataframe tbody tr th:only-of-type {\n",
              "        vertical-align: middle;\n",
              "    }\n",
              "\n",
              "    .dataframe tbody tr th {\n",
              "        vertical-align: top;\n",
              "    }\n",
              "\n",
              "    .dataframe thead th {\n",
              "        text-align: right;\n",
              "    }\n",
              "</style>\n",
              "<table border=\"1\" class=\"dataframe\">\n",
              "  <thead>\n",
              "    <tr style=\"text-align: right;\">\n",
              "      <th></th>\n",
              "      <th>feature</th>\n",
              "      <th>VIF</th>\n",
              "    </tr>\n",
              "  </thead>\n",
              "  <tbody>\n",
              "    <tr>\n",
              "      <th>0</th>\n",
              "      <td>TIPO_USUARIO</td>\n",
              "      <td>inf</td>\n",
              "    </tr>\n",
              "    <tr>\n",
              "      <th>15</th>\n",
              "      <td>ESTADOnull</td>\n",
              "      <td>inf</td>\n",
              "    </tr>\n",
              "    <tr>\n",
              "      <th>16</th>\n",
              "      <td>DEPARTAMENTOnull</td>\n",
              "      <td>inf</td>\n",
              "    </tr>\n",
              "    <tr>\n",
              "      <th>25</th>\n",
              "      <td>SESIONES</td>\n",
              "      <td>58.697733</td>\n",
              "    </tr>\n",
              "    <tr>\n",
              "      <th>20</th>\n",
              "      <td>emp_dif</td>\n",
              "      <td>48.515433</td>\n",
              "    </tr>\n",
              "    <tr>\n",
              "      <th>12</th>\n",
              "      <td>TAM_MC</td>\n",
              "      <td>23.321930</td>\n",
              "    </tr>\n",
              "    <tr>\n",
              "      <th>23</th>\n",
              "      <td>difdays</td>\n",
              "      <td>12.198510</td>\n",
              "    </tr>\n",
              "    <tr>\n",
              "      <th>26</th>\n",
              "      <td>numdias</td>\n",
              "      <td>11.445156</td>\n",
              "    </tr>\n",
              "    <tr>\n",
              "      <th>18</th>\n",
              "      <td>Ficha Básica</td>\n",
              "      <td>9.945060</td>\n",
              "    </tr>\n",
              "    <tr>\n",
              "      <th>6</th>\n",
              "      <td>Verde</td>\n",
              "      <td>8.351282</td>\n",
              "    </tr>\n",
              "    <tr>\n",
              "      <th>4</th>\n",
              "      <td>Invalido</td>\n",
              "      <td>8.308309</td>\n",
              "    </tr>\n",
              "    <tr>\n",
              "      <th>8</th>\n",
              "      <td>USUEI</td>\n",
              "      <td>6.510367</td>\n",
              "    </tr>\n",
              "    <tr>\n",
              "      <th>7</th>\n",
              "      <td>USUSCI</td>\n",
              "      <td>6.435169</td>\n",
              "    </tr>\n",
              "    <tr>\n",
              "      <th>11</th>\n",
              "      <td>TAM_PQ</td>\n",
              "      <td>5.465340</td>\n",
              "    </tr>\n",
              "    <tr>\n",
              "      <th>22</th>\n",
              "      <td>diasactivo</td>\n",
              "      <td>5.084445</td>\n",
              "    </tr>\n",
              "    <tr>\n",
              "      <th>21</th>\n",
              "      <td>R_DaysCon</td>\n",
              "      <td>4.570806</td>\n",
              "    </tr>\n",
              "    <tr>\n",
              "      <th>14</th>\n",
              "      <td>ACTIVA</td>\n",
              "      <td>4.460890</td>\n",
              "    </tr>\n",
              "    <tr>\n",
              "      <th>10</th>\n",
              "      <td>TAM_MD</td>\n",
              "      <td>3.483291</td>\n",
              "    </tr>\n",
              "    <tr>\n",
              "      <th>2</th>\n",
              "      <td>DP</td>\n",
              "      <td>3.447322</td>\n",
              "    </tr>\n",
              "    <tr>\n",
              "      <th>9</th>\n",
              "      <td>TAM_GR</td>\n",
              "      <td>3.259611</td>\n",
              "    </tr>\n",
              "    <tr>\n",
              "      <th>3</th>\n",
              "      <td>SEM</td>\n",
              "      <td>2.490851</td>\n",
              "    </tr>\n",
              "    <tr>\n",
              "      <th>27</th>\n",
              "      <td>m_sesiones</td>\n",
              "      <td>2.450881</td>\n",
              "    </tr>\n",
              "    <tr>\n",
              "      <th>1</th>\n",
              "      <td>DE</td>\n",
              "      <td>2.366535</td>\n",
              "    </tr>\n",
              "    <tr>\n",
              "      <th>19</th>\n",
              "      <td>Perfil Promocional</td>\n",
              "      <td>2.012368</td>\n",
              "    </tr>\n",
              "    <tr>\n",
              "      <th>17</th>\n",
              "      <td>BOGOTA</td>\n",
              "      <td>1.532071</td>\n",
              "    </tr>\n",
              "    <tr>\n",
              "      <th>5</th>\n",
              "      <td>Naranja</td>\n",
              "      <td>1.495125</td>\n",
              "    </tr>\n",
              "    <tr>\n",
              "      <th>13</th>\n",
              "      <td>TAM_SD</td>\n",
              "      <td>1.490112</td>\n",
              "    </tr>\n",
              "    <tr>\n",
              "      <th>24</th>\n",
              "      <td>daysInactive</td>\n",
              "      <td>1.027553</td>\n",
              "    </tr>\n",
              "  </tbody>\n",
              "</table>\n",
              "</div>\n",
              "      <button class=\"colab-df-convert\" onclick=\"convertToInteractive('df-246bcd05-a9fd-4a14-9a91-ffa483f6b24e')\"\n",
              "              title=\"Convert this dataframe to an interactive table.\"\n",
              "              style=\"display:none;\">\n",
              "        \n",
              "  <svg xmlns=\"http://www.w3.org/2000/svg\" height=\"24px\"viewBox=\"0 0 24 24\"\n",
              "       width=\"24px\">\n",
              "    <path d=\"M0 0h24v24H0V0z\" fill=\"none\"/>\n",
              "    <path d=\"M18.56 5.44l.94 2.06.94-2.06 2.06-.94-2.06-.94-.94-2.06-.94 2.06-2.06.94zm-11 1L8.5 8.5l.94-2.06 2.06-.94-2.06-.94L8.5 2.5l-.94 2.06-2.06.94zm10 10l.94 2.06.94-2.06 2.06-.94-2.06-.94-.94-2.06-.94 2.06-2.06.94z\"/><path d=\"M17.41 7.96l-1.37-1.37c-.4-.4-.92-.59-1.43-.59-.52 0-1.04.2-1.43.59L10.3 9.45l-7.72 7.72c-.78.78-.78 2.05 0 2.83L4 21.41c.39.39.9.59 1.41.59.51 0 1.02-.2 1.41-.59l7.78-7.78 2.81-2.81c.8-.78.8-2.07 0-2.86zM5.41 20L4 18.59l7.72-7.72 1.47 1.35L5.41 20z\"/>\n",
              "  </svg>\n",
              "      </button>\n",
              "      \n",
              "  <style>\n",
              "    .colab-df-container {\n",
              "      display:flex;\n",
              "      flex-wrap:wrap;\n",
              "      gap: 12px;\n",
              "    }\n",
              "\n",
              "    .colab-df-convert {\n",
              "      background-color: #E8F0FE;\n",
              "      border: none;\n",
              "      border-radius: 50%;\n",
              "      cursor: pointer;\n",
              "      display: none;\n",
              "      fill: #1967D2;\n",
              "      height: 32px;\n",
              "      padding: 0 0 0 0;\n",
              "      width: 32px;\n",
              "    }\n",
              "\n",
              "    .colab-df-convert:hover {\n",
              "      background-color: #E2EBFA;\n",
              "      box-shadow: 0px 1px 2px rgba(60, 64, 67, 0.3), 0px 1px 3px 1px rgba(60, 64, 67, 0.15);\n",
              "      fill: #174EA6;\n",
              "    }\n",
              "\n",
              "    [theme=dark] .colab-df-convert {\n",
              "      background-color: #3B4455;\n",
              "      fill: #D2E3FC;\n",
              "    }\n",
              "\n",
              "    [theme=dark] .colab-df-convert:hover {\n",
              "      background-color: #434B5C;\n",
              "      box-shadow: 0px 1px 3px 1px rgba(0, 0, 0, 0.15);\n",
              "      filter: drop-shadow(0px 1px 2px rgba(0, 0, 0, 0.3));\n",
              "      fill: #FFFFFF;\n",
              "    }\n",
              "  </style>\n",
              "\n",
              "      <script>\n",
              "        const buttonEl =\n",
              "          document.querySelector('#df-246bcd05-a9fd-4a14-9a91-ffa483f6b24e button.colab-df-convert');\n",
              "        buttonEl.style.display =\n",
              "          google.colab.kernel.accessAllowed ? 'block' : 'none';\n",
              "\n",
              "        async function convertToInteractive(key) {\n",
              "          const element = document.querySelector('#df-246bcd05-a9fd-4a14-9a91-ffa483f6b24e');\n",
              "          const dataTable =\n",
              "            await google.colab.kernel.invokeFunction('convertToInteractive',\n",
              "                                                     [key], {});\n",
              "          if (!dataTable) return;\n",
              "\n",
              "          const docLinkHtml = 'Like what you see? Visit the ' +\n",
              "            '<a target=\"_blank\" href=https://colab.research.google.com/notebooks/data_table.ipynb>data table notebook</a>'\n",
              "            + ' to learn more about interactive tables.';\n",
              "          element.innerHTML = '';\n",
              "          dataTable['output_type'] = 'display_data';\n",
              "          await google.colab.output.renderOutput(dataTable, element);\n",
              "          const docLink = document.createElement('div');\n",
              "          docLink.innerHTML = docLinkHtml;\n",
              "          element.appendChild(docLink);\n",
              "        }\n",
              "      </script>\n",
              "    </div>\n",
              "  </div>\n",
              "  "
            ],
            "text/plain": [
              "               feature        VIF\n",
              "0         TIPO_USUARIO        inf\n",
              "15          ESTADOnull        inf\n",
              "16    DEPARTAMENTOnull        inf\n",
              "25            SESIONES  58.697733\n",
              "20             emp_dif  48.515433\n",
              "12              TAM_MC  23.321930\n",
              "23             difdays  12.198510\n",
              "26             numdias  11.445156\n",
              "18        Ficha Básica   9.945060\n",
              "6                Verde   8.351282\n",
              "4             Invalido   8.308309\n",
              "8                USUEI   6.510367\n",
              "7               USUSCI   6.435169\n",
              "11              TAM_PQ   5.465340\n",
              "22          diasactivo   5.084445\n",
              "21           R_DaysCon   4.570806\n",
              "14              ACTIVA   4.460890\n",
              "10              TAM_MD   3.483291\n",
              "2                   DP   3.447322\n",
              "9               TAM_GR   3.259611\n",
              "3                  SEM   2.490851\n",
              "27          m_sesiones   2.450881\n",
              "1                   DE   2.366535\n",
              "19  Perfil Promocional   2.012368\n",
              "17              BOGOTA   1.532071\n",
              "5              Naranja   1.495125\n",
              "13              TAM_SD   1.490112\n",
              "24        daysInactive   1.027553"
            ]
          },
          "execution_count": 260,
          "metadata": {},
          "output_type": "execute_result"
        }
      ],
      "source": [
        "vif_data.sort_values(['VIF', 'feature'], ascending=False)"
      ]
    },
    {
      "cell_type": "markdown",
      "metadata": {
        "id": "_Wcr8rxpHkXa"
      },
      "source": [
        "Continuamos el mismo proceso con TIPO_USUARIO:\n"
      ]
    },
    {
      "cell_type": "code",
      "execution_count": null,
      "metadata": {
        "id": "yxADNTWRHjbV"
      },
      "outputs": [],
      "source": [
        "# Eliminamos por tanto la variable 'TIPO_USUARIO':\n",
        "X = usuarios3[['DE', 'DP', 'SEM', 'Invalido', 'Naranja', 'Verde', 'USUSCI',\n",
        "              'USUEI', 'TAM_GR', 'TAM_MD', 'TAM_PQ', 'TAM_MC', 'TAM_SD', 'ACTIVA',\n",
        "              'ESTADOnull', 'DEPARTAMENTOnull', 'BOGOTA', 'Ficha Básica', 'Perfil Promocional',\n",
        "              'emp_dif', 'R_DaysCon', 'diasactivo',\n",
        "              'difdays', 'daysInactive', 'SESIONES', 'numdias', 'm_sesiones']]"
      ]
    },
    {
      "cell_type": "code",
      "execution_count": null,
      "metadata": {
        "id": "bmoVkl74H_ks"
      },
      "outputs": [],
      "source": [
        "# VIF dataframe\n",
        "vif_data = pd.DataFrame()\n",
        "vif_data[\"feature\"] = X.columns"
      ]
    },
    {
      "cell_type": "code",
      "execution_count": null,
      "metadata": {
        "colab": {
          "base_uri": "https://localhost:8080/"
        },
        "id": "aXt7Bnw7IBoK",
        "outputId": "ccd3d023-e83a-4eba-d07d-96f197fbcc71"
      },
      "outputs": [
        {
          "name": "stderr",
          "output_type": "stream",
          "text": [
            "/usr/local/lib/python3.8/dist-packages/statsmodels/stats/outliers_influence.py:193: RuntimeWarning: divide by zero encountered in double_scalars\n",
            "  vif = 1. / (1. - r_squared_i)\n"
          ]
        }
      ],
      "source": [
        "# calculating VIF for each feature\n",
        "vif_data[\"VIF\"] = [variance_inflation_factor(X.values, i)\n",
        "                          for i in range(len(X.columns))]"
      ]
    },
    {
      "cell_type": "code",
      "execution_count": null,
      "metadata": {
        "colab": {
          "base_uri": "https://localhost:8080/",
          "height": 896
        },
        "id": "PKZ1wiW4IEG7",
        "outputId": "ae7852ee-70f1-4a8a-afff-87938a65b8cb"
      },
      "outputs": [
        {
          "data": {
            "text/html": [
              "\n",
              "  <div id=\"df-6695acef-ca2c-496b-8d2a-488f57417f30\">\n",
              "    <div class=\"colab-df-container\">\n",
              "      <div>\n",
              "<style scoped>\n",
              "    .dataframe tbody tr th:only-of-type {\n",
              "        vertical-align: middle;\n",
              "    }\n",
              "\n",
              "    .dataframe tbody tr th {\n",
              "        vertical-align: top;\n",
              "    }\n",
              "\n",
              "    .dataframe thead th {\n",
              "        text-align: right;\n",
              "    }\n",
              "</style>\n",
              "<table border=\"1\" class=\"dataframe\">\n",
              "  <thead>\n",
              "    <tr style=\"text-align: right;\">\n",
              "      <th></th>\n",
              "      <th>feature</th>\n",
              "      <th>VIF</th>\n",
              "    </tr>\n",
              "  </thead>\n",
              "  <tbody>\n",
              "    <tr>\n",
              "      <th>14</th>\n",
              "      <td>ESTADOnull</td>\n",
              "      <td>inf</td>\n",
              "    </tr>\n",
              "    <tr>\n",
              "      <th>15</th>\n",
              "      <td>DEPARTAMENTOnull</td>\n",
              "      <td>inf</td>\n",
              "    </tr>\n",
              "    <tr>\n",
              "      <th>24</th>\n",
              "      <td>SESIONES</td>\n",
              "      <td>58.697733</td>\n",
              "    </tr>\n",
              "    <tr>\n",
              "      <th>19</th>\n",
              "      <td>emp_dif</td>\n",
              "      <td>48.515433</td>\n",
              "    </tr>\n",
              "    <tr>\n",
              "      <th>11</th>\n",
              "      <td>TAM_MC</td>\n",
              "      <td>23.321930</td>\n",
              "    </tr>\n",
              "    <tr>\n",
              "      <th>22</th>\n",
              "      <td>difdays</td>\n",
              "      <td>12.198510</td>\n",
              "    </tr>\n",
              "    <tr>\n",
              "      <th>25</th>\n",
              "      <td>numdias</td>\n",
              "      <td>11.445156</td>\n",
              "    </tr>\n",
              "    <tr>\n",
              "      <th>17</th>\n",
              "      <td>Ficha Básica</td>\n",
              "      <td>9.945060</td>\n",
              "    </tr>\n",
              "    <tr>\n",
              "      <th>5</th>\n",
              "      <td>Verde</td>\n",
              "      <td>8.351282</td>\n",
              "    </tr>\n",
              "    <tr>\n",
              "      <th>3</th>\n",
              "      <td>Invalido</td>\n",
              "      <td>8.308309</td>\n",
              "    </tr>\n",
              "    <tr>\n",
              "      <th>7</th>\n",
              "      <td>USUEI</td>\n",
              "      <td>6.510367</td>\n",
              "    </tr>\n",
              "    <tr>\n",
              "      <th>6</th>\n",
              "      <td>USUSCI</td>\n",
              "      <td>6.435169</td>\n",
              "    </tr>\n",
              "    <tr>\n",
              "      <th>10</th>\n",
              "      <td>TAM_PQ</td>\n",
              "      <td>5.465340</td>\n",
              "    </tr>\n",
              "    <tr>\n",
              "      <th>21</th>\n",
              "      <td>diasactivo</td>\n",
              "      <td>5.084445</td>\n",
              "    </tr>\n",
              "    <tr>\n",
              "      <th>20</th>\n",
              "      <td>R_DaysCon</td>\n",
              "      <td>4.570806</td>\n",
              "    </tr>\n",
              "    <tr>\n",
              "      <th>13</th>\n",
              "      <td>ACTIVA</td>\n",
              "      <td>4.460890</td>\n",
              "    </tr>\n",
              "    <tr>\n",
              "      <th>9</th>\n",
              "      <td>TAM_MD</td>\n",
              "      <td>3.483291</td>\n",
              "    </tr>\n",
              "    <tr>\n",
              "      <th>1</th>\n",
              "      <td>DP</td>\n",
              "      <td>3.447322</td>\n",
              "    </tr>\n",
              "    <tr>\n",
              "      <th>8</th>\n",
              "      <td>TAM_GR</td>\n",
              "      <td>3.259611</td>\n",
              "    </tr>\n",
              "    <tr>\n",
              "      <th>2</th>\n",
              "      <td>SEM</td>\n",
              "      <td>2.490851</td>\n",
              "    </tr>\n",
              "    <tr>\n",
              "      <th>26</th>\n",
              "      <td>m_sesiones</td>\n",
              "      <td>2.450881</td>\n",
              "    </tr>\n",
              "    <tr>\n",
              "      <th>0</th>\n",
              "      <td>DE</td>\n",
              "      <td>2.366535</td>\n",
              "    </tr>\n",
              "    <tr>\n",
              "      <th>18</th>\n",
              "      <td>Perfil Promocional</td>\n",
              "      <td>2.012368</td>\n",
              "    </tr>\n",
              "    <tr>\n",
              "      <th>16</th>\n",
              "      <td>BOGOTA</td>\n",
              "      <td>1.532071</td>\n",
              "    </tr>\n",
              "    <tr>\n",
              "      <th>4</th>\n",
              "      <td>Naranja</td>\n",
              "      <td>1.495125</td>\n",
              "    </tr>\n",
              "    <tr>\n",
              "      <th>12</th>\n",
              "      <td>TAM_SD</td>\n",
              "      <td>1.490112</td>\n",
              "    </tr>\n",
              "    <tr>\n",
              "      <th>23</th>\n",
              "      <td>daysInactive</td>\n",
              "      <td>1.027553</td>\n",
              "    </tr>\n",
              "  </tbody>\n",
              "</table>\n",
              "</div>\n",
              "      <button class=\"colab-df-convert\" onclick=\"convertToInteractive('df-6695acef-ca2c-496b-8d2a-488f57417f30')\"\n",
              "              title=\"Convert this dataframe to an interactive table.\"\n",
              "              style=\"display:none;\">\n",
              "        \n",
              "  <svg xmlns=\"http://www.w3.org/2000/svg\" height=\"24px\"viewBox=\"0 0 24 24\"\n",
              "       width=\"24px\">\n",
              "    <path d=\"M0 0h24v24H0V0z\" fill=\"none\"/>\n",
              "    <path d=\"M18.56 5.44l.94 2.06.94-2.06 2.06-.94-2.06-.94-.94-2.06-.94 2.06-2.06.94zm-11 1L8.5 8.5l.94-2.06 2.06-.94-2.06-.94L8.5 2.5l-.94 2.06-2.06.94zm10 10l.94 2.06.94-2.06 2.06-.94-2.06-.94-.94-2.06-.94 2.06-2.06.94z\"/><path d=\"M17.41 7.96l-1.37-1.37c-.4-.4-.92-.59-1.43-.59-.52 0-1.04.2-1.43.59L10.3 9.45l-7.72 7.72c-.78.78-.78 2.05 0 2.83L4 21.41c.39.39.9.59 1.41.59.51 0 1.02-.2 1.41-.59l7.78-7.78 2.81-2.81c.8-.78.8-2.07 0-2.86zM5.41 20L4 18.59l7.72-7.72 1.47 1.35L5.41 20z\"/>\n",
              "  </svg>\n",
              "      </button>\n",
              "      \n",
              "  <style>\n",
              "    .colab-df-container {\n",
              "      display:flex;\n",
              "      flex-wrap:wrap;\n",
              "      gap: 12px;\n",
              "    }\n",
              "\n",
              "    .colab-df-convert {\n",
              "      background-color: #E8F0FE;\n",
              "      border: none;\n",
              "      border-radius: 50%;\n",
              "      cursor: pointer;\n",
              "      display: none;\n",
              "      fill: #1967D2;\n",
              "      height: 32px;\n",
              "      padding: 0 0 0 0;\n",
              "      width: 32px;\n",
              "    }\n",
              "\n",
              "    .colab-df-convert:hover {\n",
              "      background-color: #E2EBFA;\n",
              "      box-shadow: 0px 1px 2px rgba(60, 64, 67, 0.3), 0px 1px 3px 1px rgba(60, 64, 67, 0.15);\n",
              "      fill: #174EA6;\n",
              "    }\n",
              "\n",
              "    [theme=dark] .colab-df-convert {\n",
              "      background-color: #3B4455;\n",
              "      fill: #D2E3FC;\n",
              "    }\n",
              "\n",
              "    [theme=dark] .colab-df-convert:hover {\n",
              "      background-color: #434B5C;\n",
              "      box-shadow: 0px 1px 3px 1px rgba(0, 0, 0, 0.15);\n",
              "      filter: drop-shadow(0px 1px 2px rgba(0, 0, 0, 0.3));\n",
              "      fill: #FFFFFF;\n",
              "    }\n",
              "  </style>\n",
              "\n",
              "      <script>\n",
              "        const buttonEl =\n",
              "          document.querySelector('#df-6695acef-ca2c-496b-8d2a-488f57417f30 button.colab-df-convert');\n",
              "        buttonEl.style.display =\n",
              "          google.colab.kernel.accessAllowed ? 'block' : 'none';\n",
              "\n",
              "        async function convertToInteractive(key) {\n",
              "          const element = document.querySelector('#df-6695acef-ca2c-496b-8d2a-488f57417f30');\n",
              "          const dataTable =\n",
              "            await google.colab.kernel.invokeFunction('convertToInteractive',\n",
              "                                                     [key], {});\n",
              "          if (!dataTable) return;\n",
              "\n",
              "          const docLinkHtml = 'Like what you see? Visit the ' +\n",
              "            '<a target=\"_blank\" href=https://colab.research.google.com/notebooks/data_table.ipynb>data table notebook</a>'\n",
              "            + ' to learn more about interactive tables.';\n",
              "          element.innerHTML = '';\n",
              "          dataTable['output_type'] = 'display_data';\n",
              "          await google.colab.output.renderOutput(dataTable, element);\n",
              "          const docLink = document.createElement('div');\n",
              "          docLink.innerHTML = docLinkHtml;\n",
              "          element.appendChild(docLink);\n",
              "        }\n",
              "      </script>\n",
              "    </div>\n",
              "  </div>\n",
              "  "
            ],
            "text/plain": [
              "               feature        VIF\n",
              "14          ESTADOnull        inf\n",
              "15    DEPARTAMENTOnull        inf\n",
              "24            SESIONES  58.697733\n",
              "19             emp_dif  48.515433\n",
              "11              TAM_MC  23.321930\n",
              "22             difdays  12.198510\n",
              "25             numdias  11.445156\n",
              "17        Ficha Básica   9.945060\n",
              "5                Verde   8.351282\n",
              "3             Invalido   8.308309\n",
              "7                USUEI   6.510367\n",
              "6               USUSCI   6.435169\n",
              "10              TAM_PQ   5.465340\n",
              "21          diasactivo   5.084445\n",
              "20           R_DaysCon   4.570806\n",
              "13              ACTIVA   4.460890\n",
              "9               TAM_MD   3.483291\n",
              "1                   DP   3.447322\n",
              "8               TAM_GR   3.259611\n",
              "2                  SEM   2.490851\n",
              "26          m_sesiones   2.450881\n",
              "0                   DE   2.366535\n",
              "18  Perfil Promocional   2.012368\n",
              "16              BOGOTA   1.532071\n",
              "4              Naranja   1.495125\n",
              "12              TAM_SD   1.490112\n",
              "23        daysInactive   1.027553"
            ]
          },
          "execution_count": 264,
          "metadata": {},
          "output_type": "execute_result"
        }
      ],
      "source": [
        "vif_data.sort_values(['VIF', 'feature'], ascending=False)"
      ]
    },
    {
      "cell_type": "markdown",
      "metadata": {
        "id": "TEeoJBx8II__"
      },
      "source": [
        "Continuamos el mismo proceso con ESTADOnull:"
      ]
    },
    {
      "cell_type": "code",
      "execution_count": null,
      "metadata": {
        "id": "LXMrWC5TIN8r"
      },
      "outputs": [],
      "source": [
        "# Eliminamos por tanto la variable 'ESTADOnull':\n",
        "X = usuarios3[['DE', 'DP', 'SEM', 'Invalido', 'Naranja', 'Verde', 'USUSCI',\n",
        "              'USUEI', 'TAM_GR', 'TAM_MD', 'TAM_PQ', 'TAM_MC', 'TAM_SD', 'ACTIVA',\n",
        "              'DEPARTAMENTOnull', 'BOGOTA', 'Ficha Básica', 'Perfil Promocional',\n",
        "              'emp_dif', 'R_DaysCon', 'diasactivo',\n",
        "              'difdays', 'daysInactive', 'SESIONES', 'numdias', 'm_sesiones']]"
      ]
    },
    {
      "cell_type": "code",
      "execution_count": null,
      "metadata": {
        "id": "kO_yRXWWITOO"
      },
      "outputs": [],
      "source": [
        "# VIF dataframe\n",
        "vif_data = pd.DataFrame()\n",
        "vif_data[\"feature\"] = X.columns"
      ]
    },
    {
      "cell_type": "code",
      "execution_count": null,
      "metadata": {
        "id": "aSdaMSAUIVP1"
      },
      "outputs": [],
      "source": [
        "# calculating VIF for each feature\n",
        "vif_data[\"VIF\"] = [variance_inflation_factor(X.values, i)\n",
        "                          for i in range(len(X.columns))]"
      ]
    },
    {
      "cell_type": "code",
      "execution_count": null,
      "metadata": {
        "colab": {
          "base_uri": "https://localhost:8080/",
          "height": 865
        },
        "id": "jwGWuVWQIXsl",
        "outputId": "500d28e0-d3a7-45dd-dcca-070adbdb41bd"
      },
      "outputs": [
        {
          "data": {
            "text/html": [
              "\n",
              "  <div id=\"df-a0180745-16b9-4341-a241-ae1d9f487c20\">\n",
              "    <div class=\"colab-df-container\">\n",
              "      <div>\n",
              "<style scoped>\n",
              "    .dataframe tbody tr th:only-of-type {\n",
              "        vertical-align: middle;\n",
              "    }\n",
              "\n",
              "    .dataframe tbody tr th {\n",
              "        vertical-align: top;\n",
              "    }\n",
              "\n",
              "    .dataframe thead th {\n",
              "        text-align: right;\n",
              "    }\n",
              "</style>\n",
              "<table border=\"1\" class=\"dataframe\">\n",
              "  <thead>\n",
              "    <tr style=\"text-align: right;\">\n",
              "      <th></th>\n",
              "      <th>feature</th>\n",
              "      <th>VIF</th>\n",
              "    </tr>\n",
              "  </thead>\n",
              "  <tbody>\n",
              "    <tr>\n",
              "      <th>23</th>\n",
              "      <td>SESIONES</td>\n",
              "      <td>58.697733</td>\n",
              "    </tr>\n",
              "    <tr>\n",
              "      <th>18</th>\n",
              "      <td>emp_dif</td>\n",
              "      <td>48.515433</td>\n",
              "    </tr>\n",
              "    <tr>\n",
              "      <th>14</th>\n",
              "      <td>DEPARTAMENTOnull</td>\n",
              "      <td>39.462891</td>\n",
              "    </tr>\n",
              "    <tr>\n",
              "      <th>11</th>\n",
              "      <td>TAM_MC</td>\n",
              "      <td>23.321930</td>\n",
              "    </tr>\n",
              "    <tr>\n",
              "      <th>21</th>\n",
              "      <td>difdays</td>\n",
              "      <td>12.198510</td>\n",
              "    </tr>\n",
              "    <tr>\n",
              "      <th>24</th>\n",
              "      <td>numdias</td>\n",
              "      <td>11.445156</td>\n",
              "    </tr>\n",
              "    <tr>\n",
              "      <th>16</th>\n",
              "      <td>Ficha Básica</td>\n",
              "      <td>9.945060</td>\n",
              "    </tr>\n",
              "    <tr>\n",
              "      <th>5</th>\n",
              "      <td>Verde</td>\n",
              "      <td>8.351282</td>\n",
              "    </tr>\n",
              "    <tr>\n",
              "      <th>3</th>\n",
              "      <td>Invalido</td>\n",
              "      <td>8.308309</td>\n",
              "    </tr>\n",
              "    <tr>\n",
              "      <th>7</th>\n",
              "      <td>USUEI</td>\n",
              "      <td>6.510367</td>\n",
              "    </tr>\n",
              "    <tr>\n",
              "      <th>6</th>\n",
              "      <td>USUSCI</td>\n",
              "      <td>6.435169</td>\n",
              "    </tr>\n",
              "    <tr>\n",
              "      <th>10</th>\n",
              "      <td>TAM_PQ</td>\n",
              "      <td>5.465340</td>\n",
              "    </tr>\n",
              "    <tr>\n",
              "      <th>20</th>\n",
              "      <td>diasactivo</td>\n",
              "      <td>5.084445</td>\n",
              "    </tr>\n",
              "    <tr>\n",
              "      <th>19</th>\n",
              "      <td>R_DaysCon</td>\n",
              "      <td>4.570806</td>\n",
              "    </tr>\n",
              "    <tr>\n",
              "      <th>13</th>\n",
              "      <td>ACTIVA</td>\n",
              "      <td>4.460890</td>\n",
              "    </tr>\n",
              "    <tr>\n",
              "      <th>9</th>\n",
              "      <td>TAM_MD</td>\n",
              "      <td>3.483291</td>\n",
              "    </tr>\n",
              "    <tr>\n",
              "      <th>1</th>\n",
              "      <td>DP</td>\n",
              "      <td>3.447322</td>\n",
              "    </tr>\n",
              "    <tr>\n",
              "      <th>8</th>\n",
              "      <td>TAM_GR</td>\n",
              "      <td>3.259611</td>\n",
              "    </tr>\n",
              "    <tr>\n",
              "      <th>2</th>\n",
              "      <td>SEM</td>\n",
              "      <td>2.490851</td>\n",
              "    </tr>\n",
              "    <tr>\n",
              "      <th>25</th>\n",
              "      <td>m_sesiones</td>\n",
              "      <td>2.450881</td>\n",
              "    </tr>\n",
              "    <tr>\n",
              "      <th>0</th>\n",
              "      <td>DE</td>\n",
              "      <td>2.366535</td>\n",
              "    </tr>\n",
              "    <tr>\n",
              "      <th>17</th>\n",
              "      <td>Perfil Promocional</td>\n",
              "      <td>2.012368</td>\n",
              "    </tr>\n",
              "    <tr>\n",
              "      <th>15</th>\n",
              "      <td>BOGOTA</td>\n",
              "      <td>1.532071</td>\n",
              "    </tr>\n",
              "    <tr>\n",
              "      <th>4</th>\n",
              "      <td>Naranja</td>\n",
              "      <td>1.495125</td>\n",
              "    </tr>\n",
              "    <tr>\n",
              "      <th>12</th>\n",
              "      <td>TAM_SD</td>\n",
              "      <td>1.490112</td>\n",
              "    </tr>\n",
              "    <tr>\n",
              "      <th>22</th>\n",
              "      <td>daysInactive</td>\n",
              "      <td>1.027553</td>\n",
              "    </tr>\n",
              "  </tbody>\n",
              "</table>\n",
              "</div>\n",
              "      <button class=\"colab-df-convert\" onclick=\"convertToInteractive('df-a0180745-16b9-4341-a241-ae1d9f487c20')\"\n",
              "              title=\"Convert this dataframe to an interactive table.\"\n",
              "              style=\"display:none;\">\n",
              "        \n",
              "  <svg xmlns=\"http://www.w3.org/2000/svg\" height=\"24px\"viewBox=\"0 0 24 24\"\n",
              "       width=\"24px\">\n",
              "    <path d=\"M0 0h24v24H0V0z\" fill=\"none\"/>\n",
              "    <path d=\"M18.56 5.44l.94 2.06.94-2.06 2.06-.94-2.06-.94-.94-2.06-.94 2.06-2.06.94zm-11 1L8.5 8.5l.94-2.06 2.06-.94-2.06-.94L8.5 2.5l-.94 2.06-2.06.94zm10 10l.94 2.06.94-2.06 2.06-.94-2.06-.94-.94-2.06-.94 2.06-2.06.94z\"/><path d=\"M17.41 7.96l-1.37-1.37c-.4-.4-.92-.59-1.43-.59-.52 0-1.04.2-1.43.59L10.3 9.45l-7.72 7.72c-.78.78-.78 2.05 0 2.83L4 21.41c.39.39.9.59 1.41.59.51 0 1.02-.2 1.41-.59l7.78-7.78 2.81-2.81c.8-.78.8-2.07 0-2.86zM5.41 20L4 18.59l7.72-7.72 1.47 1.35L5.41 20z\"/>\n",
              "  </svg>\n",
              "      </button>\n",
              "      \n",
              "  <style>\n",
              "    .colab-df-container {\n",
              "      display:flex;\n",
              "      flex-wrap:wrap;\n",
              "      gap: 12px;\n",
              "    }\n",
              "\n",
              "    .colab-df-convert {\n",
              "      background-color: #E8F0FE;\n",
              "      border: none;\n",
              "      border-radius: 50%;\n",
              "      cursor: pointer;\n",
              "      display: none;\n",
              "      fill: #1967D2;\n",
              "      height: 32px;\n",
              "      padding: 0 0 0 0;\n",
              "      width: 32px;\n",
              "    }\n",
              "\n",
              "    .colab-df-convert:hover {\n",
              "      background-color: #E2EBFA;\n",
              "      box-shadow: 0px 1px 2px rgba(60, 64, 67, 0.3), 0px 1px 3px 1px rgba(60, 64, 67, 0.15);\n",
              "      fill: #174EA6;\n",
              "    }\n",
              "\n",
              "    [theme=dark] .colab-df-convert {\n",
              "      background-color: #3B4455;\n",
              "      fill: #D2E3FC;\n",
              "    }\n",
              "\n",
              "    [theme=dark] .colab-df-convert:hover {\n",
              "      background-color: #434B5C;\n",
              "      box-shadow: 0px 1px 3px 1px rgba(0, 0, 0, 0.15);\n",
              "      filter: drop-shadow(0px 1px 2px rgba(0, 0, 0, 0.3));\n",
              "      fill: #FFFFFF;\n",
              "    }\n",
              "  </style>\n",
              "\n",
              "      <script>\n",
              "        const buttonEl =\n",
              "          document.querySelector('#df-a0180745-16b9-4341-a241-ae1d9f487c20 button.colab-df-convert');\n",
              "        buttonEl.style.display =\n",
              "          google.colab.kernel.accessAllowed ? 'block' : 'none';\n",
              "\n",
              "        async function convertToInteractive(key) {\n",
              "          const element = document.querySelector('#df-a0180745-16b9-4341-a241-ae1d9f487c20');\n",
              "          const dataTable =\n",
              "            await google.colab.kernel.invokeFunction('convertToInteractive',\n",
              "                                                     [key], {});\n",
              "          if (!dataTable) return;\n",
              "\n",
              "          const docLinkHtml = 'Like what you see? Visit the ' +\n",
              "            '<a target=\"_blank\" href=https://colab.research.google.com/notebooks/data_table.ipynb>data table notebook</a>'\n",
              "            + ' to learn more about interactive tables.';\n",
              "          element.innerHTML = '';\n",
              "          dataTable['output_type'] = 'display_data';\n",
              "          await google.colab.output.renderOutput(dataTable, element);\n",
              "          const docLink = document.createElement('div');\n",
              "          docLink.innerHTML = docLinkHtml;\n",
              "          element.appendChild(docLink);\n",
              "        }\n",
              "      </script>\n",
              "    </div>\n",
              "  </div>\n",
              "  "
            ],
            "text/plain": [
              "               feature        VIF\n",
              "23            SESIONES  58.697733\n",
              "18             emp_dif  48.515433\n",
              "14    DEPARTAMENTOnull  39.462891\n",
              "11              TAM_MC  23.321930\n",
              "21             difdays  12.198510\n",
              "24             numdias  11.445156\n",
              "16        Ficha Básica   9.945060\n",
              "5                Verde   8.351282\n",
              "3             Invalido   8.308309\n",
              "7                USUEI   6.510367\n",
              "6               USUSCI   6.435169\n",
              "10              TAM_PQ   5.465340\n",
              "20          diasactivo   5.084445\n",
              "19           R_DaysCon   4.570806\n",
              "13              ACTIVA   4.460890\n",
              "9               TAM_MD   3.483291\n",
              "1                   DP   3.447322\n",
              "8               TAM_GR   3.259611\n",
              "2                  SEM   2.490851\n",
              "25          m_sesiones   2.450881\n",
              "0                   DE   2.366535\n",
              "17  Perfil Promocional   2.012368\n",
              "15              BOGOTA   1.532071\n",
              "4              Naranja   1.495125\n",
              "12              TAM_SD   1.490112\n",
              "22        daysInactive   1.027553"
            ]
          },
          "execution_count": 268,
          "metadata": {},
          "output_type": "execute_result"
        }
      ],
      "source": [
        "vif_data.sort_values(['VIF', 'feature'], ascending=False)"
      ]
    },
    {
      "cell_type": "markdown",
      "metadata": {
        "id": "qabS3cn7Ic19"
      },
      "source": [
        "Vemos que ya no existen variables con VIF igual a infinito. Pero, por otro lado, podemos observar que siguen habiendo muchas por encima de 5. Vamos a ir eliminandolas una a una."
      ]
    },
    {
      "cell_type": "code",
      "execution_count": null,
      "metadata": {
        "id": "OG95Au5hIcDP"
      },
      "outputs": [],
      "source": [
        "# Eliminamos por tanto la variable 'SESIONES':\n",
        "X = usuarios3[['DE', 'DP', 'SEM', 'Invalido', 'Naranja', 'Verde', 'USUSCI',\n",
        "              'USUEI', 'TAM_GR', 'TAM_MD', 'TAM_PQ', 'TAM_MC', 'TAM_SD', 'ACTIVA',\n",
        "              'DEPARTAMENTOnull', 'BOGOTA', 'Ficha Básica', 'Perfil Promocional',\n",
        "              'emp_dif', 'R_DaysCon', 'diasactivo',\n",
        "              'difdays', 'daysInactive', 'numdias', 'm_sesiones']]"
      ]
    },
    {
      "cell_type": "code",
      "execution_count": null,
      "metadata": {
        "id": "I4BdlRE2Jp1l"
      },
      "outputs": [],
      "source": [
        "# VIF dataframe\n",
        "vif_data = pd.DataFrame()\n",
        "vif_data[\"feature\"] = X.columns"
      ]
    },
    {
      "cell_type": "code",
      "execution_count": null,
      "metadata": {
        "id": "ckxR1oKpJr6u"
      },
      "outputs": [],
      "source": [
        "# calculating VIF for each feature\n",
        "vif_data[\"VIF\"] = [variance_inflation_factor(X.values, i)\n",
        "                          for i in range(len(X.columns))]"
      ]
    },
    {
      "cell_type": "code",
      "execution_count": null,
      "metadata": {
        "colab": {
          "base_uri": "https://localhost:8080/",
          "height": 833
        },
        "id": "DWuk3Vf8KB2K",
        "outputId": "9f299015-1dc3-4c3b-db5d-4933bf4d0e09"
      },
      "outputs": [
        {
          "data": {
            "text/html": [
              "\n",
              "  <div id=\"df-043b3148-e477-4713-b25b-5719c0dd0fd8\">\n",
              "    <div class=\"colab-df-container\">\n",
              "      <div>\n",
              "<style scoped>\n",
              "    .dataframe tbody tr th:only-of-type {\n",
              "        vertical-align: middle;\n",
              "    }\n",
              "\n",
              "    .dataframe tbody tr th {\n",
              "        vertical-align: top;\n",
              "    }\n",
              "\n",
              "    .dataframe thead th {\n",
              "        text-align: right;\n",
              "    }\n",
              "</style>\n",
              "<table border=\"1\" class=\"dataframe\">\n",
              "  <thead>\n",
              "    <tr style=\"text-align: right;\">\n",
              "      <th></th>\n",
              "      <th>feature</th>\n",
              "      <th>VIF</th>\n",
              "    </tr>\n",
              "  </thead>\n",
              "  <tbody>\n",
              "    <tr>\n",
              "      <th>14</th>\n",
              "      <td>DEPARTAMENTOnull</td>\n",
              "      <td>39.442489</td>\n",
              "    </tr>\n",
              "    <tr>\n",
              "      <th>11</th>\n",
              "      <td>TAM_MC</td>\n",
              "      <td>23.319217</td>\n",
              "    </tr>\n",
              "    <tr>\n",
              "      <th>21</th>\n",
              "      <td>difdays</td>\n",
              "      <td>12.018356</td>\n",
              "    </tr>\n",
              "    <tr>\n",
              "      <th>23</th>\n",
              "      <td>numdias</td>\n",
              "      <td>11.052683</td>\n",
              "    </tr>\n",
              "    <tr>\n",
              "      <th>16</th>\n",
              "      <td>Ficha Básica</td>\n",
              "      <td>8.977151</td>\n",
              "    </tr>\n",
              "    <tr>\n",
              "      <th>18</th>\n",
              "      <td>emp_dif</td>\n",
              "      <td>8.817942</td>\n",
              "    </tr>\n",
              "    <tr>\n",
              "      <th>5</th>\n",
              "      <td>Verde</td>\n",
              "      <td>8.350117</td>\n",
              "    </tr>\n",
              "    <tr>\n",
              "      <th>3</th>\n",
              "      <td>Invalido</td>\n",
              "      <td>8.307901</td>\n",
              "    </tr>\n",
              "    <tr>\n",
              "      <th>7</th>\n",
              "      <td>USUEI</td>\n",
              "      <td>6.510367</td>\n",
              "    </tr>\n",
              "    <tr>\n",
              "      <th>6</th>\n",
              "      <td>USUSCI</td>\n",
              "      <td>6.434829</td>\n",
              "    </tr>\n",
              "    <tr>\n",
              "      <th>10</th>\n",
              "      <td>TAM_PQ</td>\n",
              "      <td>5.464330</td>\n",
              "    </tr>\n",
              "    <tr>\n",
              "      <th>20</th>\n",
              "      <td>diasactivo</td>\n",
              "      <td>5.051614</td>\n",
              "    </tr>\n",
              "    <tr>\n",
              "      <th>19</th>\n",
              "      <td>R_DaysCon</td>\n",
              "      <td>4.534348</td>\n",
              "    </tr>\n",
              "    <tr>\n",
              "      <th>13</th>\n",
              "      <td>ACTIVA</td>\n",
              "      <td>4.460886</td>\n",
              "    </tr>\n",
              "    <tr>\n",
              "      <th>9</th>\n",
              "      <td>TAM_MD</td>\n",
              "      <td>3.481492</td>\n",
              "    </tr>\n",
              "    <tr>\n",
              "      <th>1</th>\n",
              "      <td>DP</td>\n",
              "      <td>3.442895</td>\n",
              "    </tr>\n",
              "    <tr>\n",
              "      <th>8</th>\n",
              "      <td>TAM_GR</td>\n",
              "      <td>3.258641</td>\n",
              "    </tr>\n",
              "    <tr>\n",
              "      <th>2</th>\n",
              "      <td>SEM</td>\n",
              "      <td>2.490837</td>\n",
              "    </tr>\n",
              "    <tr>\n",
              "      <th>0</th>\n",
              "      <td>DE</td>\n",
              "      <td>2.363730</td>\n",
              "    </tr>\n",
              "    <tr>\n",
              "      <th>17</th>\n",
              "      <td>Perfil Promocional</td>\n",
              "      <td>1.934664</td>\n",
              "    </tr>\n",
              "    <tr>\n",
              "      <th>24</th>\n",
              "      <td>m_sesiones</td>\n",
              "      <td>1.894078</td>\n",
              "    </tr>\n",
              "    <tr>\n",
              "      <th>15</th>\n",
              "      <td>BOGOTA</td>\n",
              "      <td>1.532014</td>\n",
              "    </tr>\n",
              "    <tr>\n",
              "      <th>4</th>\n",
              "      <td>Naranja</td>\n",
              "      <td>1.494603</td>\n",
              "    </tr>\n",
              "    <tr>\n",
              "      <th>12</th>\n",
              "      <td>TAM_SD</td>\n",
              "      <td>1.489989</td>\n",
              "    </tr>\n",
              "    <tr>\n",
              "      <th>22</th>\n",
              "      <td>daysInactive</td>\n",
              "      <td>1.027387</td>\n",
              "    </tr>\n",
              "  </tbody>\n",
              "</table>\n",
              "</div>\n",
              "      <button class=\"colab-df-convert\" onclick=\"convertToInteractive('df-043b3148-e477-4713-b25b-5719c0dd0fd8')\"\n",
              "              title=\"Convert this dataframe to an interactive table.\"\n",
              "              style=\"display:none;\">\n",
              "        \n",
              "  <svg xmlns=\"http://www.w3.org/2000/svg\" height=\"24px\"viewBox=\"0 0 24 24\"\n",
              "       width=\"24px\">\n",
              "    <path d=\"M0 0h24v24H0V0z\" fill=\"none\"/>\n",
              "    <path d=\"M18.56 5.44l.94 2.06.94-2.06 2.06-.94-2.06-.94-.94-2.06-.94 2.06-2.06.94zm-11 1L8.5 8.5l.94-2.06 2.06-.94-2.06-.94L8.5 2.5l-.94 2.06-2.06.94zm10 10l.94 2.06.94-2.06 2.06-.94-2.06-.94-.94-2.06-.94 2.06-2.06.94z\"/><path d=\"M17.41 7.96l-1.37-1.37c-.4-.4-.92-.59-1.43-.59-.52 0-1.04.2-1.43.59L10.3 9.45l-7.72 7.72c-.78.78-.78 2.05 0 2.83L4 21.41c.39.39.9.59 1.41.59.51 0 1.02-.2 1.41-.59l7.78-7.78 2.81-2.81c.8-.78.8-2.07 0-2.86zM5.41 20L4 18.59l7.72-7.72 1.47 1.35L5.41 20z\"/>\n",
              "  </svg>\n",
              "      </button>\n",
              "      \n",
              "  <style>\n",
              "    .colab-df-container {\n",
              "      display:flex;\n",
              "      flex-wrap:wrap;\n",
              "      gap: 12px;\n",
              "    }\n",
              "\n",
              "    .colab-df-convert {\n",
              "      background-color: #E8F0FE;\n",
              "      border: none;\n",
              "      border-radius: 50%;\n",
              "      cursor: pointer;\n",
              "      display: none;\n",
              "      fill: #1967D2;\n",
              "      height: 32px;\n",
              "      padding: 0 0 0 0;\n",
              "      width: 32px;\n",
              "    }\n",
              "\n",
              "    .colab-df-convert:hover {\n",
              "      background-color: #E2EBFA;\n",
              "      box-shadow: 0px 1px 2px rgba(60, 64, 67, 0.3), 0px 1px 3px 1px rgba(60, 64, 67, 0.15);\n",
              "      fill: #174EA6;\n",
              "    }\n",
              "\n",
              "    [theme=dark] .colab-df-convert {\n",
              "      background-color: #3B4455;\n",
              "      fill: #D2E3FC;\n",
              "    }\n",
              "\n",
              "    [theme=dark] .colab-df-convert:hover {\n",
              "      background-color: #434B5C;\n",
              "      box-shadow: 0px 1px 3px 1px rgba(0, 0, 0, 0.15);\n",
              "      filter: drop-shadow(0px 1px 2px rgba(0, 0, 0, 0.3));\n",
              "      fill: #FFFFFF;\n",
              "    }\n",
              "  </style>\n",
              "\n",
              "      <script>\n",
              "        const buttonEl =\n",
              "          document.querySelector('#df-043b3148-e477-4713-b25b-5719c0dd0fd8 button.colab-df-convert');\n",
              "        buttonEl.style.display =\n",
              "          google.colab.kernel.accessAllowed ? 'block' : 'none';\n",
              "\n",
              "        async function convertToInteractive(key) {\n",
              "          const element = document.querySelector('#df-043b3148-e477-4713-b25b-5719c0dd0fd8');\n",
              "          const dataTable =\n",
              "            await google.colab.kernel.invokeFunction('convertToInteractive',\n",
              "                                                     [key], {});\n",
              "          if (!dataTable) return;\n",
              "\n",
              "          const docLinkHtml = 'Like what you see? Visit the ' +\n",
              "            '<a target=\"_blank\" href=https://colab.research.google.com/notebooks/data_table.ipynb>data table notebook</a>'\n",
              "            + ' to learn more about interactive tables.';\n",
              "          element.innerHTML = '';\n",
              "          dataTable['output_type'] = 'display_data';\n",
              "          await google.colab.output.renderOutput(dataTable, element);\n",
              "          const docLink = document.createElement('div');\n",
              "          docLink.innerHTML = docLinkHtml;\n",
              "          element.appendChild(docLink);\n",
              "        }\n",
              "      </script>\n",
              "    </div>\n",
              "  </div>\n",
              "  "
            ],
            "text/plain": [
              "               feature        VIF\n",
              "14    DEPARTAMENTOnull  39.442489\n",
              "11              TAM_MC  23.319217\n",
              "21             difdays  12.018356\n",
              "23             numdias  11.052683\n",
              "16        Ficha Básica   8.977151\n",
              "18             emp_dif   8.817942\n",
              "5                Verde   8.350117\n",
              "3             Invalido   8.307901\n",
              "7                USUEI   6.510367\n",
              "6               USUSCI   6.434829\n",
              "10              TAM_PQ   5.464330\n",
              "20          diasactivo   5.051614\n",
              "19           R_DaysCon   4.534348\n",
              "13              ACTIVA   4.460886\n",
              "9               TAM_MD   3.481492\n",
              "1                   DP   3.442895\n",
              "8               TAM_GR   3.258641\n",
              "2                  SEM   2.490837\n",
              "0                   DE   2.363730\n",
              "17  Perfil Promocional   1.934664\n",
              "24          m_sesiones   1.894078\n",
              "15              BOGOTA   1.532014\n",
              "4              Naranja   1.494603\n",
              "12              TAM_SD   1.489989\n",
              "22        daysInactive   1.027387"
            ]
          },
          "execution_count": 272,
          "metadata": {},
          "output_type": "execute_result"
        }
      ],
      "source": [
        "vif_data.sort_values(['VIF', 'feature'], ascending=False)"
      ]
    },
    {
      "cell_type": "markdown",
      "metadata": {
        "id": "mW2-ioaKKLbX"
      },
      "source": [
        "Seguimos con DEPARTAMENTOnull:"
      ]
    },
    {
      "cell_type": "code",
      "execution_count": null,
      "metadata": {
        "id": "Cd6JPmLQKPvt"
      },
      "outputs": [],
      "source": [
        "# Eliminamos por tanto la variable 'DEPARTAMENTOnull':\n",
        "X = usuarios3[['DE', 'DP', 'SEM', 'Invalido', 'Naranja', 'Verde', 'USUSCI',\n",
        "              'USUEI', 'TAM_GR', 'TAM_MD', 'TAM_PQ', 'TAM_MC', 'TAM_SD', 'ACTIVA',\n",
        "              'BOGOTA', 'Ficha Básica', 'Perfil Promocional',\n",
        "              'emp_dif', 'R_DaysCon', 'diasactivo',\n",
        "              'difdays', 'daysInactive', 'numdias', 'm_sesiones']]"
      ]
    },
    {
      "cell_type": "code",
      "execution_count": null,
      "metadata": {
        "id": "I0v9RG29KYQH"
      },
      "outputs": [],
      "source": [
        "# VIF dataframe\n",
        "vif_data = pd.DataFrame()\n",
        "vif_data[\"feature\"] = X.columns"
      ]
    },
    {
      "cell_type": "code",
      "execution_count": null,
      "metadata": {
        "id": "0E7shphGKblx"
      },
      "outputs": [],
      "source": [
        "# calculating VIF for each feature\n",
        "vif_data[\"VIF\"] = [variance_inflation_factor(X.values, i)\n",
        "                          for i in range(len(X.columns))]"
      ]
    },
    {
      "cell_type": "code",
      "execution_count": null,
      "metadata": {
        "colab": {
          "base_uri": "https://localhost:8080/",
          "height": 802
        },
        "id": "LtinQ-KhKeFq",
        "outputId": "ea185a2a-0e01-422d-c160-411467cff03b"
      },
      "outputs": [
        {
          "data": {
            "text/html": [
              "\n",
              "  <div id=\"df-cc40f0e9-0788-4d61-b230-326d72b48d3a\">\n",
              "    <div class=\"colab-df-container\">\n",
              "      <div>\n",
              "<style scoped>\n",
              "    .dataframe tbody tr th:only-of-type {\n",
              "        vertical-align: middle;\n",
              "    }\n",
              "\n",
              "    .dataframe tbody tr th {\n",
              "        vertical-align: top;\n",
              "    }\n",
              "\n",
              "    .dataframe thead th {\n",
              "        text-align: right;\n",
              "    }\n",
              "</style>\n",
              "<table border=\"1\" class=\"dataframe\">\n",
              "  <thead>\n",
              "    <tr style=\"text-align: right;\">\n",
              "      <th></th>\n",
              "      <th>feature</th>\n",
              "      <th>VIF</th>\n",
              "    </tr>\n",
              "  </thead>\n",
              "  <tbody>\n",
              "    <tr>\n",
              "      <th>20</th>\n",
              "      <td>difdays</td>\n",
              "      <td>32.522566</td>\n",
              "    </tr>\n",
              "    <tr>\n",
              "      <th>22</th>\n",
              "      <td>numdias</td>\n",
              "      <td>27.419248</td>\n",
              "    </tr>\n",
              "    <tr>\n",
              "      <th>11</th>\n",
              "      <td>TAM_MC</td>\n",
              "      <td>14.708358</td>\n",
              "    </tr>\n",
              "    <tr>\n",
              "      <th>17</th>\n",
              "      <td>emp_dif</td>\n",
              "      <td>9.145233</td>\n",
              "    </tr>\n",
              "    <tr>\n",
              "      <th>5</th>\n",
              "      <td>Verde</td>\n",
              "      <td>9.133605</td>\n",
              "    </tr>\n",
              "    <tr>\n",
              "      <th>15</th>\n",
              "      <td>Ficha Básica</td>\n",
              "      <td>8.961305</td>\n",
              "    </tr>\n",
              "    <tr>\n",
              "      <th>6</th>\n",
              "      <td>USUSCI</td>\n",
              "      <td>7.303103</td>\n",
              "    </tr>\n",
              "    <tr>\n",
              "      <th>7</th>\n",
              "      <td>USUEI</td>\n",
              "      <td>7.284027</td>\n",
              "    </tr>\n",
              "    <tr>\n",
              "      <th>1</th>\n",
              "      <td>DP</td>\n",
              "      <td>6.042787</td>\n",
              "    </tr>\n",
              "    <tr>\n",
              "      <th>13</th>\n",
              "      <td>ACTIVA</td>\n",
              "      <td>5.550556</td>\n",
              "    </tr>\n",
              "    <tr>\n",
              "      <th>19</th>\n",
              "      <td>diasactivo</td>\n",
              "      <td>5.287115</td>\n",
              "    </tr>\n",
              "    <tr>\n",
              "      <th>18</th>\n",
              "      <td>R_DaysCon</td>\n",
              "      <td>4.717903</td>\n",
              "    </tr>\n",
              "    <tr>\n",
              "      <th>10</th>\n",
              "      <td>TAM_PQ</td>\n",
              "      <td>3.794770</td>\n",
              "    </tr>\n",
              "    <tr>\n",
              "      <th>3</th>\n",
              "      <td>Invalido</td>\n",
              "      <td>3.508287</td>\n",
              "    </tr>\n",
              "    <tr>\n",
              "      <th>23</th>\n",
              "      <td>m_sesiones</td>\n",
              "      <td>3.328572</td>\n",
              "    </tr>\n",
              "    <tr>\n",
              "      <th>16</th>\n",
              "      <td>Perfil Promocional</td>\n",
              "      <td>2.842767</td>\n",
              "    </tr>\n",
              "    <tr>\n",
              "      <th>2</th>\n",
              "      <td>SEM</td>\n",
              "      <td>2.785407</td>\n",
              "    </tr>\n",
              "    <tr>\n",
              "      <th>9</th>\n",
              "      <td>TAM_MD</td>\n",
              "      <td>2.511991</td>\n",
              "    </tr>\n",
              "    <tr>\n",
              "      <th>0</th>\n",
              "      <td>DE</td>\n",
              "      <td>2.423490</td>\n",
              "    </tr>\n",
              "    <tr>\n",
              "      <th>8</th>\n",
              "      <td>TAM_GR</td>\n",
              "      <td>2.306577</td>\n",
              "    </tr>\n",
              "    <tr>\n",
              "      <th>14</th>\n",
              "      <td>BOGOTA</td>\n",
              "      <td>1.691387</td>\n",
              "    </tr>\n",
              "    <tr>\n",
              "      <th>12</th>\n",
              "      <td>TAM_SD</td>\n",
              "      <td>1.251916</td>\n",
              "    </tr>\n",
              "    <tr>\n",
              "      <th>4</th>\n",
              "      <td>Naranja</td>\n",
              "      <td>1.144612</td>\n",
              "    </tr>\n",
              "    <tr>\n",
              "      <th>21</th>\n",
              "      <td>daysInactive</td>\n",
              "      <td>1.028994</td>\n",
              "    </tr>\n",
              "  </tbody>\n",
              "</table>\n",
              "</div>\n",
              "      <button class=\"colab-df-convert\" onclick=\"convertToInteractive('df-cc40f0e9-0788-4d61-b230-326d72b48d3a')\"\n",
              "              title=\"Convert this dataframe to an interactive table.\"\n",
              "              style=\"display:none;\">\n",
              "        \n",
              "  <svg xmlns=\"http://www.w3.org/2000/svg\" height=\"24px\"viewBox=\"0 0 24 24\"\n",
              "       width=\"24px\">\n",
              "    <path d=\"M0 0h24v24H0V0z\" fill=\"none\"/>\n",
              "    <path d=\"M18.56 5.44l.94 2.06.94-2.06 2.06-.94-2.06-.94-.94-2.06-.94 2.06-2.06.94zm-11 1L8.5 8.5l.94-2.06 2.06-.94-2.06-.94L8.5 2.5l-.94 2.06-2.06.94zm10 10l.94 2.06.94-2.06 2.06-.94-2.06-.94-.94-2.06-.94 2.06-2.06.94z\"/><path d=\"M17.41 7.96l-1.37-1.37c-.4-.4-.92-.59-1.43-.59-.52 0-1.04.2-1.43.59L10.3 9.45l-7.72 7.72c-.78.78-.78 2.05 0 2.83L4 21.41c.39.39.9.59 1.41.59.51 0 1.02-.2 1.41-.59l7.78-7.78 2.81-2.81c.8-.78.8-2.07 0-2.86zM5.41 20L4 18.59l7.72-7.72 1.47 1.35L5.41 20z\"/>\n",
              "  </svg>\n",
              "      </button>\n",
              "      \n",
              "  <style>\n",
              "    .colab-df-container {\n",
              "      display:flex;\n",
              "      flex-wrap:wrap;\n",
              "      gap: 12px;\n",
              "    }\n",
              "\n",
              "    .colab-df-convert {\n",
              "      background-color: #E8F0FE;\n",
              "      border: none;\n",
              "      border-radius: 50%;\n",
              "      cursor: pointer;\n",
              "      display: none;\n",
              "      fill: #1967D2;\n",
              "      height: 32px;\n",
              "      padding: 0 0 0 0;\n",
              "      width: 32px;\n",
              "    }\n",
              "\n",
              "    .colab-df-convert:hover {\n",
              "      background-color: #E2EBFA;\n",
              "      box-shadow: 0px 1px 2px rgba(60, 64, 67, 0.3), 0px 1px 3px 1px rgba(60, 64, 67, 0.15);\n",
              "      fill: #174EA6;\n",
              "    }\n",
              "\n",
              "    [theme=dark] .colab-df-convert {\n",
              "      background-color: #3B4455;\n",
              "      fill: #D2E3FC;\n",
              "    }\n",
              "\n",
              "    [theme=dark] .colab-df-convert:hover {\n",
              "      background-color: #434B5C;\n",
              "      box-shadow: 0px 1px 3px 1px rgba(0, 0, 0, 0.15);\n",
              "      filter: drop-shadow(0px 1px 2px rgba(0, 0, 0, 0.3));\n",
              "      fill: #FFFFFF;\n",
              "    }\n",
              "  </style>\n",
              "\n",
              "      <script>\n",
              "        const buttonEl =\n",
              "          document.querySelector('#df-cc40f0e9-0788-4d61-b230-326d72b48d3a button.colab-df-convert');\n",
              "        buttonEl.style.display =\n",
              "          google.colab.kernel.accessAllowed ? 'block' : 'none';\n",
              "\n",
              "        async function convertToInteractive(key) {\n",
              "          const element = document.querySelector('#df-cc40f0e9-0788-4d61-b230-326d72b48d3a');\n",
              "          const dataTable =\n",
              "            await google.colab.kernel.invokeFunction('convertToInteractive',\n",
              "                                                     [key], {});\n",
              "          if (!dataTable) return;\n",
              "\n",
              "          const docLinkHtml = 'Like what you see? Visit the ' +\n",
              "            '<a target=\"_blank\" href=https://colab.research.google.com/notebooks/data_table.ipynb>data table notebook</a>'\n",
              "            + ' to learn more about interactive tables.';\n",
              "          element.innerHTML = '';\n",
              "          dataTable['output_type'] = 'display_data';\n",
              "          await google.colab.output.renderOutput(dataTable, element);\n",
              "          const docLink = document.createElement('div');\n",
              "          docLink.innerHTML = docLinkHtml;\n",
              "          element.appendChild(docLink);\n",
              "        }\n",
              "      </script>\n",
              "    </div>\n",
              "  </div>\n",
              "  "
            ],
            "text/plain": [
              "               feature        VIF\n",
              "20             difdays  32.522566\n",
              "22             numdias  27.419248\n",
              "11              TAM_MC  14.708358\n",
              "17             emp_dif   9.145233\n",
              "5                Verde   9.133605\n",
              "15        Ficha Básica   8.961305\n",
              "6               USUSCI   7.303103\n",
              "7                USUEI   7.284027\n",
              "1                   DP   6.042787\n",
              "13              ACTIVA   5.550556\n",
              "19          diasactivo   5.287115\n",
              "18           R_DaysCon   4.717903\n",
              "10              TAM_PQ   3.794770\n",
              "3             Invalido   3.508287\n",
              "23          m_sesiones   3.328572\n",
              "16  Perfil Promocional   2.842767\n",
              "2                  SEM   2.785407\n",
              "9               TAM_MD   2.511991\n",
              "0                   DE   2.423490\n",
              "8               TAM_GR   2.306577\n",
              "14              BOGOTA   1.691387\n",
              "12              TAM_SD   1.251916\n",
              "4              Naranja   1.144612\n",
              "21        daysInactive   1.028994"
            ]
          },
          "execution_count": 276,
          "metadata": {},
          "output_type": "execute_result"
        }
      ],
      "source": [
        "vif_data.sort_values(['VIF', 'feature'], ascending=False)"
      ]
    },
    {
      "cell_type": "markdown",
      "metadata": {
        "id": "SijJ4QWMKn1c"
      },
      "source": [
        "Continuamos con diffdays:"
      ]
    },
    {
      "cell_type": "code",
      "execution_count": null,
      "metadata": {
        "id": "EqbsKyXMKt1a"
      },
      "outputs": [],
      "source": [
        "# Eliminamos por tanto la variable 'diffdays':\n",
        "X = usuarios3[['DE', 'DP', 'SEM', 'Invalido', 'Naranja', 'Verde', 'USUSCI',\n",
        "              'USUEI', 'TAM_GR', 'TAM_MD', 'TAM_PQ', 'TAM_MC', 'TAM_SD', 'ACTIVA',\n",
        "              'BOGOTA', 'Ficha Básica', 'Perfil Promocional',\n",
        "              'emp_dif', 'R_DaysCon', 'diasactivo',\n",
        "              'daysInactive', 'numdias', 'm_sesiones']]"
      ]
    },
    {
      "cell_type": "code",
      "execution_count": null,
      "metadata": {
        "id": "JzpuP0XdKxE1"
      },
      "outputs": [],
      "source": [
        "# VIF dataframe\n",
        "vif_data = pd.DataFrame()\n",
        "vif_data[\"feature\"] = X.columns"
      ]
    },
    {
      "cell_type": "code",
      "execution_count": null,
      "metadata": {
        "id": "cCsC6MyIKy22"
      },
      "outputs": [],
      "source": [
        "# calculating VIF for each feature\n",
        "vif_data[\"VIF\"] = [variance_inflation_factor(X.values, i)\n",
        "                          for i in range(len(X.columns))]"
      ]
    },
    {
      "cell_type": "code",
      "execution_count": null,
      "metadata": {
        "colab": {
          "base_uri": "https://localhost:8080/",
          "height": 770
        },
        "id": "QNVSsDNlK0wD",
        "outputId": "9e975782-4972-4c28-cab0-c52693f72db7"
      },
      "outputs": [
        {
          "data": {
            "text/html": [
              "\n",
              "  <div id=\"df-b912ac1f-1a7e-4924-9e38-6b2af3f31409\">\n",
              "    <div class=\"colab-df-container\">\n",
              "      <div>\n",
              "<style scoped>\n",
              "    .dataframe tbody tr th:only-of-type {\n",
              "        vertical-align: middle;\n",
              "    }\n",
              "\n",
              "    .dataframe tbody tr th {\n",
              "        vertical-align: top;\n",
              "    }\n",
              "\n",
              "    .dataframe thead th {\n",
              "        text-align: right;\n",
              "    }\n",
              "</style>\n",
              "<table border=\"1\" class=\"dataframe\">\n",
              "  <thead>\n",
              "    <tr style=\"text-align: right;\">\n",
              "      <th></th>\n",
              "      <th>feature</th>\n",
              "      <th>VIF</th>\n",
              "    </tr>\n",
              "  </thead>\n",
              "  <tbody>\n",
              "    <tr>\n",
              "      <th>11</th>\n",
              "      <td>TAM_MC</td>\n",
              "      <td>14.707922</td>\n",
              "    </tr>\n",
              "    <tr>\n",
              "      <th>17</th>\n",
              "      <td>emp_dif</td>\n",
              "      <td>9.116268</td>\n",
              "    </tr>\n",
              "    <tr>\n",
              "      <th>15</th>\n",
              "      <td>Ficha Básica</td>\n",
              "      <td>8.948093</td>\n",
              "    </tr>\n",
              "    <tr>\n",
              "      <th>5</th>\n",
              "      <td>Verde</td>\n",
              "      <td>8.890061</td>\n",
              "    </tr>\n",
              "    <tr>\n",
              "      <th>6</th>\n",
              "      <td>USUSCI</td>\n",
              "      <td>7.302485</td>\n",
              "    </tr>\n",
              "    <tr>\n",
              "      <th>7</th>\n",
              "      <td>USUEI</td>\n",
              "      <td>7.284017</td>\n",
              "    </tr>\n",
              "    <tr>\n",
              "      <th>21</th>\n",
              "      <td>numdias</td>\n",
              "      <td>6.144525</td>\n",
              "    </tr>\n",
              "    <tr>\n",
              "      <th>1</th>\n",
              "      <td>DP</td>\n",
              "      <td>6.019836</td>\n",
              "    </tr>\n",
              "    <tr>\n",
              "      <th>13</th>\n",
              "      <td>ACTIVA</td>\n",
              "      <td>5.550482</td>\n",
              "    </tr>\n",
              "    <tr>\n",
              "      <th>19</th>\n",
              "      <td>diasactivo</td>\n",
              "      <td>5.201549</td>\n",
              "    </tr>\n",
              "    <tr>\n",
              "      <th>18</th>\n",
              "      <td>R_DaysCon</td>\n",
              "      <td>4.709343</td>\n",
              "    </tr>\n",
              "    <tr>\n",
              "      <th>10</th>\n",
              "      <td>TAM_PQ</td>\n",
              "      <td>3.794290</td>\n",
              "    </tr>\n",
              "    <tr>\n",
              "      <th>3</th>\n",
              "      <td>Invalido</td>\n",
              "      <td>3.423766</td>\n",
              "    </tr>\n",
              "    <tr>\n",
              "      <th>22</th>\n",
              "      <td>m_sesiones</td>\n",
              "      <td>3.320778</td>\n",
              "    </tr>\n",
              "    <tr>\n",
              "      <th>2</th>\n",
              "      <td>SEM</td>\n",
              "      <td>2.779986</td>\n",
              "    </tr>\n",
              "    <tr>\n",
              "      <th>16</th>\n",
              "      <td>Perfil Promocional</td>\n",
              "      <td>2.700822</td>\n",
              "    </tr>\n",
              "    <tr>\n",
              "      <th>9</th>\n",
              "      <td>TAM_MD</td>\n",
              "      <td>2.511986</td>\n",
              "    </tr>\n",
              "    <tr>\n",
              "      <th>0</th>\n",
              "      <td>DE</td>\n",
              "      <td>2.417123</td>\n",
              "    </tr>\n",
              "    <tr>\n",
              "      <th>8</th>\n",
              "      <td>TAM_GR</td>\n",
              "      <td>2.306567</td>\n",
              "    </tr>\n",
              "    <tr>\n",
              "      <th>14</th>\n",
              "      <td>BOGOTA</td>\n",
              "      <td>1.691386</td>\n",
              "    </tr>\n",
              "    <tr>\n",
              "      <th>12</th>\n",
              "      <td>TAM_SD</td>\n",
              "      <td>1.251906</td>\n",
              "    </tr>\n",
              "    <tr>\n",
              "      <th>4</th>\n",
              "      <td>Naranja</td>\n",
              "      <td>1.139918</td>\n",
              "    </tr>\n",
              "    <tr>\n",
              "      <th>20</th>\n",
              "      <td>daysInactive</td>\n",
              "      <td>1.012453</td>\n",
              "    </tr>\n",
              "  </tbody>\n",
              "</table>\n",
              "</div>\n",
              "      <button class=\"colab-df-convert\" onclick=\"convertToInteractive('df-b912ac1f-1a7e-4924-9e38-6b2af3f31409')\"\n",
              "              title=\"Convert this dataframe to an interactive table.\"\n",
              "              style=\"display:none;\">\n",
              "        \n",
              "  <svg xmlns=\"http://www.w3.org/2000/svg\" height=\"24px\"viewBox=\"0 0 24 24\"\n",
              "       width=\"24px\">\n",
              "    <path d=\"M0 0h24v24H0V0z\" fill=\"none\"/>\n",
              "    <path d=\"M18.56 5.44l.94 2.06.94-2.06 2.06-.94-2.06-.94-.94-2.06-.94 2.06-2.06.94zm-11 1L8.5 8.5l.94-2.06 2.06-.94-2.06-.94L8.5 2.5l-.94 2.06-2.06.94zm10 10l.94 2.06.94-2.06 2.06-.94-2.06-.94-.94-2.06-.94 2.06-2.06.94z\"/><path d=\"M17.41 7.96l-1.37-1.37c-.4-.4-.92-.59-1.43-.59-.52 0-1.04.2-1.43.59L10.3 9.45l-7.72 7.72c-.78.78-.78 2.05 0 2.83L4 21.41c.39.39.9.59 1.41.59.51 0 1.02-.2 1.41-.59l7.78-7.78 2.81-2.81c.8-.78.8-2.07 0-2.86zM5.41 20L4 18.59l7.72-7.72 1.47 1.35L5.41 20z\"/>\n",
              "  </svg>\n",
              "      </button>\n",
              "      \n",
              "  <style>\n",
              "    .colab-df-container {\n",
              "      display:flex;\n",
              "      flex-wrap:wrap;\n",
              "      gap: 12px;\n",
              "    }\n",
              "\n",
              "    .colab-df-convert {\n",
              "      background-color: #E8F0FE;\n",
              "      border: none;\n",
              "      border-radius: 50%;\n",
              "      cursor: pointer;\n",
              "      display: none;\n",
              "      fill: #1967D2;\n",
              "      height: 32px;\n",
              "      padding: 0 0 0 0;\n",
              "      width: 32px;\n",
              "    }\n",
              "\n",
              "    .colab-df-convert:hover {\n",
              "      background-color: #E2EBFA;\n",
              "      box-shadow: 0px 1px 2px rgba(60, 64, 67, 0.3), 0px 1px 3px 1px rgba(60, 64, 67, 0.15);\n",
              "      fill: #174EA6;\n",
              "    }\n",
              "\n",
              "    [theme=dark] .colab-df-convert {\n",
              "      background-color: #3B4455;\n",
              "      fill: #D2E3FC;\n",
              "    }\n",
              "\n",
              "    [theme=dark] .colab-df-convert:hover {\n",
              "      background-color: #434B5C;\n",
              "      box-shadow: 0px 1px 3px 1px rgba(0, 0, 0, 0.15);\n",
              "      filter: drop-shadow(0px 1px 2px rgba(0, 0, 0, 0.3));\n",
              "      fill: #FFFFFF;\n",
              "    }\n",
              "  </style>\n",
              "\n",
              "      <script>\n",
              "        const buttonEl =\n",
              "          document.querySelector('#df-b912ac1f-1a7e-4924-9e38-6b2af3f31409 button.colab-df-convert');\n",
              "        buttonEl.style.display =\n",
              "          google.colab.kernel.accessAllowed ? 'block' : 'none';\n",
              "\n",
              "        async function convertToInteractive(key) {\n",
              "          const element = document.querySelector('#df-b912ac1f-1a7e-4924-9e38-6b2af3f31409');\n",
              "          const dataTable =\n",
              "            await google.colab.kernel.invokeFunction('convertToInteractive',\n",
              "                                                     [key], {});\n",
              "          if (!dataTable) return;\n",
              "\n",
              "          const docLinkHtml = 'Like what you see? Visit the ' +\n",
              "            '<a target=\"_blank\" href=https://colab.research.google.com/notebooks/data_table.ipynb>data table notebook</a>'\n",
              "            + ' to learn more about interactive tables.';\n",
              "          element.innerHTML = '';\n",
              "          dataTable['output_type'] = 'display_data';\n",
              "          await google.colab.output.renderOutput(dataTable, element);\n",
              "          const docLink = document.createElement('div');\n",
              "          docLink.innerHTML = docLinkHtml;\n",
              "          element.appendChild(docLink);\n",
              "        }\n",
              "      </script>\n",
              "    </div>\n",
              "  </div>\n",
              "  "
            ],
            "text/plain": [
              "               feature        VIF\n",
              "11              TAM_MC  14.707922\n",
              "17             emp_dif   9.116268\n",
              "15        Ficha Básica   8.948093\n",
              "5                Verde   8.890061\n",
              "6               USUSCI   7.302485\n",
              "7                USUEI   7.284017\n",
              "21             numdias   6.144525\n",
              "1                   DP   6.019836\n",
              "13              ACTIVA   5.550482\n",
              "19          diasactivo   5.201549\n",
              "18           R_DaysCon   4.709343\n",
              "10              TAM_PQ   3.794290\n",
              "3             Invalido   3.423766\n",
              "22          m_sesiones   3.320778\n",
              "2                  SEM   2.779986\n",
              "16  Perfil Promocional   2.700822\n",
              "9               TAM_MD   2.511986\n",
              "0                   DE   2.417123\n",
              "8               TAM_GR   2.306567\n",
              "14              BOGOTA   1.691386\n",
              "12              TAM_SD   1.251906\n",
              "4              Naranja   1.139918\n",
              "20        daysInactive   1.012453"
            ]
          },
          "execution_count": 280,
          "metadata": {},
          "output_type": "execute_result"
        }
      ],
      "source": [
        "vif_data.sort_values(['VIF', 'feature'], ascending=False)"
      ]
    },
    {
      "cell_type": "markdown",
      "metadata": {
        "id": "MSAEF3rdK--2"
      },
      "source": [
        "Continuamos con TAM_MC:"
      ]
    },
    {
      "cell_type": "code",
      "execution_count": null,
      "metadata": {
        "id": "ZGcX1zgzLCpD"
      },
      "outputs": [],
      "source": [
        "# Eliminamos por tanto la variable 'TAM_MC':\n",
        "X = usuarios3[['DE', 'DP', 'SEM', 'Invalido', 'Naranja', 'Verde', 'USUSCI',\n",
        "              'USUEI', 'TAM_GR', 'TAM_MD', 'TAM_PQ', 'TAM_SD', 'ACTIVA',\n",
        "              'BOGOTA', 'Ficha Básica', 'Perfil Promocional',\n",
        "              'emp_dif', 'R_DaysCon', 'diasactivo',\n",
        "              'daysInactive', 'numdias', 'm_sesiones']]"
      ]
    },
    {
      "cell_type": "code",
      "execution_count": null,
      "metadata": {
        "id": "1KVIrQYNLa_B"
      },
      "outputs": [],
      "source": [
        "# VIF dataframe\n",
        "vif_data = pd.DataFrame()\n",
        "vif_data[\"feature\"] = X.columns"
      ]
    },
    {
      "cell_type": "code",
      "execution_count": null,
      "metadata": {
        "id": "2cph7SMfLdGU"
      },
      "outputs": [],
      "source": [
        "# calculating VIF for each feature\n",
        "vif_data[\"VIF\"] = [variance_inflation_factor(X.values, i)\n",
        "                          for i in range(len(X.columns))]"
      ]
    },
    {
      "cell_type": "code",
      "execution_count": null,
      "metadata": {
        "colab": {
          "base_uri": "https://localhost:8080/",
          "height": 739
        },
        "id": "eVjaygC5Le91",
        "outputId": "94231191-10de-48e1-b08e-03f3e77e665e"
      },
      "outputs": [
        {
          "data": {
            "text/html": [
              "\n",
              "  <div id=\"df-e33c41e9-0a9c-4a5e-bc3d-632fa46f0aa9\">\n",
              "    <div class=\"colab-df-container\">\n",
              "      <div>\n",
              "<style scoped>\n",
              "    .dataframe tbody tr th:only-of-type {\n",
              "        vertical-align: middle;\n",
              "    }\n",
              "\n",
              "    .dataframe tbody tr th {\n",
              "        vertical-align: top;\n",
              "    }\n",
              "\n",
              "    .dataframe thead th {\n",
              "        text-align: right;\n",
              "    }\n",
              "</style>\n",
              "<table border=\"1\" class=\"dataframe\">\n",
              "  <thead>\n",
              "    <tr style=\"text-align: right;\">\n",
              "      <th></th>\n",
              "      <th>feature</th>\n",
              "      <th>VIF</th>\n",
              "    </tr>\n",
              "  </thead>\n",
              "  <tbody>\n",
              "    <tr>\n",
              "      <th>16</th>\n",
              "      <td>emp_dif</td>\n",
              "      <td>9.116243</td>\n",
              "    </tr>\n",
              "    <tr>\n",
              "      <th>14</th>\n",
              "      <td>Ficha Básica</td>\n",
              "      <td>8.948088</td>\n",
              "    </tr>\n",
              "    <tr>\n",
              "      <th>5</th>\n",
              "      <td>Verde</td>\n",
              "      <td>8.888007</td>\n",
              "    </tr>\n",
              "    <tr>\n",
              "      <th>20</th>\n",
              "      <td>numdias</td>\n",
              "      <td>6.144406</td>\n",
              "    </tr>\n",
              "    <tr>\n",
              "      <th>1</th>\n",
              "      <td>DP</td>\n",
              "      <td>6.011013</td>\n",
              "    </tr>\n",
              "    <tr>\n",
              "      <th>18</th>\n",
              "      <td>diasactivo</td>\n",
              "      <td>5.201508</td>\n",
              "    </tr>\n",
              "    <tr>\n",
              "      <th>17</th>\n",
              "      <td>R_DaysCon</td>\n",
              "      <td>4.709343</td>\n",
              "    </tr>\n",
              "    <tr>\n",
              "      <th>12</th>\n",
              "      <td>ACTIVA</td>\n",
              "      <td>4.087970</td>\n",
              "    </tr>\n",
              "    <tr>\n",
              "      <th>6</th>\n",
              "      <td>USUSCI</td>\n",
              "      <td>3.479921</td>\n",
              "    </tr>\n",
              "    <tr>\n",
              "      <th>3</th>\n",
              "      <td>Invalido</td>\n",
              "      <td>3.423269</td>\n",
              "    </tr>\n",
              "    <tr>\n",
              "      <th>21</th>\n",
              "      <td>m_sesiones</td>\n",
              "      <td>3.320778</td>\n",
              "    </tr>\n",
              "    <tr>\n",
              "      <th>2</th>\n",
              "      <td>SEM</td>\n",
              "      <td>2.779902</td>\n",
              "    </tr>\n",
              "    <tr>\n",
              "      <th>15</th>\n",
              "      <td>Perfil Promocional</td>\n",
              "      <td>2.700725</td>\n",
              "    </tr>\n",
              "    <tr>\n",
              "      <th>0</th>\n",
              "      <td>DE</td>\n",
              "      <td>2.414588</td>\n",
              "    </tr>\n",
              "    <tr>\n",
              "      <th>7</th>\n",
              "      <td>USUEI</td>\n",
              "      <td>2.247653</td>\n",
              "    </tr>\n",
              "    <tr>\n",
              "      <th>13</th>\n",
              "      <td>BOGOTA</td>\n",
              "      <td>1.591315</td>\n",
              "    </tr>\n",
              "    <tr>\n",
              "      <th>10</th>\n",
              "      <td>TAM_PQ</td>\n",
              "      <td>1.432040</td>\n",
              "    </tr>\n",
              "    <tr>\n",
              "      <th>9</th>\n",
              "      <td>TAM_MD</td>\n",
              "      <td>1.243549</td>\n",
              "    </tr>\n",
              "    <tr>\n",
              "      <th>8</th>\n",
              "      <td>TAM_GR</td>\n",
              "      <td>1.225212</td>\n",
              "    </tr>\n",
              "    <tr>\n",
              "      <th>4</th>\n",
              "      <td>Naranja</td>\n",
              "      <td>1.139608</td>\n",
              "    </tr>\n",
              "    <tr>\n",
              "      <th>11</th>\n",
              "      <td>TAM_SD</td>\n",
              "      <td>1.019055</td>\n",
              "    </tr>\n",
              "    <tr>\n",
              "      <th>19</th>\n",
              "      <td>daysInactive</td>\n",
              "      <td>1.012441</td>\n",
              "    </tr>\n",
              "  </tbody>\n",
              "</table>\n",
              "</div>\n",
              "      <button class=\"colab-df-convert\" onclick=\"convertToInteractive('df-e33c41e9-0a9c-4a5e-bc3d-632fa46f0aa9')\"\n",
              "              title=\"Convert this dataframe to an interactive table.\"\n",
              "              style=\"display:none;\">\n",
              "        \n",
              "  <svg xmlns=\"http://www.w3.org/2000/svg\" height=\"24px\"viewBox=\"0 0 24 24\"\n",
              "       width=\"24px\">\n",
              "    <path d=\"M0 0h24v24H0V0z\" fill=\"none\"/>\n",
              "    <path d=\"M18.56 5.44l.94 2.06.94-2.06 2.06-.94-2.06-.94-.94-2.06-.94 2.06-2.06.94zm-11 1L8.5 8.5l.94-2.06 2.06-.94-2.06-.94L8.5 2.5l-.94 2.06-2.06.94zm10 10l.94 2.06.94-2.06 2.06-.94-2.06-.94-.94-2.06-.94 2.06-2.06.94z\"/><path d=\"M17.41 7.96l-1.37-1.37c-.4-.4-.92-.59-1.43-.59-.52 0-1.04.2-1.43.59L10.3 9.45l-7.72 7.72c-.78.78-.78 2.05 0 2.83L4 21.41c.39.39.9.59 1.41.59.51 0 1.02-.2 1.41-.59l7.78-7.78 2.81-2.81c.8-.78.8-2.07 0-2.86zM5.41 20L4 18.59l7.72-7.72 1.47 1.35L5.41 20z\"/>\n",
              "  </svg>\n",
              "      </button>\n",
              "      \n",
              "  <style>\n",
              "    .colab-df-container {\n",
              "      display:flex;\n",
              "      flex-wrap:wrap;\n",
              "      gap: 12px;\n",
              "    }\n",
              "\n",
              "    .colab-df-convert {\n",
              "      background-color: #E8F0FE;\n",
              "      border: none;\n",
              "      border-radius: 50%;\n",
              "      cursor: pointer;\n",
              "      display: none;\n",
              "      fill: #1967D2;\n",
              "      height: 32px;\n",
              "      padding: 0 0 0 0;\n",
              "      width: 32px;\n",
              "    }\n",
              "\n",
              "    .colab-df-convert:hover {\n",
              "      background-color: #E2EBFA;\n",
              "      box-shadow: 0px 1px 2px rgba(60, 64, 67, 0.3), 0px 1px 3px 1px rgba(60, 64, 67, 0.15);\n",
              "      fill: #174EA6;\n",
              "    }\n",
              "\n",
              "    [theme=dark] .colab-df-convert {\n",
              "      background-color: #3B4455;\n",
              "      fill: #D2E3FC;\n",
              "    }\n",
              "\n",
              "    [theme=dark] .colab-df-convert:hover {\n",
              "      background-color: #434B5C;\n",
              "      box-shadow: 0px 1px 3px 1px rgba(0, 0, 0, 0.15);\n",
              "      filter: drop-shadow(0px 1px 2px rgba(0, 0, 0, 0.3));\n",
              "      fill: #FFFFFF;\n",
              "    }\n",
              "  </style>\n",
              "\n",
              "      <script>\n",
              "        const buttonEl =\n",
              "          document.querySelector('#df-e33c41e9-0a9c-4a5e-bc3d-632fa46f0aa9 button.colab-df-convert');\n",
              "        buttonEl.style.display =\n",
              "          google.colab.kernel.accessAllowed ? 'block' : 'none';\n",
              "\n",
              "        async function convertToInteractive(key) {\n",
              "          const element = document.querySelector('#df-e33c41e9-0a9c-4a5e-bc3d-632fa46f0aa9');\n",
              "          const dataTable =\n",
              "            await google.colab.kernel.invokeFunction('convertToInteractive',\n",
              "                                                     [key], {});\n",
              "          if (!dataTable) return;\n",
              "\n",
              "          const docLinkHtml = 'Like what you see? Visit the ' +\n",
              "            '<a target=\"_blank\" href=https://colab.research.google.com/notebooks/data_table.ipynb>data table notebook</a>'\n",
              "            + ' to learn more about interactive tables.';\n",
              "          element.innerHTML = '';\n",
              "          dataTable['output_type'] = 'display_data';\n",
              "          await google.colab.output.renderOutput(dataTable, element);\n",
              "          const docLink = document.createElement('div');\n",
              "          docLink.innerHTML = docLinkHtml;\n",
              "          element.appendChild(docLink);\n",
              "        }\n",
              "      </script>\n",
              "    </div>\n",
              "  </div>\n",
              "  "
            ],
            "text/plain": [
              "               feature       VIF\n",
              "16             emp_dif  9.116243\n",
              "14        Ficha Básica  8.948088\n",
              "5                Verde  8.888007\n",
              "20             numdias  6.144406\n",
              "1                   DP  6.011013\n",
              "18          diasactivo  5.201508\n",
              "17           R_DaysCon  4.709343\n",
              "12              ACTIVA  4.087970\n",
              "6               USUSCI  3.479921\n",
              "3             Invalido  3.423269\n",
              "21          m_sesiones  3.320778\n",
              "2                  SEM  2.779902\n",
              "15  Perfil Promocional  2.700725\n",
              "0                   DE  2.414588\n",
              "7                USUEI  2.247653\n",
              "13              BOGOTA  1.591315\n",
              "10              TAM_PQ  1.432040\n",
              "9               TAM_MD  1.243549\n",
              "8               TAM_GR  1.225212\n",
              "4              Naranja  1.139608\n",
              "11              TAM_SD  1.019055\n",
              "19        daysInactive  1.012441"
            ]
          },
          "execution_count": 284,
          "metadata": {},
          "output_type": "execute_result"
        }
      ],
      "source": [
        "vif_data.sort_values(['VIF', 'feature'], ascending=False)"
      ]
    },
    {
      "cell_type": "code",
      "execution_count": null,
      "metadata": {
        "id": "4xxjGMMaLpxv"
      },
      "outputs": [],
      "source": [
        "# Eliminamos por tanto la variable 'emp_dif':\n",
        "X = usuarios3[['DE', 'DP', 'SEM', 'Invalido', 'Naranja', 'Verde', 'USUSCI',\n",
        "              'USUEI', 'TAM_GR', 'TAM_MD', 'TAM_PQ', 'TAM_SD', 'ACTIVA',\n",
        "              'BOGOTA', 'Ficha Básica', 'Perfil Promocional',\n",
        "              'R_DaysCon', 'diasactivo',\n",
        "              'daysInactive', 'numdias', 'm_sesiones']]"
      ]
    },
    {
      "cell_type": "code",
      "execution_count": null,
      "metadata": {
        "id": "r_UB8Z2gLw8T"
      },
      "outputs": [],
      "source": [
        "# VIF dataframe\n",
        "vif_data = pd.DataFrame()\n",
        "vif_data[\"feature\"] = X.columns"
      ]
    },
    {
      "cell_type": "code",
      "execution_count": null,
      "metadata": {
        "id": "52B7-OIILy5U"
      },
      "outputs": [],
      "source": [
        "# calculating VIF for each feature\n",
        "vif_data[\"VIF\"] = [variance_inflation_factor(X.values, i)\n",
        "                          for i in range(len(X.columns))]"
      ]
    },
    {
      "cell_type": "code",
      "execution_count": null,
      "metadata": {
        "colab": {
          "base_uri": "https://localhost:8080/",
          "height": 708
        },
        "id": "Z6DpYz7YL03U",
        "outputId": "770093cb-5497-4e87-9bdb-4efb26583dbf"
      },
      "outputs": [
        {
          "data": {
            "text/html": [
              "\n",
              "  <div id=\"df-5c42f927-74c8-404d-ae86-094ecb30f012\">\n",
              "    <div class=\"colab-df-container\">\n",
              "      <div>\n",
              "<style scoped>\n",
              "    .dataframe tbody tr th:only-of-type {\n",
              "        vertical-align: middle;\n",
              "    }\n",
              "\n",
              "    .dataframe tbody tr th {\n",
              "        vertical-align: top;\n",
              "    }\n",
              "\n",
              "    .dataframe thead th {\n",
              "        text-align: right;\n",
              "    }\n",
              "</style>\n",
              "<table border=\"1\" class=\"dataframe\">\n",
              "  <thead>\n",
              "    <tr style=\"text-align: right;\">\n",
              "      <th></th>\n",
              "      <th>feature</th>\n",
              "      <th>VIF</th>\n",
              "    </tr>\n",
              "  </thead>\n",
              "  <tbody>\n",
              "    <tr>\n",
              "      <th>5</th>\n",
              "      <td>Verde</td>\n",
              "      <td>8.887736</td>\n",
              "    </tr>\n",
              "    <tr>\n",
              "      <th>1</th>\n",
              "      <td>DP</td>\n",
              "      <td>6.000836</td>\n",
              "    </tr>\n",
              "    <tr>\n",
              "      <th>19</th>\n",
              "      <td>numdias</td>\n",
              "      <td>5.918739</td>\n",
              "    </tr>\n",
              "    <tr>\n",
              "      <th>17</th>\n",
              "      <td>diasactivo</td>\n",
              "      <td>5.126424</td>\n",
              "    </tr>\n",
              "    <tr>\n",
              "      <th>16</th>\n",
              "      <td>R_DaysCon</td>\n",
              "      <td>4.691912</td>\n",
              "    </tr>\n",
              "    <tr>\n",
              "      <th>12</th>\n",
              "      <td>ACTIVA</td>\n",
              "      <td>4.087751</td>\n",
              "    </tr>\n",
              "    <tr>\n",
              "      <th>6</th>\n",
              "      <td>USUSCI</td>\n",
              "      <td>3.479915</td>\n",
              "    </tr>\n",
              "    <tr>\n",
              "      <th>3</th>\n",
              "      <td>Invalido</td>\n",
              "      <td>3.419927</td>\n",
              "    </tr>\n",
              "    <tr>\n",
              "      <th>2</th>\n",
              "      <td>SEM</td>\n",
              "      <td>2.779880</td>\n",
              "    </tr>\n",
              "    <tr>\n",
              "      <th>15</th>\n",
              "      <td>Perfil Promocional</td>\n",
              "      <td>2.679378</td>\n",
              "    </tr>\n",
              "    <tr>\n",
              "      <th>0</th>\n",
              "      <td>DE</td>\n",
              "      <td>2.411843</td>\n",
              "    </tr>\n",
              "    <tr>\n",
              "      <th>7</th>\n",
              "      <td>USUEI</td>\n",
              "      <td>2.247653</td>\n",
              "    </tr>\n",
              "    <tr>\n",
              "      <th>20</th>\n",
              "      <td>m_sesiones</td>\n",
              "      <td>2.236251</td>\n",
              "    </tr>\n",
              "    <tr>\n",
              "      <th>13</th>\n",
              "      <td>BOGOTA</td>\n",
              "      <td>1.591285</td>\n",
              "    </tr>\n",
              "    <tr>\n",
              "      <th>10</th>\n",
              "      <td>TAM_PQ</td>\n",
              "      <td>1.432038</td>\n",
              "    </tr>\n",
              "    <tr>\n",
              "      <th>14</th>\n",
              "      <td>Ficha Básica</td>\n",
              "      <td>1.424816</td>\n",
              "    </tr>\n",
              "    <tr>\n",
              "      <th>9</th>\n",
              "      <td>TAM_MD</td>\n",
              "      <td>1.243537</td>\n",
              "    </tr>\n",
              "    <tr>\n",
              "      <th>8</th>\n",
              "      <td>TAM_GR</td>\n",
              "      <td>1.225170</td>\n",
              "    </tr>\n",
              "    <tr>\n",
              "      <th>4</th>\n",
              "      <td>Naranja</td>\n",
              "      <td>1.139607</td>\n",
              "    </tr>\n",
              "    <tr>\n",
              "      <th>11</th>\n",
              "      <td>TAM_SD</td>\n",
              "      <td>1.019051</td>\n",
              "    </tr>\n",
              "    <tr>\n",
              "      <th>18</th>\n",
              "      <td>daysInactive</td>\n",
              "      <td>1.010465</td>\n",
              "    </tr>\n",
              "  </tbody>\n",
              "</table>\n",
              "</div>\n",
              "      <button class=\"colab-df-convert\" onclick=\"convertToInteractive('df-5c42f927-74c8-404d-ae86-094ecb30f012')\"\n",
              "              title=\"Convert this dataframe to an interactive table.\"\n",
              "              style=\"display:none;\">\n",
              "        \n",
              "  <svg xmlns=\"http://www.w3.org/2000/svg\" height=\"24px\"viewBox=\"0 0 24 24\"\n",
              "       width=\"24px\">\n",
              "    <path d=\"M0 0h24v24H0V0z\" fill=\"none\"/>\n",
              "    <path d=\"M18.56 5.44l.94 2.06.94-2.06 2.06-.94-2.06-.94-.94-2.06-.94 2.06-2.06.94zm-11 1L8.5 8.5l.94-2.06 2.06-.94-2.06-.94L8.5 2.5l-.94 2.06-2.06.94zm10 10l.94 2.06.94-2.06 2.06-.94-2.06-.94-.94-2.06-.94 2.06-2.06.94z\"/><path d=\"M17.41 7.96l-1.37-1.37c-.4-.4-.92-.59-1.43-.59-.52 0-1.04.2-1.43.59L10.3 9.45l-7.72 7.72c-.78.78-.78 2.05 0 2.83L4 21.41c.39.39.9.59 1.41.59.51 0 1.02-.2 1.41-.59l7.78-7.78 2.81-2.81c.8-.78.8-2.07 0-2.86zM5.41 20L4 18.59l7.72-7.72 1.47 1.35L5.41 20z\"/>\n",
              "  </svg>\n",
              "      </button>\n",
              "      \n",
              "  <style>\n",
              "    .colab-df-container {\n",
              "      display:flex;\n",
              "      flex-wrap:wrap;\n",
              "      gap: 12px;\n",
              "    }\n",
              "\n",
              "    .colab-df-convert {\n",
              "      background-color: #E8F0FE;\n",
              "      border: none;\n",
              "      border-radius: 50%;\n",
              "      cursor: pointer;\n",
              "      display: none;\n",
              "      fill: #1967D2;\n",
              "      height: 32px;\n",
              "      padding: 0 0 0 0;\n",
              "      width: 32px;\n",
              "    }\n",
              "\n",
              "    .colab-df-convert:hover {\n",
              "      background-color: #E2EBFA;\n",
              "      box-shadow: 0px 1px 2px rgba(60, 64, 67, 0.3), 0px 1px 3px 1px rgba(60, 64, 67, 0.15);\n",
              "      fill: #174EA6;\n",
              "    }\n",
              "\n",
              "    [theme=dark] .colab-df-convert {\n",
              "      background-color: #3B4455;\n",
              "      fill: #D2E3FC;\n",
              "    }\n",
              "\n",
              "    [theme=dark] .colab-df-convert:hover {\n",
              "      background-color: #434B5C;\n",
              "      box-shadow: 0px 1px 3px 1px rgba(0, 0, 0, 0.15);\n",
              "      filter: drop-shadow(0px 1px 2px rgba(0, 0, 0, 0.3));\n",
              "      fill: #FFFFFF;\n",
              "    }\n",
              "  </style>\n",
              "\n",
              "      <script>\n",
              "        const buttonEl =\n",
              "          document.querySelector('#df-5c42f927-74c8-404d-ae86-094ecb30f012 button.colab-df-convert');\n",
              "        buttonEl.style.display =\n",
              "          google.colab.kernel.accessAllowed ? 'block' : 'none';\n",
              "\n",
              "        async function convertToInteractive(key) {\n",
              "          const element = document.querySelector('#df-5c42f927-74c8-404d-ae86-094ecb30f012');\n",
              "          const dataTable =\n",
              "            await google.colab.kernel.invokeFunction('convertToInteractive',\n",
              "                                                     [key], {});\n",
              "          if (!dataTable) return;\n",
              "\n",
              "          const docLinkHtml = 'Like what you see? Visit the ' +\n",
              "            '<a target=\"_blank\" href=https://colab.research.google.com/notebooks/data_table.ipynb>data table notebook</a>'\n",
              "            + ' to learn more about interactive tables.';\n",
              "          element.innerHTML = '';\n",
              "          dataTable['output_type'] = 'display_data';\n",
              "          await google.colab.output.renderOutput(dataTable, element);\n",
              "          const docLink = document.createElement('div');\n",
              "          docLink.innerHTML = docLinkHtml;\n",
              "          element.appendChild(docLink);\n",
              "        }\n",
              "      </script>\n",
              "    </div>\n",
              "  </div>\n",
              "  "
            ],
            "text/plain": [
              "               feature       VIF\n",
              "5                Verde  8.887736\n",
              "1                   DP  6.000836\n",
              "19             numdias  5.918739\n",
              "17          diasactivo  5.126424\n",
              "16           R_DaysCon  4.691912\n",
              "12              ACTIVA  4.087751\n",
              "6               USUSCI  3.479915\n",
              "3             Invalido  3.419927\n",
              "2                  SEM  2.779880\n",
              "15  Perfil Promocional  2.679378\n",
              "0                   DE  2.411843\n",
              "7                USUEI  2.247653\n",
              "20          m_sesiones  2.236251\n",
              "13              BOGOTA  1.591285\n",
              "10              TAM_PQ  1.432038\n",
              "14        Ficha Básica  1.424816\n",
              "9               TAM_MD  1.243537\n",
              "8               TAM_GR  1.225170\n",
              "4              Naranja  1.139607\n",
              "11              TAM_SD  1.019051\n",
              "18        daysInactive  1.010465"
            ]
          },
          "execution_count": 288,
          "metadata": {},
          "output_type": "execute_result"
        }
      ],
      "source": [
        "vif_data.sort_values(['VIF', 'feature'], ascending=False)"
      ]
    },
    {
      "cell_type": "code",
      "execution_count": null,
      "metadata": {
        "id": "E79u71G_MEHX"
      },
      "outputs": [],
      "source": [
        "# Eliminamos por tanto la variable 'Verde':\n",
        "X = usuarios3[['DE', 'DP', 'SEM', 'Invalido', 'Naranja', 'USUSCI',\n",
        "              'USUEI', 'TAM_GR', 'TAM_MD', 'TAM_PQ', 'TAM_SD', 'ACTIVA',\n",
        "              'BOGOTA', 'Ficha Básica', 'Perfil Promocional',\n",
        "              'R_DaysCon', 'diasactivo',\n",
        "              'daysInactive', 'numdias', 'm_sesiones']]"
      ]
    },
    {
      "cell_type": "code",
      "execution_count": null,
      "metadata": {
        "id": "BXqyoqPuMUw8"
      },
      "outputs": [],
      "source": [
        "# VIF dataframe\n",
        "vif_data = pd.DataFrame()\n",
        "vif_data[\"feature\"] = X.columns"
      ]
    },
    {
      "cell_type": "code",
      "execution_count": null,
      "metadata": {
        "id": "k7uan38JMWhW"
      },
      "outputs": [],
      "source": [
        "# calculating VIF for each feature\n",
        "vif_data[\"VIF\"] = [variance_inflation_factor(X.values, i)\n",
        "                          for i in range(len(X.columns))]"
      ]
    },
    {
      "cell_type": "code",
      "execution_count": null,
      "metadata": {
        "colab": {
          "base_uri": "https://localhost:8080/",
          "height": 676
        },
        "id": "rlmdyME4MYdJ",
        "outputId": "dbfbfff9-df52-489b-9fda-cf66f89d5ca8"
      },
      "outputs": [
        {
          "data": {
            "text/html": [
              "\n",
              "  <div id=\"df-9cb0a27d-1a05-4dd8-bf12-74d22ebc8ad7\">\n",
              "    <div class=\"colab-df-container\">\n",
              "      <div>\n",
              "<style scoped>\n",
              "    .dataframe tbody tr th:only-of-type {\n",
              "        vertical-align: middle;\n",
              "    }\n",
              "\n",
              "    .dataframe tbody tr th {\n",
              "        vertical-align: top;\n",
              "    }\n",
              "\n",
              "    .dataframe thead th {\n",
              "        text-align: right;\n",
              "    }\n",
              "</style>\n",
              "<table border=\"1\" class=\"dataframe\">\n",
              "  <thead>\n",
              "    <tr style=\"text-align: right;\">\n",
              "      <th></th>\n",
              "      <th>feature</th>\n",
              "      <th>VIF</th>\n",
              "    </tr>\n",
              "  </thead>\n",
              "  <tbody>\n",
              "    <tr>\n",
              "      <th>18</th>\n",
              "      <td>numdias</td>\n",
              "      <td>5.307240</td>\n",
              "    </tr>\n",
              "    <tr>\n",
              "      <th>16</th>\n",
              "      <td>diasactivo</td>\n",
              "      <td>5.094739</td>\n",
              "    </tr>\n",
              "    <tr>\n",
              "      <th>15</th>\n",
              "      <td>R_DaysCon</td>\n",
              "      <td>4.669578</td>\n",
              "    </tr>\n",
              "    <tr>\n",
              "      <th>11</th>\n",
              "      <td>ACTIVA</td>\n",
              "      <td>4.086068</td>\n",
              "    </tr>\n",
              "    <tr>\n",
              "      <th>5</th>\n",
              "      <td>USUSCI</td>\n",
              "      <td>3.478868</td>\n",
              "    </tr>\n",
              "    <tr>\n",
              "      <th>14</th>\n",
              "      <td>Perfil Promocional</td>\n",
              "      <td>2.660779</td>\n",
              "    </tr>\n",
              "    <tr>\n",
              "      <th>1</th>\n",
              "      <td>DP</td>\n",
              "      <td>2.565863</td>\n",
              "    </tr>\n",
              "    <tr>\n",
              "      <th>6</th>\n",
              "      <td>USUEI</td>\n",
              "      <td>2.245407</td>\n",
              "    </tr>\n",
              "    <tr>\n",
              "      <th>19</th>\n",
              "      <td>m_sesiones</td>\n",
              "      <td>2.050001</td>\n",
              "    </tr>\n",
              "    <tr>\n",
              "      <th>2</th>\n",
              "      <td>SEM</td>\n",
              "      <td>1.957877</td>\n",
              "    </tr>\n",
              "    <tr>\n",
              "      <th>3</th>\n",
              "      <td>Invalido</td>\n",
              "      <td>1.640727</td>\n",
              "    </tr>\n",
              "    <tr>\n",
              "      <th>12</th>\n",
              "      <td>BOGOTA</td>\n",
              "      <td>1.591231</td>\n",
              "    </tr>\n",
              "    <tr>\n",
              "      <th>0</th>\n",
              "      <td>DE</td>\n",
              "      <td>1.434913</td>\n",
              "    </tr>\n",
              "    <tr>\n",
              "      <th>9</th>\n",
              "      <td>TAM_PQ</td>\n",
              "      <td>1.432007</td>\n",
              "    </tr>\n",
              "    <tr>\n",
              "      <th>13</th>\n",
              "      <td>Ficha Básica</td>\n",
              "      <td>1.369051</td>\n",
              "    </tr>\n",
              "    <tr>\n",
              "      <th>8</th>\n",
              "      <td>TAM_MD</td>\n",
              "      <td>1.243537</td>\n",
              "    </tr>\n",
              "    <tr>\n",
              "      <th>7</th>\n",
              "      <td>TAM_GR</td>\n",
              "      <td>1.225152</td>\n",
              "    </tr>\n",
              "    <tr>\n",
              "      <th>4</th>\n",
              "      <td>Naranja</td>\n",
              "      <td>1.027695</td>\n",
              "    </tr>\n",
              "    <tr>\n",
              "      <th>10</th>\n",
              "      <td>TAM_SD</td>\n",
              "      <td>1.019036</td>\n",
              "    </tr>\n",
              "    <tr>\n",
              "      <th>17</th>\n",
              "      <td>daysInactive</td>\n",
              "      <td>1.010418</td>\n",
              "    </tr>\n",
              "  </tbody>\n",
              "</table>\n",
              "</div>\n",
              "      <button class=\"colab-df-convert\" onclick=\"convertToInteractive('df-9cb0a27d-1a05-4dd8-bf12-74d22ebc8ad7')\"\n",
              "              title=\"Convert this dataframe to an interactive table.\"\n",
              "              style=\"display:none;\">\n",
              "        \n",
              "  <svg xmlns=\"http://www.w3.org/2000/svg\" height=\"24px\"viewBox=\"0 0 24 24\"\n",
              "       width=\"24px\">\n",
              "    <path d=\"M0 0h24v24H0V0z\" fill=\"none\"/>\n",
              "    <path d=\"M18.56 5.44l.94 2.06.94-2.06 2.06-.94-2.06-.94-.94-2.06-.94 2.06-2.06.94zm-11 1L8.5 8.5l.94-2.06 2.06-.94-2.06-.94L8.5 2.5l-.94 2.06-2.06.94zm10 10l.94 2.06.94-2.06 2.06-.94-2.06-.94-.94-2.06-.94 2.06-2.06.94z\"/><path d=\"M17.41 7.96l-1.37-1.37c-.4-.4-.92-.59-1.43-.59-.52 0-1.04.2-1.43.59L10.3 9.45l-7.72 7.72c-.78.78-.78 2.05 0 2.83L4 21.41c.39.39.9.59 1.41.59.51 0 1.02-.2 1.41-.59l7.78-7.78 2.81-2.81c.8-.78.8-2.07 0-2.86zM5.41 20L4 18.59l7.72-7.72 1.47 1.35L5.41 20z\"/>\n",
              "  </svg>\n",
              "      </button>\n",
              "      \n",
              "  <style>\n",
              "    .colab-df-container {\n",
              "      display:flex;\n",
              "      flex-wrap:wrap;\n",
              "      gap: 12px;\n",
              "    }\n",
              "\n",
              "    .colab-df-convert {\n",
              "      background-color: #E8F0FE;\n",
              "      border: none;\n",
              "      border-radius: 50%;\n",
              "      cursor: pointer;\n",
              "      display: none;\n",
              "      fill: #1967D2;\n",
              "      height: 32px;\n",
              "      padding: 0 0 0 0;\n",
              "      width: 32px;\n",
              "    }\n",
              "\n",
              "    .colab-df-convert:hover {\n",
              "      background-color: #E2EBFA;\n",
              "      box-shadow: 0px 1px 2px rgba(60, 64, 67, 0.3), 0px 1px 3px 1px rgba(60, 64, 67, 0.15);\n",
              "      fill: #174EA6;\n",
              "    }\n",
              "\n",
              "    [theme=dark] .colab-df-convert {\n",
              "      background-color: #3B4455;\n",
              "      fill: #D2E3FC;\n",
              "    }\n",
              "\n",
              "    [theme=dark] .colab-df-convert:hover {\n",
              "      background-color: #434B5C;\n",
              "      box-shadow: 0px 1px 3px 1px rgba(0, 0, 0, 0.15);\n",
              "      filter: drop-shadow(0px 1px 2px rgba(0, 0, 0, 0.3));\n",
              "      fill: #FFFFFF;\n",
              "    }\n",
              "  </style>\n",
              "\n",
              "      <script>\n",
              "        const buttonEl =\n",
              "          document.querySelector('#df-9cb0a27d-1a05-4dd8-bf12-74d22ebc8ad7 button.colab-df-convert');\n",
              "        buttonEl.style.display =\n",
              "          google.colab.kernel.accessAllowed ? 'block' : 'none';\n",
              "\n",
              "        async function convertToInteractive(key) {\n",
              "          const element = document.querySelector('#df-9cb0a27d-1a05-4dd8-bf12-74d22ebc8ad7');\n",
              "          const dataTable =\n",
              "            await google.colab.kernel.invokeFunction('convertToInteractive',\n",
              "                                                     [key], {});\n",
              "          if (!dataTable) return;\n",
              "\n",
              "          const docLinkHtml = 'Like what you see? Visit the ' +\n",
              "            '<a target=\"_blank\" href=https://colab.research.google.com/notebooks/data_table.ipynb>data table notebook</a>'\n",
              "            + ' to learn more about interactive tables.';\n",
              "          element.innerHTML = '';\n",
              "          dataTable['output_type'] = 'display_data';\n",
              "          await google.colab.output.renderOutput(dataTable, element);\n",
              "          const docLink = document.createElement('div');\n",
              "          docLink.innerHTML = docLinkHtml;\n",
              "          element.appendChild(docLink);\n",
              "        }\n",
              "      </script>\n",
              "    </div>\n",
              "  </div>\n",
              "  "
            ],
            "text/plain": [
              "               feature       VIF\n",
              "18             numdias  5.307240\n",
              "16          diasactivo  5.094739\n",
              "15           R_DaysCon  4.669578\n",
              "11              ACTIVA  4.086068\n",
              "5               USUSCI  3.478868\n",
              "14  Perfil Promocional  2.660779\n",
              "1                   DP  2.565863\n",
              "6                USUEI  2.245407\n",
              "19          m_sesiones  2.050001\n",
              "2                  SEM  1.957877\n",
              "3             Invalido  1.640727\n",
              "12              BOGOTA  1.591231\n",
              "0                   DE  1.434913\n",
              "9               TAM_PQ  1.432007\n",
              "13        Ficha Básica  1.369051\n",
              "8               TAM_MD  1.243537\n",
              "7               TAM_GR  1.225152\n",
              "4              Naranja  1.027695\n",
              "10              TAM_SD  1.019036\n",
              "17        daysInactive  1.010418"
            ]
          },
          "execution_count": 292,
          "metadata": {},
          "output_type": "execute_result"
        }
      ],
      "source": [
        "vif_data.sort_values(['VIF', 'feature'], ascending=False)"
      ]
    },
    {
      "cell_type": "code",
      "execution_count": null,
      "metadata": {
        "id": "kXDV1e-_Mhzh"
      },
      "outputs": [],
      "source": [
        "# Eliminamos por tanto la variable 'numdias':\n",
        "X = usuarios3[['DE', 'DP', 'SEM', 'Invalido', 'Naranja', 'USUSCI',\n",
        "              'USUEI', 'TAM_GR', 'TAM_MD', 'TAM_PQ', 'TAM_SD', 'ACTIVA',\n",
        "              'BOGOTA', 'Ficha Básica', 'Perfil Promocional',\n",
        "              'R_DaysCon', 'diasactivo',\n",
        "              'daysInactive', 'm_sesiones']]"
      ]
    },
    {
      "cell_type": "code",
      "execution_count": null,
      "metadata": {
        "id": "-YnpOJaMMnv7"
      },
      "outputs": [],
      "source": [
        "# VIF dataframe\n",
        "vif_data = pd.DataFrame()\n",
        "vif_data[\"feature\"] = X.columns"
      ]
    },
    {
      "cell_type": "code",
      "execution_count": null,
      "metadata": {
        "id": "yKPbLEtiMpp1"
      },
      "outputs": [],
      "source": [
        "# calculating VIF for each feature\n",
        "vif_data[\"VIF\"] = [variance_inflation_factor(X.values, i)\n",
        "                          for i in range(len(X.columns))]"
      ]
    },
    {
      "cell_type": "code",
      "execution_count": null,
      "metadata": {
        "colab": {
          "base_uri": "https://localhost:8080/",
          "height": 645
        },
        "id": "pnBuoR4RMrjn",
        "outputId": "c49d3e4b-fd40-4f1d-d4c1-6f61a14c43c8"
      },
      "outputs": [
        {
          "data": {
            "text/html": [
              "\n",
              "  <div id=\"df-c1b277a2-9ca6-4fdf-acb0-d3b021ca2b30\">\n",
              "    <div class=\"colab-df-container\">\n",
              "      <div>\n",
              "<style scoped>\n",
              "    .dataframe tbody tr th:only-of-type {\n",
              "        vertical-align: middle;\n",
              "    }\n",
              "\n",
              "    .dataframe tbody tr th {\n",
              "        vertical-align: top;\n",
              "    }\n",
              "\n",
              "    .dataframe thead th {\n",
              "        text-align: right;\n",
              "    }\n",
              "</style>\n",
              "<table border=\"1\" class=\"dataframe\">\n",
              "  <thead>\n",
              "    <tr style=\"text-align: right;\">\n",
              "      <th></th>\n",
              "      <th>feature</th>\n",
              "      <th>VIF</th>\n",
              "    </tr>\n",
              "  </thead>\n",
              "  <tbody>\n",
              "    <tr>\n",
              "      <th>16</th>\n",
              "      <td>diasactivo</td>\n",
              "      <td>4.674039</td>\n",
              "    </tr>\n",
              "    <tr>\n",
              "      <th>15</th>\n",
              "      <td>R_DaysCon</td>\n",
              "      <td>4.545196</td>\n",
              "    </tr>\n",
              "    <tr>\n",
              "      <th>11</th>\n",
              "      <td>ACTIVA</td>\n",
              "      <td>4.085303</td>\n",
              "    </tr>\n",
              "    <tr>\n",
              "      <th>5</th>\n",
              "      <td>USUSCI</td>\n",
              "      <td>3.478056</td>\n",
              "    </tr>\n",
              "    <tr>\n",
              "      <th>6</th>\n",
              "      <td>USUEI</td>\n",
              "      <td>2.244169</td>\n",
              "    </tr>\n",
              "    <tr>\n",
              "      <th>18</th>\n",
              "      <td>m_sesiones</td>\n",
              "      <td>2.020604</td>\n",
              "    </tr>\n",
              "    <tr>\n",
              "      <th>2</th>\n",
              "      <td>SEM</td>\n",
              "      <td>1.792007</td>\n",
              "    </tr>\n",
              "    <tr>\n",
              "      <th>14</th>\n",
              "      <td>Perfil Promocional</td>\n",
              "      <td>1.692113</td>\n",
              "    </tr>\n",
              "    <tr>\n",
              "      <th>3</th>\n",
              "      <td>Invalido</td>\n",
              "      <td>1.640514</td>\n",
              "    </tr>\n",
              "    <tr>\n",
              "      <th>1</th>\n",
              "      <td>DP</td>\n",
              "      <td>1.595528</td>\n",
              "    </tr>\n",
              "    <tr>\n",
              "      <th>12</th>\n",
              "      <td>BOGOTA</td>\n",
              "      <td>1.591107</td>\n",
              "    </tr>\n",
              "    <tr>\n",
              "      <th>9</th>\n",
              "      <td>TAM_PQ</td>\n",
              "      <td>1.431971</td>\n",
              "    </tr>\n",
              "    <tr>\n",
              "      <th>8</th>\n",
              "      <td>TAM_MD</td>\n",
              "      <td>1.243412</td>\n",
              "    </tr>\n",
              "    <tr>\n",
              "      <th>7</th>\n",
              "      <td>TAM_GR</td>\n",
              "      <td>1.225128</td>\n",
              "    </tr>\n",
              "    <tr>\n",
              "      <th>0</th>\n",
              "      <td>DE</td>\n",
              "      <td>1.176847</td>\n",
              "    </tr>\n",
              "    <tr>\n",
              "      <th>13</th>\n",
              "      <td>Ficha Básica</td>\n",
              "      <td>1.033513</td>\n",
              "    </tr>\n",
              "    <tr>\n",
              "      <th>4</th>\n",
              "      <td>Naranja</td>\n",
              "      <td>1.027692</td>\n",
              "    </tr>\n",
              "    <tr>\n",
              "      <th>10</th>\n",
              "      <td>TAM_SD</td>\n",
              "      <td>1.019034</td>\n",
              "    </tr>\n",
              "    <tr>\n",
              "      <th>17</th>\n",
              "      <td>daysInactive</td>\n",
              "      <td>1.002502</td>\n",
              "    </tr>\n",
              "  </tbody>\n",
              "</table>\n",
              "</div>\n",
              "      <button class=\"colab-df-convert\" onclick=\"convertToInteractive('df-c1b277a2-9ca6-4fdf-acb0-d3b021ca2b30')\"\n",
              "              title=\"Convert this dataframe to an interactive table.\"\n",
              "              style=\"display:none;\">\n",
              "        \n",
              "  <svg xmlns=\"http://www.w3.org/2000/svg\" height=\"24px\"viewBox=\"0 0 24 24\"\n",
              "       width=\"24px\">\n",
              "    <path d=\"M0 0h24v24H0V0z\" fill=\"none\"/>\n",
              "    <path d=\"M18.56 5.44l.94 2.06.94-2.06 2.06-.94-2.06-.94-.94-2.06-.94 2.06-2.06.94zm-11 1L8.5 8.5l.94-2.06 2.06-.94-2.06-.94L8.5 2.5l-.94 2.06-2.06.94zm10 10l.94 2.06.94-2.06 2.06-.94-2.06-.94-.94-2.06-.94 2.06-2.06.94z\"/><path d=\"M17.41 7.96l-1.37-1.37c-.4-.4-.92-.59-1.43-.59-.52 0-1.04.2-1.43.59L10.3 9.45l-7.72 7.72c-.78.78-.78 2.05 0 2.83L4 21.41c.39.39.9.59 1.41.59.51 0 1.02-.2 1.41-.59l7.78-7.78 2.81-2.81c.8-.78.8-2.07 0-2.86zM5.41 20L4 18.59l7.72-7.72 1.47 1.35L5.41 20z\"/>\n",
              "  </svg>\n",
              "      </button>\n",
              "      \n",
              "  <style>\n",
              "    .colab-df-container {\n",
              "      display:flex;\n",
              "      flex-wrap:wrap;\n",
              "      gap: 12px;\n",
              "    }\n",
              "\n",
              "    .colab-df-convert {\n",
              "      background-color: #E8F0FE;\n",
              "      border: none;\n",
              "      border-radius: 50%;\n",
              "      cursor: pointer;\n",
              "      display: none;\n",
              "      fill: #1967D2;\n",
              "      height: 32px;\n",
              "      padding: 0 0 0 0;\n",
              "      width: 32px;\n",
              "    }\n",
              "\n",
              "    .colab-df-convert:hover {\n",
              "      background-color: #E2EBFA;\n",
              "      box-shadow: 0px 1px 2px rgba(60, 64, 67, 0.3), 0px 1px 3px 1px rgba(60, 64, 67, 0.15);\n",
              "      fill: #174EA6;\n",
              "    }\n",
              "\n",
              "    [theme=dark] .colab-df-convert {\n",
              "      background-color: #3B4455;\n",
              "      fill: #D2E3FC;\n",
              "    }\n",
              "\n",
              "    [theme=dark] .colab-df-convert:hover {\n",
              "      background-color: #434B5C;\n",
              "      box-shadow: 0px 1px 3px 1px rgba(0, 0, 0, 0.15);\n",
              "      filter: drop-shadow(0px 1px 2px rgba(0, 0, 0, 0.3));\n",
              "      fill: #FFFFFF;\n",
              "    }\n",
              "  </style>\n",
              "\n",
              "      <script>\n",
              "        const buttonEl =\n",
              "          document.querySelector('#df-c1b277a2-9ca6-4fdf-acb0-d3b021ca2b30 button.colab-df-convert');\n",
              "        buttonEl.style.display =\n",
              "          google.colab.kernel.accessAllowed ? 'block' : 'none';\n",
              "\n",
              "        async function convertToInteractive(key) {\n",
              "          const element = document.querySelector('#df-c1b277a2-9ca6-4fdf-acb0-d3b021ca2b30');\n",
              "          const dataTable =\n",
              "            await google.colab.kernel.invokeFunction('convertToInteractive',\n",
              "                                                     [key], {});\n",
              "          if (!dataTable) return;\n",
              "\n",
              "          const docLinkHtml = 'Like what you see? Visit the ' +\n",
              "            '<a target=\"_blank\" href=https://colab.research.google.com/notebooks/data_table.ipynb>data table notebook</a>'\n",
              "            + ' to learn more about interactive tables.';\n",
              "          element.innerHTML = '';\n",
              "          dataTable['output_type'] = 'display_data';\n",
              "          await google.colab.output.renderOutput(dataTable, element);\n",
              "          const docLink = document.createElement('div');\n",
              "          docLink.innerHTML = docLinkHtml;\n",
              "          element.appendChild(docLink);\n",
              "        }\n",
              "      </script>\n",
              "    </div>\n",
              "  </div>\n",
              "  "
            ],
            "text/plain": [
              "               feature       VIF\n",
              "16          diasactivo  4.674039\n",
              "15           R_DaysCon  4.545196\n",
              "11              ACTIVA  4.085303\n",
              "5               USUSCI  3.478056\n",
              "6                USUEI  2.244169\n",
              "18          m_sesiones  2.020604\n",
              "2                  SEM  1.792007\n",
              "14  Perfil Promocional  1.692113\n",
              "3             Invalido  1.640514\n",
              "1                   DP  1.595528\n",
              "12              BOGOTA  1.591107\n",
              "9               TAM_PQ  1.431971\n",
              "8               TAM_MD  1.243412\n",
              "7               TAM_GR  1.225128\n",
              "0                   DE  1.176847\n",
              "13        Ficha Básica  1.033513\n",
              "4              Naranja  1.027692\n",
              "10              TAM_SD  1.019034\n",
              "17        daysInactive  1.002502"
            ]
          },
          "execution_count": 296,
          "metadata": {},
          "output_type": "execute_result"
        }
      ],
      "source": [
        "vif_data.sort_values(['VIF', 'feature'], ascending=False)"
      ]
    },
    {
      "cell_type": "markdown",
      "metadata": {
        "id": "jne-kt4JMy8h"
      },
      "source": [
        "Ahora todas las variables tienen una correlación moderada."
      ]
    },
    {
      "cell_type": "code",
      "execution_count": null,
      "metadata": {
        "id": "CPVYPpcqNIfq"
      },
      "outputs": [],
      "source": [
        "# Por tanto, procedemos a separar las variables objetivo - descriptivas:\n",
        "\n",
        "X = usuarios3[['DE', 'DP', 'SEM', 'Invalido', 'Naranja', 'USUSCI',\n",
        "              'USUEI', 'TAM_GR', 'TAM_MD', 'TAM_PQ', 'TAM_SD', 'ACTIVA',\n",
        "              'BOGOTA', 'Ficha Básica', 'Perfil Promocional',\n",
        "              'R_DaysCon', 'diasactivo',\n",
        "              'daysInactive', 'm_sesiones']]\n",
        "\n",
        "y = usuarios3['IND_CLIENTE']"
      ]
    },
    {
      "cell_type": "code",
      "execution_count": null,
      "metadata": {
        "id": "FGaGhI-hNVuD"
      },
      "outputs": [],
      "source": [
        "# Dividimos el dataset\n",
        "from sklearn.model_selection import cross_val_score, train_test_split, validation_curve\n",
        "X_train, X_test, y_train, y_test = train_test_split(X, y, test_size = 0.2, random_state = 24)"
      ]
    },
    {
      "cell_type": "code",
      "execution_count": null,
      "metadata": {
        "colab": {
          "base_uri": "https://localhost:8080/"
        },
        "id": "xHsbbVCONb5G",
        "outputId": "723efb55-4cfc-4958-b005-00f934719596"
      },
      "outputs": [
        {
          "data": {
            "text/plain": [
              "0    25746\n",
              "1      497\n",
              "Name: IND_CLIENTE, dtype: int64"
            ]
          },
          "execution_count": 299,
          "metadata": {},
          "output_type": "execute_result"
        }
      ],
      "source": [
        "# Comprobamos el test \n",
        "y_test.value_counts()"
      ]
    },
    {
      "cell_type": "markdown",
      "metadata": {
        "id": "iy5kKFw7V42v"
      },
      "source": [
        "## DecisionTree"
      ]
    },
    {
      "cell_type": "code",
      "execution_count": null,
      "metadata": {
        "id": "fDuEHvphk58K"
      },
      "outputs": [],
      "source": [
        "# DecisionTree\n",
        "from sklearn.tree import DecisionTreeClassifier, DecisionTreeRegressor\n",
        "regressor = DecisionTreeRegressor()\n",
        "\n",
        "# Entrenamos el modelo\n",
        "regressor.fit(X_train, y_train)\n",
        "\n",
        "# Predecimos\n",
        "y_pred_tree = regressor.predict(X_test)"
      ]
    },
    {
      "cell_type": "code",
      "execution_count": null,
      "metadata": {
        "colab": {
          "base_uri": "https://localhost:8080/"
        },
        "id": "adIo7JbylFci",
        "outputId": "97588d23-65a8-4a32-d75a-f622888aa44b"
      },
      "outputs": [
        {
          "name": "stdout",
          "output_type": "stream",
          "text": [
            "              precision    recall  f1-score   support\n",
            "\n",
            "           0       0.99      0.99      0.99     25746\n",
            "           1       0.42      0.35      0.38       497\n",
            "\n",
            "    accuracy                           0.98     26243\n",
            "   macro avg       0.70      0.67      0.68     26243\n",
            "weighted avg       0.98      0.98      0.98     26243\n",
            "\n"
          ]
        }
      ],
      "source": [
        "from sklearn.metrics import classification_report\n",
        "# Check the model performance\n",
        "print(classification_report(y_test, y_pred_tree.round()))"
      ]
    },
    {
      "cell_type": "code",
      "execution_count": null,
      "metadata": {
        "colab": {
          "base_uri": "https://localhost:8080/"
        },
        "id": "TYUOInJipwNF",
        "outputId": "bb2100a3-e27c-40b7-89e0-ecea519236de"
      },
      "outputs": [
        {
          "data": {
            "text/plain": [
              "0.6683384701903647"
            ]
          },
          "execution_count": 302,
          "metadata": {},
          "output_type": "execute_result"
        }
      ],
      "source": [
        "# Con el fin de comparar los modelos, obtenemos la curva ROC\n",
        "from sklearn.metrics import roc_auc_score\n",
        "roc_auc_score(y_test, y_pred_tree.round())"
      ]
    },
    {
      "cell_type": "code",
      "execution_count": null,
      "metadata": {
        "id": "6yWRD6-IZZHw"
      },
      "outputs": [],
      "source": [
        "# Revisamos las variables mas importantes\n",
        "importances_sk = regressor.feature_importances_"
      ]
    },
    {
      "cell_type": "code",
      "execution_count": null,
      "metadata": {
        "id": "JgwxtyDsZfCl"
      },
      "outputs": [],
      "source": [
        "# Creating a dataframe with the feature importance by sklearn\n",
        "features = X.columns.tolist()\n",
        "feature_importance_sk = {}\n",
        "for i, feature in enumerate(features):\n",
        "    feature_importance_sk[feature] = round(importances_sk[i], 3)"
      ]
    },
    {
      "cell_type": "code",
      "execution_count": null,
      "metadata": {
        "colab": {
          "base_uri": "https://localhost:8080/"
        },
        "id": "PpF4x54vZwuU",
        "outputId": "3fa0b509-53d9-4c54-bee0-ff5b7cfb3c87"
      },
      "outputs": [
        {
          "data": {
            "text/plain": [
              "{'TAM_SD': 0.002,\n",
              " 'Naranja': 0.003,\n",
              " 'TAM_GR': 0.011,\n",
              " 'USUEI': 0.013,\n",
              " 'TAM_MD': 0.013,\n",
              " 'TAM_PQ': 0.015,\n",
              " 'DE': 0.016,\n",
              " 'daysInactive': 0.017,\n",
              " 'USUSCI': 0.018,\n",
              " 'Invalido': 0.021,\n",
              " 'SEM': 0.022,\n",
              " 'ACTIVA': 0.025,\n",
              " 'BOGOTA': 0.027,\n",
              " 'DP': 0.03,\n",
              " 'diasactivo': 0.062,\n",
              " 'R_DaysCon': 0.098,\n",
              " 'Perfil Promocional': 0.114,\n",
              " 'Ficha Básica': 0.232,\n",
              " 'm_sesiones': 0.262}"
            ]
          },
          "execution_count": 305,
          "metadata": {},
          "output_type": "execute_result"
        }
      ],
      "source": [
        "{k: v for k, v in sorted(feature_importance_sk.items(), key=lambda item: item[1])}"
      ]
    },
    {
      "cell_type": "markdown",
      "metadata": {
        "id": "HAzoFt10V7pV"
      },
      "source": [
        "## KNN"
      ]
    },
    {
      "cell_type": "code",
      "execution_count": null,
      "metadata": {
        "id": "-IW51-FOl4BD"
      },
      "outputs": [],
      "source": [
        "# knn\n",
        "from sklearn.neighbors import KNeighborsClassifier, KNeighborsRegressor\n",
        "neigh = KNeighborsRegressor()\n",
        "\n",
        "# Entrenamos el modelo\n",
        "neigh.fit(X_train, y_train)\n",
        "\n",
        "# Predecimos\n",
        "y_pred_knn = neigh.predict(X_test)"
      ]
    },
    {
      "cell_type": "code",
      "execution_count": null,
      "metadata": {
        "colab": {
          "base_uri": "https://localhost:8080/"
        },
        "id": "rRh4pAdImaBb",
        "outputId": "5b7e1cc6-a7b7-4ebc-aed9-3e54f42b8315"
      },
      "outputs": [
        {
          "name": "stdout",
          "output_type": "stream",
          "text": [
            "              precision    recall  f1-score   support\n",
            "\n",
            "           0       0.98      1.00      0.99     25746\n",
            "           1       0.62      0.18      0.28       497\n",
            "\n",
            "    accuracy                           0.98     26243\n",
            "   macro avg       0.80      0.59      0.63     26243\n",
            "weighted avg       0.98      0.98      0.98     26243\n",
            "\n"
          ]
        }
      ],
      "source": [
        "# Check the model performance\n",
        "print(classification_report(y_test, y_pred_knn.round()))"
      ]
    },
    {
      "cell_type": "code",
      "execution_count": null,
      "metadata": {
        "colab": {
          "base_uri": "https://localhost:8080/"
        },
        "id": "fk_pxxdVp0wV",
        "outputId": "354d3cc8-14d6-4e5c-ba53-1172c94f070c"
      },
      "outputs": [
        {
          "data": {
            "text/plain": [
              "0.5884690962523373"
            ]
          },
          "execution_count": 308,
          "metadata": {},
          "output_type": "execute_result"
        }
      ],
      "source": [
        "roc_auc_score(y_test, y_pred_knn.round())"
      ]
    },
    {
      "cell_type": "markdown",
      "metadata": {
        "id": "WbvUiuwUaarw"
      },
      "source": [
        "Como podemos ver, el F1-Score es mejor en el árbol de decisión por lo que es mejor modelo."
      ]
    },
    {
      "cell_type": "markdown",
      "metadata": {
        "id": "t-HVeo3lV90V"
      },
      "source": [
        "## RandomForest"
      ]
    },
    {
      "cell_type": "code",
      "execution_count": null,
      "metadata": {
        "id": "sSg3Gqsom2U0"
      },
      "outputs": [],
      "source": [
        "# RandomForest\n",
        "from sklearn.ensemble import RandomForestClassifier\n",
        "rf = RandomForestClassifier()\n",
        "\n",
        "# Entrenamos el modelo\n",
        "rf.fit(X_train, y_train)\n",
        "\n",
        "# Predecimos\n",
        "y_pred_rf = rf.predict(X_test)"
      ]
    },
    {
      "cell_type": "code",
      "execution_count": null,
      "metadata": {
        "colab": {
          "base_uri": "https://localhost:8080/"
        },
        "id": "knQ5e8a7m4KP",
        "outputId": "ac74ea9b-94b6-43e4-e861-544d081a42b8"
      },
      "outputs": [
        {
          "name": "stdout",
          "output_type": "stream",
          "text": [
            "              precision    recall  f1-score   support\n",
            "\n",
            "           0       0.99      1.00      0.99     25746\n",
            "           1       0.58      0.25      0.35       497\n",
            "\n",
            "    accuracy                           0.98     26243\n",
            "   macro avg       0.78      0.62      0.67     26243\n",
            "weighted avg       0.98      0.98      0.98     26243\n",
            "\n"
          ]
        }
      ],
      "source": [
        "# Check the model performance\n",
        "print(classification_report(y_test, y_pred_rf.round()))"
      ]
    },
    {
      "cell_type": "code",
      "execution_count": null,
      "metadata": {
        "colab": {
          "base_uri": "https://localhost:8080/"
        },
        "id": "DE_rj4KQppqe",
        "outputId": "4c189d90-54c5-43b1-b431-25f77cbb6de0"
      },
      "outputs": [
        {
          "data": {
            "text/plain": [
              "0.6229812261278384"
            ]
          },
          "execution_count": 311,
          "metadata": {},
          "output_type": "execute_result"
        }
      ],
      "source": [
        "roc_auc_score(y_test, y_pred_rf.round())"
      ]
    },
    {
      "cell_type": "markdown",
      "metadata": {
        "id": "EBFt5aKta3f0"
      },
      "source": [
        "En este caso, el f1-score sigue siendo mejor en el DecisionTree, por lo que es mejor este primer modelo. "
      ]
    },
    {
      "cell_type": "code",
      "execution_count": null,
      "metadata": {
        "id": "sbHEm-cdr7jB"
      },
      "outputs": [],
      "source": [
        "importances_sk = rf.feature_importances_"
      ]
    },
    {
      "cell_type": "code",
      "execution_count": null,
      "metadata": {
        "id": "76J6gb0DsB4p"
      },
      "outputs": [],
      "source": [
        "# Creating a dataframe with the feature importance by sklearn\n",
        "features = X.columns.tolist()\n",
        "feature_importance_sk = {}\n",
        "for i, feature in enumerate(features):\n",
        "    feature_importance_sk[feature] = round(importances_sk[i], 3)"
      ]
    },
    {
      "cell_type": "code",
      "execution_count": null,
      "metadata": {
        "colab": {
          "base_uri": "https://localhost:8080/"
        },
        "id": "zWCGYF_xsFk5",
        "outputId": "8421b2fe-02c9-4b4c-dafe-0da2b1496d50"
      },
      "outputs": [
        {
          "data": {
            "text/plain": [
              "{'TAM_SD': 0.002,\n",
              " 'Naranja': 0.004,\n",
              " 'TAM_GR': 0.009,\n",
              " 'USUEI': 0.012,\n",
              " 'TAM_MD': 0.013,\n",
              " 'DE': 0.014,\n",
              " 'TAM_PQ': 0.014,\n",
              " 'daysInactive': 0.014,\n",
              " 'ACTIVA': 0.017,\n",
              " 'Invalido': 0.018,\n",
              " 'BOGOTA': 0.019,\n",
              " 'SEM': 0.021,\n",
              " 'USUSCI': 0.021,\n",
              " 'DP': 0.022,\n",
              " 'diasactivo': 0.08,\n",
              " 'R_DaysCon': 0.091,\n",
              " 'Perfil Promocional': 0.108,\n",
              " 'Ficha Básica': 0.194,\n",
              " 'm_sesiones': 0.326}"
            ]
          },
          "execution_count": 314,
          "metadata": {},
          "output_type": "execute_result"
        }
      ],
      "source": [
        "{k: v for k, v in sorted(feature_importance_sk.items(), key=lambda item: item[1])}"
      ]
    },
    {
      "cell_type": "markdown",
      "metadata": {
        "id": "X6tjNQFjWAkE"
      },
      "source": [
        "## XGBoost"
      ]
    },
    {
      "cell_type": "code",
      "execution_count": null,
      "metadata": {
        "id": "rP7v14rAoMLa"
      },
      "outputs": [],
      "source": [
        "import xgboost as xgb\n",
        "clf_xgb = xgb.XGBClassifier()\n",
        "clf_xgb.fit(X_train, y_train)\n",
        "preds_xgb = clf_xgb.predict(X_test)"
      ]
    },
    {
      "cell_type": "code",
      "execution_count": null,
      "metadata": {
        "colab": {
          "base_uri": "https://localhost:8080/"
        },
        "id": "ESvq56vWoWHP",
        "outputId": "20f3a9a3-6548-47ed-82c6-afcf215be34a"
      },
      "outputs": [
        {
          "name": "stdout",
          "output_type": "stream",
          "text": [
            "              precision    recall  f1-score   support\n",
            "\n",
            "           0       0.98      1.00      0.99     25746\n",
            "           1       0.79      0.15      0.25       497\n",
            "\n",
            "    accuracy                           0.98     26243\n",
            "   macro avg       0.89      0.58      0.62     26243\n",
            "weighted avg       0.98      0.98      0.98     26243\n",
            "\n"
          ]
        }
      ],
      "source": [
        "print(classification_report(y_test, preds_xgb))"
      ]
    },
    {
      "cell_type": "code",
      "execution_count": null,
      "metadata": {
        "colab": {
          "base_uri": "https://localhost:8080/"
        },
        "id": "WC8txpY4pX2b",
        "outputId": "0424cac2-f4a7-44b0-9a99-1aa91b8416b2"
      },
      "outputs": [
        {
          "data": {
            "text/plain": [
              "0.5750643064477129"
            ]
          },
          "execution_count": 317,
          "metadata": {},
          "output_type": "execute_result"
        }
      ],
      "source": [
        "from sklearn.metrics import roc_auc_score\n",
        "roc_auc_score(y_test, preds_xgb)"
      ]
    },
    {
      "cell_type": "markdown",
      "metadata": {
        "id": "wCOEY_2bbAx9"
      },
      "source": [
        "En este caso, si miramos el f1-score, muestra el peor resultado de todos los modelos anteriormente probados."
      ]
    },
    {
      "cell_type": "code",
      "execution_count": null,
      "metadata": {
        "id": "3kP9pTI3sfB_"
      },
      "outputs": [],
      "source": [
        "importances_sk = clf_xgb.feature_importances_"
      ]
    },
    {
      "cell_type": "code",
      "execution_count": null,
      "metadata": {
        "id": "xFrf0rrpsjNw"
      },
      "outputs": [],
      "source": [
        "# Creating a dataframe with the feature importance by sklearn\n",
        "features = X.columns.tolist()\n",
        "feature_importance_sk = {}\n",
        "for i, feature in enumerate(features):\n",
        "    feature_importance_sk[feature] = round(importances_sk[i], 3)"
      ]
    },
    {
      "cell_type": "code",
      "execution_count": null,
      "metadata": {
        "colab": {
          "base_uri": "https://localhost:8080/"
        },
        "id": "nVqk5Hensmdg",
        "outputId": "a8dfd8f8-27ab-4e4b-fc00-bb8a00bff134"
      },
      "outputs": [
        {
          "data": {
            "text/plain": [
              "{'DE': 0.0,\n",
              " 'Naranja': 0.0,\n",
              " 'TAM_SD': 0.0,\n",
              " 'DP': 0.018,\n",
              " 'TAM_GR': 0.018,\n",
              " 'diasactivo': 0.021,\n",
              " 'TAM_PQ': 0.029,\n",
              " 'USUEI': 0.033,\n",
              " 'TAM_MD': 0.043,\n",
              " 'daysInactive': 0.045,\n",
              " 'Ficha Básica': 0.052,\n",
              " 'BOGOTA': 0.055,\n",
              " 'Perfil Promocional': 0.06,\n",
              " 'R_DaysCon': 0.069,\n",
              " 'SEM': 0.082,\n",
              " 'm_sesiones': 0.087,\n",
              " 'ACTIVA': 0.127,\n",
              " 'USUSCI': 0.13,\n",
              " 'Invalido': 0.131}"
            ]
          },
          "execution_count": 320,
          "metadata": {},
          "output_type": "execute_result"
        }
      ],
      "source": [
        "{k: v for k, v in sorted(feature_importance_sk.items(), key=lambda item: item[1])}"
      ]
    },
    {
      "cell_type": "markdown",
      "metadata": {
        "id": "klUEWTFSbw4W"
      },
      "source": [
        "## Random Oversampling"
      ]
    },
    {
      "cell_type": "code",
      "execution_count": null,
      "metadata": {
        "colab": {
          "base_uri": "https://localhost:8080/"
        },
        "id": "U_1QeOtcpTHc",
        "outputId": "58fe82e3-42ee-457c-c7d6-f1876ecb5eec"
      },
      "outputs": [
        {
          "name": "stdout",
          "output_type": "stream",
          "text": [
            "[(0, 103060), (1, 103060)]\n"
          ]
        }
      ],
      "source": [
        "# Random Oversampling for Imbalanced Dataset\n",
        "# Randomly over sample the minority class\n",
        "from imblearn.over_sampling import RandomOverSampler, SMOTE\n",
        "from collections import Counter\n",
        "ros = RandomOverSampler(random_state=42)\n",
        "X_train_ros, y_train_ros= ros.fit_resample(X_train, y_train)\n",
        "# Check the number of records after over sampling\n",
        "print(sorted(Counter(y_train_ros).items()))"
      ]
    },
    {
      "cell_type": "markdown",
      "metadata": {
        "id": "hhpEJ-BYc28G"
      },
      "source": [
        "## Random Oversampling DecisionTree"
      ]
    },
    {
      "cell_type": "code",
      "execution_count": null,
      "metadata": {
        "id": "4aWH8BlNb34w"
      },
      "outputs": [],
      "source": [
        "# Probamos los modelos con estos datos:\n",
        "\n",
        "# DecisionTree\n",
        "regressor = DecisionTreeRegressor()\n",
        "\n",
        "# Entrenamos el modelo\n",
        "regressor.fit(X_train_ros, y_train_ros)\n",
        "\n",
        "# Predecimos\n",
        "y_pred_tree = regressor.predict(X_test)"
      ]
    },
    {
      "cell_type": "code",
      "execution_count": null,
      "metadata": {
        "colab": {
          "base_uri": "https://localhost:8080/"
        },
        "id": "1VSyESdnc6jj",
        "outputId": "caf6cc73-64fb-4988-dd44-3608cc354980"
      },
      "outputs": [
        {
          "name": "stdout",
          "output_type": "stream",
          "text": [
            "              precision    recall  f1-score   support\n",
            "\n",
            "           0       0.99      0.95      0.97     25746\n",
            "           1       0.16      0.51      0.25       497\n",
            "\n",
            "    accuracy                           0.94     26243\n",
            "   macro avg       0.58      0.73      0.61     26243\n",
            "weighted avg       0.97      0.94      0.96     26243\n",
            "\n"
          ]
        }
      ],
      "source": [
        "# Check the model performance\n",
        "print(classification_report(y_test, y_pred_tree.round()))"
      ]
    },
    {
      "cell_type": "code",
      "execution_count": null,
      "metadata": {
        "colab": {
          "base_uri": "https://localhost:8080/"
        },
        "id": "on0cUvb2c89G",
        "outputId": "ae47b9c2-699e-497e-c01a-bff9e1f4e211"
      },
      "outputs": [
        {
          "data": {
            "text/plain": [
              "0.7295718301106257"
            ]
          },
          "execution_count": 324,
          "metadata": {},
          "output_type": "execute_result"
        }
      ],
      "source": [
        "# Con el fin de comparar los modelos, obtenemos la curva ROC\n",
        "roc_auc_score(y_test, y_pred_tree.round())"
      ]
    },
    {
      "cell_type": "markdown",
      "metadata": {
        "id": "YO71Nfc2dCgq"
      },
      "source": [
        "Vemos que los resultados no mejoran a los obtenidos sin aplicar ninguna tecnica de balanceo."
      ]
    },
    {
      "cell_type": "code",
      "execution_count": null,
      "metadata": {
        "id": "_DHZLDPquwM1"
      },
      "outputs": [],
      "source": [
        "importances_sk = regressor.feature_importances_"
      ]
    },
    {
      "cell_type": "code",
      "execution_count": null,
      "metadata": {
        "id": "UV-8iMzcvCpc"
      },
      "outputs": [],
      "source": [
        "# Creating a dataframe with the feature importance by sklearn\n",
        "features = X.columns.tolist()\n",
        "feature_importance_sk = {}\n",
        "for i, feature in enumerate(features):\n",
        "    feature_importance_sk[feature] = round(importances_sk[i], 3)"
      ]
    },
    {
      "cell_type": "code",
      "execution_count": null,
      "metadata": {
        "colab": {
          "base_uri": "https://localhost:8080/"
        },
        "id": "2lVGvAlkvFIK",
        "outputId": "d5e53df4-b2f4-437b-c5f3-ea9a860a5c6f"
      },
      "outputs": [
        {
          "data": {
            "text/plain": [
              "{'TAM_SD': 0.001,\n",
              " 'Naranja': 0.002,\n",
              " 'TAM_GR': 0.002,\n",
              " 'TAM_MD': 0.005,\n",
              " 'TAM_PQ': 0.006,\n",
              " 'daysInactive': 0.008,\n",
              " 'USUEI': 0.009,\n",
              " 'BOGOTA': 0.01,\n",
              " 'ACTIVA': 0.011,\n",
              " 'DE': 0.012,\n",
              " 'DP': 0.016,\n",
              " 'SEM': 0.016,\n",
              " 'diasactivo': 0.022,\n",
              " 'USUSCI': 0.049,\n",
              " 'R_DaysCon': 0.092,\n",
              " 'Ficha Básica': 0.111,\n",
              " 'Invalido': 0.133,\n",
              " 'Perfil Promocional': 0.179,\n",
              " 'm_sesiones': 0.317}"
            ]
          },
          "execution_count": 327,
          "metadata": {},
          "output_type": "execute_result"
        }
      ],
      "source": [
        "{k: v for k, v in sorted(feature_importance_sk.items(), key=lambda item: item[1])}"
      ]
    },
    {
      "cell_type": "markdown",
      "metadata": {
        "id": "9rqesMTfdKHJ"
      },
      "source": [
        "## Random Oversampling KNN"
      ]
    },
    {
      "cell_type": "code",
      "execution_count": null,
      "metadata": {
        "id": "PCejHUe1dBQc"
      },
      "outputs": [],
      "source": [
        "# knn\n",
        "neigh = KNeighborsRegressor()\n",
        "\n",
        "# Entrenamos el modelo\n",
        "neigh.fit(X_train_ros, y_train_ros)\n",
        "\n",
        "# Predecimos\n",
        "y_pred_knn = neigh.predict(X_test)"
      ]
    },
    {
      "cell_type": "code",
      "execution_count": null,
      "metadata": {
        "colab": {
          "base_uri": "https://localhost:8080/"
        },
        "id": "cv8aswMwdNWz",
        "outputId": "58f21e7e-a20f-403f-aed0-be27f092abf6"
      },
      "outputs": [
        {
          "name": "stdout",
          "output_type": "stream",
          "text": [
            "              precision    recall  f1-score   support\n",
            "\n",
            "           0       0.99      0.94      0.97     25746\n",
            "           1       0.16      0.58      0.26       497\n",
            "\n",
            "    accuracy                           0.94     26243\n",
            "   macro avg       0.58      0.76      0.61     26243\n",
            "weighted avg       0.98      0.94      0.95     26243\n",
            "\n"
          ]
        }
      ],
      "source": [
        "# Check the model performance\n",
        "print(classification_report(y_test, y_pred_knn.round()))"
      ]
    },
    {
      "cell_type": "code",
      "execution_count": null,
      "metadata": {
        "colab": {
          "base_uri": "https://localhost:8080/"
        },
        "id": "z-1HL-f5hlAj",
        "outputId": "e67c479d-fbfc-449d-a2fe-460323bb3e69"
      },
      "outputs": [
        {
          "data": {
            "text/plain": [
              "0.7630275946051513"
            ]
          },
          "execution_count": 330,
          "metadata": {},
          "output_type": "execute_result"
        }
      ],
      "source": [
        "# Con el fin de comparar los modelos, obtenemos la curva ROC\n",
        "roc_auc_score(y_test, y_pred_knn.round())"
      ]
    },
    {
      "cell_type": "markdown",
      "metadata": {
        "id": "69XwzKEnhoSb"
      },
      "source": [
        "En este caso vemos que no funciona mejor que el DecisionTree"
      ]
    },
    {
      "cell_type": "markdown",
      "metadata": {
        "id": "gord4tyvhuKS"
      },
      "source": [
        "## SMOTE Oversampling "
      ]
    },
    {
      "cell_type": "markdown",
      "metadata": {
        "id": "zR_7ebd9h1dk"
      },
      "source": [
        "En lugar de sobremuestrear aleatoriamente con reemplazo, SMOTE toma cada muestra minoritaria e introduce puntos de datos sintéticos que conectan la muestra minoritaria y sus vecinos más cercanos. Los vecinos de los k vecinos más cercanos se eligen al azar."
      ]
    },
    {
      "cell_type": "code",
      "execution_count": null,
      "metadata": {
        "colab": {
          "base_uri": "https://localhost:8080/"
        },
        "id": "THb8bASahmiM",
        "outputId": "cfe3f5a1-fb53-4898-8395-d6b3ee9da4cc"
      },
      "outputs": [
        {
          "name": "stdout",
          "output_type": "stream",
          "text": [
            "[(0, 103060), (1, 103060)]\n"
          ]
        }
      ],
      "source": [
        "from imblearn.over_sampling import RandomOverSampler, SMOTE\n",
        "# Randomly over sample the minority class\n",
        "smote = SMOTE(random_state=42)\n",
        "X_train_smote, y_train_smote= smote.fit_resample(X_train, y_train)\n",
        "# Check the number of records after over sampling\n",
        "print(sorted(Counter(y_train_smote).items()))"
      ]
    },
    {
      "cell_type": "markdown",
      "metadata": {
        "id": "rlfjBCPwh72n"
      },
      "source": [
        "## SMOTE Oversampling DecisionTree"
      ]
    },
    {
      "cell_type": "code",
      "execution_count": null,
      "metadata": {
        "id": "_YIRasESh4eB"
      },
      "outputs": [],
      "source": [
        "# Probamos los modelos con estos datos:\n",
        "\n",
        "# DecisionTree\n",
        "regressor = DecisionTreeRegressor()\n",
        "\n",
        "# Entrenamos el modelo\n",
        "regressor.fit(X_train_smote, y_train_smote)\n",
        "\n",
        "# Predecimos\n",
        "y_pred_tree = regressor.predict(X_test)"
      ]
    },
    {
      "cell_type": "code",
      "execution_count": null,
      "metadata": {
        "colab": {
          "base_uri": "https://localhost:8080/"
        },
        "id": "K8tyH66yh63v",
        "outputId": "3a44bfb2-5833-4e1e-de56-d4a47832b902"
      },
      "outputs": [
        {
          "name": "stdout",
          "output_type": "stream",
          "text": [
            "              precision    recall  f1-score   support\n",
            "\n",
            "           0       0.99      0.96      0.98     25746\n",
            "           1       0.20      0.51      0.29       497\n",
            "\n",
            "    accuracy                           0.95     26243\n",
            "   macro avg       0.59      0.74      0.63     26243\n",
            "weighted avg       0.98      0.95      0.96     26243\n",
            "\n"
          ]
        }
      ],
      "source": [
        "# Check the model performance\n",
        "print(classification_report(y_test, y_pred_tree.round()))"
      ]
    },
    {
      "cell_type": "code",
      "execution_count": null,
      "metadata": {
        "colab": {
          "base_uri": "https://localhost:8080/"
        },
        "id": "CFlbJP0aiBcl",
        "outputId": "3a5fdca5-3d43-4d69-9c94-5a3b0bc3ab27"
      },
      "outputs": [
        {
          "data": {
            "text/plain": [
              "0.7366332305961929"
            ]
          },
          "execution_count": 334,
          "metadata": {},
          "output_type": "execute_result"
        }
      ],
      "source": [
        "# Con el fin de comparar los modelos, obtenemos la curva ROC\n",
        "roc_auc_score(y_test, y_pred_tree.round())"
      ]
    },
    {
      "cell_type": "markdown",
      "metadata": {
        "id": "HuxDd2AmiHrM"
      },
      "source": [
        "Vemos que para este caso no funciona mejor el Decision Tree."
      ]
    },
    {
      "cell_type": "code",
      "execution_count": null,
      "metadata": {
        "id": "WpV5EWdPvtCu"
      },
      "outputs": [],
      "source": [
        "importances_sk = regressor.feature_importances_"
      ]
    },
    {
      "cell_type": "code",
      "execution_count": null,
      "metadata": {
        "id": "1CTly1FDvwFK"
      },
      "outputs": [],
      "source": [
        "# Creating a dataframe with the feature importance by sklearn\n",
        "features = X.columns.tolist()\n",
        "feature_importance_sk = {}\n",
        "for i, feature in enumerate(features):\n",
        "    feature_importance_sk[feature] = round(importances_sk[i], 3)"
      ]
    },
    {
      "cell_type": "code",
      "execution_count": null,
      "metadata": {
        "colab": {
          "base_uri": "https://localhost:8080/"
        },
        "id": "AysI_lhevwyA",
        "outputId": "f6c3ea5e-783b-4ce4-ea0a-a7a4c30ae271"
      },
      "outputs": [
        {
          "data": {
            "text/plain": [
              "{'TAM_SD': 0.0,\n",
              " 'TAM_GR': 0.001,\n",
              " 'TAM_MD': 0.001,\n",
              " 'USUSCI': 0.002,\n",
              " 'TAM_PQ': 0.002,\n",
              " 'Naranja': 0.003,\n",
              " 'BOGOTA': 0.003,\n",
              " 'ACTIVA': 0.006,\n",
              " 'DE': 0.008,\n",
              " 'USUEI': 0.008,\n",
              " 'daysInactive': 0.01,\n",
              " 'DP': 0.017,\n",
              " 'SEM': 0.024,\n",
              " 'R_DaysCon': 0.025,\n",
              " 'diasactivo': 0.04,\n",
              " 'Ficha Básica': 0.113,\n",
              " 'Invalido': 0.18,\n",
              " 'Perfil Promocional': 0.189,\n",
              " 'm_sesiones': 0.367}"
            ]
          },
          "execution_count": 337,
          "metadata": {},
          "output_type": "execute_result"
        }
      ],
      "source": [
        "{k: v for k, v in sorted(feature_importance_sk.items(), key=lambda item: item[1])}"
      ]
    },
    {
      "cell_type": "markdown",
      "metadata": {
        "id": "6QXMC8ygiO8p"
      },
      "source": [
        "## SMOTE Oversampling KNN"
      ]
    },
    {
      "cell_type": "code",
      "execution_count": null,
      "metadata": {
        "id": "VnmOOi0miF0D"
      },
      "outputs": [],
      "source": [
        "# knn\n",
        "neigh = KNeighborsRegressor()\n",
        "\n",
        "# Entrenamos el modelo\n",
        "neigh.fit(X_train_smote, y_train_smote)\n",
        "\n",
        "# Predecimos\n",
        "y_pred_knn = neigh.predict(X_test)"
      ]
    },
    {
      "cell_type": "code",
      "execution_count": null,
      "metadata": {
        "colab": {
          "base_uri": "https://localhost:8080/"
        },
        "id": "Hn-LNSKriTUl",
        "outputId": "22c1eeb4-c8a0-44e2-80cd-b9a73daa703f"
      },
      "outputs": [
        {
          "name": "stdout",
          "output_type": "stream",
          "text": [
            "              precision    recall  f1-score   support\n",
            "\n",
            "           0       0.99      0.94      0.96     25746\n",
            "           1       0.16      0.63      0.26       497\n",
            "\n",
            "    accuracy                           0.93     26243\n",
            "   macro avg       0.58      0.78      0.61     26243\n",
            "weighted avg       0.98      0.93      0.95     26243\n",
            "\n"
          ]
        }
      ],
      "source": [
        "# Check the model performance\n",
        "print(classification_report(y_test, y_pred_knn.round()))"
      ]
    },
    {
      "cell_type": "code",
      "execution_count": null,
      "metadata": {
        "colab": {
          "base_uri": "https://localhost:8080/"
        },
        "id": "7tbge-E0iXnB",
        "outputId": "4318beeb-0db1-4b27-c321-7bc33f6747dc"
      },
      "outputs": [
        {
          "data": {
            "text/plain": [
              "0.7848225842274965"
            ]
          },
          "execution_count": 340,
          "metadata": {},
          "output_type": "execute_result"
        }
      ],
      "source": [
        "# Con el fin de comparar los modelos, obtenemos la curva ROC\n",
        "roc_auc_score(y_test, y_pred_knn.round())"
      ]
    },
    {
      "cell_type": "markdown",
      "metadata": {
        "id": "Qb3yZrXkjEz4"
      },
      "source": [
        "En este caso vemos que los resultados tampoco mejoran."
      ]
    },
    {
      "cell_type": "markdown",
      "metadata": {
        "id": "o9CQtek6jNAC"
      },
      "source": [
        "## Random Under-Sampling"
      ]
    },
    {
      "cell_type": "markdown",
      "metadata": {
        "id": "DUOWO4P6jQO_"
      },
      "source": [
        "Selecciona y elimina de forma aleatoria datos de la clase mayoritaria. Despues del sampling, la clase mayoritaria debe tener el mismo número de datos que la clase minoritaria."
      ]
    },
    {
      "cell_type": "code",
      "execution_count": null,
      "metadata": {
        "colab": {
          "base_uri": "https://localhost:8080/"
        },
        "id": "cfEj4YrhjHW9",
        "outputId": "42f43443-bc14-4a42-b33d-a766e8d5da6a"
      },
      "outputs": [
        {
          "name": "stdout",
          "output_type": "stream",
          "text": [
            "[(0, 1908), (1, 1908)]\n"
          ]
        }
      ],
      "source": [
        "from imblearn.under_sampling import RandomUnderSampler, NearMiss\n",
        "# Randomly under sample the majority class\n",
        "rus = RandomUnderSampler(random_state=42)\n",
        "X_train_rus, y_train_rus= rus.fit_resample(X_train, y_train)\n",
        "# Check the number of records after under sampling\n",
        "print(sorted(Counter(y_train_rus).items()))"
      ]
    },
    {
      "cell_type": "markdown",
      "metadata": {
        "id": "Nx8iVdXqju0a"
      },
      "source": [
        "## Random Under-Sampling DecisionTree"
      ]
    },
    {
      "cell_type": "code",
      "execution_count": null,
      "metadata": {
        "id": "cGbfr8uyjSIS"
      },
      "outputs": [],
      "source": [
        "# Probamos los modelos con estos datos:\n",
        "\n",
        "# DecisionTree\n",
        "regressor = DecisionTreeRegressor()\n",
        "\n",
        "# Entrenamos el modelo\n",
        "regressor.fit(X_train_rus, y_train_rus)\n",
        "\n",
        "# Predecimos\n",
        "y_pred_tree = regressor.predict(X_test)"
      ]
    },
    {
      "cell_type": "code",
      "execution_count": null,
      "metadata": {
        "colab": {
          "base_uri": "https://localhost:8080/"
        },
        "id": "b_GH5Y5Yjy3e",
        "outputId": "be1dcf4c-f301-48c5-e8a7-46bc62f1205d"
      },
      "outputs": [
        {
          "name": "stdout",
          "output_type": "stream",
          "text": [
            "              precision    recall  f1-score   support\n",
            "\n",
            "           0       1.00      0.86      0.92     25746\n",
            "           1       0.11      0.86      0.19       497\n",
            "\n",
            "    accuracy                           0.86     26243\n",
            "   macro avg       0.55      0.86      0.56     26243\n",
            "weighted avg       0.98      0.86      0.91     26243\n",
            "\n"
          ]
        }
      ],
      "source": [
        "# Check the model performance\n",
        "print(classification_report(y_test, y_pred_tree.round()))"
      ]
    },
    {
      "cell_type": "code",
      "execution_count": null,
      "metadata": {
        "colab": {
          "base_uri": "https://localhost:8080/"
        },
        "id": "1I666Bfrj0mH",
        "outputId": "2acf3e7a-3d48-461c-ec62-54f74d8c917f"
      },
      "outputs": [
        {
          "data": {
            "text/plain": [
              "0.8588907014681891"
            ]
          },
          "execution_count": 344,
          "metadata": {},
          "output_type": "execute_result"
        }
      ],
      "source": [
        "# Con el fin de comparar los modelos, obtenemos la curva ROC\n",
        "roc_auc_score(y_test, y_pred_tree.round())"
      ]
    },
    {
      "cell_type": "code",
      "execution_count": null,
      "metadata": {
        "id": "tAO14H-exutc"
      },
      "outputs": [],
      "source": [
        "importances_sk = regressor.feature_importances_"
      ]
    },
    {
      "cell_type": "code",
      "execution_count": null,
      "metadata": {
        "id": "V15NyPW4xxWi"
      },
      "outputs": [],
      "source": [
        "# Creating a dataframe with the feature importance by sklearn\n",
        "features = X.columns.tolist()\n",
        "feature_importance_sk = {}\n",
        "for i, feature in enumerate(features):\n",
        "    feature_importance_sk[feature] = round(importances_sk[i], 3)"
      ]
    },
    {
      "cell_type": "code",
      "execution_count": null,
      "metadata": {
        "colab": {
          "base_uri": "https://localhost:8080/"
        },
        "id": "b6sBViS_xz39",
        "outputId": "9dea9a08-a26c-4de4-aa3c-4090f3f57abf"
      },
      "outputs": [
        {
          "data": {
            "text/plain": [
              "{'Naranja': 0.002,\n",
              " 'TAM_GR': 0.002,\n",
              " 'TAM_SD': 0.002,\n",
              " 'TAM_PQ': 0.006,\n",
              " 'daysInactive': 0.006,\n",
              " 'USUEI': 0.007,\n",
              " 'TAM_MD': 0.007,\n",
              " 'DE': 0.008,\n",
              " 'BOGOTA': 0.013,\n",
              " 'DP': 0.017,\n",
              " 'ACTIVA': 0.019,\n",
              " 'SEM': 0.022,\n",
              " 'USUSCI': 0.03,\n",
              " 'diasactivo': 0.03,\n",
              " 'R_DaysCon': 0.053,\n",
              " 'Invalido': 0.119,\n",
              " 'Perfil Promocional': 0.126,\n",
              " 'Ficha Básica': 0.174,\n",
              " 'm_sesiones': 0.355}"
            ]
          },
          "execution_count": 347,
          "metadata": {},
          "output_type": "execute_result"
        }
      ],
      "source": [
        "{k: v for k, v in sorted(feature_importance_sk.items(), key=lambda item: item[1])}"
      ]
    },
    {
      "cell_type": "markdown",
      "metadata": {
        "id": "8HZ8qNFKpWRH"
      },
      "source": [
        "##Random Under-Sampling KNN"
      ]
    },
    {
      "cell_type": "code",
      "execution_count": null,
      "metadata": {
        "id": "C-_AbztBj3im"
      },
      "outputs": [],
      "source": [
        "# knn\n",
        "neigh = KNeighborsRegressor()\n",
        "\n",
        "# Entrenamos el modelo\n",
        "neigh.fit(X_train_rus, y_train_rus)\n",
        "\n",
        "# Predecimos\n",
        "y_pred_knn = neigh.predict(X_test)"
      ]
    },
    {
      "cell_type": "code",
      "execution_count": null,
      "metadata": {
        "colab": {
          "base_uri": "https://localhost:8080/"
        },
        "id": "lGpCfbwLpZLP",
        "outputId": "3ad04c83-3a7e-450e-c399-bf0900fb6362"
      },
      "outputs": [
        {
          "name": "stdout",
          "output_type": "stream",
          "text": [
            "              precision    recall  f1-score   support\n",
            "\n",
            "           0       1.00      0.84      0.91     25746\n",
            "           1       0.09      0.85      0.17       497\n",
            "\n",
            "    accuracy                           0.84     26243\n",
            "   macro avg       0.54      0.85      0.54     26243\n",
            "weighted avg       0.98      0.84      0.90     26243\n",
            "\n"
          ]
        }
      ],
      "source": [
        "# Check the model performance\n",
        "print(classification_report(y_test, y_pred_knn.round()))"
      ]
    },
    {
      "cell_type": "code",
      "execution_count": null,
      "metadata": {
        "colab": {
          "base_uri": "https://localhost:8080/"
        },
        "id": "pmRebvftpbLE",
        "outputId": "e4bcba65-ca34-41b8-ce2e-379ca7856e10"
      },
      "outputs": [
        {
          "data": {
            "text/plain": [
              "0.8453428564863898"
            ]
          },
          "execution_count": 350,
          "metadata": {},
          "output_type": "execute_result"
        }
      ],
      "source": [
        "# Con el fin de comparar los modelos, obtenemos la curva ROC\n",
        "roc_auc_score(y_test, y_pred_knn.round())"
      ]
    },
    {
      "cell_type": "markdown",
      "metadata": {
        "id": "Xx42rHdsphvS"
      },
      "source": [
        "## NearMiss Under-Sampling"
      ]
    },
    {
      "cell_type": "code",
      "execution_count": null,
      "metadata": {
        "colab": {
          "base_uri": "https://localhost:8080/"
        },
        "id": "VO5orIOwpdJQ",
        "outputId": "f672fbc8-ec31-47c9-c456-f41603ba76ac"
      },
      "outputs": [
        {
          "name": "stdout",
          "output_type": "stream",
          "text": [
            "[(0, 1908), (1, 1908)]\n"
          ]
        }
      ],
      "source": [
        "from imblearn.under_sampling import RandomUnderSampler, NearMiss\n",
        "# Under sample the majority class\n",
        "nearmiss = NearMiss(version=3)\n",
        "X_train_nearmiss, y_train_nearmiss= nearmiss.fit_resample(X_train, y_train)\n",
        "# Check the number of records after over sampling\n",
        "print(sorted(Counter(y_train_nearmiss).items()))"
      ]
    },
    {
      "cell_type": "markdown",
      "metadata": {
        "id": "ja-GM3TxpmkD"
      },
      "source": [
        "## NearMiss Under-Sampling DecisionTree"
      ]
    },
    {
      "cell_type": "code",
      "execution_count": null,
      "metadata": {
        "id": "dUS6rTwjpkfh"
      },
      "outputs": [],
      "source": [
        "# Probamos los modelos con estos datos:\n",
        "\n",
        "# DecisionTree\n",
        "regressor = DecisionTreeRegressor()\n",
        "\n",
        "# Entrenamos el modelo\n",
        "regressor.fit(X_train_nearmiss, y_train_nearmiss)\n",
        "\n",
        "# Predecimos\n",
        "y_pred_tree = regressor.predict(X_test)"
      ]
    },
    {
      "cell_type": "code",
      "execution_count": null,
      "metadata": {
        "colab": {
          "base_uri": "https://localhost:8080/"
        },
        "id": "fijCrKOgprbB",
        "outputId": "e3475355-86f1-49b9-9c3d-c1c2ed08df3f"
      },
      "outputs": [
        {
          "name": "stdout",
          "output_type": "stream",
          "text": [
            "              precision    recall  f1-score   support\n",
            "\n",
            "           0       0.98      0.19      0.32     25746\n",
            "           1       0.02      0.84      0.04       497\n",
            "\n",
            "    accuracy                           0.21     26243\n",
            "   macro avg       0.50      0.52      0.18     26243\n",
            "weighted avg       0.97      0.21      0.32     26243\n",
            "\n"
          ]
        }
      ],
      "source": [
        "# Check the model performance\n",
        "print(classification_report(y_test, y_pred_tree.round()))"
      ]
    },
    {
      "cell_type": "code",
      "execution_count": null,
      "metadata": {
        "colab": {
          "base_uri": "https://localhost:8080/"
        },
        "id": "AQCI3KKcprtO",
        "outputId": "ccd6274f-9152-45c8-9bb5-1c381ea7fab4"
      },
      "outputs": [
        {
          "data": {
            "text/plain": [
              "0.5156523699018473"
            ]
          },
          "execution_count": 354,
          "metadata": {},
          "output_type": "execute_result"
        }
      ],
      "source": [
        "# Con el fin de comparar los modelos, obtenemos la curva ROC\n",
        "roc_auc_score(y_test, y_pred_tree.round())"
      ]
    },
    {
      "cell_type": "code",
      "execution_count": null,
      "metadata": {
        "id": "Tp0yyw_EyLQ6"
      },
      "outputs": [],
      "source": [
        "importances_sk = regressor.feature_importances_"
      ]
    },
    {
      "cell_type": "code",
      "execution_count": null,
      "metadata": {
        "id": "fpDfOLrhyQnH"
      },
      "outputs": [],
      "source": [
        "# Creating a dataframe with the feature importance by sklearn\n",
        "features = X.columns.tolist()\n",
        "feature_importance_sk = {}\n",
        "for i, feature in enumerate(features):\n",
        "    feature_importance_sk[feature] = round(importances_sk[i], 3)"
      ]
    },
    {
      "cell_type": "code",
      "execution_count": null,
      "metadata": {
        "colab": {
          "base_uri": "https://localhost:8080/"
        },
        "id": "_7txDbHQyTLJ",
        "outputId": "d29751d5-8ab1-46bf-e489-d99cf9c12864"
      },
      "outputs": [
        {
          "data": {
            "text/plain": [
              "{'TAM_SD': 0.0,\n",
              " 'Naranja': 0.001,\n",
              " 'TAM_GR': 0.004,\n",
              " 'DE': 0.007,\n",
              " 'USUEI': 0.007,\n",
              " 'TAM_PQ': 0.007,\n",
              " 'ACTIVA': 0.008,\n",
              " 'TAM_MD': 0.01,\n",
              " 'daysInactive': 0.011,\n",
              " 'BOGOTA': 0.014,\n",
              " 'SEM': 0.015,\n",
              " 'DP': 0.017,\n",
              " 'Invalido': 0.028,\n",
              " 'USUSCI': 0.04,\n",
              " 'Perfil Promocional': 0.071,\n",
              " 'diasactivo': 0.071,\n",
              " 'm_sesiones': 0.192,\n",
              " 'Ficha Básica': 0.195,\n",
              " 'R_DaysCon': 0.3}"
            ]
          },
          "execution_count": 357,
          "metadata": {},
          "output_type": "execute_result"
        }
      ],
      "source": [
        "{k: v for k, v in sorted(feature_importance_sk.items(), key=lambda item: item[1])}"
      ]
    },
    {
      "cell_type": "markdown",
      "metadata": {
        "id": "NAUAw-GUpz6e"
      },
      "source": [
        "## NearMiss Under-Sampling KNN"
      ]
    },
    {
      "cell_type": "code",
      "execution_count": null,
      "metadata": {
        "id": "lwDbSf6vpx9n"
      },
      "outputs": [],
      "source": [
        "# knn\n",
        "neigh = KNeighborsRegressor()\n",
        "\n",
        "# Entrenamos el modelo\n",
        "neigh.fit(X_train_nearmiss, y_train_nearmiss)\n",
        "\n",
        "# Predecimos\n",
        "y_pred_knn = neigh.predict(X_test)"
      ]
    },
    {
      "cell_type": "code",
      "execution_count": null,
      "metadata": {
        "colab": {
          "base_uri": "https://localhost:8080/"
        },
        "id": "rMTAdoMgp3It",
        "outputId": "f83fef0b-c9e1-4fe2-8998-d7bf1172f73e"
      },
      "outputs": [
        {
          "name": "stdout",
          "output_type": "stream",
          "text": [
            "              precision    recall  f1-score   support\n",
            "\n",
            "           0       0.97      0.21      0.34     25746\n",
            "           1       0.02      0.67      0.03       497\n",
            "\n",
            "    accuracy                           0.22     26243\n",
            "   macro avg       0.49      0.44      0.19     26243\n",
            "weighted avg       0.95      0.22      0.34     26243\n",
            "\n"
          ]
        }
      ],
      "source": [
        "# Check the model performance\n",
        "print(classification_report(y_test, y_pred_knn.round()))"
      ]
    },
    {
      "cell_type": "code",
      "execution_count": null,
      "metadata": {
        "colab": {
          "base_uri": "https://localhost:8080/"
        },
        "id": "sCcWYlnxp44c",
        "outputId": "32004a9b-cefd-4261-f776-bc93f539e2c2"
      },
      "outputs": [
        {
          "data": {
            "text/plain": [
              "0.43923984362947666"
            ]
          },
          "execution_count": 360,
          "metadata": {},
          "output_type": "execute_result"
        }
      ],
      "source": [
        "# Con el fin de comparar los modelos, obtenemos la curva ROC\n",
        "roc_auc_score(y_test, y_pred_knn.round())"
      ]
    },
    {
      "cell_type": "markdown",
      "metadata": {
        "id": "cOf1acarqn92"
      },
      "source": [
        "## PCA"
      ]
    },
    {
      "cell_type": "code",
      "execution_count": null,
      "metadata": {
        "colab": {
          "base_uri": "https://localhost:8080/",
          "height": 645
        },
        "id": "byshHbiAp7Ct",
        "outputId": "2b6e6d75-8b16-4587-9320-0fe6ae654da4"
      },
      "outputs": [
        {
          "data": {
            "text/html": [
              "\n",
              "  <div id=\"df-4c3eb608-2add-4aa9-8673-34e96b615bf6\">\n",
              "    <div class=\"colab-df-container\">\n",
              "      <div>\n",
              "<style scoped>\n",
              "    .dataframe tbody tr th:only-of-type {\n",
              "        vertical-align: middle;\n",
              "    }\n",
              "\n",
              "    .dataframe tbody tr th {\n",
              "        vertical-align: top;\n",
              "    }\n",
              "\n",
              "    .dataframe thead th {\n",
              "        text-align: right;\n",
              "    }\n",
              "</style>\n",
              "<table border=\"1\" class=\"dataframe\">\n",
              "  <thead>\n",
              "    <tr style=\"text-align: right;\">\n",
              "      <th></th>\n",
              "      <th>Cumulative Variance Ratio</th>\n",
              "      <th>Explained Variance Ratio</th>\n",
              "    </tr>\n",
              "  </thead>\n",
              "  <tbody>\n",
              "    <tr>\n",
              "      <th>0</th>\n",
              "      <td>0.150998</td>\n",
              "      <td>0.150998</td>\n",
              "    </tr>\n",
              "    <tr>\n",
              "      <th>1</th>\n",
              "      <td>0.259818</td>\n",
              "      <td>0.108820</td>\n",
              "    </tr>\n",
              "    <tr>\n",
              "      <th>2</th>\n",
              "      <td>0.354031</td>\n",
              "      <td>0.094213</td>\n",
              "    </tr>\n",
              "    <tr>\n",
              "      <th>3</th>\n",
              "      <td>0.427493</td>\n",
              "      <td>0.073463</td>\n",
              "    </tr>\n",
              "    <tr>\n",
              "      <th>4</th>\n",
              "      <td>0.492673</td>\n",
              "      <td>0.065180</td>\n",
              "    </tr>\n",
              "    <tr>\n",
              "      <th>5</th>\n",
              "      <td>0.549529</td>\n",
              "      <td>0.056856</td>\n",
              "    </tr>\n",
              "    <tr>\n",
              "      <th>6</th>\n",
              "      <td>0.604892</td>\n",
              "      <td>0.055363</td>\n",
              "    </tr>\n",
              "    <tr>\n",
              "      <th>7</th>\n",
              "      <td>0.658610</td>\n",
              "      <td>0.053718</td>\n",
              "    </tr>\n",
              "    <tr>\n",
              "      <th>8</th>\n",
              "      <td>0.711206</td>\n",
              "      <td>0.052596</td>\n",
              "    </tr>\n",
              "    <tr>\n",
              "      <th>9</th>\n",
              "      <td>0.763761</td>\n",
              "      <td>0.052555</td>\n",
              "    </tr>\n",
              "    <tr>\n",
              "      <th>10</th>\n",
              "      <td>0.814329</td>\n",
              "      <td>0.050568</td>\n",
              "    </tr>\n",
              "    <tr>\n",
              "      <th>11</th>\n",
              "      <td>0.854324</td>\n",
              "      <td>0.039995</td>\n",
              "    </tr>\n",
              "    <tr>\n",
              "      <th>12</th>\n",
              "      <td>0.892000</td>\n",
              "      <td>0.037676</td>\n",
              "    </tr>\n",
              "    <tr>\n",
              "      <th>13</th>\n",
              "      <td>0.925256</td>\n",
              "      <td>0.033256</td>\n",
              "    </tr>\n",
              "    <tr>\n",
              "      <th>14</th>\n",
              "      <td>0.956801</td>\n",
              "      <td>0.031545</td>\n",
              "    </tr>\n",
              "    <tr>\n",
              "      <th>15</th>\n",
              "      <td>0.977281</td>\n",
              "      <td>0.020479</td>\n",
              "    </tr>\n",
              "    <tr>\n",
              "      <th>16</th>\n",
              "      <td>0.985790</td>\n",
              "      <td>0.008509</td>\n",
              "    </tr>\n",
              "    <tr>\n",
              "      <th>17</th>\n",
              "      <td>0.993696</td>\n",
              "      <td>0.007907</td>\n",
              "    </tr>\n",
              "    <tr>\n",
              "      <th>18</th>\n",
              "      <td>1.000000</td>\n",
              "      <td>0.006304</td>\n",
              "    </tr>\n",
              "  </tbody>\n",
              "</table>\n",
              "</div>\n",
              "      <button class=\"colab-df-convert\" onclick=\"convertToInteractive('df-4c3eb608-2add-4aa9-8673-34e96b615bf6')\"\n",
              "              title=\"Convert this dataframe to an interactive table.\"\n",
              "              style=\"display:none;\">\n",
              "        \n",
              "  <svg xmlns=\"http://www.w3.org/2000/svg\" height=\"24px\"viewBox=\"0 0 24 24\"\n",
              "       width=\"24px\">\n",
              "    <path d=\"M0 0h24v24H0V0z\" fill=\"none\"/>\n",
              "    <path d=\"M18.56 5.44l.94 2.06.94-2.06 2.06-.94-2.06-.94-.94-2.06-.94 2.06-2.06.94zm-11 1L8.5 8.5l.94-2.06 2.06-.94-2.06-.94L8.5 2.5l-.94 2.06-2.06.94zm10 10l.94 2.06.94-2.06 2.06-.94-2.06-.94-.94-2.06-.94 2.06-2.06.94z\"/><path d=\"M17.41 7.96l-1.37-1.37c-.4-.4-.92-.59-1.43-.59-.52 0-1.04.2-1.43.59L10.3 9.45l-7.72 7.72c-.78.78-.78 2.05 0 2.83L4 21.41c.39.39.9.59 1.41.59.51 0 1.02-.2 1.41-.59l7.78-7.78 2.81-2.81c.8-.78.8-2.07 0-2.86zM5.41 20L4 18.59l7.72-7.72 1.47 1.35L5.41 20z\"/>\n",
              "  </svg>\n",
              "      </button>\n",
              "      \n",
              "  <style>\n",
              "    .colab-df-container {\n",
              "      display:flex;\n",
              "      flex-wrap:wrap;\n",
              "      gap: 12px;\n",
              "    }\n",
              "\n",
              "    .colab-df-convert {\n",
              "      background-color: #E8F0FE;\n",
              "      border: none;\n",
              "      border-radius: 50%;\n",
              "      cursor: pointer;\n",
              "      display: none;\n",
              "      fill: #1967D2;\n",
              "      height: 32px;\n",
              "      padding: 0 0 0 0;\n",
              "      width: 32px;\n",
              "    }\n",
              "\n",
              "    .colab-df-convert:hover {\n",
              "      background-color: #E2EBFA;\n",
              "      box-shadow: 0px 1px 2px rgba(60, 64, 67, 0.3), 0px 1px 3px 1px rgba(60, 64, 67, 0.15);\n",
              "      fill: #174EA6;\n",
              "    }\n",
              "\n",
              "    [theme=dark] .colab-df-convert {\n",
              "      background-color: #3B4455;\n",
              "      fill: #D2E3FC;\n",
              "    }\n",
              "\n",
              "    [theme=dark] .colab-df-convert:hover {\n",
              "      background-color: #434B5C;\n",
              "      box-shadow: 0px 1px 3px 1px rgba(0, 0, 0, 0.15);\n",
              "      filter: drop-shadow(0px 1px 2px rgba(0, 0, 0, 0.3));\n",
              "      fill: #FFFFFF;\n",
              "    }\n",
              "  </style>\n",
              "\n",
              "      <script>\n",
              "        const buttonEl =\n",
              "          document.querySelector('#df-4c3eb608-2add-4aa9-8673-34e96b615bf6 button.colab-df-convert');\n",
              "        buttonEl.style.display =\n",
              "          google.colab.kernel.accessAllowed ? 'block' : 'none';\n",
              "\n",
              "        async function convertToInteractive(key) {\n",
              "          const element = document.querySelector('#df-4c3eb608-2add-4aa9-8673-34e96b615bf6');\n",
              "          const dataTable =\n",
              "            await google.colab.kernel.invokeFunction('convertToInteractive',\n",
              "                                                     [key], {});\n",
              "          if (!dataTable) return;\n",
              "\n",
              "          const docLinkHtml = 'Like what you see? Visit the ' +\n",
              "            '<a target=\"_blank\" href=https://colab.research.google.com/notebooks/data_table.ipynb>data table notebook</a>'\n",
              "            + ' to learn more about interactive tables.';\n",
              "          element.innerHTML = '';\n",
              "          dataTable['output_type'] = 'display_data';\n",
              "          await google.colab.output.renderOutput(dataTable, element);\n",
              "          const docLink = document.createElement('div');\n",
              "          docLink.innerHTML = docLinkHtml;\n",
              "          element.appendChild(docLink);\n",
              "        }\n",
              "      </script>\n",
              "    </div>\n",
              "  </div>\n",
              "  "
            ],
            "text/plain": [
              "    Cumulative Variance Ratio  Explained Variance Ratio\n",
              "0                    0.150998                  0.150998\n",
              "1                    0.259818                  0.108820\n",
              "2                    0.354031                  0.094213\n",
              "3                    0.427493                  0.073463\n",
              "4                    0.492673                  0.065180\n",
              "5                    0.549529                  0.056856\n",
              "6                    0.604892                  0.055363\n",
              "7                    0.658610                  0.053718\n",
              "8                    0.711206                  0.052596\n",
              "9                    0.763761                  0.052555\n",
              "10                   0.814329                  0.050568\n",
              "11                   0.854324                  0.039995\n",
              "12                   0.892000                  0.037676\n",
              "13                   0.925256                  0.033256\n",
              "14                   0.956801                  0.031545\n",
              "15                   0.977281                  0.020479\n",
              "16                   0.985790                  0.008509\n",
              "17                   0.993696                  0.007907\n",
              "18                   1.000000                  0.006304"
            ]
          },
          "metadata": {},
          "output_type": "display_data"
        }
      ],
      "source": [
        "from sklearn.preprocessing import StandardScaler\n",
        "from sklearn.decomposition import PCA\n",
        "import matplotlib.pyplot as plt\n",
        "\n",
        "# Estandarizamos\n",
        "X_train_scaled = StandardScaler().fit_transform(X_train)\n",
        "X_test_scaled = StandardScaler().fit_transform(X_test)\n",
        "\n",
        "pca_test = PCA(n_components = 19)\n",
        "pca_test.fit(X_train_scaled)\n",
        "\n",
        "evr = pca_test.explained_variance_ratio_\n",
        "cvr = np.cumsum(pca_test.explained_variance_ratio_)\n",
        "pca_df = pd.DataFrame()\n",
        "pca_df['Cumulative Variance Ratio'] = cvr\n",
        "pca_df['Explained Variance Ratio'] = evr\n",
        "display(pca_df.head(20))"
      ]
    },
    {
      "cell_type": "code",
      "execution_count": null,
      "metadata": {
        "id": "dDHwCb8nqpY4"
      },
      "outputs": [],
      "source": [
        "# Cogemos 12 componentes ya que explicamos con ellos casi el 90% de la varianza\n",
        "pca = PCA(n_components=12)\n",
        "pca.fit(X_train_scaled)\n",
        "X_train_scaled_pca = pca.transform(X_train_scaled)\n",
        "X_test_scaled_pca = pca.transform(X_test_scaled)"
      ]
    },
    {
      "cell_type": "code",
      "execution_count": null,
      "metadata": {
        "colab": {
          "base_uri": "https://localhost:8080/",
          "height": 34
        },
        "id": "CmFFq6tlrFFx",
        "outputId": "687101bd-4f3f-4e84-b21f-e105bd71fb48"
      },
      "outputs": [
        {
          "data": {
            "text/plain": [
              "0.9955224449355994"
            ]
          },
          "metadata": {},
          "output_type": "display_data"
        }
      ],
      "source": [
        "rfc = RandomForestClassifier()\n",
        "rfc.fit(X_train_scaled_pca, y_train)\n",
        "display(rfc.score(X_train_scaled_pca, y_train))"
      ]
    },
    {
      "cell_type": "code",
      "execution_count": null,
      "metadata": {
        "id": "lAp1iDjirMc9"
      },
      "outputs": [],
      "source": [
        "y_pred_pca = rfc.predict(X_test_scaled_pca)"
      ]
    },
    {
      "cell_type": "code",
      "execution_count": null,
      "metadata": {
        "colab": {
          "base_uri": "https://localhost:8080/"
        },
        "id": "XQk02jGSrPaI",
        "outputId": "b585834f-eaf1-47b1-a9b3-d001472dcdd2"
      },
      "outputs": [
        {
          "name": "stdout",
          "output_type": "stream",
          "text": [
            "              precision    recall  f1-score   support\n",
            "\n",
            "           0       0.98      1.00      0.99     25746\n",
            "           1       0.40      0.05      0.09       497\n",
            "\n",
            "    accuracy                           0.98     26243\n",
            "   macro avg       0.69      0.52      0.54     26243\n",
            "weighted avg       0.97      0.98      0.97     26243\n",
            "\n"
          ]
        }
      ],
      "source": [
        "# Check the model performance\n",
        "print(classification_report(y_test, y_pred_pca.round()))"
      ]
    },
    {
      "cell_type": "code",
      "execution_count": null,
      "metadata": {
        "colab": {
          "base_uri": "https://localhost:8080/"
        },
        "id": "XPRfYC--rTzk",
        "outputId": "07b7c33e-dd93-4ac6-924b-809ff15fb042"
      },
      "outputs": [
        {
          "data": {
            "text/plain": [
              "0.5244323472099591"
            ]
          },
          "execution_count": 366,
          "metadata": {},
          "output_type": "execute_result"
        }
      ],
      "source": [
        "# Con el fin de comparar los modelos, obtenemos la curva ROC\n",
        "roc_auc_score(y_test, y_pred_pca.round())"
      ]
    },
    {
      "cell_type": "markdown",
      "metadata": {
        "id": "n5y8B4r0RndC"
      },
      "source": [
        "Los resultados no son buenos, por lo que se decide no utilizar un PCA."
      ]
    },
    {
      "cell_type": "markdown",
      "metadata": {
        "id": "Mn-Iwk3sWjR6"
      },
      "source": [
        "## CONCLUSIONES MODELOS SUPERVISADOS"
      ]
    },
    {
      "cell_type": "markdown",
      "metadata": {
        "id": "b0p8aY-CYTX5"
      },
      "source": [
        "Por tanto, vemos que sin aplicar ninguna técnica de balanceo obtenemos los siguientes resuntados:\n",
        "\n",
        "*   Decision Tree. Un AUC de 0.66 y un F1 de 0.38.\n",
        "*   KNN. Un AUC de 0.59 y un F1 de 0.28.\n",
        "*   Random Forest. Un AUC de 0.62 y un F1 de 0.35.\n",
        "*   XGBoost. Un AUC de 0.58 y un F1 de 0.25.\n",
        "\n",
        "Por tanto, vemos que los mejores resultados si observamos el F1-score, los obtiene el Decision Tree, frente al XGBoost, que obtiene los peores resultados. Por tanto, para este caso, vemos que se ajusta mejor un modelo más simple, por lo que seguimos con el Decision Tree y KNN para técnicas de balanceo. Además, si observamos también el AUC, vemos que llegamos a la misma conclusión.\n",
        "\n",
        "Por otro lado, si realizamos técnicas de Oversampling obtenemos los siguientes resultados:\n",
        "\n",
        "*   Decision Tree Random Oversampling. Un AUC de 0.73 y un F1 de 0.25.\n",
        "*   KNN Random Oversampling. Un AUC de 0.76 y un F1 de 0.26.\n",
        "*   Decision Tree SMOTE Oversampling. Un AUC de 0.74 y un F1 de 0.29.\n",
        "*   KNN SMOTE Oversampling. Un AUC de 0.78 y un F1 de 0.26.\n",
        "\n",
        "Por tanto, si observamos el F1-score, vemos que los mejores resultados se obtienen cuando al Decision Tree se le aplica una técnica de SMOTE Oversampling.\n",
        "Por el contrario, si nos fijamos en el AUC, los mejores resultados se obtienen al aplicar la misma tecnica de Oversampling al modelo KNN. Pero, finalmente, decidimos que el mejor modelo al aplicar las técnicas de Oversampling es el de Decision Tree con SMOTE, ya que al tener un dataset tan desbalanceado, consideramos que se ajusta mejor.\n",
        "\n",
        "Si comparamos este modelo, con el Decision Tree sin aplicar ninguna técnica de balanceo. Vemos que obteníamos mejores resultados antes. Por lo que concluimos que las tecnicas de Oversampling no nos han ayudado a mejorar nuestros resultados.\n",
        "\n",
        "Por otro lado, si realizamos técnicas de Undersampling obtenemos los siguientes resultados:\n",
        "\n",
        "*   Decision Tree Random Undersampling. Un AUC de 0.86 y un F1 de 0.19.\n",
        "*   KNN Random Undersampling. Un AUC de 0.85 y un F1 de 0.17.\n",
        "*   Decision Tree NearMiss Undersampling. Un AUC de 0.52 y un F1 de 0.04.\n",
        "*   KNN NearMiss Undersampling. Un AUC de 0.44 y un F1 de 0.03.\n",
        "\n",
        "Por tanto, si observamos tanto el F1-score como el AUC, vemos que los mejores resultados se obtienen cuando al Decision Tree se le aplica una técnica de Random Undersampling.\n",
        "\n",
        "Si comparamos este modelo, con el Decision Tree sin aplicar ninguna técnica de balanceo. Vemos que obteníamos mejores resultados antes. Por lo que concluimos que las tecnicas de Undersampling tampoco nos han ayudado a mejorar nuestros resultados.\n",
        "\n",
        "\n"
      ]
    },
    {
      "cell_type": "markdown",
      "metadata": {
        "id": "FdtDVinbTAzN"
      },
      "source": [
        "# Modelo de aprendizaje NO SUPERVISADO"
      ]
    },
    {
      "cell_type": "code",
      "execution_count": null,
      "metadata": {
        "id": "UugtUHlUZb8i"
      },
      "outputs": [],
      "source": [
        "# Por tanto, procedemos a separar las variables objetivo - descriptivas:\n",
        "\n",
        "X = usuarios3[['DE', 'DP', 'SEM', 'Invalido', 'Naranja', 'USUSCI',\n",
        "              'USUEI', 'TAM_GR', 'TAM_MD', 'TAM_PQ', 'TAM_SD', 'ACTIVA',\n",
        "              'BOGOTA', 'Ficha Básica', 'Perfil Promocional',\n",
        "              'R_DaysCon', 'diasactivo',\n",
        "              'daysInactive', 'm_sesiones']]\n",
        "\n",
        "y = usuarios3['IND_CLIENTE']"
      ]
    },
    {
      "cell_type": "code",
      "execution_count": null,
      "metadata": {
        "id": "DVQIO9iUZ-3z"
      },
      "outputs": [],
      "source": [
        "# Estandarizamos los datos:\n",
        "from sklearn.preprocessing import StandardScaler\n",
        "X = StandardScaler().fit_transform(X)"
      ]
    },
    {
      "cell_type": "markdown",
      "metadata": {
        "id": "tazygFOYUL0h"
      },
      "source": [
        "## K-means"
      ]
    },
    {
      "cell_type": "code",
      "execution_count": null,
      "metadata": {
        "colab": {
          "base_uri": "https://localhost:8080/",
          "height": 513
        },
        "id": "4qbEgNAjSnyG",
        "outputId": "da1a5139-0aa2-4d66-ea76-e9219207dfa1"
      },
      "outputs": [
        {
          "output_type": "display_data",
          "data": {
            "text/plain": [
              "<Figure size 1152x576 with 1 Axes>"
            ],
            "image/png": "[encoded data removed]"
          },
          "metadata": {
            "needs_background": "light"
          }
        }
      ],
      "source": [
        "# Importamos el algoritmo k-means\n",
        "from sklearn.cluster import KMeans\n",
        "import matplotlib.pyplot as plt\n",
        "# Guardamos en WCSS la suma de cuadrados total dentro del cluster\n",
        "WCSS = []\n",
        "# Establecemos un rango de k de 1 a 10 para probar\n",
        "K = range(1,10)\n",
        "# Realizamos un bucle y guardamos los resultados de cada iteraccion\n",
        "for k in K:\n",
        "    kmeanModel = KMeans(n_clusters=k)\n",
        "    kmeanModel.fit(X)\n",
        "    WCSS.append(kmeanModel.inertia_)\n",
        "# Representamos graficamente los resultados\n",
        "plt.figure(figsize=(16,8))\n",
        "plt.plot(K, WCSS, 'bx-')\n",
        "plt.xlabel('k')\n",
        "plt.ylabel('WCSS')\n",
        "plt.title('k óptima')\n",
        "plt.show()"
      ]
    },
    {
      "cell_type": "markdown",
      "metadata": {
        "id": "qnk0Ol2HcVxt"
      },
      "source": [
        "Podemos ver que la k optima no está muy clara con el método del codo, vamos a probar otra técnica: The silhoouette value. El cual mide que tan similar es un punto a su propio grupo (cohesión) en comparación con otros grupos (separación)."
      ]
    },
    {
      "cell_type": "code",
      "execution_count": null,
      "metadata": {
        "colab": {
          "base_uri": "https://localhost:8080/"
        },
        "id": "OEtWNNg2UmI-",
        "outputId": "f5bb04b7-52c2-4182-c4a3-1e025a839aea"
      },
      "outputs": [
        {
          "output_type": "stream",
          "name": "stdout",
          "text": [
            "Silhouette Score for 2 Clusters: 0.4129\n",
            "Silhouette Score for 3 Clusters: 0.2622\n",
            "Silhouette Score for 4 Clusters: 0.2952\n",
            "Silhouette Score for 5 Clusters: 0.3470\n",
            "Silhouette Score for 6 Clusters: 0.3732\n",
            "Silhouette Score for 7 Clusters: 0.3911\n",
            "Silhouette Score for 8 Clusters: 0.4066\n",
            "Silhouette Score for 9 Clusters: 0.3957\n",
            "Silhouette Score for 10 Clusters: 0.4388\n"
          ]
        }
      ],
      "source": [
        "from sklearn.metrics import silhouette_score\n",
        "k = [2, 3, 4, 5, 6, 7, 8, 9, 10]\n",
        "score=[]\n",
        "for n_cluster in k:\n",
        "    kmeans = KMeans(n_clusters=n_cluster).fit(X)\n",
        "    silhouette_avg = silhouette_score(X,kmeans.labels_)\n",
        "    score.append(silhouette_score(X,kmeans.labels_))\n",
        "    print('Silhouette Score for %i Clusters: %0.4f' % (n_cluster, silhouette_avg))"
      ]
    },
    {
      "cell_type": "code",
      "execution_count": null,
      "metadata": {
        "colab": {
          "base_uri": "https://localhost:8080/",
          "height": 279
        },
        "id": "nSDhj4krUwVu",
        "outputId": "3baddfda-947f-4c3c-be74-9f415eac9a60"
      },
      "outputs": [
        {
          "output_type": "display_data",
          "data": {
            "text/plain": [
              "<Figure size 432x288 with 1 Axes>"
            ],
            "image/png": "[encoded data removed]"
          },
          "metadata": {
            "needs_background": "light"
          }
        }
      ],
      "source": [
        "plt.plot(k, score, 'o-')\n",
        "plt.xlabel(\"Value for k\")\n",
        "plt.ylabel(\"Silhouette score\")\n",
        "plt.show()"
      ]
    },
    {
      "cell_type": "markdown",
      "metadata": {
        "id": "Wf4_cSh1VIRR"
      },
      "source": [
        "Podemos ver en la gráfica que k debería ser 10. Aun así, elegimos k=5 ya que si elegimos una k demasiado grande, será dificil de explicar los clusters. Además, si contemplamos la gráfica podemos observar que a partir del 5 la pendiente se calma y la mejora no es tan notoria."
      ]
    },
    {
      "cell_type": "code",
      "execution_count": null,
      "metadata": {
        "id": "cIAJjPXTVP10"
      },
      "outputs": [],
      "source": [
        "from sklearn.cluster import KMeans\n",
        "# Ahora ejecutaremos el algoritmo, en nuestro caso para 8 clusters\n",
        "kmeans = KMeans(n_clusters=5).fit(X)\n",
        "centroids = kmeans.cluster_centers_"
      ]
    },
    {
      "cell_type": "code",
      "execution_count": null,
      "metadata": {
        "id": "SHuhwRTXoJVA"
      },
      "outputs": [],
      "source": [
        "# Guardamos los resultados en una nueva variable del dataframe\n",
        "usuarios3['Cluster'] = kmeans.labels_"
      ]
    },
    {
      "cell_type": "code",
      "execution_count": null,
      "metadata": {
        "colab": {
          "base_uri": "https://localhost:8080/"
        },
        "id": "kWlEbdGp1uC3",
        "outputId": "143cd0b3-2f94-4983-9666-de433b31760b"
      },
      "outputs": [
        {
          "output_type": "stream",
          "name": "stdout",
          "text": [
            "60921\n",
            "14732\n",
            "34321\n",
            "3973\n",
            "17264\n"
          ]
        }
      ],
      "source": [
        "# Vamos a ver cuantos registros hay por cada cluster:\n",
        "print(len(usuarios3[usuarios3['Cluster']==0]))\n",
        "print(len(usuarios3[usuarios3['Cluster']==1]))\n",
        "print(len(usuarios3[usuarios3['Cluster']==2]))\n",
        "print(len(usuarios3[usuarios3['Cluster']==3]))\n",
        "print(len(usuarios3[usuarios3['Cluster']==4]))"
      ]
    },
    {
      "cell_type": "markdown",
      "metadata": {
        "id": "1bIelKsH9L9c"
      },
      "source": [
        "Vemos que los usuarios se reparten como:\n",
        "\n",
        "\n",
        "*   46.43% en el cluster 0\n",
        "*   11.23% en el cluster 1\n",
        "*   26.16% en el cluster 2\n",
        "*   3.03% en el cluster 3\n",
        "*   13.16% en el cluster 4\n",
        "\n"
      ]
    },
    {
      "cell_type": "code",
      "source": [
        "# Vemos cuantos clientes tenemos\n",
        "len(usuarios3[usuarios3['IND_CLIENTE']==1])"
      ],
      "metadata": {
        "colab": {
          "base_uri": "https://localhost:8080/"
        },
        "id": "feVn7JoXd_82",
        "outputId": "a4f24615-1462-43f9-d991-38b1aa8883d5"
      },
      "execution_count": null,
      "outputs": [
        {
          "output_type": "execute_result",
          "data": {
            "text/plain": [
              "2405"
            ]
          },
          "metadata": {},
          "execution_count": 118
        }
      ]
    },
    {
      "cell_type": "code",
      "execution_count": null,
      "metadata": {
        "colab": {
          "base_uri": "https://localhost:8080/"
        },
        "id": "wrpAl_NFyZ4a",
        "outputId": "92e220b5-d709-4177-e0ef-386e662f5502"
      },
      "outputs": [
        {
          "output_type": "execute_result",
          "data": {
            "text/plain": [
              "0    60104\n",
              "1      817\n",
              "Name: IND_CLIENTE, dtype: int64"
            ]
          },
          "metadata": {},
          "execution_count": 119
        }
      ],
      "source": [
        "# Vamos a analizar como son cada cluster:\n",
        "# Primero observaremos para los diferentes clusters como se comporta respecto a la variable objetivo:\n",
        "usuarios3[usuarios3['Cluster']==0].IND_CLIENTE.value_counts()"
      ]
    },
    {
      "cell_type": "code",
      "execution_count": null,
      "metadata": {
        "colab": {
          "base_uri": "https://localhost:8080/"
        },
        "id": "YBAQ0WWI1g9G",
        "outputId": "0793e475-e0c0-4075-a948-8151ddfe6c64"
      },
      "outputs": [
        {
          "output_type": "execute_result",
          "data": {
            "text/plain": [
              "0    13801\n",
              "1      931\n",
              "Name: IND_CLIENTE, dtype: int64"
            ]
          },
          "metadata": {},
          "execution_count": 120
        }
      ],
      "source": [
        "usuarios3[usuarios3['Cluster']==1].IND_CLIENTE.value_counts()"
      ]
    },
    {
      "cell_type": "code",
      "execution_count": null,
      "metadata": {
        "colab": {
          "base_uri": "https://localhost:8080/"
        },
        "id": "huHzSCWq1jxu",
        "outputId": "600d6ff9-e1f5-4ede-d2ac-6415747f6eff"
      },
      "outputs": [
        {
          "output_type": "execute_result",
          "data": {
            "text/plain": [
              "0    34035\n",
              "1      286\n",
              "Name: IND_CLIENTE, dtype: int64"
            ]
          },
          "metadata": {},
          "execution_count": 121
        }
      ],
      "source": [
        "usuarios3[usuarios3['Cluster']==2].IND_CLIENTE.value_counts()"
      ]
    },
    {
      "cell_type": "code",
      "execution_count": null,
      "metadata": {
        "colab": {
          "base_uri": "https://localhost:8080/"
        },
        "id": "7G4fwAKU1kbM",
        "outputId": "a7504f4c-2cd0-474c-f81e-cbd525588c85"
      },
      "outputs": [
        {
          "output_type": "execute_result",
          "data": {
            "text/plain": [
              "0    3810\n",
              "1     163\n",
              "Name: IND_CLIENTE, dtype: int64"
            ]
          },
          "metadata": {},
          "execution_count": 122
        }
      ],
      "source": [
        "usuarios3[usuarios3['Cluster']==3].IND_CLIENTE.value_counts()"
      ]
    },
    {
      "cell_type": "code",
      "execution_count": null,
      "metadata": {
        "colab": {
          "base_uri": "https://localhost:8080/"
        },
        "id": "Kh-ureW7nhsi",
        "outputId": "6ecbf794-505b-4070-80d2-2dd6d1d9176c"
      },
      "outputs": [
        {
          "output_type": "execute_result",
          "data": {
            "text/plain": [
              "0    17056\n",
              "1      208\n",
              "Name: IND_CLIENTE, dtype: int64"
            ]
          },
          "metadata": {},
          "execution_count": 123
        }
      ],
      "source": [
        "usuarios3[usuarios3['Cluster']==4].IND_CLIENTE.value_counts()"
      ]
    },
    {
      "cell_type": "markdown",
      "metadata": {
        "id": "KtkRuCF09LkK"
      },
      "source": [
        "La proporción de clientes en la distribución original es de 1.83%. Vemos que hay clusters como el 1 y 3 que tienen una representatividad mayor de clientes con un 6.32%, y 4.1%, respectivamente. En cambio, el cluster 2 vemos que la proporción es bastante más baja con un 0.83%."
      ]
    },
    {
      "cell_type": "code",
      "execution_count": null,
      "metadata": {
        "colab": {
          "base_uri": "https://localhost:8080/"
        },
        "id": "lE5WhANQtHJ2",
        "outputId": "401e6912-b9d4-4cd3-8b5d-b7a641a6559c"
      },
      "outputs": [
        {
          "output_type": "execute_result",
          "data": {
            "text/plain": [
              "19580"
            ]
          },
          "metadata": {},
          "execution_count": 125
        }
      ],
      "source": [
        "# Seguimos observando la variable DE:\n",
        "# Primero vamos a mirar cuantos 1 tenemos en total de 131211\n",
        "len(usuarios3[usuarios3['DE']==1])"
      ]
    },
    {
      "cell_type": "code",
      "execution_count": null,
      "metadata": {
        "colab": {
          "base_uri": "https://localhost:8080/"
        },
        "id": "qxIu88IAykMG",
        "outputId": "b44452e6-7c76-4350-a3e8-2b5a0426cff7"
      },
      "outputs": [
        {
          "output_type": "execute_result",
          "data": {
            "text/plain": [
              "0.0    60921\n",
              "Name: DE, dtype: int64"
            ]
          },
          "metadata": {},
          "execution_count": 126
        }
      ],
      "source": [
        "usuarios3[usuarios3['Cluster']==0].DE.value_counts()"
      ]
    },
    {
      "cell_type": "code",
      "execution_count": null,
      "metadata": {
        "colab": {
          "base_uri": "https://localhost:8080/"
        },
        "id": "z3CDCvH5td83",
        "outputId": "dfac678b-4ddd-4a1f-8ac4-54fce1e7c391"
      },
      "outputs": [
        {
          "output_type": "execute_result",
          "data": {
            "text/plain": [
              "0.0    13141\n",
              "1.0     1591\n",
              "Name: DE, dtype: int64"
            ]
          },
          "metadata": {},
          "execution_count": 127
        }
      ],
      "source": [
        "usuarios3[usuarios3['Cluster']==1].DE.value_counts()"
      ]
    },
    {
      "cell_type": "code",
      "execution_count": null,
      "metadata": {
        "colab": {
          "base_uri": "https://localhost:8080/"
        },
        "id": "q2fZrOQitggX",
        "outputId": "abdb11f9-29b2-444c-a7b7-36846d9b0b1e"
      },
      "outputs": [
        {
          "output_type": "execute_result",
          "data": {
            "text/plain": [
              "0.0    34288\n",
              "1.0       33\n",
              "Name: DE, dtype: int64"
            ]
          },
          "metadata": {},
          "execution_count": 128
        }
      ],
      "source": [
        "usuarios3[usuarios3['Cluster']==2].DE.value_counts()"
      ]
    },
    {
      "cell_type": "code",
      "execution_count": null,
      "metadata": {
        "colab": {
          "base_uri": "https://localhost:8080/"
        },
        "id": "l-Gr-HhMtgrL",
        "outputId": "7f34a43c-30ba-4761-83d7-5261814f246a"
      },
      "outputs": [
        {
          "output_type": "execute_result",
          "data": {
            "text/plain": [
              "0.0    3281\n",
              "1.0     692\n",
              "Name: DE, dtype: int64"
            ]
          },
          "metadata": {},
          "execution_count": 129
        }
      ],
      "source": [
        "usuarios3[usuarios3['Cluster']==3].DE.value_counts()"
      ]
    },
    {
      "cell_type": "code",
      "execution_count": null,
      "metadata": {
        "colab": {
          "base_uri": "https://localhost:8080/"
        },
        "id": "V0MJtgNItg0o",
        "outputId": "1cbfa4c1-2e4c-4192-855d-86eebeee1232"
      },
      "outputs": [
        {
          "output_type": "execute_result",
          "data": {
            "text/plain": [
              "1.0    17264\n",
              "Name: DE, dtype: int64"
            ]
          },
          "metadata": {},
          "execution_count": 130
        }
      ],
      "source": [
        "usuarios3[usuarios3['Cluster']==4].DE.value_counts()"
      ]
    },
    {
      "cell_type": "markdown",
      "metadata": {
        "id": "QPnyMVL5v74q"
      },
      "source": [
        "Esta variable recoge si el canal de registro ha sido mediante directorios especializados, la proporción de usuarios que se registran asi en la distribución original es de 14.92%. Vemos que hay clusters como el 3 y 4 que tienen una representatividad mayor de usuarios que utilizan este canal con un 17.42% y 100%, respectivamente. En cambio, el resto de clusters, es decir, los cluster 0, 1 y 2 vemos que la proporción es más baja con un 0%, 10.8% y 0.1%, respectivamente.\n",
        "\n",
        "Por tanto, vemos que mientras en el cluster 4, todos son usuarios que realizan el registro mediante utilizando este canal, el cluster 0, no lo hace ninguno. "
      ]
    },
    {
      "cell_type": "code",
      "execution_count": null,
      "metadata": {
        "colab": {
          "base_uri": "https://localhost:8080/"
        },
        "id": "2YQhT9KZ3tBn",
        "outputId": "9fa873a2-fcda-4b33-a27a-57849b2e6444"
      },
      "outputs": [
        {
          "output_type": "execute_result",
          "data": {
            "text/plain": [
              "70763"
            ]
          },
          "metadata": {},
          "execution_count": 131
        }
      ],
      "source": [
        "# Seguimos observando la variable DP:\n",
        "# Primero vamos a mirar cuantos 1 tenemos en total de 131211\n",
        "len(usuarios3[usuarios3['DP']==1])"
      ]
    },
    {
      "cell_type": "code",
      "execution_count": null,
      "metadata": {
        "colab": {
          "base_uri": "https://localhost:8080/"
        },
        "id": "Q-QmNLEc4FFc",
        "outputId": "9ede6f21-fb40-4df0-ae3e-d0488e6e2ee1"
      },
      "outputs": [
        {
          "output_type": "execute_result",
          "data": {
            "text/plain": [
              "1.0    56731\n",
              "0.0     4190\n",
              "Name: DP, dtype: int64"
            ]
          },
          "metadata": {},
          "execution_count": 132
        }
      ],
      "source": [
        "usuarios3[usuarios3['Cluster']==0].DP.value_counts()"
      ]
    },
    {
      "cell_type": "code",
      "execution_count": null,
      "metadata": {
        "colab": {
          "base_uri": "https://localhost:8080/"
        },
        "id": "_D3P-Ozb4HpN",
        "outputId": "75045c73-c6b6-4ff3-bd85-e3e44f5290d7"
      },
      "outputs": [
        {
          "output_type": "execute_result",
          "data": {
            "text/plain": [
              "1.0    10754\n",
              "0.0     3978\n",
              "Name: DP, dtype: int64"
            ]
          },
          "metadata": {},
          "execution_count": 133
        }
      ],
      "source": [
        "usuarios3[usuarios3['Cluster']==1].DP.value_counts()"
      ]
    },
    {
      "cell_type": "code",
      "execution_count": null,
      "metadata": {
        "colab": {
          "base_uri": "https://localhost:8080/"
        },
        "id": "gqNSHnsn4IRA",
        "outputId": "cd9b1c6d-6587-4a6c-8592-4c9ba7dbb2db"
      },
      "outputs": [
        {
          "output_type": "execute_result",
          "data": {
            "text/plain": [
              "0.0    34049\n",
              "1.0      272\n",
              "Name: DP, dtype: int64"
            ]
          },
          "metadata": {},
          "execution_count": 134
        }
      ],
      "source": [
        "usuarios3[usuarios3['Cluster']==2].DP.value_counts()"
      ]
    },
    {
      "cell_type": "code",
      "execution_count": null,
      "metadata": {
        "colab": {
          "base_uri": "https://localhost:8080/"
        },
        "id": "B_kD3xHh4IYp",
        "outputId": "ce659c9a-36ad-4898-8432-9eb42f8e4bdf"
      },
      "outputs": [
        {
          "output_type": "execute_result",
          "data": {
            "text/plain": [
              "1.0    3006\n",
              "0.0     967\n",
              "Name: DP, dtype: int64"
            ]
          },
          "metadata": {},
          "execution_count": 135
        }
      ],
      "source": [
        "usuarios3[usuarios3['Cluster']==3].DP.value_counts()"
      ]
    },
    {
      "cell_type": "code",
      "execution_count": null,
      "metadata": {
        "colab": {
          "base_uri": "https://localhost:8080/"
        },
        "id": "655YYu8W4IhS",
        "outputId": "5525566b-83e2-4fa1-fdd8-78421ee3b085"
      },
      "outputs": [
        {
          "output_type": "execute_result",
          "data": {
            "text/plain": [
              "0.0    17264\n",
              "Name: DP, dtype: int64"
            ]
          },
          "metadata": {},
          "execution_count": 136
        }
      ],
      "source": [
        "usuarios3[usuarios3['Cluster']==4].DP.value_counts()"
      ]
    },
    {
      "cell_type": "markdown",
      "metadata": {
        "id": "era_g27O5gyY"
      },
      "source": [
        "Esta variable recoge si el canal de registro ha sido mediante directorios populares, la proporción de usuarios que se registran asi en la distribución original es de 53.93%. Vemos que hay en todos los clusters, salvo en el 2 y 4, proporcionalmente hay más usuarios que se registran utilizando este método. Mientras que en el cluster 4 no lo hace ninguno y en el cluster 2 solo el 0.79%."
      ]
    },
    {
      "cell_type": "code",
      "execution_count": null,
      "metadata": {
        "colab": {
          "base_uri": "https://localhost:8080/"
        },
        "id": "oWI5fn-l6B8w",
        "outputId": "515a2ce4-b0b6-4fbe-b000-7bc9b5bf4d70"
      },
      "outputs": [
        {
          "output_type": "execute_result",
          "data": {
            "text/plain": [
              "27858"
            ]
          },
          "metadata": {},
          "execution_count": 137
        }
      ],
      "source": [
        "# Seguimos observando la variable SEM:\n",
        "# Primero vamos a mirar cuantos 1 tenemos en total de 131211\n",
        "len(usuarios3[usuarios3['SEM']==1])"
      ]
    },
    {
      "cell_type": "code",
      "execution_count": null,
      "metadata": {
        "colab": {
          "base_uri": "https://localhost:8080/"
        },
        "id": "xovxDlZn6Qai",
        "outputId": "e53885cd-01ae-4d21-8871-ff0db4e0ec88"
      },
      "outputs": [
        {
          "output_type": "execute_result",
          "data": {
            "text/plain": [
              "0.0    60917\n",
              "1.0        4\n",
              "Name: SEM, dtype: int64"
            ]
          },
          "metadata": {},
          "execution_count": 138
        }
      ],
      "source": [
        "usuarios3[usuarios3['Cluster']==0].SEM.value_counts()"
      ]
    },
    {
      "cell_type": "code",
      "execution_count": null,
      "metadata": {
        "colab": {
          "base_uri": "https://localhost:8080/"
        },
        "id": "rfNHd8E_6SV5",
        "outputId": "d1143165-3bc5-4f29-b845-f97e1d92407e"
      },
      "outputs": [
        {
          "output_type": "execute_result",
          "data": {
            "text/plain": [
              "0.0    13151\n",
              "1.0     1581\n",
              "Name: SEM, dtype: int64"
            ]
          },
          "metadata": {},
          "execution_count": 139
        }
      ],
      "source": [
        "usuarios3[usuarios3['Cluster']==1].SEM.value_counts()"
      ]
    },
    {
      "cell_type": "code",
      "execution_count": null,
      "metadata": {
        "colab": {
          "base_uri": "https://localhost:8080/"
        },
        "id": "E4Bw6zFO6SkQ",
        "outputId": "e84cd190-3250-4872-e37e-3b8f1b59251f"
      },
      "outputs": [
        {
          "output_type": "execute_result",
          "data": {
            "text/plain": [
              "1.0    26086\n",
              "0.0     8235\n",
              "Name: SEM, dtype: int64"
            ]
          },
          "metadata": {},
          "execution_count": 140
        }
      ],
      "source": [
        "usuarios3[usuarios3['Cluster']==2].SEM.value_counts()"
      ]
    },
    {
      "cell_type": "code",
      "execution_count": null,
      "metadata": {
        "colab": {
          "base_uri": "https://localhost:8080/"
        },
        "id": "m4r15uSx6SrD",
        "outputId": "1a812661-799d-4cfc-a31e-9a5175266f22"
      },
      "outputs": [
        {
          "output_type": "execute_result",
          "data": {
            "text/plain": [
              "0.0    3786\n",
              "1.0     187\n",
              "Name: SEM, dtype: int64"
            ]
          },
          "metadata": {},
          "execution_count": 141
        }
      ],
      "source": [
        "usuarios3[usuarios3['Cluster']==3].SEM.value_counts()"
      ]
    },
    {
      "cell_type": "code",
      "execution_count": null,
      "metadata": {
        "colab": {
          "base_uri": "https://localhost:8080/"
        },
        "id": "bSgSAgv-6Sxe",
        "outputId": "650e14d9-d9a3-4e1d-8eee-ff31f1831cff"
      },
      "outputs": [
        {
          "output_type": "execute_result",
          "data": {
            "text/plain": [
              "0.0    17264\n",
              "Name: SEM, dtype: int64"
            ]
          },
          "metadata": {},
          "execution_count": 142
        }
      ],
      "source": [
        "usuarios3[usuarios3['Cluster']==4].SEM.value_counts()"
      ]
    },
    {
      "cell_type": "markdown",
      "metadata": {
        "id": "HqHezrDw7nLa"
      },
      "source": [
        "Esta variable recoge si el canal de registro ha sido mediante SEM, la proporción de usuarios que se registran asi en la distribución original es de 21.23%. Vemos que solo el cluster 2 es mayor, en proporción comparado con la distribución original, tenemos un 76% de los clientes que se registran mediante SEM. El resto de clusters, lo hace en una proporción menor, siendo en el cluster 0 y 4, el 0% de los usuarios."
      ]
    },
    {
      "cell_type": "code",
      "execution_count": null,
      "metadata": {
        "colab": {
          "base_uri": "https://localhost:8080/"
        },
        "id": "wXeQ7pVYgwPd",
        "outputId": "b1b916a3-42f3-4c76-e98e-fe0690b1b80b"
      },
      "outputs": [
        {
          "output_type": "execute_result",
          "data": {
            "text/plain": [
              "34578"
            ]
          },
          "metadata": {},
          "execution_count": 143
        }
      ],
      "source": [
        "# Seguimos observando la variable Invalido:\n",
        "# Primero vamos a mirar cuantos 1 tenemos en total de 131211\n",
        "len(usuarios3[usuarios3['Invalido']==1])"
      ]
    },
    {
      "cell_type": "code",
      "source": [
        "usuarios3[usuarios3['Cluster']==0].Invalido.value_counts()"
      ],
      "metadata": {
        "colab": {
          "base_uri": "https://localhost:8080/"
        },
        "id": "RSiuRz2qnQx-",
        "outputId": "84150e94-aff3-49aa-b605-76f73ff39778"
      },
      "execution_count": null,
      "outputs": [
        {
          "output_type": "execute_result",
          "data": {
            "text/plain": [
              "0.0    53859\n",
              "1.0     7062\n",
              "Name: Invalido, dtype: int64"
            ]
          },
          "metadata": {},
          "execution_count": 144
        }
      ]
    },
    {
      "cell_type": "code",
      "source": [
        "usuarios3[usuarios3['Cluster']==1].Invalido.value_counts()"
      ],
      "metadata": {
        "colab": {
          "base_uri": "https://localhost:8080/"
        },
        "id": "3Xkaeq-MnTey",
        "outputId": "a89f776e-d11a-4f41-88bd-aa973d4c182b"
      },
      "execution_count": null,
      "outputs": [
        {
          "output_type": "execute_result",
          "data": {
            "text/plain": [
              "0.0    12702\n",
              "1.0     2030\n",
              "Name: Invalido, dtype: int64"
            ]
          },
          "metadata": {},
          "execution_count": 145
        }
      ]
    },
    {
      "cell_type": "code",
      "source": [
        "usuarios3[usuarios3['Cluster']==2].Invalido.value_counts()"
      ],
      "metadata": {
        "colab": {
          "base_uri": "https://localhost:8080/"
        },
        "id": "lj9jtx7unTy8",
        "outputId": "446b7bc3-5bed-4126-f498-607732c133a8"
      },
      "execution_count": null,
      "outputs": [
        {
          "output_type": "execute_result",
          "data": {
            "text/plain": [
              "1.0    23109\n",
              "0.0    11212\n",
              "Name: Invalido, dtype: int64"
            ]
          },
          "metadata": {},
          "execution_count": 146
        }
      ]
    },
    {
      "cell_type": "code",
      "source": [
        "usuarios3[usuarios3['Cluster']==3].Invalido.value_counts()"
      ],
      "metadata": {
        "colab": {
          "base_uri": "https://localhost:8080/"
        },
        "id": "pzV2hfr-nT4b",
        "outputId": "17ce5bae-1f7c-4c5a-c073-dca28b586e6d"
      },
      "execution_count": null,
      "outputs": [
        {
          "output_type": "execute_result",
          "data": {
            "text/plain": [
              "0.0    3893\n",
              "1.0      80\n",
              "Name: Invalido, dtype: int64"
            ]
          },
          "metadata": {},
          "execution_count": 147
        }
      ]
    },
    {
      "cell_type": "code",
      "source": [
        "usuarios3[usuarios3['Cluster']==4].Invalido.value_counts()"
      ],
      "metadata": {
        "colab": {
          "base_uri": "https://localhost:8080/"
        },
        "id": "XhrvXFohnT_n",
        "outputId": "f0e96608-9c7e-4e92-ee73-2099d0109136"
      },
      "execution_count": null,
      "outputs": [
        {
          "output_type": "execute_result",
          "data": {
            "text/plain": [
              "0.0    14967\n",
              "1.0     2297\n",
              "Name: Invalido, dtype: int64"
            ]
          },
          "metadata": {},
          "execution_count": 148
        }
      ]
    },
    {
      "cell_type": "markdown",
      "source": [
        "Esta variable recoge si el email es SPAM, Rojo o tiene un dominio inválido, la proporción de usuarios con este tipo de email en la distribución original es de 26.35%. Vemos que tan solo el cluster 2 es mayor, en proporción comparado con la distribución original, tenemos un 67.33% de los clientes que tienen un email Invalido. El resto de clusters, lo hace en una proporción menor."
      ],
      "metadata": {
        "id": "AXrsyE2qopqV"
      }
    },
    {
      "cell_type": "code",
      "source": [
        "# Seguimos observando la variable Naranja:\n",
        "# Primero vamos a mirar cuantos 1 tenemos en total de 131211\n",
        "len(usuarios3[usuarios3['Naranja']==1])"
      ],
      "metadata": {
        "colab": {
          "base_uri": "https://localhost:8080/"
        },
        "id": "nq_aJ8_vpZxv",
        "outputId": "fd8de612-758b-4e61-9d83-f1fb4a0c286f"
      },
      "execution_count": null,
      "outputs": [
        {
          "output_type": "execute_result",
          "data": {
            "text/plain": [
              "1756"
            ]
          },
          "metadata": {},
          "execution_count": 149
        }
      ]
    },
    {
      "cell_type": "code",
      "source": [
        "usuarios3[usuarios3['Cluster']==0].Naranja.value_counts()"
      ],
      "metadata": {
        "colab": {
          "base_uri": "https://localhost:8080/"
        },
        "id": "YdC_pFbJpkCk",
        "outputId": "33e5abcb-cd51-43ca-f669-f63c122f1db7"
      },
      "execution_count": null,
      "outputs": [
        {
          "output_type": "execute_result",
          "data": {
            "text/plain": [
              "0.0    60380\n",
              "1.0      541\n",
              "Name: Naranja, dtype: int64"
            ]
          },
          "metadata": {},
          "execution_count": 150
        }
      ]
    },
    {
      "cell_type": "code",
      "source": [
        "usuarios3[usuarios3['Cluster']==1].Naranja.value_counts()"
      ],
      "metadata": {
        "colab": {
          "base_uri": "https://localhost:8080/"
        },
        "id": "VOg7P7Mhplwf",
        "outputId": "7f691786-b561-47b2-e83b-bd59e1e8bd55"
      },
      "execution_count": null,
      "outputs": [
        {
          "output_type": "execute_result",
          "data": {
            "text/plain": [
              "0.0    14434\n",
              "1.0      298\n",
              "Name: Naranja, dtype: int64"
            ]
          },
          "metadata": {},
          "execution_count": 151
        }
      ]
    },
    {
      "cell_type": "code",
      "source": [
        "usuarios3[usuarios3['Cluster']==2].Naranja.value_counts()"
      ],
      "metadata": {
        "colab": {
          "base_uri": "https://localhost:8080/"
        },
        "id": "V_WWRw-2pl6Y",
        "outputId": "f34ccca6-429e-4a5b-9dee-36b597682f80"
      },
      "execution_count": null,
      "outputs": [
        {
          "output_type": "execute_result",
          "data": {
            "text/plain": [
              "0.0    33547\n",
              "1.0      774\n",
              "Name: Naranja, dtype: int64"
            ]
          },
          "metadata": {},
          "execution_count": 152
        }
      ]
    },
    {
      "cell_type": "code",
      "source": [
        "usuarios3[usuarios3['Cluster']==3].Naranja.value_counts()"
      ],
      "metadata": {
        "colab": {
          "base_uri": "https://localhost:8080/"
        },
        "id": "vRrKqo7ZpmTr",
        "outputId": "ee805ee4-c5d4-4a5e-c53a-28cdd3db3326"
      },
      "execution_count": null,
      "outputs": [
        {
          "output_type": "execute_result",
          "data": {
            "text/plain": [
              "0.0    3954\n",
              "1.0      19\n",
              "Name: Naranja, dtype: int64"
            ]
          },
          "metadata": {},
          "execution_count": 153
        }
      ]
    },
    {
      "cell_type": "code",
      "source": [
        "usuarios3[usuarios3['Cluster']==4].Naranja.value_counts()"
      ],
      "metadata": {
        "colab": {
          "base_uri": "https://localhost:8080/"
        },
        "id": "RSUOEUfzpmbY",
        "outputId": "30779572-0df6-4736-c214-fc0e61ffd44c"
      },
      "execution_count": null,
      "outputs": [
        {
          "output_type": "execute_result",
          "data": {
            "text/plain": [
              "0.0    17140\n",
              "1.0      124\n",
              "Name: Naranja, dtype: int64"
            ]
          },
          "metadata": {},
          "execution_count": 154
        }
      ]
    },
    {
      "cell_type": "markdown",
      "source": [
        "Esta variable recoge si el email ha dado un error temporal pero se sigue enviando, la proporción de usuarios con este tipo de email en la distribución original es de 1.34%. Vemos que tan solo los clusters 1 y 2 son mayores en proporción, comparado con la distribución original, tenemos un 2.02% y un 2.26% de los clientes que tienen un email Naranja, respectivamente. El resto de clusters, lo hace en una proporción menor."
      ],
      "metadata": {
        "id": "D2kD9INlqjJF"
      }
    },
    {
      "cell_type": "code",
      "source": [
        "# Seguimos observando la variable USUSCI:\n",
        "# Primero vamos a mirar cuantos 1 tenemos en total de 131211\n",
        "len(usuarios3[usuarios3['USUSCI']==1])"
      ],
      "metadata": {
        "colab": {
          "base_uri": "https://localhost:8080/"
        },
        "id": "5o0A3WkssQ7Y",
        "outputId": "53e730bb-9a68-43ab-d1b3-00b406310b33"
      },
      "execution_count": null,
      "outputs": [
        {
          "output_type": "execute_result",
          "data": {
            "text/plain": [
              "15600"
            ]
          },
          "metadata": {},
          "execution_count": 155
        }
      ]
    },
    {
      "cell_type": "code",
      "source": [
        "usuarios3[usuarios3['Cluster']==0].USUSCI.value_counts()"
      ],
      "metadata": {
        "colab": {
          "base_uri": "https://localhost:8080/"
        },
        "id": "pPph6eYcsrUp",
        "outputId": "1fdb5c98-990c-4075-8e35-e9467b7567c4"
      },
      "execution_count": null,
      "outputs": [
        {
          "output_type": "execute_result",
          "data": {
            "text/plain": [
              "0    60584\n",
              "1      337\n",
              "Name: USUSCI, dtype: int64"
            ]
          },
          "metadata": {},
          "execution_count": 156
        }
      ]
    },
    {
      "cell_type": "code",
      "source": [
        "usuarios3[usuarios3['Cluster']==1].USUSCI.value_counts()"
      ],
      "metadata": {
        "colab": {
          "base_uri": "https://localhost:8080/"
        },
        "id": "B9FMR2b3stqQ",
        "outputId": "3fae98d7-8f8c-4f12-96b4-071fd3783dbc"
      },
      "execution_count": null,
      "outputs": [
        {
          "output_type": "execute_result",
          "data": {
            "text/plain": [
              "1    13588\n",
              "0     1144\n",
              "Name: USUSCI, dtype: int64"
            ]
          },
          "metadata": {},
          "execution_count": 157
        }
      ]
    },
    {
      "cell_type": "code",
      "source": [
        "usuarios3[usuarios3['Cluster']==2].USUSCI.value_counts()"
      ],
      "metadata": {
        "colab": {
          "base_uri": "https://localhost:8080/"
        },
        "id": "ZtHpVsCTsty9",
        "outputId": "92313ea5-08d2-4960-bc42-6d0eac3af8b4"
      },
      "execution_count": null,
      "outputs": [
        {
          "output_type": "execute_result",
          "data": {
            "text/plain": [
              "0    34037\n",
              "1      284\n",
              "Name: USUSCI, dtype: int64"
            ]
          },
          "metadata": {},
          "execution_count": 158
        }
      ]
    },
    {
      "cell_type": "code",
      "source": [
        "usuarios3[usuarios3['Cluster']==3].USUSCI.value_counts()"
      ],
      "metadata": {
        "colab": {
          "base_uri": "https://localhost:8080/"
        },
        "id": "oYbPis5gst54",
        "outputId": "e09d136a-0771-48fe-b98d-a8a777c81251"
      },
      "execution_count": null,
      "outputs": [
        {
          "output_type": "execute_result",
          "data": {
            "text/plain": [
              "0    3370\n",
              "1     603\n",
              "Name: USUSCI, dtype: int64"
            ]
          },
          "metadata": {},
          "execution_count": 159
        }
      ]
    },
    {
      "cell_type": "code",
      "source": [
        "usuarios3[usuarios3['Cluster']==4].USUSCI.value_counts()"
      ],
      "metadata": {
        "colab": {
          "base_uri": "https://localhost:8080/"
        },
        "id": "icstTKoUsuCC",
        "outputId": "0dc852a5-1331-4930-cb42-460bfe91c9a1"
      },
      "execution_count": null,
      "outputs": [
        {
          "output_type": "execute_result",
          "data": {
            "text/plain": [
              "0    16476\n",
              "1      788\n",
              "Name: USUSCI, dtype: int64"
            ]
          },
          "metadata": {},
          "execution_count": 160
        }
      ]
    },
    {
      "cell_type": "markdown",
      "source": [
        "Esta variable recoge si el usuario es una sociedad comercial/industrial, la proporción de usuarios en la distribución original es de 11.89%. Vemos que tan solo los clusters 1 y 3 son mayores en proporción, comparado con la distribución original, tenemos un 7.77% y un 15.18% de los usuarios que son una sociedad comercial/industrial, respectivamente. El resto de clusters, lo hace en una proporción menor."
      ],
      "metadata": {
        "id": "YiBh0xDHs1zt"
      }
    },
    {
      "cell_type": "code",
      "source": [
        "# Seguimos observando la variable USUEI:\n",
        "# Primero vamos a mirar cuantos 1 tenemos en total de 131211\n",
        "len(usuarios3[usuarios3['USUEI']==1])"
      ],
      "metadata": {
        "colab": {
          "base_uri": "https://localhost:8080/"
        },
        "id": "NfPar5qBtmP-",
        "outputId": "c26b75f6-66ed-4d57-bd19-ae06d9f0d529"
      },
      "execution_count": null,
      "outputs": [
        {
          "output_type": "execute_result",
          "data": {
            "text/plain": [
              "13937"
            ]
          },
          "metadata": {},
          "execution_count": 161
        }
      ]
    },
    {
      "cell_type": "code",
      "source": [
        "usuarios3[usuarios3['Cluster']==0].USUEI.value_counts()"
      ],
      "metadata": {
        "colab": {
          "base_uri": "https://localhost:8080/"
        },
        "id": "IwNzJUL1tyPp",
        "outputId": "a52a3e30-59ab-4347-bf57-d9f92256c1b5"
      },
      "execution_count": null,
      "outputs": [
        {
          "output_type": "execute_result",
          "data": {
            "text/plain": [
              "0    52077\n",
              "1     8844\n",
              "Name: USUEI, dtype: int64"
            ]
          },
          "metadata": {},
          "execution_count": 162
        }
      ]
    },
    {
      "cell_type": "code",
      "source": [
        "usuarios3[usuarios3['Cluster']==1].USUEI.value_counts()"
      ],
      "metadata": {
        "colab": {
          "base_uri": "https://localhost:8080/"
        },
        "id": "zjOOe0Izt0i1",
        "outputId": "a6c5d4f4-5fd4-48de-8eca-ffaff4753f3c"
      },
      "execution_count": null,
      "outputs": [
        {
          "output_type": "execute_result",
          "data": {
            "text/plain": [
              "0    14590\n",
              "1      142\n",
              "Name: USUEI, dtype: int64"
            ]
          },
          "metadata": {},
          "execution_count": 163
        }
      ]
    },
    {
      "cell_type": "code",
      "source": [
        "usuarios3[usuarios3['Cluster']==2].USUEI.value_counts()"
      ],
      "metadata": {
        "colab": {
          "base_uri": "https://localhost:8080/"
        },
        "id": "q50C5Rajt0xu",
        "outputId": "a5a06c86-1c89-4a93-d527-d0d36913cde7"
      },
      "execution_count": null,
      "outputs": [
        {
          "output_type": "execute_result",
          "data": {
            "text/plain": [
              "0    32836\n",
              "1     1485\n",
              "Name: USUEI, dtype: int64"
            ]
          },
          "metadata": {},
          "execution_count": 164
        }
      ]
    },
    {
      "cell_type": "code",
      "source": [
        "usuarios3[usuarios3['Cluster']==3].USUEI.value_counts()"
      ],
      "metadata": {
        "colab": {
          "base_uri": "https://localhost:8080/"
        },
        "id": "xtayS10zt041",
        "outputId": "da9cfb5b-2d26-4844-a0ff-bea402722dbd"
      },
      "execution_count": null,
      "outputs": [
        {
          "output_type": "execute_result",
          "data": {
            "text/plain": [
              "0    3416\n",
              "1     557\n",
              "Name: USUEI, dtype: int64"
            ]
          },
          "metadata": {},
          "execution_count": 165
        }
      ]
    },
    {
      "cell_type": "code",
      "source": [
        "usuarios3[usuarios3['Cluster']==4].USUEI.value_counts()"
      ],
      "metadata": {
        "colab": {
          "base_uri": "https://localhost:8080/"
        },
        "id": "dyyuyj2tt1At",
        "outputId": "02ab0922-47f3-41b7-f6dc-a9fdbbd52f19"
      },
      "execution_count": null,
      "outputs": [
        {
          "output_type": "execute_result",
          "data": {
            "text/plain": [
              "0    14355\n",
              "1     2909\n",
              "Name: USUEI, dtype: int64"
            ]
          },
          "metadata": {},
          "execution_count": 166
        }
      ]
    },
    {
      "cell_type": "markdown",
      "source": [
        "Esta variable recoge si el usuario es un empresario individual, la proporción de usuarios en la distribución original es de 10.62%. Vemos que los clusters 0, 3 y 4 son mayores en proporción, comparado con la distribución original, tenemos un 14.52%, 14.02% y un 16.85% de los usuarios que son empresarios individuales, respectivamente. El resto de clusters, lo hace en una proporción menor."
      ],
      "metadata": {
        "id": "02KDVB8OuMUm"
      }
    },
    {
      "cell_type": "code",
      "source": [
        "# Seguimos observando la variable TAM_GR:\n",
        "# Primero vamos a mirar cuantos 1 tenemos en total de 131211\n",
        "len(usuarios3[usuarios3['TAM_GR']==1])"
      ],
      "metadata": {
        "colab": {
          "base_uri": "https://localhost:8080/"
        },
        "id": "Sx86XMZxwDeB",
        "outputId": "ec0a6179-8fc1-46bb-8419-0df74e18ae6e"
      },
      "execution_count": null,
      "outputs": [
        {
          "output_type": "execute_result",
          "data": {
            "text/plain": [
              "2433"
            ]
          },
          "metadata": {},
          "execution_count": 167
        }
      ]
    },
    {
      "cell_type": "code",
      "source": [
        "usuarios3[usuarios3['Cluster']==0].TAM_GR.value_counts()"
      ],
      "metadata": {
        "colab": {
          "base_uri": "https://localhost:8080/"
        },
        "id": "AlQcFsfTwOq9",
        "outputId": "cf312398-16fe-466c-f1b8-3dc19a40ef44"
      },
      "execution_count": null,
      "outputs": [
        {
          "output_type": "execute_result",
          "data": {
            "text/plain": [
              "0    60909\n",
              "1       12\n",
              "Name: TAM_GR, dtype: int64"
            ]
          },
          "metadata": {},
          "execution_count": 173
        }
      ]
    },
    {
      "cell_type": "code",
      "source": [
        "usuarios3[usuarios3['Cluster']==1].TAM_GR.value_counts()"
      ],
      "metadata": {
        "colab": {
          "base_uri": "https://localhost:8080/"
        },
        "id": "ArI26y4awO6l",
        "outputId": "55ad8240-9e2f-4c2b-90ca-0b31810d63e1"
      },
      "execution_count": null,
      "outputs": [
        {
          "output_type": "execute_result",
          "data": {
            "text/plain": [
              "0    12415\n",
              "1     2317\n",
              "Name: TAM_GR, dtype: int64"
            ]
          },
          "metadata": {},
          "execution_count": 174
        }
      ]
    },
    {
      "cell_type": "code",
      "source": [
        "usuarios3[usuarios3['Cluster']==2].TAM_GR.value_counts()"
      ],
      "metadata": {
        "colab": {
          "base_uri": "https://localhost:8080/"
        },
        "id": "p3qtSzMdwPEV",
        "outputId": "fd6058d2-e359-4b5a-d296-0231c03df84f"
      },
      "execution_count": null,
      "outputs": [
        {
          "output_type": "execute_result",
          "data": {
            "text/plain": [
              "0    34311\n",
              "1       10\n",
              "Name: TAM_GR, dtype: int64"
            ]
          },
          "metadata": {},
          "execution_count": 175
        }
      ]
    },
    {
      "cell_type": "code",
      "source": [
        "usuarios3[usuarios3['Cluster']==3].TAM_GR.value_counts()"
      ],
      "metadata": {
        "colab": {
          "base_uri": "https://localhost:8080/"
        },
        "id": "CVdPi9aEwPLS",
        "outputId": "9cdae8c6-1703-4a82-82ec-96e406ed8281"
      },
      "execution_count": null,
      "outputs": [
        {
          "output_type": "execute_result",
          "data": {
            "text/plain": [
              "0    3912\n",
              "1      61\n",
              "Name: TAM_GR, dtype: int64"
            ]
          },
          "metadata": {},
          "execution_count": 176
        }
      ]
    },
    {
      "cell_type": "code",
      "source": [
        "usuarios3[usuarios3['Cluster']==4].TAM_GR.value_counts()"
      ],
      "metadata": {
        "colab": {
          "base_uri": "https://localhost:8080/"
        },
        "id": "4qGSQkiUwPTC",
        "outputId": "2bfd5043-065c-45da-a9f7-b4854e1f23a5"
      },
      "execution_count": null,
      "outputs": [
        {
          "output_type": "execute_result",
          "data": {
            "text/plain": [
              "0    17231\n",
              "1       33\n",
              "Name: TAM_GR, dtype: int64"
            ]
          },
          "metadata": {},
          "execution_count": 177
        }
      ]
    },
    {
      "cell_type": "markdown",
      "source": [
        "Esta variable recoge si la empresa es grande, la proporción de usuarios en la distribución original es de 1.85%. Vemos que tan solo el cluster 1 es mayor en proporción, comparado con la distribución original, tenemos un 15.73% de los usuarios que son empresas grandes. El resto de clusters, lo hace en una proporción menor, destacando que los clusters 0 y 2 son próximos al 0%."
      ],
      "metadata": {
        "id": "gJ0LMrEpxLBL"
      }
    },
    {
      "cell_type": "code",
      "source": [
        "# Seguimos observando la variable TAM_MD:\n",
        "# Primero vamos a mirar cuantos 1 tenemos en total de 131211\n",
        "len(usuarios3[usuarios3['TAM_MD']==1])"
      ],
      "metadata": {
        "colab": {
          "base_uri": "https://localhost:8080/"
        },
        "id": "GDGnqD1KyDHa",
        "outputId": "92a77ebd-30b4-4fab-d148-51849ff39526"
      },
      "execution_count": null,
      "outputs": [
        {
          "output_type": "execute_result",
          "data": {
            "text/plain": [
              "2471"
            ]
          },
          "metadata": {},
          "execution_count": 178
        }
      ]
    },
    {
      "cell_type": "code",
      "source": [
        "usuarios3[usuarios3['Cluster']==0].TAM_MD.value_counts()"
      ],
      "metadata": {
        "colab": {
          "base_uri": "https://localhost:8080/"
        },
        "id": "rdXxSfunyIcz",
        "outputId": "670e8926-29f2-4592-8676-3bbf66e32e88"
      },
      "execution_count": null,
      "outputs": [
        {
          "output_type": "execute_result",
          "data": {
            "text/plain": [
              "0    60905\n",
              "1       16\n",
              "Name: TAM_MD, dtype: int64"
            ]
          },
          "metadata": {},
          "execution_count": 179
        }
      ]
    },
    {
      "cell_type": "code",
      "source": [
        "usuarios3[usuarios3['Cluster']==1].TAM_MD.value_counts()"
      ],
      "metadata": {
        "colab": {
          "base_uri": "https://localhost:8080/"
        },
        "id": "saNDad-7yLJY",
        "outputId": "c078a429-17b0-455c-dca8-4301072c3b06"
      },
      "execution_count": null,
      "outputs": [
        {
          "output_type": "execute_result",
          "data": {
            "text/plain": [
              "0    12378\n",
              "1     2354\n",
              "Name: TAM_MD, dtype: int64"
            ]
          },
          "metadata": {},
          "execution_count": 181
        }
      ]
    },
    {
      "cell_type": "code",
      "source": [
        "usuarios3[usuarios3['Cluster']==2].TAM_MD.value_counts()"
      ],
      "metadata": {
        "colab": {
          "base_uri": "https://localhost:8080/"
        },
        "id": "nHymUkgdyLTr",
        "outputId": "e84f4d6d-d924-4df3-ebb6-4729f4da6ca8"
      },
      "execution_count": null,
      "outputs": [
        {
          "output_type": "execute_result",
          "data": {
            "text/plain": [
              "0    34316\n",
              "1        5\n",
              "Name: TAM_MD, dtype: int64"
            ]
          },
          "metadata": {},
          "execution_count": 182
        }
      ]
    },
    {
      "cell_type": "code",
      "source": [
        "usuarios3[usuarios3['Cluster']==3].TAM_MD.value_counts()"
      ],
      "metadata": {
        "colab": {
          "base_uri": "https://localhost:8080/"
        },
        "id": "YiIv_A8fyLcW",
        "outputId": "6d12b052-d15c-4845-cf30-f5c3e945e256"
      },
      "execution_count": null,
      "outputs": [
        {
          "output_type": "execute_result",
          "data": {
            "text/plain": [
              "0    3904\n",
              "1      69\n",
              "Name: TAM_MD, dtype: int64"
            ]
          },
          "metadata": {},
          "execution_count": 183
        }
      ]
    },
    {
      "cell_type": "code",
      "source": [
        "usuarios3[usuarios3['Cluster']==4].TAM_MD.value_counts()"
      ],
      "metadata": {
        "colab": {
          "base_uri": "https://localhost:8080/"
        },
        "id": "nlBBn6gzyLkq",
        "outputId": "b7f06f9b-427b-44a9-d415-4b0d22a7848a"
      },
      "execution_count": null,
      "outputs": [
        {
          "output_type": "execute_result",
          "data": {
            "text/plain": [
              "0    17237\n",
              "1       27\n",
              "Name: TAM_MD, dtype: int64"
            ]
          },
          "metadata": {},
          "execution_count": 180
        }
      ]
    },
    {
      "cell_type": "markdown",
      "source": [
        "Esta variable recoge si la empresa es mediana, la proporción de usuarios en la distribución original es de 1.88%. Vemos que tan solo el cluster 1 es mayor en proporción, comparado con la distribución original, tenemos un 15.98% de los usuarios que son empresas medianas. El resto de clusters, lo hace en una proporción menor, destacando que los clusters 0 y 2 son próximos al 0%."
      ],
      "metadata": {
        "id": "MYQ9OdKcyqq0"
      }
    },
    {
      "cell_type": "code",
      "source": [
        "# Seguimos observando la variable TAM_PQ:\n",
        "# Primero vamos a mirar cuantos 1 tenemos en total de 131211\n",
        "len(usuarios3[usuarios3['TAM_PQ']==1])"
      ],
      "metadata": {
        "colab": {
          "base_uri": "https://localhost:8080/"
        },
        "id": "Lp7vzvNVy3wQ",
        "outputId": "2e323823-bdc9-4e2a-ccb8-ba97fe207d3b"
      },
      "execution_count": null,
      "outputs": [
        {
          "output_type": "execute_result",
          "data": {
            "text/plain": [
              "4279"
            ]
          },
          "metadata": {},
          "execution_count": 184
        }
      ]
    },
    {
      "cell_type": "code",
      "source": [
        "usuarios3[usuarios3['Cluster']==0].TAM_PQ.value_counts()"
      ],
      "metadata": {
        "colab": {
          "base_uri": "https://localhost:8080/"
        },
        "id": "0qluYW-czS0-",
        "outputId": "27d3e051-412d-4cdb-e72e-1ab2a37113da"
      },
      "execution_count": null,
      "outputs": [
        {
          "output_type": "execute_result",
          "data": {
            "text/plain": [
              "0    60908\n",
              "1       13\n",
              "Name: TAM_PQ, dtype: int64"
            ]
          },
          "metadata": {},
          "execution_count": 185
        }
      ]
    },
    {
      "cell_type": "code",
      "source": [
        "usuarios3[usuarios3['Cluster']==1].TAM_PQ.value_counts()"
      ],
      "metadata": {
        "colab": {
          "base_uri": "https://localhost:8080/"
        },
        "id": "BmB1t3pIzVPF",
        "outputId": "df4976c7-c259-4eb2-c028-53c8dde202ec"
      },
      "execution_count": null,
      "outputs": [
        {
          "output_type": "execute_result",
          "data": {
            "text/plain": [
              "0    10666\n",
              "1     4066\n",
              "Name: TAM_PQ, dtype: int64"
            ]
          },
          "metadata": {},
          "execution_count": 186
        }
      ]
    },
    {
      "cell_type": "code",
      "source": [
        "usuarios3[usuarios3['Cluster']==2].TAM_PQ.value_counts()"
      ],
      "metadata": {
        "colab": {
          "base_uri": "https://localhost:8080/"
        },
        "id": "s9UeQB4dzVZi",
        "outputId": "899174b9-10ed-4ea1-d3a6-ae5257956ffa"
      },
      "execution_count": null,
      "outputs": [
        {
          "output_type": "execute_result",
          "data": {
            "text/plain": [
              "0    34307\n",
              "1       14\n",
              "Name: TAM_PQ, dtype: int64"
            ]
          },
          "metadata": {},
          "execution_count": 187
        }
      ]
    },
    {
      "cell_type": "code",
      "source": [
        "usuarios3[usuarios3['Cluster']==3].TAM_PQ.value_counts()"
      ],
      "metadata": {
        "colab": {
          "base_uri": "https://localhost:8080/"
        },
        "id": "F1DfBsdHzVfe",
        "outputId": "8d670e74-e75f-47a1-a8af-d01f758e8458"
      },
      "execution_count": null,
      "outputs": [
        {
          "output_type": "execute_result",
          "data": {
            "text/plain": [
              "0    3820\n",
              "1     153\n",
              "Name: TAM_PQ, dtype: int64"
            ]
          },
          "metadata": {},
          "execution_count": 188
        }
      ]
    },
    {
      "cell_type": "code",
      "source": [
        "usuarios3[usuarios3['Cluster']==4].TAM_PQ.value_counts()"
      ],
      "metadata": {
        "colab": {
          "base_uri": "https://localhost:8080/"
        },
        "id": "0sPlP_2HzVmJ",
        "outputId": "abbe0d2d-1aca-4cd6-dfec-57be51c70ea7"
      },
      "execution_count": null,
      "outputs": [
        {
          "output_type": "execute_result",
          "data": {
            "text/plain": [
              "0    17231\n",
              "1       33\n",
              "Name: TAM_PQ, dtype: int64"
            ]
          },
          "metadata": {},
          "execution_count": 189
        }
      ]
    },
    {
      "cell_type": "markdown",
      "source": [
        "Esta variable recoge si la empresa es pequeña, la proporción de usuarios en la distribución original es de 3.26%. Vemos que tan solo el cluster 1 es mayor en proporción, comparado con la distribución original, tenemos un 27.6% de los usuarios que son empresas pequeñas. El resto de clusters, lo hace en una proporción menor, destacando que los clusters 0 y 2 son próximos al 0%."
      ],
      "metadata": {
        "id": "MlvKjUk40my2"
      }
    },
    {
      "cell_type": "code",
      "source": [
        "# Seguimos observando la variable TAM_SD:\n",
        "# Primero vamos a mirar cuantos 1 tenemos en total de 131211\n",
        "len(usuarios3[usuarios3['TAM_SD']==1])"
      ],
      "metadata": {
        "colab": {
          "base_uri": "https://localhost:8080/"
        },
        "id": "gkYuprY-0xSv",
        "outputId": "bf38fdb6-df17-47e6-c4ad-580a8f5608da"
      },
      "execution_count": null,
      "outputs": [
        {
          "output_type": "execute_result",
          "data": {
            "text/plain": [
              "620"
            ]
          },
          "metadata": {},
          "execution_count": 190
        }
      ]
    },
    {
      "cell_type": "code",
      "source": [
        "usuarios3[usuarios3['Cluster']==0].TAM_SD.value_counts()"
      ],
      "metadata": {
        "colab": {
          "base_uri": "https://localhost:8080/"
        },
        "id": "3WmvbCUJ00ve",
        "outputId": "5b65f85f-bc26-464d-b79c-3b9f125b4bde"
      },
      "execution_count": null,
      "outputs": [
        {
          "output_type": "execute_result",
          "data": {
            "text/plain": [
              "0    60587\n",
              "1      334\n",
              "Name: TAM_SD, dtype: int64"
            ]
          },
          "metadata": {},
          "execution_count": 191
        }
      ]
    },
    {
      "cell_type": "code",
      "source": [
        "usuarios3[usuarios3['Cluster']==1].TAM_SD.value_counts()"
      ],
      "metadata": {
        "colab": {
          "base_uri": "https://localhost:8080/"
        },
        "id": "pEXPFG_i01pc",
        "outputId": "3442cf59-9a4b-4df2-8960-5a3cd60d0425"
      },
      "execution_count": null,
      "outputs": [
        {
          "output_type": "execute_result",
          "data": {
            "text/plain": [
              "0    14653\n",
              "1       79\n",
              "Name: TAM_SD, dtype: int64"
            ]
          },
          "metadata": {},
          "execution_count": 192
        }
      ]
    },
    {
      "cell_type": "code",
      "source": [
        "usuarios3[usuarios3['Cluster']==2].TAM_SD.value_counts()"
      ],
      "metadata": {
        "colab": {
          "base_uri": "https://localhost:8080/"
        },
        "id": "7MhGQwsA04zv",
        "outputId": "fe19b9c2-9eaf-4fad-8e93-9e362d02cf87"
      },
      "execution_count": null,
      "outputs": [
        {
          "output_type": "execute_result",
          "data": {
            "text/plain": [
              "0    34241\n",
              "1       80\n",
              "Name: TAM_SD, dtype: int64"
            ]
          },
          "metadata": {},
          "execution_count": 193
        }
      ]
    },
    {
      "cell_type": "code",
      "source": [
        "usuarios3[usuarios3['Cluster']==3].TAM_SD.value_counts()"
      ],
      "metadata": {
        "colab": {
          "base_uri": "https://localhost:8080/"
        },
        "id": "YLu1mmLv046d",
        "outputId": "448bead8-e23c-4516-826f-469bbc6975ed"
      },
      "execution_count": null,
      "outputs": [
        {
          "output_type": "execute_result",
          "data": {
            "text/plain": [
              "0    3937\n",
              "1      36\n",
              "Name: TAM_SD, dtype: int64"
            ]
          },
          "metadata": {},
          "execution_count": 194
        }
      ]
    },
    {
      "cell_type": "code",
      "source": [
        "usuarios3[usuarios3['Cluster']==4].TAM_SD.value_counts()"
      ],
      "metadata": {
        "colab": {
          "base_uri": "https://localhost:8080/"
        },
        "id": "RzZ74UFu05Ce",
        "outputId": "9e0fbe58-acd5-435f-a20d-6080b32f7cbd"
      },
      "execution_count": null,
      "outputs": [
        {
          "output_type": "execute_result",
          "data": {
            "text/plain": [
              "0    17173\n",
              "1       91\n",
              "Name: TAM_SD, dtype: int64"
            ]
          },
          "metadata": {},
          "execution_count": 195
        }
      ]
    },
    {
      "cell_type": "markdown",
      "source": [
        "Esta variable recoge si el tipo de empresa está sin definir, la proporción de usuarios en la distribución original es de 0.47%. Vemos que tan solo el cluster 2 es menor en proporción, comparado con la distribución original, tenemos un 0.23% de los usuarios. El resto de clusters, lo hace en una proporción mayor."
      ],
      "metadata": {
        "id": "pl1HbrYq1zr2"
      }
    },
    {
      "cell_type": "code",
      "source": [
        "# Seguimos observando la variable ACTIVA:\n",
        "# Primero vamos a mirar cuantos 1 tenemos en total de 131211\n",
        "len(usuarios3[usuarios3['ACTIVA']==1])"
      ],
      "metadata": {
        "colab": {
          "base_uri": "https://localhost:8080/"
        },
        "id": "qg-2OTXF2k8T",
        "outputId": "c6a36a05-12fb-4d75-8b4d-7aa3925bdb84"
      },
      "execution_count": null,
      "outputs": [
        {
          "output_type": "execute_result",
          "data": {
            "text/plain": [
              "25759"
            ]
          },
          "metadata": {},
          "execution_count": 196
        }
      ]
    },
    {
      "cell_type": "code",
      "source": [
        "usuarios3[usuarios3['Cluster']==0].ACTIVA.value_counts()"
      ],
      "metadata": {
        "colab": {
          "base_uri": "https://localhost:8080/"
        },
        "id": "oj6Pth3t2ni2",
        "outputId": "9212e9c9-d2b7-4c90-d3c6-44d057eed7d7"
      },
      "execution_count": null,
      "outputs": [
        {
          "output_type": "execute_result",
          "data": {
            "text/plain": [
              "0    53928\n",
              "1     6993\n",
              "Name: ACTIVA, dtype: int64"
            ]
          },
          "metadata": {},
          "execution_count": 197
        }
      ]
    },
    {
      "cell_type": "code",
      "source": [
        "usuarios3[usuarios3['Cluster']==1].ACTIVA.value_counts()"
      ],
      "metadata": {
        "colab": {
          "base_uri": "https://localhost:8080/"
        },
        "id": "u8IISQsz2nqY",
        "outputId": "6cc8dab9-f7b4-40bf-f86b-6fe00930e044"
      },
      "execution_count": null,
      "outputs": [
        {
          "output_type": "execute_result",
          "data": {
            "text/plain": [
              "1    13755\n",
              "0      977\n",
              "Name: ACTIVA, dtype: int64"
            ]
          },
          "metadata": {},
          "execution_count": 198
        }
      ]
    },
    {
      "cell_type": "code",
      "source": [
        "usuarios3[usuarios3['Cluster']==2].ACTIVA.value_counts()"
      ],
      "metadata": {
        "colab": {
          "base_uri": "https://localhost:8080/"
        },
        "id": "-DGzJ5yA2nxq",
        "outputId": "feb0f21c-43a5-47da-be56-f9c381de609b"
      },
      "execution_count": null,
      "outputs": [
        {
          "output_type": "execute_result",
          "data": {
            "text/plain": [
              "0    33268\n",
              "1     1053\n",
              "Name: ACTIVA, dtype: int64"
            ]
          },
          "metadata": {},
          "execution_count": 199
        }
      ]
    },
    {
      "cell_type": "code",
      "source": [
        "usuarios3[usuarios3['Cluster']==3].ACTIVA.value_counts()"
      ],
      "metadata": {
        "colab": {
          "base_uri": "https://localhost:8080/"
        },
        "id": "t-SbfBw22n3c",
        "outputId": "d8202193-9b17-4030-8181-3188559ebc83"
      },
      "execution_count": null,
      "outputs": [
        {
          "output_type": "execute_result",
          "data": {
            "text/plain": [
              "0    2956\n",
              "1    1017\n",
              "Name: ACTIVA, dtype: int64"
            ]
          },
          "metadata": {},
          "execution_count": 200
        }
      ]
    },
    {
      "cell_type": "code",
      "source": [
        "usuarios3[usuarios3['Cluster']==4].ACTIVA.value_counts()"
      ],
      "metadata": {
        "colab": {
          "base_uri": "https://localhost:8080/"
        },
        "id": "7m_MKvt52n9x",
        "outputId": "42a63819-292b-4a64-cfd4-c5494f1bab50"
      },
      "execution_count": null,
      "outputs": [
        {
          "output_type": "execute_result",
          "data": {
            "text/plain": [
              "0    14323\n",
              "1     2941\n",
              "Name: ACTIVA, dtype: int64"
            ]
          },
          "metadata": {},
          "execution_count": 201
        }
      ]
    },
    {
      "cell_type": "markdown",
      "source": [
        "Esta variable recoge si la situación de la compañía es o no ACTIVA, la proporción de empresas activas en la distribución original es de 19.63%. Vemos que los clusters 1 y 3 son mayores en proporción, comparado con la distribución original, con un 93.37% y un 26.6% de los usuarios, respectivamente. El resto de clusters, lo hace en una proporción menor. Destacar, por tanto, que en el cluster 1, casi todos los usuaios son compañías activas."
      ],
      "metadata": {
        "id": "Lc5bZ7P13NWF"
      }
    },
    {
      "cell_type": "code",
      "source": [
        "# Seguimos observando la variable BOGOTA:\n",
        "# Primero vamos a mirar cuantos 1 tenemos en total de 131211\n",
        "len(usuarios3[usuarios3['BOGOTA']==1])"
      ],
      "metadata": {
        "colab": {
          "base_uri": "https://localhost:8080/"
        },
        "id": "tfLQyD-m5rmv",
        "outputId": "f9d3d1e2-eb5a-4aeb-90b3-d805f1821d3c"
      },
      "execution_count": null,
      "outputs": [
        {
          "output_type": "execute_result",
          "data": {
            "text/plain": [
              "12376"
            ]
          },
          "metadata": {},
          "execution_count": 202
        }
      ]
    },
    {
      "cell_type": "code",
      "source": [
        "usuarios3[usuarios3['Cluster']==0].BOGOTA.value_counts()"
      ],
      "metadata": {
        "colab": {
          "base_uri": "https://localhost:8080/"
        },
        "id": "2EDjcE1C5unh",
        "outputId": "27bc60f3-1ca8-40fe-917f-841668d3c6be"
      },
      "execution_count": null,
      "outputs": [
        {
          "output_type": "execute_result",
          "data": {
            "text/plain": [
              "0    58046\n",
              "1     2875\n",
              "Name: BOGOTA, dtype: int64"
            ]
          },
          "metadata": {},
          "execution_count": 203
        }
      ]
    },
    {
      "cell_type": "code",
      "source": [
        "usuarios3[usuarios3['Cluster']==1].BOGOTA.value_counts()"
      ],
      "metadata": {
        "colab": {
          "base_uri": "https://localhost:8080/"
        },
        "id": "0hqpPZJ65ux2",
        "outputId": "654b6143-a152-4abd-e6d9-e83f324de061"
      },
      "execution_count": null,
      "outputs": [
        {
          "output_type": "execute_result",
          "data": {
            "text/plain": [
              "0    7409\n",
              "1    7323\n",
              "Name: BOGOTA, dtype: int64"
            ]
          },
          "metadata": {},
          "execution_count": 204
        }
      ]
    },
    {
      "cell_type": "code",
      "source": [
        "usuarios3[usuarios3['Cluster']==2].BOGOTA.value_counts()"
      ],
      "metadata": {
        "colab": {
          "base_uri": "https://localhost:8080/"
        },
        "id": "w519wtFV5u3i",
        "outputId": "c61c8f16-c5a0-49a4-ff89-4c2b779fec30"
      },
      "execution_count": null,
      "outputs": [
        {
          "output_type": "execute_result",
          "data": {
            "text/plain": [
              "0    33483\n",
              "1      838\n",
              "Name: BOGOTA, dtype: int64"
            ]
          },
          "metadata": {},
          "execution_count": 205
        }
      ]
    },
    {
      "cell_type": "code",
      "source": [
        "usuarios3[usuarios3['Cluster']==3].BOGOTA.value_counts()"
      ],
      "metadata": {
        "colab": {
          "base_uri": "https://localhost:8080/"
        },
        "id": "FFb1Kdqa5u-g",
        "outputId": "9c73628a-2a4c-4672-865c-85a1e51c42df"
      },
      "execution_count": null,
      "outputs": [
        {
          "output_type": "execute_result",
          "data": {
            "text/plain": [
              "0    3546\n",
              "1     427\n",
              "Name: BOGOTA, dtype: int64"
            ]
          },
          "metadata": {},
          "execution_count": 206
        }
      ]
    },
    {
      "cell_type": "code",
      "source": [
        "usuarios3[usuarios3['Cluster']==4].BOGOTA.value_counts()"
      ],
      "metadata": {
        "colab": {
          "base_uri": "https://localhost:8080/"
        },
        "id": "gGixiDPW5vF4",
        "outputId": "fc0b1df7-5759-482b-dce7-33c914534b16"
      },
      "execution_count": null,
      "outputs": [
        {
          "output_type": "execute_result",
          "data": {
            "text/plain": [
              "0    16351\n",
              "1      913\n",
              "Name: BOGOTA, dtype: int64"
            ]
          },
          "metadata": {},
          "execution_count": 207
        }
      ]
    },
    {
      "cell_type": "markdown",
      "source": [
        "Esta variable recoge si la sede o departamento del usuario está en Bogotá, la proporción de usuarios en la distribución original es de 9.43%. Vemos que los clusters 1 y 3 son mayores en proporción, comparado con la distribución original, con un 49.71% y un 10.75% de los usuarios, respectivamente. El resto de clusters, lo hace en una proporción menor."
      ],
      "metadata": {
        "id": "-JtcRMrF7CWu"
      }
    },
    {
      "cell_type": "code",
      "source": [
        "# Seguimos observando la variable Ficha Básica:\n",
        "df0 = usuarios3[usuarios3['Cluster']==0]\n",
        "df1 = usuarios3[usuarios3['Cluster']==1]\n",
        "df2 = usuarios3[usuarios3['Cluster']==2]\n",
        "df3 = usuarios3[usuarios3['Cluster']==3]\n",
        "df4 = usuarios3[usuarios3['Cluster']==4]"
      ],
      "metadata": {
        "id": "ZSWE0_yB8X2A"
      },
      "execution_count": null,
      "outputs": []
    },
    {
      "cell_type": "code",
      "source": [
        "dicc = {}\n",
        "dicc[\"Cluster0\"] = df0['Ficha Básica']\n",
        "dicc[\"Cluster1\"] = df1['Ficha Básica']\n",
        "dicc[\"Cluster2\"] = df2['Ficha Básica']\n",
        "dicc[\"Cluster3\"] = df3['Ficha Básica']\n",
        "dicc[\"Cluster4\"] = df4['Ficha Básica']"
      ],
      "metadata": {
        "id": "JMUTbp25GyYW"
      },
      "execution_count": null,
      "outputs": []
    },
    {
      "cell_type": "code",
      "source": [
        "fig, ax = plt.subplots()\n",
        "ax.boxplot(dicc.values())\n",
        "ax.set_xticklabels(dicc.keys())\n",
        "ax.set_ylim([-10, 30]) # Acotamos la visualización para poder ver el box-plot mejor"
      ],
      "metadata": {
        "colab": {
          "base_uri": "https://localhost:8080/",
          "height": 341
        },
        "id": "1mEATVrJHPSd",
        "outputId": "64761301-7db1-41f1-e739-94ae3514f00c"
      },
      "execution_count": null,
      "outputs": [
        {
          "output_type": "stream",
          "name": "stderr",
          "text": [
            "/usr/local/lib/python3.8/dist-packages/matplotlib/cbook/__init__.py:1376: VisibleDeprecationWarning: Creating an ndarray from ragged nested sequences (which is a list-or-tuple of lists-or-tuples-or ndarrays with different lengths or shapes) is deprecated. If you meant to do this, you must specify 'dtype=object' when creating the ndarray.\n",
            "  X = np.atleast_1d(X.T if isinstance(X, np.ndarray) else np.asarray(X))\n"
          ]
        },
        {
          "output_type": "execute_result",
          "data": {
            "text/plain": [
              "(-10.0, 30.0)"
            ]
          },
          "metadata": {},
          "execution_count": 252
        },
        {
          "output_type": "display_data",
          "data": {
            "text/plain": [
              "<Figure size 432x288 with 1 Axes>"
            ],
            "image/png": "[encoded data removed]"
          },
          "metadata": {
            "needs_background": "light"
          }
        }
      ]
    },
    {
      "cell_type": "markdown",
      "source": [
        "Esta variable recoge cuantas veces cada usuario consume el producto \"ficha básica\". En el plot podemos visualizar que los clusters 0, 1 y 4 consumen menos en media y que los clusters 2 y 3 lo hacen más. Además, remarcar que el cluster 2 es el que tiene outliers más altos."
      ],
      "metadata": {
        "id": "gPASytMoLTbE"
      }
    },
    {
      "cell_type": "code",
      "source": [
        "# Seguimos con la variable Perfil promocional\n",
        "dicc = {}\n",
        "dicc[\"Cluster0\"] = df0['Perfil Promocional']\n",
        "dicc[\"Cluster1\"] = df1['Perfil Promocional']\n",
        "dicc[\"Cluster2\"] = df2['Perfil Promocional']\n",
        "dicc[\"Cluster3\"] = df3['Perfil Promocional']\n",
        "dicc[\"Cluster4\"] = df4['Perfil Promocional']"
      ],
      "metadata": {
        "id": "BSVnVy4zKSG4"
      },
      "execution_count": null,
      "outputs": []
    },
    {
      "cell_type": "code",
      "source": [
        "fig, ax = plt.subplots()\n",
        "ax.boxplot(dicc.values())\n",
        "ax.set_xticklabels(dicc.keys())\n",
        "ax.set_ylim([-5, 20]) # Acotamos la visualización para poder ver el box-plot mejor"
      ],
      "metadata": {
        "colab": {
          "base_uri": "https://localhost:8080/",
          "height": 341
        },
        "id": "SorzgJ9BPo56",
        "outputId": "a8f37188-dff3-49de-f502-3d20b05b06aa"
      },
      "execution_count": null,
      "outputs": [
        {
          "output_type": "stream",
          "name": "stderr",
          "text": [
            "/usr/local/lib/python3.8/dist-packages/matplotlib/cbook/__init__.py:1376: VisibleDeprecationWarning: Creating an ndarray from ragged nested sequences (which is a list-or-tuple of lists-or-tuples-or ndarrays with different lengths or shapes) is deprecated. If you meant to do this, you must specify 'dtype=object' when creating the ndarray.\n",
            "  X = np.atleast_1d(X.T if isinstance(X, np.ndarray) else np.asarray(X))\n"
          ]
        },
        {
          "output_type": "execute_result",
          "data": {
            "text/plain": [
              "(-5.0, 20.0)"
            ]
          },
          "metadata": {},
          "execution_count": 259
        },
        {
          "output_type": "display_data",
          "data": {
            "text/plain": [
              "<Figure size 432x288 with 1 Axes>"
            ],
            "image/png": "[encoded data removed]"
          },
          "metadata": {
            "needs_background": "light"
          }
        }
      ]
    },
    {
      "cell_type": "markdown",
      "source": [
        "Esta variable recoge cuantas veces cada usuario consume el producto \"perfil promocional\". En el plot podemos visualizar que los clusters 0, 1 y 4 consumen menos en media y que los clusters 2 y 3 lo hacen más. Además, remarcar que el cluster 2 es el que tiene outliers más altos."
      ],
      "metadata": {
        "id": "TWkfBDAjP4EX"
      }
    },
    {
      "cell_type": "code",
      "source": [
        "# Seguimos con la variable R_DaysCon\n",
        "dicc = {}\n",
        "dicc[\"Cluster0\"] = df0['R_DaysCon']\n",
        "dicc[\"Cluster1\"] = df1['R_DaysCon']\n",
        "dicc[\"Cluster2\"] = df2['R_DaysCon']\n",
        "dicc[\"Cluster3\"] = df3['R_DaysCon']\n",
        "dicc[\"Cluster4\"] = df4['R_DaysCon']"
      ],
      "metadata": {
        "id": "s3tqPadRQFzg"
      },
      "execution_count": null,
      "outputs": []
    },
    {
      "cell_type": "code",
      "source": [
        "fig, ax = plt.subplots()\n",
        "ax.boxplot(dicc.values())\n",
        "ax.set_xticklabels(dicc.keys())\n",
        "ax.set_ylim([-5, 200]) # Acotamos la visualización para poder ver el box-plot mejor"
      ],
      "metadata": {
        "colab": {
          "base_uri": "https://localhost:8080/",
          "height": 341
        },
        "id": "vOpXpD0UQTsa",
        "outputId": "1c883ea3-3eb9-48d6-bbbd-d8b22d41f4be"
      },
      "execution_count": null,
      "outputs": [
        {
          "output_type": "stream",
          "name": "stderr",
          "text": [
            "/usr/local/lib/python3.8/dist-packages/matplotlib/cbook/__init__.py:1376: VisibleDeprecationWarning: Creating an ndarray from ragged nested sequences (which is a list-or-tuple of lists-or-tuples-or ndarrays with different lengths or shapes) is deprecated. If you meant to do this, you must specify 'dtype=object' when creating the ndarray.\n",
            "  X = np.atleast_1d(X.T if isinstance(X, np.ndarray) else np.asarray(X))\n"
          ]
        },
        {
          "output_type": "execute_result",
          "data": {
            "text/plain": [
              "(-5.0, 200.0)"
            ]
          },
          "metadata": {},
          "execution_count": 262
        },
        {
          "output_type": "display_data",
          "data": {
            "text/plain": [
              "<Figure size 432x288 with 1 Axes>"
            ],
            "image/png": "[encoded data removed]"
          },
          "metadata": {
            "needs_background": "light"
          }
        }
      ]
    },
    {
      "cell_type": "markdown",
      "source": [
        "Esta variable recoge la diferencia entre la primera y última consulta entre el número total de consultas por usuarios. Como podemos ver, cuanto más grande este ratio, más probabilidad de que esté en el cluster 3."
      ],
      "metadata": {
        "id": "uSqvoGG5RI85"
      }
    },
    {
      "cell_type": "code",
      "source": [
        "# Seguimos con la variable diasactivo\n",
        "dicc = {}\n",
        "dicc[\"Cluster0\"] = df0['diasactivo']\n",
        "dicc[\"Cluster1\"] = df1['diasactivo']\n",
        "dicc[\"Cluster2\"] = df2['diasactivo']\n",
        "dicc[\"Cluster3\"] = df3['diasactivo']\n",
        "dicc[\"Cluster4\"] = df4['diasactivo']"
      ],
      "metadata": {
        "id": "KjeMK3UYRdsY"
      },
      "execution_count": null,
      "outputs": []
    },
    {
      "cell_type": "code",
      "source": [
        "fig, ax = plt.subplots()\n",
        "ax.boxplot(dicc.values())\n",
        "ax.set_xticklabels(dicc.keys())"
      ],
      "metadata": {
        "colab": {
          "base_uri": "https://localhost:8080/",
          "height": 406
        },
        "id": "fnrhsfJzRjw_",
        "outputId": "6f52b20b-3351-4953-cabf-b78d7c48fbf7"
      },
      "execution_count": null,
      "outputs": [
        {
          "output_type": "stream",
          "name": "stderr",
          "text": [
            "/usr/local/lib/python3.8/dist-packages/matplotlib/cbook/__init__.py:1376: VisibleDeprecationWarning: Creating an ndarray from ragged nested sequences (which is a list-or-tuple of lists-or-tuples-or ndarrays with different lengths or shapes) is deprecated. If you meant to do this, you must specify 'dtype=object' when creating the ndarray.\n",
            "  X = np.atleast_1d(X.T if isinstance(X, np.ndarray) else np.asarray(X))\n"
          ]
        },
        {
          "output_type": "execute_result",
          "data": {
            "text/plain": [
              "[Text(0, 0, 'Cluster0'),\n",
              " Text(0, 0, 'Cluster1'),\n",
              " Text(0, 0, 'Cluster2'),\n",
              " Text(0, 0, 'Cluster3'),\n",
              " Text(0, 0, 'Cluster4')]"
            ]
          },
          "metadata": {},
          "execution_count": 264
        },
        {
          "output_type": "display_data",
          "data": {
            "text/plain": [
              "<Figure size 432x288 with 1 Axes>"
            ],
            "image/png": "[encoded data removed]"
          },
          "metadata": {
            "needs_background": "light"
          }
        }
      ]
    },
    {
      "cell_type": "markdown",
      "source": [
        "Esta variable recoge la diferencia entre la primera y última consulta. Como podemos ver, como en el caso anterior, cuanto más grande este ratio, más probabilidad de que esté en el cluster 3."
      ],
      "metadata": {
        "id": "g7r-JjUnRn-j"
      }
    },
    {
      "cell_type": "code",
      "source": [
        "# Seguimos con la variable daysInactive\n",
        "dicc = {}\n",
        "dicc[\"Cluster0\"] = df0['daysInactive']\n",
        "dicc[\"Cluster1\"] = df1['daysInactive']\n",
        "dicc[\"Cluster2\"] = df2['daysInactive']\n",
        "dicc[\"Cluster3\"] = df3['daysInactive']\n",
        "dicc[\"Cluster4\"] = df4['daysInactive']"
      ],
      "metadata": {
        "id": "_wjCN3h5RyYG"
      },
      "execution_count": null,
      "outputs": []
    },
    {
      "cell_type": "code",
      "source": [
        "fig, ax = plt.subplots()\n",
        "ax.boxplot(dicc.values())\n",
        "ax.set_xticklabels(dicc.keys())\n",
        "ax.set_ylim([-5, 10]) # Acotamos la visualización para poder ver el box-plot mejor"
      ],
      "metadata": {
        "colab": {
          "base_uri": "https://localhost:8080/",
          "height": 341
        },
        "id": "ouP1-oKtR31C",
        "outputId": "b9e95445-3081-4bb5-bfc0-7aca13953c00"
      },
      "execution_count": null,
      "outputs": [
        {
          "output_type": "stream",
          "name": "stderr",
          "text": [
            "/usr/local/lib/python3.8/dist-packages/matplotlib/cbook/__init__.py:1376: VisibleDeprecationWarning: Creating an ndarray from ragged nested sequences (which is a list-or-tuple of lists-or-tuples-or ndarrays with different lengths or shapes) is deprecated. If you meant to do this, you must specify 'dtype=object' when creating the ndarray.\n",
            "  X = np.atleast_1d(X.T if isinstance(X, np.ndarray) else np.asarray(X))\n"
          ]
        },
        {
          "output_type": "execute_result",
          "data": {
            "text/plain": [
              "(-5.0, 10.0)"
            ]
          },
          "metadata": {},
          "execution_count": 268
        },
        {
          "output_type": "display_data",
          "data": {
            "text/plain": [
              "<Figure size 432x288 with 1 Axes>"
            ],
            "image/png": "[encoded data removed]"
          },
          "metadata": {
            "needs_background": "light"
          }
        }
      ]
    },
    {
      "cell_type": "code",
      "source": [
        "df0['daysInactive'].describe()"
      ],
      "metadata": {
        "colab": {
          "base_uri": "https://localhost:8080/"
        },
        "id": "mn9s1SLXSIi-",
        "outputId": "114426ab-3b70-4430-fcc5-7b81ff3583fc"
      },
      "execution_count": null,
      "outputs": [
        {
          "output_type": "execute_result",
          "data": {
            "text/plain": [
              "count    60921.000000\n",
              "mean         0.876167\n",
              "std         19.054792\n",
              "min          0.000000\n",
              "25%          0.000000\n",
              "50%          0.000000\n",
              "75%          0.000000\n",
              "max       1048.000000\n",
              "Name: daysInactive, dtype: float64"
            ]
          },
          "metadata": {},
          "execution_count": 269
        }
      ]
    },
    {
      "cell_type": "code",
      "source": [
        "df1['daysInactive'].describe()"
      ],
      "metadata": {
        "colab": {
          "base_uri": "https://localhost:8080/"
        },
        "id": "NL5UBT7oSNP3",
        "outputId": "bddd6a82-63e2-44d5-80c0-67b1e1654ae6"
      },
      "execution_count": null,
      "outputs": [
        {
          "output_type": "execute_result",
          "data": {
            "text/plain": [
              "count    14732.000000\n",
              "mean         1.227668\n",
              "std         22.998293\n",
              "min          0.000000\n",
              "25%          0.000000\n",
              "50%          0.000000\n",
              "75%          0.000000\n",
              "max        965.000000\n",
              "Name: daysInactive, dtype: float64"
            ]
          },
          "metadata": {},
          "execution_count": 270
        }
      ]
    },
    {
      "cell_type": "code",
      "source": [
        "df2['daysInactive'].describe()"
      ],
      "metadata": {
        "colab": {
          "base_uri": "https://localhost:8080/"
        },
        "id": "WZMsdPQMSNZ0",
        "outputId": "137e832b-0eee-4968-8eb4-9c8c8a149abc"
      },
      "execution_count": null,
      "outputs": [
        {
          "output_type": "execute_result",
          "data": {
            "text/plain": [
              "count    34321.000000\n",
              "mean         0.083855\n",
              "std          4.598332\n",
              "min          0.000000\n",
              "25%          0.000000\n",
              "50%          0.000000\n",
              "75%          0.000000\n",
              "max        618.000000\n",
              "Name: daysInactive, dtype: float64"
            ]
          },
          "metadata": {},
          "execution_count": 271
        }
      ]
    },
    {
      "cell_type": "code",
      "source": [
        "df3['daysInactive'].describe()"
      ],
      "metadata": {
        "colab": {
          "base_uri": "https://localhost:8080/"
        },
        "id": "BHnxO_zTSN0y",
        "outputId": "cb046148-fd52-418b-c667-672196c7a1f7"
      },
      "execution_count": null,
      "outputs": [
        {
          "output_type": "execute_result",
          "data": {
            "text/plain": [
              "count    3973.000000\n",
              "mean        0.453310\n",
              "std         9.780015\n",
              "min         0.000000\n",
              "25%         0.000000\n",
              "50%         0.000000\n",
              "75%         0.000000\n",
              "max       399.000000\n",
              "Name: daysInactive, dtype: float64"
            ]
          },
          "metadata": {},
          "execution_count": 272
        }
      ]
    },
    {
      "cell_type": "code",
      "source": [
        "df4['daysInactive'].describe()"
      ],
      "metadata": {
        "colab": {
          "base_uri": "https://localhost:8080/"
        },
        "id": "6aoGU4R4SN9q",
        "outputId": "764f1d08-b2ff-492b-b731-00ba24cccd97"
      },
      "execution_count": null,
      "outputs": [
        {
          "output_type": "execute_result",
          "data": {
            "text/plain": [
              "count    17264.000000\n",
              "mean         0.442018\n",
              "std         12.756989\n",
              "min          0.000000\n",
              "25%          0.000000\n",
              "50%          0.000000\n",
              "75%          0.000000\n",
              "max        753.000000\n",
              "Name: daysInactive, dtype: float64"
            ]
          },
          "metadata": {},
          "execution_count": 273
        }
      ]
    },
    {
      "cell_type": "markdown",
      "source": [
        "Esta variable recoge la diferencia entre la fecha de registro y la primera consulta. Como podemos ver, el box-plot no nos ayuda mucho a definir los clusters. Cuando utilizamos la función describe vemos que el cluster 1 tiene la media más grande frente al cluster 2 que tiene la media más pequeña."
      ],
      "metadata": {
        "id": "ldvGlXBfSVct"
      }
    },
    {
      "cell_type": "code",
      "source": [
        "# Seguimos con la variable m_sesiones\n",
        "dicc = {}\n",
        "dicc[\"Cluster0\"] = df0['m_sesiones']\n",
        "dicc[\"Cluster1\"] = df1['m_sesiones']\n",
        "dicc[\"Cluster2\"] = df2['m_sesiones']\n",
        "dicc[\"Cluster3\"] = df3['m_sesiones']\n",
        "dicc[\"Cluster4\"] = df4['m_sesiones']"
      ],
      "metadata": {
        "id": "3hTYP0QPSs7V"
      },
      "execution_count": null,
      "outputs": []
    },
    {
      "cell_type": "code",
      "source": [
        "fig, ax = plt.subplots()\n",
        "ax.boxplot(dicc.values())\n",
        "ax.set_xticklabels(dicc.keys())\n",
        "ax.set_ylim([-5, 50]) # Acotamos la visualización para poder ver el box-plot mejor"
      ],
      "metadata": {
        "colab": {
          "base_uri": "https://localhost:8080/",
          "height": 341
        },
        "id": "PjTzJAv2Sykx",
        "outputId": "becc830f-2467-4e48-856e-ebf0446865ec"
      },
      "execution_count": null,
      "outputs": [
        {
          "output_type": "stream",
          "name": "stderr",
          "text": [
            "/usr/local/lib/python3.8/dist-packages/matplotlib/cbook/__init__.py:1376: VisibleDeprecationWarning: Creating an ndarray from ragged nested sequences (which is a list-or-tuple of lists-or-tuples-or ndarrays with different lengths or shapes) is deprecated. If you meant to do this, you must specify 'dtype=object' when creating the ndarray.\n",
            "  X = np.atleast_1d(X.T if isinstance(X, np.ndarray) else np.asarray(X))\n"
          ]
        },
        {
          "output_type": "execute_result",
          "data": {
            "text/plain": [
              "(-5.0, 50.0)"
            ]
          },
          "metadata": {},
          "execution_count": 277
        },
        {
          "output_type": "display_data",
          "data": {
            "text/plain": [
              "<Figure size 432x288 with 1 Axes>"
            ],
            "image/png": "[encoded data removed]"
          },
          "metadata": {
            "needs_background": "light"
          }
        }
      ]
    },
    {
      "cell_type": "markdown",
      "source": [
        "Esta variable recoge la media de sesiones diarias por usuario. En el plot podemos visualizar que el cluster 3 consume menos en media y que el cluster 2 lo hace más. "
      ],
      "metadata": {
        "id": "DjPVUfhoS7xZ"
      }
    },
    {
      "cell_type": "markdown",
      "source": [
        "## CONCLUSIONES MODELO NO SUPERVISADO K-MEANS"
      ],
      "metadata": {
        "id": "EKNSGdBlcF9W"
      }
    },
    {
      "cell_type": "markdown",
      "source": [
        "Por tanto, podemos decir que:\n",
        "\n",
        "\n",
        "*   El cluster 0\n",
        "      - El registro NO lo hacen mediante directorios especializados, ni a través de SEM.\n",
        "      - Son personas físicas.\n",
        "      - Son usuarios con un alto interés ya que cuando se registran hacen rapidamente la primera consulta.\n",
        "*   El cluster 1\n",
        "      - Proporcionalmente, es el cluster con mayor número de clientes.\n",
        "      - Más del 25% son empresas pequeñas.\n",
        "      - La mitad son empresas activas.\n",
        "      - Pasan más días sin hacer su primera consulta desde el registro.\n",
        "*   El cluster 2.\n",
        "      - No hay clientes\n",
        "      - El registro NO lo hacen mediante directorios especializados, ni directorios populares. Sino que mayoritariamente lo hacen a traves de SEM.\n",
        "      - Mayoritariamente tienen un email invalido.\n",
        "      - Son personas físicas.\n",
        "      - Consultan más los productos.\n",
        "      - Son los que más sesiones diarias hacen.\n",
        "*   El cluster 3\n",
        "      - Consultan más los productos.\n",
        "      - Pasan muchos días entre la primera y última consulta, por lo que tardan más en hacerse clientes.\n",
        "      - Son los que menos sesiones diarias hacen.\n",
        "*   El cluster 4\n",
        "      - El registro lo hacen mediante directorios especializados.\n",
        "      - Guarda el mayor porcentaje, en proporción, de empresarios individuales.\n",
        "\n",
        "Por tanto, el cluster menos recomendado es el 2, ya que son usuarios que consumen muchos productos pero no terminan haciendose clientes. Por el contrario, vemos que el cluster 1 es el más interesante, ya que es el que más clientes guarda, proporcionalmente. Al no realizar la consulta inmediatamente despues de la fecha de registro, muestra que son clientes que saben que la empresa les puede ayudar a conseguir los documetos que requieran.\n",
        "\n"
      ],
      "metadata": {
        "id": "CUrKx6TkcMDy"
      }
    },
    {
      "cell_type": "markdown",
      "metadata": {
        "id": "i-dOE0vKUOBm"
      },
      "source": [
        "## DBSCAN"
      ]
    },
    {
      "cell_type": "code",
      "execution_count": null,
      "metadata": {
        "id": "4Gv72HxfUQm9"
      },
      "outputs": [],
      "source": [
        "from sklearn.cluster import DBSCAN\n",
        "clusters = DBSCAN(eps=2.5, min_samples=5).fit(X)\n",
        "\n",
        "# Guardamos los resultados en una nueva variable del dataframe\n",
        "usuarios3['ClusterDBSCAN'] = clusters.labels_"
      ]
    },
    {
      "cell_type": "markdown",
      "source": [
        "No podemos ejecutar este algoritmo ya que consume toda la RAM."
      ],
      "metadata": {
        "id": "9MsN56tky7d8"
      }
    },
    {
      "cell_type": "code",
      "source": [],
      "metadata": {
        "id": "20g72bjOUBlc"
      },
      "execution_count": null,
      "outputs": []
    }
  ],
  "metadata": {
    "colab": {
      "toc_visible": true,
      "provenance": []
    },
    "kernelspec": {
      "display_name": "Python 3",
      "name": "python3"
    },
    "language_info": {
      "name": "python"
    }
  },
  "nbformat": 4,
  "nbformat_minor": 0
}